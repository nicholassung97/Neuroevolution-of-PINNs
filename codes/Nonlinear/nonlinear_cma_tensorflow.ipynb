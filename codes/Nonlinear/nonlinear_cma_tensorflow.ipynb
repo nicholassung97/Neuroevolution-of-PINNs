{
 "cells": [
  {
   "cell_type": "markdown",
   "metadata": {
    "id": "f77JlltM_5B9"
   },
   "source": [
    "Import Libraries"
   ]
  },
  {
   "cell_type": "code",
   "execution_count": 1,
   "metadata": {
    "executionInfo": {
     "elapsed": 3282,
     "status": "ok",
     "timestamp": 1664993711191,
     "user": {
      "displayName": "Nicholas Sung",
      "userId": "04413473591799886681"
     },
     "user_tz": -480
    },
    "id": "iZWrKHf0_5B-"
   },
   "outputs": [
    {
     "name": "stderr",
     "output_type": "stream",
     "text": [
      "2022-12-14 13:07:16.191107: I tensorflow/stream_executor/platform/default/dso_loader.cc:53] Successfully opened dynamic library libcudart.so.11.0\n"
     ]
    }
   ],
   "source": [
    "%matplotlib inline\n",
    "import matplotlib.pylab as plt \n",
    "from matplotlib import cm\n",
    "\n",
    "import os\n",
    "import math\n",
    "import numpy as np\n",
    "import pandas as pd\n",
    "import cma\n",
    "import tensorflow as tf\n",
    "from tensorflow import keras\n",
    "from tensorflow.keras import models, layers\n",
    "from tensorflow.keras.callbacks import LearningRateScheduler, ReduceLROnPlateau, ModelCheckpoint, Callback\n",
    "import tensorflow.keras.backend as K\n",
    "from IPython.display import clear_output\n",
    "from time import time, gmtime, strftime, localtime\n",
    "\n",
    "import warnings\n",
    "warnings.filterwarnings(\"ignore\")"
   ]
  },
  {
   "cell_type": "code",
   "execution_count": 2,
   "metadata": {
    "executionInfo": {
     "elapsed": 6,
     "status": "ok",
     "timestamp": 1664993711192,
     "user": {
      "displayName": "Nicholas Sung",
      "userId": "04413473591799886681"
     },
     "user_tz": -480
    },
    "id": "pjlXuYE8_5B_"
   },
   "outputs": [],
   "source": [
    "from scipy import dot, exp, log, sqrt, floor, ones, randn, zeros_like, Inf, argmax, argmin, eye, outer, zeros\n",
    "from scipy import array, power, diag, cos, sin, pi\n",
    "from scipy.linalg import expm, cholesky, solve, norm, eig\n",
    "from scipy.stats import multivariate_normal\n",
    "\n",
    "import seaborn as sns\n",
    "\n",
    "## run on CPU...\n",
    "os.environ[\"CUDA_VISIBLE_DEVICES\"]=\"-1\"\n",
    "\n",
    "# disable eager excution\n",
    "tf.compat.v1.disable_eager_execution()"
   ]
  },
  {
   "cell_type": "markdown",
   "metadata": {
    "id": "-_-3f44W_5CA"
   },
   "source": [
    "\n",
    "\n",
    "### 1. PINN for kdv equation"
   ]
  },
  {
   "cell_type": "markdown",
   "metadata": {
    "id": "WnNTTaUN_5CB"
   },
   "source": [
    "#### 1.0. Data"
   ]
  },
  {
   "cell_type": "markdown",
   "metadata": {
    "id": "xwzNcXWB_5CC"
   },
   "source": [
    "#### 1.1. Geometry, PDE parameter & BC"
   ]
  },
  {
   "cell_type": "code",
   "execution_count": 3,
   "metadata": {
    "executionInfo": {
     "elapsed": 721,
     "status": "ok",
     "timestamp": 1664993711909,
     "user": {
      "displayName": "Nicholas Sung",
      "userId": "04413473591799886681"
     },
     "user_tz": -480
    },
    "id": "6IXC0yrx_5CC"
   },
   "outputs": [],
   "source": [
    "vis = 0.001\n",
    "\n",
    "# initial condition\n",
    "k = 2\n",
    "\n",
    "# spatial domain\n",
    "x_l, x_u = -2.0, 2.0\n",
    "\n",
    "# time domain: 0 - t_T\n",
    "t_T = 2.0\n",
    "# function to generate IC\n",
    "def f_ic(x):\n",
    "    return np.exp(-(k*x)**2)"
   ]
  },
  {
   "cell_type": "markdown",
   "metadata": {
    "id": "Skxrh-Gw_5CC"
   },
   "source": [
    "#### 1.2. Sampling plan"
   ]
  },
  {
   "cell_type": "code",
   "execution_count": 4,
   "metadata": {
    "executionInfo": {
     "elapsed": 2,
     "status": "ok",
     "timestamp": 1664993711909,
     "user": {
      "displayName": "Nicholas Sung",
      "userId": "04413473591799886681"
     },
     "user_tz": -480
    },
    "id": "XEEbpF_ZeEbG"
   },
   "outputs": [],
   "source": [
    "sim = pd.read_csv('three.csv')\n",
    "sim['x'], sim['t'] = sim['x'], sim['t']\n",
    "batch_X = np.vstack([sim.t.values, sim.x.values]).T\n",
    "y_train = sim[['u']].values\n",
    "# y_train.shape"
   ]
  },
  {
   "cell_type": "markdown",
   "metadata": {
    "id": "sGxlA6Hu_5CE"
   },
   "source": [
    "#### 1.3. PDE-NN"
   ]
  },
  {
   "cell_type": "code",
   "execution_count": 5,
   "metadata": {
    "executionInfo": {
     "elapsed": 2,
     "status": "ok",
     "timestamp": 1664993711909,
     "user": {
      "displayName": "Nicholas Sung",
      "userId": "04413473591799886681"
     },
     "user_tz": -480
    },
    "id": "GQfT_U-BS6V-"
   },
   "outputs": [],
   "source": [
    "# specify NN model + Physis\n",
    "def create_nn(nodes):\n",
    "\n",
    "    # input layers -> split into (t, x, z)\n",
    "    inputs = layers.Input(shape=(2,))\n",
    "    t, x = layers.Lambda( lambda k: tf.split(k, num_or_size_splits=2, axis=1))(inputs)\n",
    "\n",
    "    # hidden layers\n",
    "    hidden_1 = layers.Dense(nodes, activation='tanh')(layers.Concatenate()([t, x]))\n",
    "    hidden_2 = layers.Dense(nodes, activation='tanh')(hidden_1)\n",
    "    hidden_l = layers.Dense(nodes, activation='tanh')(hidden_2)\n",
    "\n",
    "    # output layers\n",
    "    u = layers.Dense(1, name=\"u\", use_bias=False)(hidden_l)\n",
    "\n",
    "    # axillary PDE outputs\n",
    "    u_t = K.gradients(u, t)[0]\n",
    "    u_x = K.gradients(u, x)[0]\n",
    "    u_xx = K.gradients(u_x, x)[0]\n",
    "    pde_residuals = u_t + u*u_x - vis*u_xx\n",
    "\n",
    "    # PDE residuals (u_t + u*u_x - vis*u_xx = 0)\n",
    "    pde_mse = tf.compat.v1.losses.mean_squared_error(labels=tf.zeros_like(pde_residuals), predictions=pde_residuals)\n",
    "\n",
    "    # initial conditions: u(0, x) = exp(-(k*x)**2)\n",
    "    x_0, u_0 = tf.boolean_mask(x, tf.equal(t, 0)), tf.boolean_mask(u, tf.equal(t, 0))\n",
    "    ic = tf.math.exp(tf.math.negative(tf.math.square(k*x_0)))\n",
    "    ic_mse = tf.compat.v1.losses.mean_squared_error(labels=ic, predictions=u_0)\n",
    "\n",
    "\n",
    "    # initiate model\n",
    "    nn = models.Model(inputs=inputs, outputs=u)\n",
    "\n",
    "    # optimizer\n",
    "    optimizer = tf.keras.optimizers.Adam(0.05)\n",
    "\n",
    "    # compile model with [physics] loss\n",
    "    nn.compile(loss = compute_physic_loss(pde_mse, ic_mse),\n",
    "               optimizer = optimizer,\n",
    "               metrics = [compute_pde_loss(pde_mse), compute_ic_loss(ic_mse)])\n",
    "\n",
    "    # pathway to variables inside NN\n",
    "    insiders = [pde_mse, ic_mse]\n",
    "    eval_ins = K.function([nn.input, K.learning_phase()], insiders)   # evaluation function\n",
    "\n",
    "    return (nn, eval_ins)"
   ]
  },
  {
   "cell_type": "code",
   "execution_count": 6,
   "metadata": {
    "executionInfo": {
     "elapsed": 3,
     "status": "ok",
     "timestamp": 1664993711910,
     "user": {
      "displayName": "Nicholas Sung",
      "userId": "04413473591799886681"
     },
     "user_tz": -480
    },
    "id": "sXupavt3_5CE"
   },
   "outputs": [],
   "source": [
    "# define loss function (PDE + IC loss)\n",
    "def compute_physic_loss(pde_mse, ic_mse):\n",
    "    def physic_loss(y_true, y_pred):\n",
    "        pde_loss  = pde_mse # PDE\n",
    "        ic_loss   = ic_mse  # IC\n",
    "        return pde_loss + ic_loss\n",
    "    return physic_loss\n",
    "\n",
    "# define loss function (PDE loss)\n",
    "def compute_pde_loss(pde_mse):\n",
    "    def pde_loss(y_true, y_pred): return pde_mse\n",
    "    return pde_loss # return a function\n",
    "\n",
    "# define loss function (IC loss)\n",
    "def compute_ic_loss(ic_mse):\n",
    "    def ic_loss(y_true, y_pred): return ic_mse\n",
    "    return ic_loss # return a function\n",
    "\n",
    "# define loss function (data loss)\n",
    "def compute_data_loss(z):\n",
    "    def data_loss(y_true, y_pred):\n",
    "        p_data = tf.equal(z, 1)\n",
    "        return tf.losses.mean_squared_error(labels=tf.boolean_mask(y_true, p_data), predictions=tf.boolean_mask(y_pred, p_data))\n",
    "    return data_loss"
   ]
  },
  {
   "cell_type": "markdown",
   "metadata": {
    "id": "-4tiYdMQ_5CF"
   },
   "source": [
    "### 3. Optimize PINN with [Neuroevolution / xNES]"
   ]
  },
  {
   "cell_type": "code",
   "execution_count": 7,
   "metadata": {
    "colab": {
     "base_uri": "https://localhost:8080/"
    },
    "executionInfo": {
     "elapsed": 510,
     "status": "ok",
     "timestamp": 1664993712417,
     "user": {
      "displayName": "Nicholas Sung",
      "userId": "04413473591799886681"
     },
     "user_tz": -480
    },
    "id": "W3X_6DeH_5CF",
    "outputId": "eef5ea02-f048-4a78-bd52-21b207488083"
   },
   "outputs": [
    {
     "name": "stdout",
     "output_type": "stream",
     "text": [
      "Model: \"model\"\n",
      "__________________________________________________________________________________________________\n",
      "Layer (type)                    Output Shape         Param #     Connected to                     \n",
      "==================================================================================================\n",
      "input_1 (InputLayer)            [(None, 2)]          0                                            \n",
      "__________________________________________________________________________________________________\n",
      "lambda (Lambda)                 [(None, 1), (None, 1 0           input_1[0][0]                    \n",
      "__________________________________________________________________________________________________\n",
      "concatenate (Concatenate)       (None, 2)            0           lambda[0][0]                     \n",
      "                                                                 lambda[0][1]                     \n",
      "__________________________________________________________________________________________________\n",
      "dense (Dense)                   (None, 8)            24          concatenate[0][0]                \n",
      "__________________________________________________________________________________________________\n",
      "dense_1 (Dense)                 (None, 8)            72          dense[0][0]                      \n",
      "__________________________________________________________________________________________________\n",
      "dense_2 (Dense)                 (None, 8)            72          dense_1[0][0]                    \n",
      "__________________________________________________________________________________________________\n",
      "u (Dense)                       (None, 1)            8           dense_2[0][0]                    \n",
      "==================================================================================================\n",
      "Total params: 176\n",
      "Trainable params: 176\n",
      "Non-trainable params: 0\n",
      "__________________________________________________________________________________________________\n"
     ]
    },
    {
     "name": "stderr",
     "output_type": "stream",
     "text": [
      "2022-12-14 13:07:19.756814: I tensorflow/stream_executor/platform/default/dso_loader.cc:53] Successfully opened dynamic library libcuda.so.1\n",
      "2022-12-14 13:07:19.799659: E tensorflow/stream_executor/cuda/cuda_driver.cc:328] failed call to cuInit: CUDA_ERROR_NO_DEVICE: no CUDA-capable device is detected\n",
      "2022-12-14 13:07:19.799694: I tensorflow/stream_executor/cuda/cuda_diagnostics.cc:169] retrieving CUDA diagnostic information for host: ihpcgs-03\n",
      "2022-12-14 13:07:19.799700: I tensorflow/stream_executor/cuda/cuda_diagnostics.cc:176] hostname: ihpcgs-03\n",
      "2022-12-14 13:07:19.799821: I tensorflow/stream_executor/cuda/cuda_diagnostics.cc:200] libcuda reported version is: 470.141.3\n",
      "2022-12-14 13:07:19.799846: I tensorflow/stream_executor/cuda/cuda_diagnostics.cc:204] kernel reported version is: 470.141.3\n",
      "2022-12-14 13:07:19.799851: I tensorflow/stream_executor/cuda/cuda_diagnostics.cc:310] kernel version seems to match DSO: 470.141.3\n",
      "2022-12-14 13:07:19.800278: I tensorflow/core/platform/cpu_feature_guard.cc:142] This TensorFlow binary is optimized with oneAPI Deep Neural Network Library (oneDNN) to use the following CPU instructions in performance-critical operations:  AVX2 AVX512F FMA\n",
      "To enable them in other operations, rebuild TensorFlow with the appropriate compiler flags.\n",
      "2022-12-14 13:07:19.813043: I tensorflow/core/platform/profile_utils/cpu_utils.cc:114] CPU Frequency: 3299990000 Hz\n"
     ]
    }
   ],
   "source": [
    "# initiate NN model (& pathway to internal values)\n",
    "n_nodes = 8\n",
    "nn, eval_ins = create_nn(n_nodes)\n",
    "\n",
    "# initial weights\n",
    "w0 = np.array([])\n",
    "nn_weights = nn.get_weights()\n",
    "for _g in nn_weights: w0 = np.append(w0, _g.flatten())\n",
    "\n",
    "nn.summary()"
   ]
  },
  {
   "cell_type": "code",
   "execution_count": 8,
   "metadata": {
    "executionInfo": {
     "elapsed": 3,
     "status": "ok",
     "timestamp": 1664993712417,
     "user": {
      "displayName": "Nicholas Sung",
      "userId": "04413473591799886681"
     },
     "user_tz": -480
    },
    "id": "Tnj4LIU8_5CF"
   },
   "outputs": [],
   "source": [
    "# nn weights structure \n",
    "nn_weights = nn.get_weights()\n",
    "nn_wlen = len(nn_weights)\n",
    "nn_wshape = [_w.shape for _w in nn_weights]\n",
    "nn_widx = np.cumsum([len(_w.flatten()) for _w in nn_weights])\n",
    "nn_nweights = nn_widx[-1]"
   ]
  },
  {
   "cell_type": "code",
   "execution_count": 9,
   "metadata": {
    "executionInfo": {
     "elapsed": 3,
     "status": "ok",
     "timestamp": 1664993712417,
     "user": {
      "displayName": "Nicholas Sung",
      "userId": "04413473591799886681"
     },
     "user_tz": -480
    },
    "id": "chaBfU92_5CG"
   },
   "outputs": [],
   "source": [
    "\n",
    "def nn_fitness(_weights):\n",
    "    _weights = np.split(_weights, nn_widx[:-1])\n",
    "    _weights = [_weights[i].reshape(nn_wshape[i]) for i in range(nn_wlen)]\n",
    "    nn.set_weights(_weights)\n",
    "    _x = batch_X\n",
    "    pde_mse, ic_mse = eval_ins(_x)\n",
    "    fitness = (pde_mse + ic_mse)\n",
    "    return fitness"
   ]
  },
  {
   "cell_type": "code",
   "execution_count": 10,
   "metadata": {
    "colab": {
     "base_uri": "https://localhost:8080/"
    },
    "executionInfo": {
     "elapsed": 1273398,
     "status": "ok",
     "timestamp": 1664994985812,
     "user": {
      "displayName": "Nicholas Sung",
      "userId": "04413473591799886681"
     },
     "user_tz": -480
    },
    "id": "1C0yQ5Hw_5CG",
    "outputId": "4c6b9326-b1e6-4656-8657-357efeaea75e"
   },
   "outputs": [
    {
     "name": "stdout",
     "output_type": "stream",
     "text": [
      "(50_w,100)-aCMA-ES (mu_w=27.0,w_1=8%) in dimension 176 (seed=1171944, Wed Dec 14 13:07:19 2022)\n",
      "Iterat #Fevals   function value  axis ratio  sigma  min&max std  t[m:s]\n",
      "    1    100 1.920512318611145e-01 1.0e+00 9.51e-03  9e-03  1e-02 0:01.0\n",
      "    2    200 1.799505352973938e-01 1.0e+00 9.35e-03  9e-03  9e-03 0:01.8\n",
      "    3    300 1.662152707576752e-01 1.0e+00 9.34e-03  9e-03  9e-03 0:02.6\n",
      "    4    400 1.573499888181686e-01 1.0e+00 9.56e-03  1e-02  1e-02 0:03.4\n",
      "    5    500 1.484290659427643e-01 1.0e+00 9.94e-03  1e-02  1e-02 0:04.2\n",
      "    6    600 1.422898471355438e-01 1.0e+00 1.05e-02  1e-02  1e-02 0:05.0\n",
      "    7    700 1.317244768142700e-01 1.0e+00 1.12e-02  1e-02  1e-02 0:05.8\n",
      "    8    800 1.261587738990784e-01 1.0e+00 1.20e-02  1e-02  1e-02 0:06.6\n",
      "    9    900 1.169941276311874e-01 1.0e+00 1.30e-02  1e-02  1e-02 0:07.4\n",
      "   10   1000 1.119214892387390e-01 1.0e+00 1.42e-02  1e-02  1e-02 0:08.2\n",
      "Iterat #Fevals   function value  axis ratio  sigma  min&max std  t[m:s]\n",
      "   11   1100 1.094646230340004e-01 1.0e+00 1.55e-02  2e-02  2e-02 0:09.1\n",
      "   12   1200 1.005620434880257e-01 1.0e+00 1.71e-02  2e-02  2e-02 0:09.9\n",
      "   13   1300 9.946588426828384e-02 1.1e+00 1.88e-02  2e-02  2e-02 0:10.7\n",
      "   14   1400 9.517668187618256e-02 1.1e+00 2.05e-02  2e-02  2e-02 0:11.4\n",
      "   15   1500 9.305878728628159e-02 1.1e+00 2.23e-02  2e-02  2e-02 0:12.2\n",
      "   16   1600 9.185852110385895e-02 1.1e+00 2.41e-02  2e-02  2e-02 0:13.0\n",
      "   17   1700 8.742794394493103e-02 1.1e+00 2.58e-02  3e-02  3e-02 0:13.8\n",
      "   18   1800 8.767973631620407e-02 1.1e+00 2.75e-02  3e-02  3e-02 0:14.6\n",
      "   19   1900 8.445211499929428e-02 1.1e+00 2.91e-02  3e-02  3e-02 0:15.4\n",
      "   20   2000 8.112203329801559e-02 1.1e+00 3.08e-02  3e-02  3e-02 0:16.2\n",
      "Iterat #Fevals   function value  axis ratio  sigma  min&max std  t[m:s]\n",
      "   21   2100 7.914895564317703e-02 1.1e+00 3.27e-02  3e-02  3e-02 0:17.1\n",
      "   22   2200 7.415730506181717e-02 1.1e+00 3.45e-02  3e-02  3e-02 0:17.9\n",
      "   23   2300 7.035766541957855e-02 1.1e+00 3.67e-02  4e-02  4e-02 0:18.6\n",
      "   24   2400 6.634262949228287e-02 1.1e+00 3.89e-02  4e-02  4e-02 0:19.4\n",
      "   25   2500 6.255400180816650e-02 1.1e+00 4.12e-02  4e-02  4e-02 0:20.3\n",
      "   26   2600 6.127881258726120e-02 1.1e+00 4.35e-02  4e-02  4e-02 0:21.1\n",
      "   27   2700 5.703157559037209e-02 1.1e+00 4.59e-02  5e-02  5e-02 0:21.8\n",
      "   28   2800 5.702076852321625e-02 1.1e+00 4.84e-02  5e-02  5e-02 0:22.6\n",
      "   29   2900 4.999025911092758e-02 1.1e+00 5.09e-02  5e-02  5e-02 0:23.4\n",
      "   30   3000 4.680383950471878e-02 1.1e+00 5.33e-02  5e-02  5e-02 0:24.2\n",
      "Iterat #Fevals   function value  axis ratio  sigma  min&max std  t[m:s]\n",
      "   31   3100 4.945691302418709e-02 1.1e+00 5.55e-02  6e-02  6e-02 0:25.0\n",
      "   32   3200 4.374113306403160e-02 1.1e+00 5.79e-02  6e-02  6e-02 0:25.8\n",
      "   33   3300 4.558961093425751e-02 1.1e+00 6.04e-02  6e-02  6e-02 0:26.6\n",
      "   34   3400 3.848297521471977e-02 1.1e+00 6.30e-02  6e-02  6e-02 0:27.4\n",
      "   35   3500 4.082491248846054e-02 1.1e+00 6.53e-02  6e-02  7e-02 0:28.2\n",
      "   36   3600 3.254535049200058e-02 1.1e+00 6.74e-02  7e-02  7e-02 0:29.0\n",
      "   37   3700 3.165851533412933e-02 1.1e+00 7.00e-02  7e-02  7e-02 0:29.8\n",
      "   38   3800 3.478080034255981e-02 1.1e+00 7.22e-02  7e-02  7e-02 0:30.6\n",
      "   39   3900 3.258209675550461e-02 1.1e+00 7.42e-02  7e-02  7e-02 0:31.4\n",
      "   40   4000 3.129841387271881e-02 1.1e+00 7.55e-02  8e-02  8e-02 0:32.1\n",
      "Iterat #Fevals   function value  axis ratio  sigma  min&max std  t[m:s]\n",
      "   41   4100 3.161170333623886e-02 1.1e+00 7.69e-02  8e-02  8e-02 0:33.0\n",
      "   42   4200 3.058215603232384e-02 1.1e+00 7.82e-02  8e-02  8e-02 0:33.8\n",
      "   43   4300 2.495603077113628e-02 1.1e+00 7.98e-02  8e-02  8e-02 0:34.6\n",
      "   44   4400 2.802756987512112e-02 1.1e+00 8.13e-02  8e-02  8e-02 0:35.4\n",
      "   45   4500 3.448612242937088e-02 1.1e+00 8.28e-02  8e-02  8e-02 0:36.1\n",
      "   46   4600 3.353372961282730e-02 1.1e+00 8.38e-02  8e-02  8e-02 0:36.9\n",
      "   47   4700 2.331082895398140e-02 1.1e+00 8.51e-02  8e-02  9e-02 0:37.7\n",
      "   48   4800 2.536429651081562e-02 1.1e+00 8.63e-02  9e-02  9e-02 0:38.4\n",
      "   49   4900 2.239141985774040e-02 1.1e+00 8.72e-02  9e-02  9e-02 0:39.2\n",
      "   50   5000 2.676872536540031e-02 1.1e+00 8.81e-02  9e-02  9e-02 0:40.0\n",
      "Iterat #Fevals   function value  axis ratio  sigma  min&max std  t[m:s]\n",
      "   51   5100 2.100393362343311e-02 1.1e+00 8.90e-02  9e-02  9e-02 0:40.9\n",
      "   52   5200 2.344239875674248e-02 1.2e+00 8.97e-02  9e-02  9e-02 0:41.7\n",
      "   53   5300 2.738487347960472e-02 1.2e+00 9.07e-02  9e-02  9e-02 0:42.5\n",
      "   54   5400 2.213794179260731e-02 1.2e+00 9.28e-02  9e-02  9e-02 0:43.3\n",
      "   55   5500 2.324532344937325e-02 1.2e+00 9.43e-02  9e-02  9e-02 0:44.1\n",
      "   56   5600 2.079179696738720e-02 1.2e+00 9.60e-02  1e-01  1e-01 0:44.8\n",
      "   57   5700 2.568775042891502e-02 1.2e+00 9.74e-02  1e-01  1e-01 0:45.6\n",
      "   58   5800 2.400899305939674e-02 1.2e+00 9.86e-02  1e-01  1e-01 0:46.4\n",
      "   59   5900 2.146678045392036e-02 1.2e+00 1.00e-01  1e-01  1e-01 0:47.2\n",
      "   60   6000 2.709614858031273e-02 1.2e+00 1.01e-01  1e-01  1e-01 0:48.0\n",
      "Iterat #Fevals   function value  axis ratio  sigma  min&max std  t[m:s]\n",
      "   61   6100 2.229878865182400e-02 1.2e+00 1.01e-01  1e-01  1e-01 0:48.9\n",
      "   62   6200 2.034289576113224e-02 1.2e+00 1.03e-01  1e-01  1e-01 0:49.7\n",
      "   63   6300 2.120438031852245e-02 1.2e+00 1.04e-01  1e-01  1e-01 0:50.5\n",
      "   64   6400 2.127570100128651e-02 1.2e+00 1.04e-01  1e-01  1e-01 0:51.3\n",
      "   65   6500 1.999367773532867e-02 1.2e+00 1.05e-01  1e-01  1e-01 0:52.1\n",
      "   66   6600 1.899170316755772e-02 1.2e+00 1.06e-01  1e-01  1e-01 0:52.9\n",
      "   67   6700 2.353114821016788e-02 1.2e+00 1.06e-01  1e-01  1e-01 0:53.7\n",
      "   68   6800 2.070886269211769e-02 1.2e+00 1.07e-01  1e-01  1e-01 0:54.5\n",
      "   69   6900 2.391264215111732e-02 1.2e+00 1.07e-01  1e-01  1e-01 0:55.3\n",
      "   70   7000 1.569329574704170e-02 1.2e+00 1.09e-01  1e-01  1e-01 0:56.0\n",
      "Iterat #Fevals   function value  axis ratio  sigma  min&max std  t[m:s]\n",
      "   71   7100 1.932761073112488e-02 1.3e+00 1.10e-01  1e-01  1e-01 0:56.9\n",
      "   72   7200 1.834765076637268e-02 1.3e+00 1.11e-01  1e-01  1e-01 0:57.8\n",
      "   73   7300 2.203177660703659e-02 1.3e+00 1.11e-01  1e-01  1e-01 0:58.5\n",
      "   74   7400 1.783315092325211e-02 1.3e+00 1.11e-01  1e-01  1e-01 0:59.4\n",
      "   75   7500 1.698523201048374e-02 1.3e+00 1.11e-01  1e-01  1e-01 1:00.1\n",
      "   76   7600 2.335544675588608e-02 1.3e+00 1.12e-01  1e-01  1e-01 1:00.9\n",
      "   77   7700 1.930696517229080e-02 1.3e+00 1.12e-01  1e-01  1e-01 1:01.7\n",
      "   78   7800 1.531262695789337e-02 1.3e+00 1.12e-01  1e-01  1e-01 1:02.5\n",
      "   79   7900 2.114275097846985e-02 1.3e+00 1.13e-01  1e-01  1e-01 1:03.3\n",
      "   80   8000 2.307247370481491e-02 1.3e+00 1.13e-01  1e-01  1e-01 1:04.1\n",
      "Iterat #Fevals   function value  axis ratio  sigma  min&max std  t[m:s]\n",
      "   81   8100 2.076602168381214e-02 1.3e+00 1.13e-01  1e-01  1e-01 1:04.9\n",
      "   82   8200 1.675529405474663e-02 1.3e+00 1.14e-01  1e-01  1e-01 1:05.7\n",
      "   83   8300 1.985003426671028e-02 1.3e+00 1.14e-01  1e-01  1e-01 1:06.5\n",
      "   84   8400 2.062459662556648e-02 1.3e+00 1.15e-01  1e-01  1e-01 1:07.3\n",
      "   85   8500 2.481121383607388e-02 1.3e+00 1.17e-01  1e-01  1e-01 1:08.2\n",
      "   86   8600 1.706779375672340e-02 1.3e+00 1.17e-01  1e-01  1e-01 1:08.9\n",
      "   87   8700 1.762573793530464e-02 1.4e+00 1.18e-01  1e-01  1e-01 1:09.7\n",
      "   88   8800 2.111016772687435e-02 1.4e+00 1.17e-01  1e-01  1e-01 1:10.5\n",
      "   89   8900 2.280627377331257e-02 1.4e+00 1.17e-01  1e-01  1e-01 1:11.3\n",
      "   90   9000 2.248640358448029e-02 1.4e+00 1.16e-01  1e-01  1e-01 1:12.1\n",
      "Iterat #Fevals   function value  axis ratio  sigma  min&max std  t[m:s]\n",
      "   91   9100 1.677673310041428e-02 1.4e+00 1.15e-01  1e-01  1e-01 1:13.0\n",
      "   92   9200 2.091084979474545e-02 1.4e+00 1.15e-01  1e-01  1e-01 1:13.8\n",
      "   93   9300 2.129117213189602e-02 1.4e+00 1.14e-01  1e-01  1e-01 1:14.6\n",
      "   94   9400 1.473319530487061e-02 1.4e+00 1.15e-01  1e-01  1e-01 1:15.4\n",
      "   95   9500 2.011315710842609e-02 1.4e+00 1.15e-01  1e-01  1e-01 1:16.2\n",
      "   96   9600 1.492241770029068e-02 1.4e+00 1.16e-01  1e-01  1e-01 1:17.1\n",
      "   97   9700 2.251717448234558e-02 1.4e+00 1.16e-01  1e-01  1e-01 1:17.9\n",
      "   98   9800 1.732528395950794e-02 1.4e+00 1.16e-01  1e-01  1e-01 1:18.7\n",
      "   99   9900 1.740716211497784e-02 1.4e+00 1.15e-01  1e-01  1e-01 1:19.5\n",
      "  100  10000 2.037424221634865e-02 1.4e+00 1.14e-01  1e-01  1e-01 1:20.3\n",
      "Iterat #Fevals   function value  axis ratio  sigma  min&max std  t[m:s]\n",
      "  101  10100 1.914982497692108e-02 1.4e+00 1.14e-01  1e-01  1e-01 1:21.1\n"
     ]
    },
    {
     "name": "stdout",
     "output_type": "stream",
     "text": [
      "  102  10200 2.303650230169296e-02 1.4e+00 1.12e-01  1e-01  1e-01 1:21.9\n",
      "  103  10300 1.997710391879082e-02 1.4e+00 1.11e-01  1e-01  1e-01 1:22.7\n",
      "  104  10400 2.107880078256130e-02 1.4e+00 1.10e-01  1e-01  1e-01 1:23.5\n",
      "  105  10500 1.721407845616341e-02 1.4e+00 1.09e-01  1e-01  1e-01 1:24.3\n",
      "  106  10600 1.990635693073273e-02 1.4e+00 1.09e-01  1e-01  1e-01 1:25.1\n",
      "  107  10700 1.665426790714264e-02 1.5e+00 1.10e-01  1e-01  1e-01 1:25.8\n",
      "  108  10800 1.679712347686291e-02 1.5e+00 1.10e-01  1e-01  1e-01 1:26.6\n",
      "  109  10900 1.822420582175255e-02 1.5e+00 1.10e-01  1e-01  1e-01 1:27.4\n",
      "  110  11000 1.901497505605221e-02 1.5e+00 1.11e-01  1e-01  1e-01 1:28.2\n",
      "Iterat #Fevals   function value  axis ratio  sigma  min&max std  t[m:s]\n",
      "  111  11100 1.730090565979481e-02 1.5e+00 1.12e-01  1e-01  1e-01 1:29.0\n",
      "  112  11200 2.018042095005512e-02 1.5e+00 1.13e-01  1e-01  1e-01 1:29.8\n",
      "  113  11300 1.799843832850456e-02 1.5e+00 1.13e-01  1e-01  1e-01 1:30.6\n",
      "  114  11400 1.914010010659695e-02 1.5e+00 1.14e-01  1e-01  1e-01 1:31.4\n",
      "  115  11500 1.692650094628334e-02 1.5e+00 1.14e-01  1e-01  1e-01 1:32.2\n",
      "  116  11600 1.726060733199120e-02 1.5e+00 1.13e-01  1e-01  1e-01 1:33.0\n",
      "  117  11700 1.583159901201725e-02 1.5e+00 1.12e-01  1e-01  1e-01 1:33.8\n",
      "  118  11800 1.602071709930897e-02 1.5e+00 1.13e-01  1e-01  1e-01 1:34.6\n",
      "  119  11900 1.346235815435648e-02 1.5e+00 1.13e-01  1e-01  1e-01 1:35.3\n",
      "  120  12000 1.592156104743481e-02 1.5e+00 1.13e-01  1e-01  1e-01 1:36.1\n",
      "Iterat #Fevals   function value  axis ratio  sigma  min&max std  t[m:s]\n",
      "  121  12100 1.625550910830498e-02 1.5e+00 1.14e-01  1e-01  1e-01 1:37.0\n",
      "  122  12200 1.938449963927269e-02 1.5e+00 1.14e-01  1e-01  1e-01 1:37.8\n",
      "  123  12300 1.565827988088131e-02 1.5e+00 1.15e-01  1e-01  1e-01 1:38.6\n",
      "  124  12400 1.502443104982376e-02 1.5e+00 1.16e-01  1e-01  1e-01 1:39.3\n",
      "  125  12500 1.604441180825233e-02 1.5e+00 1.15e-01  1e-01  1e-01 1:40.1\n",
      "  126  12600 2.096451818943024e-02 1.5e+00 1.15e-01  1e-01  1e-01 1:40.9\n",
      "  127  12700 1.852629706263542e-02 1.5e+00 1.14e-01  1e-01  1e-01 1:41.7\n",
      "  128  12800 1.478480268269777e-02 1.5e+00 1.13e-01  1e-01  1e-01 1:42.5\n",
      "  129  12900 1.828524842858315e-02 1.5e+00 1.13e-01  1e-01  1e-01 1:43.3\n",
      "  130  13000 1.675409451127052e-02 1.5e+00 1.12e-01  1e-01  1e-01 1:44.1\n",
      "Iterat #Fevals   function value  axis ratio  sigma  min&max std  t[m:s]\n",
      "  131  13100 1.424536947160959e-02 1.5e+00 1.11e-01  1e-01  1e-01 1:45.0\n",
      "  132  13200 1.872173696756363e-02 1.5e+00 1.10e-01  1e-01  1e-01 1:45.7\n",
      "  133  13300 1.810990646481514e-02 1.5e+00 1.09e-01  1e-01  1e-01 1:46.5\n",
      "  134  13400 1.459833513945341e-02 1.6e+00 1.08e-01  1e-01  1e-01 1:47.3\n",
      "  135  13500 1.711413264274597e-02 1.6e+00 1.08e-01  1e-01  1e-01 1:48.1\n",
      "  136  13600 1.782382652163506e-02 1.6e+00 1.07e-01  1e-01  1e-01 1:48.9\n",
      "  137  13700 1.792204380035400e-02 1.6e+00 1.06e-01  1e-01  1e-01 1:49.7\n",
      "  138  13800 1.697125472128391e-02 1.6e+00 1.05e-01  1e-01  1e-01 1:50.5\n",
      "  139  13900 1.780221611261368e-02 1.6e+00 1.05e-01  1e-01  1e-01 1:51.2\n",
      "  140  14000 1.769963093101978e-02 1.6e+00 1.04e-01  1e-01  1e-01 1:52.0\n",
      "Iterat #Fevals   function value  axis ratio  sigma  min&max std  t[m:s]\n",
      "  141  14100 1.514062564820051e-02 1.6e+00 1.03e-01  1e-01  1e-01 1:52.9\n",
      "  142  14200 1.698810234665871e-02 1.6e+00 1.02e-01  1e-01  1e-01 1:53.7\n",
      "  143  14300 1.398516632616520e-02 1.6e+00 1.02e-01  1e-01  1e-01 1:54.5\n",
      "  144  14400 1.415559649467468e-02 1.6e+00 1.01e-01  1e-01  1e-01 1:55.3\n",
      "  145  14500 1.670453697443008e-02 1.6e+00 1.00e-01  1e-01  1e-01 1:56.1\n",
      "  146  14600 1.575771346688271e-02 1.6e+00 9.92e-02  9e-02  1e-01 1:56.9\n",
      "  147  14700 1.798526011407375e-02 1.6e+00 9.83e-02  9e-02  1e-01 1:57.7\n",
      "  148  14800 1.722256466746330e-02 1.6e+00 9.77e-02  9e-02  1e-01 1:58.5\n",
      "  149  14900 1.495373714715242e-02 1.6e+00 9.68e-02  9e-02  1e-01 1:59.2\n",
      "  150  15000 1.387610845267773e-02 1.6e+00 9.65e-02  9e-02  1e-01 2:00.1\n",
      "Iterat #Fevals   function value  axis ratio  sigma  min&max std  t[m:s]\n",
      "  151  15100 1.715988665819168e-02 1.6e+00 9.67e-02  9e-02  1e-01 2:00.9\n",
      "  152  15200 1.378375664353371e-02 1.6e+00 9.71e-02  9e-02  1e-01 2:01.7\n",
      "  153  15300 1.676085963845253e-02 1.6e+00 9.81e-02  9e-02  1e-01 2:02.5\n",
      "  154  15400 1.432395912706852e-02 1.6e+00 9.92e-02  9e-02  1e-01 2:03.3\n",
      "  155  15500 1.414183340966702e-02 1.6e+00 9.92e-02  9e-02  1e-01 2:04.1\n",
      "  156  15600 1.223553158342838e-02 1.6e+00 9.86e-02  9e-02  1e-01 2:04.9\n",
      "  157  15700 1.513662934303284e-02 1.6e+00 9.81e-02  9e-02  1e-01 2:05.6\n",
      "  158  15800 1.572181843221188e-02 1.6e+00 9.85e-02  9e-02  1e-01 2:06.4\n",
      "  159  15900 1.314858999103308e-02 1.6e+00 9.91e-02  9e-02  1e-01 2:07.2\n",
      "  160  16000 1.322878710925579e-02 1.6e+00 9.95e-02  9e-02  1e-01 2:08.0\n",
      "Iterat #Fevals   function value  axis ratio  sigma  min&max std  t[m:s]\n",
      "  161  16100 1.556125283241272e-02 1.6e+00 1.00e-01  9e-02  1e-01 2:08.9\n",
      "  162  16200 1.393675338476896e-02 1.6e+00 1.01e-01  1e-01  1e-01 2:09.8\n",
      "  163  16300 1.385839842259884e-02 1.6e+00 1.01e-01  1e-01  1e-01 2:10.7\n",
      "  164  16400 1.550488639622927e-02 1.6e+00 1.01e-01  1e-01  1e-01 2:11.4\n",
      "  165  16500 1.307833380997181e-02 1.6e+00 1.01e-01  1e-01  1e-01 2:12.2\n",
      "  166  16600 1.265273615717888e-02 1.6e+00 1.02e-01  1e-01  1e-01 2:13.0\n",
      "  167  16700 1.684745773673058e-02 1.6e+00 1.02e-01  1e-01  1e-01 2:13.8\n",
      "  168  16800 1.574036478996277e-02 1.6e+00 1.03e-01  1e-01  1e-01 2:14.5\n",
      "  169  16900 1.493353024125099e-02 1.7e+00 1.03e-01  1e-01  1e-01 2:15.3\n",
      "  170  17000 1.512144878506660e-02 1.7e+00 1.03e-01  1e-01  1e-01 2:16.1\n",
      "Iterat #Fevals   function value  axis ratio  sigma  min&max std  t[m:s]\n",
      "  171  17100 1.293390244245529e-02 1.7e+00 1.03e-01  1e-01  1e-01 2:16.9\n",
      "  172  17200 1.576715707778931e-02 1.7e+00 1.02e-01  1e-01  1e-01 2:17.7\n",
      "  173  17300 1.434189733117819e-02 1.7e+00 1.02e-01  1e-01  1e-01 2:18.5\n",
      "  174  17400 1.414654217660427e-02 1.7e+00 1.03e-01  1e-01  1e-01 2:19.3\n",
      "  175  17500 1.478362735360861e-02 1.7e+00 1.03e-01  1e-01  1e-01 2:20.1\n",
      "  176  17600 1.250314712524414e-02 1.7e+00 1.04e-01  1e-01  1e-01 2:20.8\n",
      "  177  17700 1.566679589450359e-02 1.7e+00 1.05e-01  1e-01  1e-01 2:21.6\n",
      "  178  17800 1.775150001049042e-02 1.7e+00 1.05e-01  1e-01  1e-01 2:22.4\n",
      "  179  17900 1.263603381812572e-02 1.7e+00 1.05e-01  1e-01  1e-01 2:23.2\n",
      "  180  18000 1.340918242931366e-02 1.7e+00 1.06e-01  1e-01  1e-01 2:24.0\n",
      "Iterat #Fevals   function value  axis ratio  sigma  min&max std  t[m:s]\n",
      "  181  18100 1.525853574275970e-02 1.7e+00 1.05e-01  1e-01  1e-01 2:24.8\n",
      "  182  18200 1.589505746960640e-02 1.7e+00 1.05e-01  1e-01  1e-01 2:25.6\n",
      "  183  18300 1.445535384118557e-02 1.7e+00 1.05e-01  1e-01  1e-01 2:26.4\n",
      "  184  18400 1.505706179887056e-02 1.7e+00 1.05e-01  1e-01  1e-01 2:27.2\n",
      "  185  18500 1.342921890318394e-02 1.7e+00 1.06e-01  1e-01  1e-01 2:28.0\n",
      "  186  18600 1.472207345068455e-02 1.7e+00 1.07e-01  1e-01  1e-01 2:28.7\n",
      "  187  18700 1.223685871809721e-02 1.7e+00 1.06e-01  1e-01  1e-01 2:29.5\n",
      "  188  18800 1.491579040884972e-02 1.7e+00 1.06e-01  1e-01  1e-01 2:30.3\n",
      "  189  18900 1.307544857263565e-02 1.7e+00 1.05e-01  1e-01  1e-01 2:31.1\n",
      "  190  19000 1.195828802883625e-02 1.7e+00 1.05e-01  1e-01  1e-01 2:31.9\n",
      "Iterat #Fevals   function value  axis ratio  sigma  min&max std  t[m:s]\n",
      "  191  19100 1.244245655834675e-02 1.7e+00 1.04e-01  1e-01  1e-01 2:32.7\n",
      "  192  19200 1.461967453360558e-02 1.7e+00 1.03e-01  1e-01  1e-01 2:33.5\n",
      "  193  19300 1.430905517190695e-02 1.7e+00 1.03e-01  1e-01  1e-01 2:34.3\n",
      "  194  19400 1.526422146707773e-02 1.7e+00 1.03e-01  1e-01  1e-01 2:35.1\n",
      "  195  19500 1.371320150792599e-02 1.7e+00 1.02e-01  1e-01  1e-01 2:35.9\n",
      "  196  19600 1.456658076494932e-02 1.7e+00 1.03e-01  1e-01  1e-01 2:36.7\n",
      "  197  19700 1.464393734931946e-02 1.7e+00 1.03e-01  1e-01  1e-01 2:37.5\n",
      "  198  19800 1.393832173198462e-02 1.7e+00 1.03e-01  1e-01  1e-01 2:38.3\n",
      "  199  19900 1.463484112173319e-02 1.7e+00 1.03e-01  1e-01  1e-01 2:39.1\n",
      "  200  20000 1.714466139674187e-02 1.7e+00 1.03e-01  1e-01  1e-01 2:39.8\n",
      "Iterat #Fevals   function value  axis ratio  sigma  min&max std  t[m:s]\n",
      "  201  20100 1.376263611018658e-02 1.7e+00 1.03e-01  1e-01  1e-01 2:40.7\n",
      "  202  20200 1.496318634599447e-02 1.7e+00 1.03e-01  1e-01  1e-01 2:41.5\n",
      "  203  20300 1.430198363959789e-02 1.7e+00 1.03e-01  1e-01  1e-01 2:42.3\n",
      "  204  20400 1.306828670203686e-02 1.7e+00 1.03e-01  1e-01  1e-01 2:43.1\n"
     ]
    },
    {
     "name": "stdout",
     "output_type": "stream",
     "text": [
      "  205  20500 1.487403735518456e-02 1.7e+00 1.03e-01  9e-02  1e-01 2:43.9\n",
      "  206  20600 1.608620211482048e-02 1.8e+00 1.02e-01  9e-02  1e-01 2:44.7\n",
      "  207  20700 1.266595721244812e-02 1.8e+00 1.01e-01  9e-02  1e-01 2:45.5\n",
      "  208  20800 1.322276331484318e-02 1.8e+00 1.00e-01  9e-02  1e-01 2:46.3\n",
      "  209  20900 1.312277000397444e-02 1.8e+00 9.86e-02  9e-02  1e-01 2:47.0\n",
      "  210  21000 1.417652331292629e-02 1.8e+00 9.79e-02  9e-02  1e-01 2:47.8\n",
      "Iterat #Fevals   function value  axis ratio  sigma  min&max std  t[m:s]\n",
      "  211  21100 1.303756795823574e-02 1.8e+00 9.73e-02  9e-02  1e-01 2:48.7\n",
      "  212  21200 1.320992968976498e-02 1.8e+00 9.75e-02  9e-02  1e-01 2:49.5\n",
      "  213  21300 1.464144326746464e-02 1.8e+00 9.72e-02  9e-02  1e-01 2:50.3\n",
      "  214  21400 1.216378621757030e-02 1.8e+00 9.69e-02  9e-02  1e-01 2:51.1\n",
      "  215  21500 1.229878515005112e-02 1.8e+00 9.61e-02  9e-02  1e-01 2:51.9\n",
      "  216  21600 1.238964218646288e-02 1.8e+00 9.61e-02  9e-02  1e-01 2:52.6\n",
      "  217  21700 1.397662516683340e-02 1.8e+00 9.60e-02  9e-02  1e-01 2:53.4\n",
      "  218  21800 1.469737943261862e-02 1.8e+00 9.55e-02  9e-02  1e-01 2:54.2\n",
      "  219  21900 1.409595739096403e-02 1.8e+00 9.48e-02  9e-02  1e-01 2:55.0\n",
      "  220  22000 1.645885780453682e-02 1.8e+00 9.40e-02  9e-02  1e-01 2:55.8\n",
      "Iterat #Fevals   function value  axis ratio  sigma  min&max std  t[m:s]\n",
      "  221  22100 1.432007737457752e-02 1.8e+00 9.29e-02  8e-02  1e-01 2:56.6\n",
      "  222  22200 1.209078636020422e-02 1.8e+00 9.15e-02  8e-02  9e-02 2:57.4\n",
      "  223  22300 1.137338764965534e-02 1.8e+00 9.07e-02  8e-02  9e-02 2:58.2\n",
      "  224  22400 1.313626207411289e-02 1.8e+00 8.97e-02  8e-02  9e-02 2:59.0\n",
      "  225  22500 1.299560070037842e-02 1.8e+00 8.95e-02  8e-02  9e-02 2:59.8\n",
      "  226  22600 1.281557418406010e-02 1.8e+00 8.96e-02  8e-02  9e-02 3:00.5\n",
      "  227  22700 1.338424067944288e-02 1.8e+00 8.96e-02  8e-02  9e-02 3:01.3\n",
      "  228  22800 1.240367256104946e-02 1.8e+00 8.93e-02  8e-02  9e-02 3:02.1\n",
      "  229  22900 1.131340488791466e-02 1.8e+00 8.90e-02  8e-02  9e-02 3:02.9\n",
      "  230  23000 1.321117952466011e-02 1.8e+00 8.91e-02  8e-02  9e-02 3:03.7\n",
      "Iterat #Fevals   function value  axis ratio  sigma  min&max std  t[m:s]\n",
      "  231  23100 1.326809450984001e-02 1.8e+00 8.85e-02  8e-02  9e-02 3:04.6\n",
      "  232  23200 1.043397746980190e-02 1.8e+00 8.78e-02  8e-02  9e-02 3:05.3\n",
      "  233  23300 1.046899519860744e-02 1.8e+00 8.68e-02  8e-02  9e-02 3:06.1\n",
      "  234  23400 1.099759154021740e-02 1.8e+00 8.59e-02  8e-02  9e-02 3:06.9\n",
      "  235  23500 1.275418046861887e-02 1.8e+00 8.49e-02  8e-02  9e-02 3:07.7\n",
      "  236  23600 1.318813022226095e-02 1.8e+00 8.49e-02  8e-02  9e-02 3:08.5\n",
      "  237  23700 1.217008475214243e-02 1.8e+00 8.50e-02  8e-02  9e-02 3:09.2\n",
      "  238  23800 1.297897566109896e-02 1.8e+00 8.45e-02  8e-02  9e-02 3:10.0\n",
      "  239  23900 1.060658693313599e-02 1.8e+00 8.37e-02  8e-02  9e-02 3:10.8\n",
      "  240  24000 1.187148783355951e-02 1.8e+00 8.29e-02  7e-02  8e-02 3:11.6\n",
      "Iterat #Fevals   function value  axis ratio  sigma  min&max std  t[m:s]\n",
      "  241  24100 1.105505041778088e-02 1.9e+00 8.27e-02  7e-02  8e-02 3:12.5\n",
      "  242  24200 1.089489553123713e-02 1.9e+00 8.26e-02  7e-02  8e-02 3:13.2\n",
      "  243  24300 1.186474133282900e-02 1.9e+00 8.17e-02  7e-02  8e-02 3:14.0\n",
      "  244  24400 1.113880518823862e-02 1.9e+00 8.07e-02  7e-02  8e-02 3:14.8\n",
      "  245  24500 1.221811864525080e-02 1.9e+00 8.00e-02  7e-02  8e-02 3:15.6\n",
      "  246  24600 1.174974255263805e-02 1.9e+00 7.95e-02  7e-02  8e-02 3:16.4\n",
      "  247  24700 1.098477467894554e-02 1.9e+00 7.94e-02  7e-02  8e-02 3:17.2\n",
      "  248  24800 1.200556010007858e-02 1.9e+00 7.87e-02  7e-02  8e-02 3:17.9\n",
      "  249  24900 1.166949048638344e-02 1.9e+00 7.80e-02  7e-02  8e-02 3:18.7\n",
      "  250  25000 1.144883874803782e-02 1.9e+00 7.73e-02  7e-02  8e-02 3:19.5\n",
      "termination on maxiter=250 (Wed Dec 14 13:10:40 2022)\n",
      "final/bestever f-value = 9.509438e-03 9.509438e-03\n",
      "incumbent solution: [ 0.65605953  0.02234703 -0.99188224  0.71693286  0.29038721  0.1581531\n",
      " -0.24188594  0.25274882 ...]\n",
      "std deviations: [0.07710543 0.07687495 0.07709409 0.07591502 0.07704276 0.07639454\n",
      " 0.07701412 0.07755487 ...]\n"
     ]
    }
   ],
   "source": [
    "x, es = cma.fmin2(nn_fitness, w0, 1e-2, options={'ftarget':1e-5, 'popsize':100, 'maxiter':250, 'verb_disp':1})"
   ]
  }
 ],
 "metadata": {
  "colab": {
   "collapsed_sections": [],
   "provenance": []
  },
  "kernelspec": {
   "display_name": "Python 3 (ipykernel)",
   "language": "python",
   "name": "python3"
  },
  "language_info": {
   "codemirror_mode": {
    "name": "ipython",
    "version": 3
   },
   "file_extension": ".py",
   "mimetype": "text/x-python",
   "name": "python",
   "nbconvert_exporter": "python",
   "pygments_lexer": "ipython3",
   "version": "3.8.13"
  }
 },
 "nbformat": 4,
 "nbformat_minor": 1
}
