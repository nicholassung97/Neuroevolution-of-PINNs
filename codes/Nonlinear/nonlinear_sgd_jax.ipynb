{
 "cells": [
  {
   "cell_type": "markdown",
   "metadata": {
    "id": "L1utZItgyGsp"
   },
   "source": [
    "Import Libraries"
   ]
  },
  {
   "cell_type": "code",
   "execution_count": 1,
   "metadata": {
    "colab": {
     "base_uri": "https://localhost:8080/"
    },
    "executionInfo": {
     "elapsed": 21742,
     "status": "ok",
     "timestamp": 1665420690043,
     "user": {
      "displayName": "Nicholas Sung",
      "userId": "04413473591799886681"
     },
     "user_tz": -480
    },
    "id": "bhzFIM8b1DaE",
    "outputId": "8c96791a-5a2c-45d9-d0e2-d7e1acf27b4c"
   },
   "outputs": [],
   "source": [
    "# # Install the latest JAXlib version.\n",
    "# !pip install --upgrade -q pip jax jaxlib\n",
    "# # Install Flax at head:\n",
    "# # !pip install --upgrade -q git+https://github.com/google/flax.git\n",
    "# !pip install flax\n",
    "# # !pip install flax==0.5.1\n",
    "# # !pip install evojax\n",
    "# !pip install optax"
   ]
  },
  {
   "cell_type": "code",
   "execution_count": 2,
   "metadata": {
    "executionInfo": {
     "elapsed": 11,
     "status": "ok",
     "timestamp": 1665420690044,
     "user": {
      "displayName": "Nicholas Sung",
      "userId": "04413473591799886681"
     },
     "user_tz": -480
    },
    "id": "H4O49iRI1Z7v"
   },
   "outputs": [],
   "source": [
    "import jax\n",
    "import optax\n",
    "import time\n",
    "import matplotlib.pyplot as plt\n",
    "import pandas as pd\n",
    "from typing import Any, Callable, Sequence, Optional\n",
    "from jax import lax, random, numpy as jnp\n",
    "import flax\n",
    "from flax.core import freeze, unfreeze\n",
    "from flax import linen as nn\n",
    "from jax import random, grad, vmap, hessian, jacfwd, jit\n",
    "from jax.config import config\n",
    "from scipy import array, power, diag, cos, sin, pi\n",
    "# config.enable_omnistaging() # Linen requires enabling omnistaging\n",
    "# from evojax.util import get_params_format_fn\n",
    "\n",
    "# choose GPU\n",
    "import os\n",
    "os.environ['CUDA_VISIBLE_DEVICES'] = '0'"
   ]
  },
  {
   "cell_type": "markdown",
   "metadata": {
    "id": "x0VO_YozyKDg"
   },
   "source": [
    "PINNs Network"
   ]
  },
  {
   "cell_type": "code",
   "execution_count": 3,
   "metadata": {
    "executionInfo": {
     "elapsed": 8,
     "status": "ok",
     "timestamp": 1665420690044,
     "user": {
      "displayName": "Nicholas Sung",
      "userId": "04413473591799886681"
     },
     "user_tz": -480
    },
    "id": "FYOrzZrl1cEe"
   },
   "outputs": [],
   "source": [
    "node = 8\n",
    "class PINNs(nn.Module):\n",
    "  \"\"\"PINNs\"\"\"\n",
    "  def setup(self):\n",
    "    self.layers = [nn.Dense(node, kernel_init = jax.nn.initializers.glorot_uniform()),\n",
    "                   nn.tanh,\n",
    "                   nn.Dense(node, kernel_init = jax.nn.initializers.glorot_uniform()),\n",
    "                   nn.tanh,\n",
    "                   nn.Dense(node, kernel_init = jax.nn.initializers.glorot_uniform()),\n",
    "                   nn.tanh,\n",
    "                   nn.Dense(1, kernel_init = jax.nn.initializers.glorot_uniform(), use_bias=False)]\n",
    "\n",
    "\n",
    "  @nn.compact\n",
    "  def __call__(self, inputs):\n",
    "      # split the two variables, probably just by slicing\n",
    "      x, t = inputs[:,0:1], inputs[:,1:2]\n",
    "      \n",
    "      def get_u(x, t):\n",
    "        u = jnp.hstack([x, t])\n",
    "        for i, lyr in enumerate(self.layers):\n",
    "          u = lyr(u)\n",
    "        return u\n",
    "\n",
    "      u = get_u(x, t)\n",
    "\n",
    "      # obtain u_t\n",
    "      def get_u_t(get_u, x, t):\n",
    "        u_t = jacfwd(get_u, 1)(x, t)\n",
    "        return u_t\n",
    "      u_t_vmap = vmap(get_u_t, in_axes=(None, 0, 0))\n",
    "      u_t = u_t_vmap(get_u, x, t).reshape(-1,1) \n",
    "      #obtain u_x\n",
    "      def get_u_x(get_u, x, t):\n",
    "        u_x = jacfwd(get_u)(x, t)\n",
    "        return u_x\n",
    "      u_x_vmap = vmap(get_u_x, in_axes=(None, 0, 0))\n",
    "      u_x = u_x_vmap(get_u, x, t).reshape(-1,1)  \n",
    "      #obtain u_xx    \n",
    "      def get_u_xx(get_u, x, t):\n",
    "        u_xx = hessian(get_u)(x,t)\n",
    "        return u_xx\n",
    "      u_xx_vmap = vmap(get_u_xx, in_axes=(None, 0, 0))\n",
    "      u_xx = u_xx_vmap(get_u, x, t).reshape(-1,1)\n",
    "\n",
    "      action = jnp.hstack([u,u_x, u_xx, u_t])   \n",
    "      return action"
   ]
  },
  {
   "cell_type": "code",
   "execution_count": 4,
   "metadata": {
    "executionInfo": {
     "elapsed": 8,
     "status": "ok",
     "timestamp": 1665420690044,
     "user": {
      "displayName": "Nicholas Sung",
      "userId": "04413473591799886681"
     },
     "user_tz": -480
    },
    "id": "vh_R9gdC33oK"
   },
   "outputs": [],
   "source": [
    "model = PINNs()\n",
    "# params = model.init(random.PRNGKey(0), jnp.zeros([2,1]))"
   ]
  },
  {
   "cell_type": "code",
   "execution_count": 5,
   "metadata": {
    "colab": {
     "base_uri": "https://localhost:8080/"
    },
    "executionInfo": {
     "elapsed": 8,
     "status": "ok",
     "timestamp": 1665420690044,
     "user": {
      "displayName": "Nicholas Sung",
      "userId": "04413473591799886681"
     },
     "user_tz": -480
    },
    "id": "iQA5LaAoNsX2",
    "outputId": "fd1cb032-30d9-404b-bbc8-aa12c9c17efd"
   },
   "outputs": [
    {
     "data": {
      "text/plain": [
       "FrozenDict({\n",
       "    params: {\n",
       "        layers_0: {\n",
       "            kernel: DeviceArray([[-5.7519700e-02,  6.1773393e-02,  5.7582674e-04,\n",
       "                           2.2985055e-01, -6.2718205e-02, -2.7909055e-01,\n",
       "                          -5.6730941e-02,  6.7408484e-01],\n",
       "                         [ 1.7127079e-01, -3.5103104e-01,  2.1496566e-01,\n",
       "                           4.5700255e-01,  5.8078241e-01, -5.4574656e-01,\n",
       "                           1.9077779e-01,  7.1804821e-01]], dtype=float32),\n",
       "            bias: DeviceArray([0., 0., 0., 0., 0., 0., 0., 0.], dtype=float32),\n",
       "        },\n",
       "        layers_2: {\n",
       "            kernel: DeviceArray([[-0.45770732, -0.27446413, -0.35641724, -0.49977297,\n",
       "                           0.02891943,  0.45564798,  0.4506553 , -0.04619164],\n",
       "                         [-0.41307658, -0.53576845,  0.02062074,  0.58753616,\n",
       "                          -0.44982034, -0.2511399 , -0.20213905, -0.27392817],\n",
       "                         [ 0.5340896 , -0.59196264, -0.26925746, -0.17218477,\n",
       "                           0.26199287, -0.3784713 ,  0.29743972,  0.20568527],\n",
       "                         [ 0.42805043, -0.01975247, -0.21067485,  0.5416862 ,\n",
       "                          -0.53245074, -0.28429568, -0.56179035,  0.59118474],\n",
       "                         [ 0.48800206, -0.51122904, -0.01371256,  0.5166091 ,\n",
       "                           0.5717831 ,  0.5094388 , -0.42020944, -0.2930788 ],\n",
       "                         [-0.5277266 ,  0.4863159 , -0.20204285,  0.22880116,\n",
       "                           0.46311957, -0.3841608 , -0.1576517 ,  0.05285775],\n",
       "                         [-0.40389282, -0.3520416 , -0.16533294,  0.0291726 ,\n",
       "                          -0.05995748, -0.4190734 ,  0.404751  ,  0.5170837 ],\n",
       "                         [-0.10634841, -0.3484802 , -0.4913531 , -0.16997665,\n",
       "                           0.01070275,  0.60956264,  0.23879844,  0.13005488]],            dtype=float32),\n",
       "            bias: DeviceArray([0., 0., 0., 0., 0., 0., 0., 0.], dtype=float32),\n",
       "        },\n",
       "        layers_4: {\n",
       "            kernel: DeviceArray([[ 0.07693856, -0.37439346,  0.4084009 ,  0.5706351 ,\n",
       "                          -0.1668534 ,  0.5637671 ,  0.4075688 ,  0.43460193],\n",
       "                         [ 0.28126165, -0.19100633, -0.06811281,  0.15883356,\n",
       "                          -0.22298463,  0.4506607 ,  0.02317794, -0.16760106],\n",
       "                         [-0.18175542,  0.43064237, -0.19933876,  0.22981222,\n",
       "                           0.5360266 , -0.3919898 ,  0.14392292, -0.22272956],\n",
       "                         [ 0.5561416 , -0.595371  , -0.2846588 , -0.04389752,\n",
       "                          -0.19280025,  0.2905993 ,  0.40136057,  0.36871475],\n",
       "                         [ 0.28288212, -0.06487509,  0.3604041 , -0.154077  ,\n",
       "                           0.2735858 , -0.08979438,  0.30297914, -0.2375256 ],\n",
       "                         [ 0.14362873, -0.24454065,  0.32999298,  0.2952234 ,\n",
       "                           0.20543109,  0.2948834 ,  0.33343247,  0.10910681],\n",
       "                         [-0.23158745,  0.00852865, -0.07524744,  0.5631469 ,\n",
       "                          -0.21369094,  0.04127505,  0.2763903 ,  0.5653896 ],\n",
       "                         [-0.3186884 ,  0.09467388,  0.54558396, -0.44577116,\n",
       "                          -0.02489068, -0.17972441,  0.2064487 , -0.18191749]],            dtype=float32),\n",
       "            bias: DeviceArray([0., 0., 0., 0., 0., 0., 0., 0.], dtype=float32),\n",
       "        },\n",
       "        layers_6: {\n",
       "            kernel: DeviceArray([[-0.2562064 ],\n",
       "                         [ 0.4433656 ],\n",
       "                         [-0.59455425],\n",
       "                         [-0.11628821],\n",
       "                         [-0.2976471 ],\n",
       "                         [-0.15342015],\n",
       "                         [-0.78955394],\n",
       "                         [-0.33654156]], dtype=float32),\n",
       "        },\n",
       "    },\n",
       "})"
      ]
     },
     "execution_count": 5,
     "metadata": {},
     "output_type": "execute_result"
    }
   ],
   "source": [
    "seed = 0\n",
    "key1, key2 = random.split(random.PRNGKey(seed))\n",
    "a = random.normal(key1, [1,2]) # Dummy input\n",
    "params = model.init(key2, a) # Initialization call\n",
    "# jax.tree_map(lambda a: a.shape, params) # Checking output shapes\n",
    "# model.apply(params, a)\n",
    "# num_params, format_params_fn = get_params_format_fn(params)\n",
    "params"
   ]
  },
  {
   "cell_type": "markdown",
   "metadata": {
    "id": "qLkoVCRBySO2"
   },
   "source": [
    "Functions"
   ]
  },
  {
   "cell_type": "code",
   "execution_count": 6,
   "metadata": {
    "executionInfo": {
     "elapsed": 523,
     "status": "ok",
     "timestamp": 1665420690562,
     "user": {
      "displayName": "Nicholas Sung",
      "userId": "04413473591799886681"
     },
     "user_tz": -480
    },
    "id": "sSBikTe8Ol3_"
   },
   "outputs": [],
   "source": [
    "def f_ic(x):\n",
    "    return jnp.exp(-(k*x)**2)"
   ]
  },
  {
   "cell_type": "markdown",
   "metadata": {
    "id": "Vq_v-NIvyVCO"
   },
   "source": [
    "Hyper parameters and data "
   ]
  },
  {
   "cell_type": "code",
   "execution_count": 7,
   "metadata": {
    "executionInfo": {
     "elapsed": 5,
     "status": "ok",
     "timestamp": 1665420690562,
     "user": {
      "displayName": "Nicholas Sung",
      "userId": "04413473591799886681"
     },
     "user_tz": -480
    },
    "id": "6UfQH3XzPZTE"
   },
   "outputs": [],
   "source": [
    "\n",
    "vis = 0.001\n",
    "\n",
    "# initial condition\n",
    "k = 2\n",
    "\n",
    "# spatial domain\n",
    "x_l, x_u = -2.0, 2.0\n",
    "\n",
    "# time domain: 0 - t_T\n",
    "t_T = 2.0\n",
    "\n",
    "# fitness evaluation time\n",
    "t_fitness = 0 "
   ]
  },
  {
   "cell_type": "code",
   "execution_count": 8,
   "metadata": {
    "executionInfo": {
     "elapsed": 4,
     "status": "ok",
     "timestamp": 1665420690562,
     "user": {
      "displayName": "Nicholas Sung",
      "userId": "04413473591799886681"
     },
     "user_tz": -480
    },
    "id": "HtsEUoRsPaOc"
   },
   "outputs": [],
   "source": [
    "sim = pd.read_csv('three.csv')\n",
    "sim['x'], sim['t'] = sim['x'], sim['t']\n",
    "batch_X = jnp.vstack([sim.x.values, sim.t.values]).T\n",
    "y_train = sim[['u']].values\n"
   ]
  },
  {
   "cell_type": "markdown",
   "metadata": {
    "id": "UHOgwyobyb02"
   },
   "source": [
    "Loss Function"
   ]
  },
  {
   "cell_type": "code",
   "execution_count": 9,
   "metadata": {
    "executionInfo": {
     "elapsed": 4,
     "status": "ok",
     "timestamp": 1665420690562,
     "user": {
      "displayName": "Nicholas Sung",
      "userId": "04413473591799886681"
     },
     "user_tz": -480
    },
    "id": "4e0j2QhFPPEF"
   },
   "outputs": [],
   "source": [
    "def make_mse_func(input):\n",
    "  def mse(params):\n",
    "    # Define the squared loss for a single pair (x,y)\n",
    "    def squared_error(input):\n",
    "        # [u,u_x, u_xx, u_xxx, u_t]\n",
    "        x = input[:,0:1].reshape(-1,1)\n",
    "        t = input[:,1:2].reshape(-1,1)\n",
    "        prediction = model.apply(params, input)\n",
    "        u, u_x, u_xx, u_t = prediction[:,0:1], prediction[:,1:2], prediction[:,2:3], prediction[:,3:4]\n",
    "    # ground truth\n",
    "\n",
    "        t_u = f_ic(x) \n",
    "        _ic = jnp.where((jnp.equal(t, 0)), 1, 0)\n",
    "        # _bc = ( jnp.equal(x, x_l) | jnp.equal(x, x_u) )\n",
    "        ic_mse = jnp.sum(jnp.square((t_u-u)*_ic))/jnp.sum(_ic)\n",
    "        # PDE (physics laws) \n",
    "        pde = u_t + u*u_x - vis*u_xx\n",
    "\n",
    "\n",
    "        # exclude BC points\n",
    "        _pde = jnp.where((jnp.equal(t, 0)), 0, 1)\n",
    "        pde = pde*_pde\n",
    "        pde_mse = jnp.sum(jnp.square(pde))/jnp.sum(_pde)\n",
    "        pde_mse = pde_mse \n",
    "        loss = pde_mse + ic_mse\n",
    "        return loss\n",
    "    return squared_error(input)\n",
    "  return jax.jit(mse) # And finally we jit the result.\n",
    "\n",
    "# Get the sampled loss\n",
    "loss = make_mse_func(batch_X)"
   ]
  },
  {
   "cell_type": "markdown",
   "metadata": {
    "id": "DX_6EF54yl4C"
   },
   "source": [
    "Weights Update"
   ]
  },
  {
   "cell_type": "code",
   "execution_count": 10,
   "metadata": {
    "executionInfo": {
     "elapsed": 3,
     "status": "ok",
     "timestamp": 1665420690562,
     "user": {
      "displayName": "Nicholas Sung",
      "userId": "04413473591799886681"
     },
     "user_tz": -480
    },
    "id": "LxrVM13VVM6i"
   },
   "outputs": [],
   "source": [
    "\n",
    "def update(params, opt_state):\n",
    "    start = time.time()  \n",
    "    loss_value, grad = jax.value_and_grad(loss)(params)\n",
    "    end = time.time()\n",
    "    global t_fitness\n",
    "    t_fitness = t_fitness + (end-start)\n",
    "    updates, opt_state = optimizer.update(grad, opt_state)\n",
    "    params = optax.apply_updates(params, updates)\n",
    "    return params, opt_state, loss_value\n",
    "update = jit(update)"
   ]
  },
  {
   "cell_type": "markdown",
   "metadata": {
    "id": "EzT-X2KRyeW0"
   },
   "source": [
    "Optimizer"
   ]
  },
  {
   "cell_type": "code",
   "execution_count": 11,
   "metadata": {
    "executionInfo": {
     "elapsed": 3,
     "status": "ok",
     "timestamp": 1665420690562,
     "user": {
      "displayName": "Nicholas Sung",
      "userId": "04413473591799886681"
     },
     "user_tz": -480
    },
    "id": "RW1pnAmenHGG"
   },
   "outputs": [],
   "source": [
    "alpha = 0.1\n",
    "optimizer = optax.sgd(learning_rate=alpha)\n",
    "# optimizer = optax.adam(learning_rate=alpha) # Choose the method\n",
    "opt_state = optimizer.init(params)\n",
    "loss_grad_fn = jax.value_and_grad(loss)"
   ]
  },
  {
   "cell_type": "markdown",
   "metadata": {
    "id": "GSe-AJVayouG"
   },
   "source": [
    "Training "
   ]
  },
  {
   "cell_type": "code",
   "execution_count": 12,
   "metadata": {},
   "outputs": [],
   "source": [
    "max_iters = 250000\n",
    "loss_ls = []\n",
    "t_training = []\n",
    "runtime = 0\n",
    "train_iters = 0\n",
    "while (train_iters < max_iters) and (runtime < 60):\n",
    "    start = time.process_time()\n",
    "    params, opt_state, loss_value = update(params, opt_state)\n",
    "    end = time.process_time()\n",
    "    t_training.append(end-start)\n",
    "    loss_ls.append(loss_value)\n",
    "    # update\n",
    "    runtime += (end-start)\n",
    "    train_iters += 1    "
   ]
  },
  {
   "cell_type": "code",
   "execution_count": 13,
   "metadata": {},
   "outputs": [
    {
     "data": {
      "image/png": "[encoded data removed]",
      "text/plain": [
       "<Figure size 640x480 with 1 Axes>"
      ]
     },
     "metadata": {},
     "output_type": "display_data"
    }
   ],
   "source": [
    "import numpy as np\n",
    "training_ls = np.cumsum(t_training)\n",
    "\n",
    "plt.plot(training_ls, loss_ls); plt.yscale('log');\n",
    "# plt.xlim(800,1000)\n",
    "# plt.ylim(-1e6,0)\n",
    "plt.title('Fitness against Iterations')\n",
    "plt.show()"
   ]
  },
  {
   "cell_type": "code",
   "execution_count": 14,
   "metadata": {
    "scrolled": true
   },
   "outputs": [
    {
     "data": {
      "text/html": [
       "<div>\n",
       "<style scoped>\n",
       "    .dataframe tbody tr th:only-of-type {\n",
       "        vertical-align: middle;\n",
       "    }\n",
       "\n",
       "    .dataframe tbody tr th {\n",
       "        vertical-align: top;\n",
       "    }\n",
       "\n",
       "    .dataframe thead th {\n",
       "        text-align: right;\n",
       "    }\n",
       "</style>\n",
       "<table border=\"1\" class=\"dataframe\">\n",
       "  <thead>\n",
       "    <tr style=\"text-align: right;\">\n",
       "      <th></th>\n",
       "      <th>Training Time</th>\n",
       "      <th>Loss</th>\n",
       "    </tr>\n",
       "  </thead>\n",
       "  <tbody>\n",
       "    <tr>\n",
       "      <th>0</th>\n",
       "      <td>3.278871</td>\n",
       "      <td>0.78003645</td>\n",
       "    </tr>\n",
       "    <tr>\n",
       "      <th>1</th>\n",
       "      <td>3.279741</td>\n",
       "      <td>0.35836554</td>\n",
       "    </tr>\n",
       "    <tr>\n",
       "      <th>2</th>\n",
       "      <td>3.280364</td>\n",
       "      <td>0.20928521</td>\n",
       "    </tr>\n",
       "    <tr>\n",
       "      <th>3</th>\n",
       "      <td>3.280844</td>\n",
       "      <td>0.15117382</td>\n",
       "    </tr>\n",
       "    <tr>\n",
       "      <th>4</th>\n",
       "      <td>3.281446</td>\n",
       "      <td>0.12791964</td>\n",
       "    </tr>\n",
       "    <tr>\n",
       "      <th>...</th>\n",
       "      <td>...</td>\n",
       "      <td>...</td>\n",
       "    </tr>\n",
       "    <tr>\n",
       "      <th>67986</th>\n",
       "      <td>59.997136</td>\n",
       "      <td>0.0057470915</td>\n",
       "    </tr>\n",
       "    <tr>\n",
       "      <th>67987</th>\n",
       "      <td>59.997977</td>\n",
       "      <td>0.005747077</td>\n",
       "    </tr>\n",
       "    <tr>\n",
       "      <th>67988</th>\n",
       "      <td>59.998831</td>\n",
       "      <td>0.005747064</td>\n",
       "    </tr>\n",
       "    <tr>\n",
       "      <th>67989</th>\n",
       "      <td>59.999664</td>\n",
       "      <td>0.005747052</td>\n",
       "    </tr>\n",
       "    <tr>\n",
       "      <th>67990</th>\n",
       "      <td>60.000497</td>\n",
       "      <td>0.0057470384</td>\n",
       "    </tr>\n",
       "  </tbody>\n",
       "</table>\n",
       "<p>67991 rows × 2 columns</p>\n",
       "</div>"
      ],
      "text/plain": [
       "       Training Time          Loss\n",
       "0           3.278871    0.78003645\n",
       "1           3.279741    0.35836554\n",
       "2           3.280364    0.20928521\n",
       "3           3.280844    0.15117382\n",
       "4           3.281446    0.12791964\n",
       "...              ...           ...\n",
       "67986      59.997136  0.0057470915\n",
       "67987      59.997977   0.005747077\n",
       "67988      59.998831   0.005747064\n",
       "67989      59.999664   0.005747052\n",
       "67990      60.000497  0.0057470384\n",
       "\n",
       "[67991 rows x 2 columns]"
      ]
     },
     "execution_count": 14,
     "metadata": {},
     "output_type": "execute_result"
    }
   ],
   "source": [
    "import pandas as pd\n",
    "\n",
    "df = pd.DataFrame({'Training Time': training_ls, 'Loss': loss_ls})\n",
    "#df.to_csv('nonlinear_sgd_%d.csv'%(seed), index=False)\n",
    "df\n",
    "#writer = pd.ExcelWriter('nonlinear_sgd.xlsx', engine='xlsxwriter')\n",
    "#df.to_excel(writer, sheet_name='cma', index=False)\n",
    "#writer.save()"
   ]
  },
  {
   "cell_type": "code",
   "execution_count": 15,
   "metadata": {},
   "outputs": [],
   "source": [
    "hello = PINNs()\n",
    "prediction = hello.apply(params, batch_X)\n",
    "u = prediction[:,0:1]"
   ]
  },
  {
   "cell_type": "code",
   "execution_count": 16,
   "metadata": {},
   "outputs": [
    {
     "data": {
      "image/png": "[encoded data removed]",
      "text/plain": [
       "<Figure size 2000x1000 with 4 Axes>"
      ]
     },
     "metadata": {},
     "output_type": "display_data"
    }
   ],
   "source": [
    "fig = plt.figure(figsize=(20, 10))\n",
    "u_viz = (u.reshape(201, 129)).T \n",
    "ext = [x_l, x_u, 0 ,t_T]     # plot boundary \n",
    "ax1 = fig.add_subplot(2,3,1)\n",
    "mesh =ax1.imshow(u_viz, interpolation='bilinear', origin='lower', cmap='rainbow', extent=ext, aspect=2); \n",
    "plt.colorbar(mesh) \n",
    "plt.xlabel('x'); plt.ylabel('t'); \n",
    "plt.title('PDE-NN Solution (vis=%s)' %(vis), fontsize='x-large'); \n",
    "\n",
    "\n",
    "u_true = (y_train.reshape(201, 129)).T \n",
    "ext = [x_l, x_u, 0 ,t_T]     # plot boundary \n",
    "ax2 = fig.add_subplot(2,3,2)\n",
    "mesh2 = ax2.imshow(u_true, interpolation='bilinear', origin='lower', cmap='rainbow', extent=ext, aspect=2); \n",
    "plt.colorbar(mesh2); \n",
    "plt.xlabel('x'); plt.ylabel('t'); \n",
    "plt.title('Simluated Solution (vis=%s)' %(vis), fontsize='x-large'); \n",
    "# plt.savefig('solutionplot2/(params_size=%s_popn=%s_init_std=%s).png' %(params_size, popn, init_std))\n"
   ]
  },
  {
   "cell_type": "code",
   "execution_count": 17,
   "metadata": {},
   "outputs": [
    {
     "data": {
      "text/plain": [
       "DeviceArray(0.0076465, dtype=float32)"
      ]
     },
     "execution_count": 17,
     "metadata": {},
     "output_type": "execute_result"
    }
   ],
   "source": [
    "np.mean((u_viz - u_true)**2)"
   ]
  },
  {
   "cell_type": "code",
   "execution_count": 18,
   "metadata": {},
   "outputs": [],
   "source": [
    "np.save('nonlinear_sgd_60s', (u_viz, u_true))"
   ]
  },
  {
   "cell_type": "code",
   "execution_count": null,
   "metadata": {},
   "outputs": [],
   "source": []
  }
 ],
 "metadata": {
  "accelerator": "GPU",
  "colab": {
   "authorship_tag": "ABX9TyPxfu7Zqd/1OrGLQRzYWNna",
   "collapsed_sections": [],
   "provenance": []
  },
  "kernelspec": {
   "display_name": "Python 3 (ipykernel)",
   "language": "python",
   "name": "python3"
  },
  "language_info": {
   "codemirror_mode": {
    "name": "ipython",
    "version": 3
   },
   "file_extension": ".py",
   "mimetype": "text/x-python",
   "name": "python",
   "nbconvert_exporter": "python",
   "pygments_lexer": "ipython3",
   "version": "3.8.13"
  }
 },
 "nbformat": 4,
 "nbformat_minor": 1
}
