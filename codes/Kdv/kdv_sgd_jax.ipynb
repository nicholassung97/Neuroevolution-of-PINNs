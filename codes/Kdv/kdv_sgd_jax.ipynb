{
 "cells": [
  {
   "cell_type": "markdown",
   "metadata": {
    "id": "L1utZItgyGsp"
   },
   "source": [
    "Import Libraries"
   ]
  },
  {
   "cell_type": "code",
   "execution_count": 1,
   "metadata": {
    "colab": {
     "base_uri": "https://localhost:8080/"
    },
    "executionInfo": {
     "elapsed": 21742,
     "status": "ok",
     "timestamp": 1665420690043,
     "user": {
      "displayName": "Nicholas Sung",
      "userId": "04413473591799886681"
     },
     "user_tz": -480
    },
    "id": "bhzFIM8b1DaE",
    "outputId": "8c96791a-5a2c-45d9-d0e2-d7e1acf27b4c"
   },
   "outputs": [],
   "source": [
    "# # Install the latest JAXlib version.\n",
    "# !pip install --upgrade -q pip jax jaxlib\n",
    "# # Install Flax at head:\n",
    "# # !pip install --upgrade -q git+https://github.com/google/flax.git\n",
    "# !pip install flax\n",
    "# # !pip install flax==0.5.1\n",
    "# # !pip install evojax\n",
    "# !pip install optax"
   ]
  },
  {
   "cell_type": "code",
   "execution_count": 2,
   "metadata": {
    "executionInfo": {
     "elapsed": 11,
     "status": "ok",
     "timestamp": 1665420690044,
     "user": {
      "displayName": "Nicholas Sung",
      "userId": "04413473591799886681"
     },
     "user_tz": -480
    },
    "id": "H4O49iRI1Z7v"
   },
   "outputs": [],
   "source": [
    "import jax\n",
    "import optax\n",
    "import time\n",
    "import pandas as pd\n",
    "import matplotlib.pyplot as plt\n",
    "import numpy as np\n",
    "from typing import Any, Callable, Sequence, Optional\n",
    "from jax import lax, random, numpy as jnp\n",
    "import flax\n",
    "from flax.core import freeze, unfreeze\n",
    "from flax import linen as nn\n",
    "from jax import random, grad, vmap, hessian, jacfwd, jit\n",
    "from jax.config import config\n",
    "# config.enable_omnistaging() # Linen requires enabling omnistaging\n",
    "# from evojax.util import get_params_format_fn\n",
    "\n",
    "# choose GPU\n",
    "import os\n",
    "os.environ['CUDA_VISIBLE_DEVICES'] = '0'"
   ]
  },
  {
   "cell_type": "markdown",
   "metadata": {
    "id": "qLkoVCRBySO2"
   },
   "source": [
    "Functions"
   ]
  },
  {
   "cell_type": "code",
   "execution_count": 3,
   "metadata": {
    "executionInfo": {
     "elapsed": 523,
     "status": "ok",
     "timestamp": 1665420690562,
     "user": {
      "displayName": "Nicholas Sung",
      "userId": "04413473591799886681"
     },
     "user_tz": -480
    },
    "id": "sSBikTe8Ol3_"
   },
   "outputs": [],
   "source": [
    "def f_ic(x):\n",
    "    return 3*c1*(1 / jnp.cosh(a1*(x-x1)))**2 + 3*c2*(1 / jnp.cosh(a2*(x-x2)))**2\n",
    "def third_deriviative(f):\n",
    "    return jacfwd(jacfwd(jacfwd(f)))"
   ]
  },
  {
   "cell_type": "markdown",
   "metadata": {
    "id": "x0VO_YozyKDg"
   },
   "source": [
    "PINNs Network"
   ]
  },
  {
   "cell_type": "code",
   "execution_count": 4,
   "metadata": {
    "executionInfo": {
     "elapsed": 8,
     "status": "ok",
     "timestamp": 1665420690044,
     "user": {
      "displayName": "Nicholas Sung",
      "userId": "04413473591799886681"
     },
     "user_tz": -480
    },
    "id": "FYOrzZrl1cEe"
   },
   "outputs": [],
   "source": [
    "n_nodes = 8\n",
    "\n",
    "class PINNs(nn.Module):\n",
    "  \"\"\"PINNs\"\"\"\n",
    "  def setup(self):\n",
    "    self.layers = [nn.Dense(n_nodes, kernel_init = jax.nn.initializers.glorot_uniform(), use_bias=False),\n",
    "                   nn.tanh,\n",
    "                   nn.Dense(n_nodes, kernel_init = jax.nn.initializers.glorot_uniform()),\n",
    "                   nn.tanh,\n",
    "                   nn.Dense(n_nodes, kernel_init = jax.nn.initializers.glorot_uniform()),\n",
    "                   nn.tanh,\n",
    "                   nn.Dense(n_nodes, kernel_init = jax.nn.initializers.glorot_uniform()),\n",
    "                   nn.tanh,\n",
    "                   nn.Dense(1, kernel_init = jax.nn.initializers.glorot_uniform(), use_bias=False)]\n",
    "\n",
    "\n",
    "  @nn.compact\n",
    "  def __call__(self, inputs):\n",
    "      # split the two variables, probably just by slicing\n",
    "      x, t = inputs[:,0:1], inputs[:,1:2]\n",
    "      \n",
    "      def get_u(x, t):\n",
    "        u = jnp.hstack([x, t])\n",
    "        for i, lyr in enumerate(self.layers):\n",
    "          u = lyr(u)\n",
    "        return u\n",
    "\n",
    "      u = get_u(x, t)\n",
    "\n",
    "      # obtain u_t\n",
    "      def get_u_t(get_u, x, t):\n",
    "        u_t = jacfwd(get_u, 1)(x, t)\n",
    "        return u_t\n",
    "      u_t_vmap = vmap(get_u_t, in_axes=(None, 0, 0))\n",
    "      u_t = u_t_vmap(get_u, x, t).reshape(-1,1) \n",
    "      #obtain u_x\n",
    "      def get_u_x(get_u, x, t):\n",
    "        u_x = jacfwd(get_u)(x, t)\n",
    "        return u_x\n",
    "      u_x_vmap = vmap(get_u_x, in_axes=(None, 0, 0))\n",
    "      u_x = u_x_vmap(get_u, x, t).reshape(-1,1)  \n",
    "      #obtain u_xx    \n",
    "      def get_u_xx(get_u, x, t):\n",
    "        u_xx = hessian(get_u)(x,t)\n",
    "        return u_xx\n",
    "      u_xx_vmap = vmap(get_u_xx, in_axes=(None, 0, 0))\n",
    "      u_xx = u_xx_vmap(get_u, x, t).reshape(-1,1)\n",
    "      #obtain u_xxx    \n",
    "      def get_u_xxx(get_u, x, t):\n",
    "        u_xxx = third_deriviative(get_u)(x,t)\n",
    "        return u_xxx\n",
    "      u_xxx_vmap = vmap(get_u_xxx, in_axes=(None, 0, 0))\n",
    "      u_xxx = u_xxx_vmap(get_u, x, t).reshape(-1,1)\n",
    "\n",
    "      action = jnp.hstack([u,u_x, u_xx, u_xxx, u_t])   \n",
    "      return action"
   ]
  },
  {
   "cell_type": "code",
   "execution_count": 5,
   "metadata": {
    "executionInfo": {
     "elapsed": 8,
     "status": "ok",
     "timestamp": 1665420690044,
     "user": {
      "displayName": "Nicholas Sung",
      "userId": "04413473591799886681"
     },
     "user_tz": -480
    },
    "id": "vh_R9gdC33oK"
   },
   "outputs": [],
   "source": [
    "model = PINNs()\n",
    "# params = model.init(random.PRNGKey(0), jnp.zeros([2,1]))"
   ]
  },
  {
   "cell_type": "code",
   "execution_count": 6,
   "metadata": {
    "colab": {
     "base_uri": "https://localhost:8080/"
    },
    "executionInfo": {
     "elapsed": 8,
     "status": "ok",
     "timestamp": 1665420690044,
     "user": {
      "displayName": "Nicholas Sung",
      "userId": "04413473591799886681"
     },
     "user_tz": -480
    },
    "id": "iQA5LaAoNsX2",
    "outputId": "fd1cb032-30d9-404b-bbc8-aa12c9c17efd"
   },
   "outputs": [],
   "source": [
    "seed = 0\n",
    "key1, key2 = random.split(random.PRNGKey(seed))\n",
    "a = random.normal(key1, [1,2]) # Dummy input\n",
    "params = model.init(key2, a) # Initialization call\n",
    "# jax.tree_map(lambda a: a.shape, params) # Checking output shapes\n",
    "# model.apply(params, a)\n",
    "# num_params, format_params_fn = get_params_format_fn(params)"
   ]
  },
  {
   "cell_type": "markdown",
   "metadata": {
    "id": "Vq_v-NIvyVCO"
   },
   "source": [
    "Hyper parameters and data "
   ]
  },
  {
   "cell_type": "code",
   "execution_count": 7,
   "metadata": {
    "executionInfo": {
     "elapsed": 5,
     "status": "ok",
     "timestamp": 1665420690562,
     "user": {
      "displayName": "Nicholas Sung",
      "userId": "04413473591799886681"
     },
     "user_tz": -480
    },
    "id": "6UfQH3XzPZTE"
   },
   "outputs": [],
   "source": [
    "v1 = 1\n",
    "v2 = 0.001\n",
    "# initial condition\n",
    "c1, c2, x1, x2 = 0.3, 0.1, 0.4, 0.8\n",
    "a1, a2 = 0.5*jnp.sqrt(c1/v2), 0.5*jnp.sqrt(c2/v2)\n",
    "\n",
    "# spatial domain\n",
    "x_l, x_u = 0., 1.5\n",
    "\n",
    "# time domain: 0 - t_T\n",
    "t_T = 2.0 \n",
    "\n",
    "# fitness evaluation time\n",
    "t_fitness = 0 "
   ]
  },
  {
   "cell_type": "code",
   "execution_count": 8,
   "metadata": {
    "executionInfo": {
     "elapsed": 4,
     "status": "ok",
     "timestamp": 1665420690562,
     "user": {
      "displayName": "Nicholas Sung",
      "userId": "04413473591799886681"
     },
     "user_tz": -480
    },
    "id": "HtsEUoRsPaOc"
   },
   "outputs": [],
   "source": [
    "sim = pd.read_csv('kdv.csv')\n",
    "# sim = pd.read_csv('/home/sungnwy/kdv plot/kdv.csv')\n",
    "sim['x'], sim['t'] = sim['x'], sim['t']\n",
    "x_train = np.vstack([sim.x.values, sim.t.values]).T\n",
    "y_train = sim[['u']].values\n",
    "\n",
    "x = x_train[:,0:1].reshape(-1)\n",
    "t = x_train[:,1:2].reshape(-1)\n",
    "_train1 = np.argwhere(x <= 1.5)\n",
    "x_train1 = x[_train1].reshape(-1)\n",
    "t_train1 = t[_train1].reshape(-1)\n",
    "y_train1 = y_train[_train1].reshape(-1)\n",
    "_train2 = np.argwhere(x_train1 >= 0.0)\n",
    "x_train2 = x_train1[_train2].reshape(-1,1)\n",
    "t_train2 = t_train1[_train2].reshape(-1,1)\n",
    "y_train2 = y_train1[_train2].reshape(-1,1)\n",
    "batch_X = jnp.hstack([x_train2, t_train2])\n",
    "batch_y = y_train2"
   ]
  },
  {
   "cell_type": "markdown",
   "metadata": {
    "id": "UHOgwyobyb02"
   },
   "source": [
    "Loss Function"
   ]
  },
  {
   "cell_type": "code",
   "execution_count": 9,
   "metadata": {
    "executionInfo": {
     "elapsed": 4,
     "status": "ok",
     "timestamp": 1665420690562,
     "user": {
      "displayName": "Nicholas Sung",
      "userId": "04413473591799886681"
     },
     "user_tz": -480
    },
    "id": "4e0j2QhFPPEF"
   },
   "outputs": [],
   "source": [
    "def make_mse_func(input):\n",
    "  def mse(params):\n",
    "    # Define the squared loss for a single pair (x,y)\n",
    "    def squared_error(input):\n",
    "        # [u,u_x, u_xx, u_xxx, u_t]\n",
    "        x = input[:,0:1].reshape(-1,1)\n",
    "        t = input[:,1:2].reshape(-1,1)\n",
    "        prediction = model.apply(params, input)\n",
    "        u, u_x, u_xx, u_xxx, u_t = prediction[:,0:1], prediction[:,1:2], prediction[:,2:3], prediction[:,3:4], prediction[:,4:5]\n",
    "        # ground truth\n",
    "        t_u = f_ic(x) \n",
    "        _ic = jnp.where((jnp.equal(t, 0)), 1, 0)\n",
    "        ic_mse = jnp.sum(jnp.square((t_u-u)*_ic))/jnp.sum(_ic)\n",
    "        # PDE (physics laws): u_t + v1*u*u_x + v2*u_xxx = 0   \n",
    "        pde = u_t + v1*u*u_x + v2*u_xxx\n",
    "\n",
    "\n",
    "        # exclude BC points\n",
    "        _pde = jnp.where((jnp.equal(t, 0)), 0, 1)\n",
    "        pde = pde*_pde\n",
    "        pde_mse = jnp.sum(jnp.square(pde))/jnp.sum(_pde)\n",
    "        pde_mse = pde_mse \n",
    "        loss = pde_mse + ic_mse\n",
    "        return loss\n",
    "    return squared_error(input)\n",
    "  return jax.jit(mse) # And finally we jit the result.\n",
    "\n",
    "# Get the sampled loss\n",
    "loss = make_mse_func(batch_X)"
   ]
  },
  {
   "cell_type": "markdown",
   "metadata": {
    "id": "DX_6EF54yl4C"
   },
   "source": [
    "Weights Update"
   ]
  },
  {
   "cell_type": "code",
   "execution_count": 10,
   "metadata": {
    "executionInfo": {
     "elapsed": 3,
     "status": "ok",
     "timestamp": 1665420690562,
     "user": {
      "displayName": "Nicholas Sung",
      "userId": "04413473591799886681"
     },
     "user_tz": -480
    },
    "id": "LxrVM13VVM6i"
   },
   "outputs": [],
   "source": [
    "def update(params, opt_state):\n",
    "    start = time.time()  \n",
    "    loss_value, grad = jax.value_and_grad(loss)(params)\n",
    "    end = time.time()\n",
    "    global t_fitness\n",
    "    t_fitness = t_fitness + (end-start)\n",
    "    updates, opt_state = optimizer.update(grad, opt_state)\n",
    "    params = optax.apply_updates(params, updates)\n",
    "    return params, opt_state, loss_value\n",
    "update = jit(update)"
   ]
  },
  {
   "cell_type": "markdown",
   "metadata": {
    "id": "EzT-X2KRyeW0"
   },
   "source": [
    "Optimizer"
   ]
  },
  {
   "cell_type": "code",
   "execution_count": 11,
   "metadata": {
    "executionInfo": {
     "elapsed": 3,
     "status": "ok",
     "timestamp": 1665420690562,
     "user": {
      "displayName": "Nicholas Sung",
      "userId": "04413473591799886681"
     },
     "user_tz": -480
    },
    "id": "RW1pnAmenHGG"
   },
   "outputs": [],
   "source": [
    "alpha = 0.1\n",
    "# optimizer = optax.adam(learning_rate=alpha) # Choose the method\n",
    "optimizer = optax.sgd(learning_rate=alpha)\n",
    "opt_state = optimizer.init(params)\n",
    "loss_grad_fn = jax.value_and_grad(loss)"
   ]
  },
  {
   "cell_type": "markdown",
   "metadata": {
    "id": "GSe-AJVayouG"
   },
   "source": [
    "Training "
   ]
  },
  {
   "cell_type": "code",
   "execution_count": 12,
   "metadata": {
    "colab": {
     "base_uri": "https://localhost:8080/"
    },
    "executionInfo": {
     "elapsed": 4541,
     "status": "ok",
     "timestamp": 1665420695100,
     "user": {
      "displayName": "Nicholas Sung",
      "userId": "04413473591799886681"
     },
     "user_tz": -480
    },
    "id": "i5ZOx3jIv5gH",
    "outputId": "d5453e6d-646d-4031-fb8c-5cb070be3ec8"
   },
   "outputs": [],
   "source": [
    "max_iters = 110000\n",
    "loss_ls = []\n",
    "t_training = []\n",
    "runtime = 0\n",
    "train_iters = 0\n",
    "while (train_iters < max_iters) and (runtime < 60):\n",
    "    start = time.process_time()\n",
    "    params, opt_state, loss_value = update(params, opt_state)\n",
    "    end = time.process_time()\n",
    "    t_training.append(end-start)\n",
    "    loss_ls.append(loss_value)\n",
    "    # update\n",
    "    runtime += (end-start)\n",
    "    train_iters += 1    "
   ]
  },
  {
   "cell_type": "markdown",
   "metadata": {
    "id": "ejIX3QMayuyr"
   },
   "source": [
    "Loss Plot"
   ]
  },
  {
   "cell_type": "code",
   "execution_count": 13,
   "metadata": {
    "colab": {
     "base_uri": "https://localhost:8080/",
     "height": 281
    },
    "executionInfo": {
     "elapsed": 14,
     "status": "ok",
     "timestamp": 1665420695101,
     "user": {
      "displayName": "Nicholas Sung",
      "userId": "04413473591799886681"
     },
     "user_tz": -480
    },
    "id": "RZNuau43xMwJ",
    "outputId": "d41950ac-6d1e-46c2-98d6-67fe6ab0cedb"
   },
   "outputs": [
    {
     "data": {
      "image/png": "[encoded data removed]",
      "text/plain": [
       "<Figure size 640x480 with 1 Axes>"
      ]
     },
     "metadata": {},
     "output_type": "display_data"
    }
   ],
   "source": [
    "import numpy as np\n",
    "training_ls = np.cumsum(t_training)\n",
    "\n",
    "plt.plot(training_ls, loss_ls); plt.yscale('log');\n",
    "# plt.xlim(800,1000)\n",
    "# plt.ylim(-1e6,0)\n",
    "plt.title('Fitness against Iterations')\n",
    "plt.show()"
   ]
  },
  {
   "cell_type": "code",
   "execution_count": 14,
   "metadata": {},
   "outputs": [
    {
     "data": {
      "text/html": [
       "<div>\n",
       "<style scoped>\n",
       "    .dataframe tbody tr th:only-of-type {\n",
       "        vertical-align: middle;\n",
       "    }\n",
       "\n",
       "    .dataframe tbody tr th {\n",
       "        vertical-align: top;\n",
       "    }\n",
       "\n",
       "    .dataframe thead th {\n",
       "        text-align: right;\n",
       "    }\n",
       "</style>\n",
       "<table border=\"1\" class=\"dataframe\">\n",
       "  <thead>\n",
       "    <tr style=\"text-align: right;\">\n",
       "      <th></th>\n",
       "      <th>Training Time</th>\n",
       "      <th>Loss</th>\n",
       "    </tr>\n",
       "  </thead>\n",
       "  <tbody>\n",
       "    <tr>\n",
       "      <th>0</th>\n",
       "      <td>6.070663</td>\n",
       "      <td>0.15085573</td>\n",
       "    </tr>\n",
       "    <tr>\n",
       "      <th>1</th>\n",
       "      <td>6.071895</td>\n",
       "      <td>0.06357819</td>\n",
       "    </tr>\n",
       "    <tr>\n",
       "      <th>2</th>\n",
       "      <td>6.072706</td>\n",
       "      <td>0.060579788</td>\n",
       "    </tr>\n",
       "    <tr>\n",
       "      <th>3</th>\n",
       "      <td>6.073646</td>\n",
       "      <td>0.05987703</td>\n",
       "    </tr>\n",
       "    <tr>\n",
       "      <th>4</th>\n",
       "      <td>6.074428</td>\n",
       "      <td>0.059422076</td>\n",
       "    </tr>\n",
       "    <tr>\n",
       "      <th>...</th>\n",
       "      <td>...</td>\n",
       "      <td>...</td>\n",
       "    </tr>\n",
       "    <tr>\n",
       "      <th>32210</th>\n",
       "      <td>59.994530</td>\n",
       "      <td>0.0011928906</td>\n",
       "    </tr>\n",
       "    <tr>\n",
       "      <th>32211</th>\n",
       "      <td>59.996236</td>\n",
       "      <td>0.0011839222</td>\n",
       "    </tr>\n",
       "    <tr>\n",
       "      <th>32212</th>\n",
       "      <td>59.997903</td>\n",
       "      <td>0.0011928068</td>\n",
       "    </tr>\n",
       "    <tr>\n",
       "      <th>32213</th>\n",
       "      <td>59.999434</td>\n",
       "      <td>0.0011838371</td>\n",
       "    </tr>\n",
       "    <tr>\n",
       "      <th>32214</th>\n",
       "      <td>60.001165</td>\n",
       "      <td>0.0011927212</td>\n",
       "    </tr>\n",
       "  </tbody>\n",
       "</table>\n",
       "<p>32215 rows × 2 columns</p>\n",
       "</div>"
      ],
      "text/plain": [
       "       Training Time          Loss\n",
       "0           6.070663    0.15085573\n",
       "1           6.071895    0.06357819\n",
       "2           6.072706   0.060579788\n",
       "3           6.073646    0.05987703\n",
       "4           6.074428   0.059422076\n",
       "...              ...           ...\n",
       "32210      59.994530  0.0011928906\n",
       "32211      59.996236  0.0011839222\n",
       "32212      59.997903  0.0011928068\n",
       "32213      59.999434  0.0011838371\n",
       "32214      60.001165  0.0011927212\n",
       "\n",
       "[32215 rows x 2 columns]"
      ]
     },
     "execution_count": 14,
     "metadata": {},
     "output_type": "execute_result"
    }
   ],
   "source": [
    "import pandas as pd\n",
    "\n",
    "df = pd.DataFrame({'Training Time': training_ls, 'Loss': loss_ls})\n",
    "#df.to_csv('kdv_sgd_%d.csv'%(seed), index=False)\n",
    "df"
   ]
  },
  {
   "cell_type": "markdown",
   "metadata": {
    "id": "8-58zjeVy4VW"
   },
   "source": [
    "Prediction vs Actual Plot"
   ]
  },
  {
   "cell_type": "code",
   "execution_count": 15,
   "metadata": {
    "executionInfo": {
     "elapsed": 12,
     "status": "ok",
     "timestamp": 1665420695103,
     "user": {
      "displayName": "Nicholas Sung",
      "userId": "04413473591799886681"
     },
     "user_tz": -480
    },
    "id": "E_3HIMesxfDl"
   },
   "outputs": [],
   "source": [
    "hello = PINNs()\n",
    "prediction = hello.apply(params, batch_X)\n",
    "u, u_x, u_xx, u_xxx, u_t = prediction[:,0:1], prediction[:,1:2], prediction[:,2:3], prediction[:,3:4], prediction[:,4:5]"
   ]
  },
  {
   "cell_type": "code",
   "execution_count": 16,
   "metadata": {
    "colab": {
     "base_uri": "https://localhost:8080/",
     "height": 281
    },
    "executionInfo": {
     "elapsed": 12,
     "status": "ok",
     "timestamp": 1665420695103,
     "user": {
      "displayName": "Nicholas Sung",
      "userId": "04413473591799886681"
     },
     "user_tz": -480
    },
    "id": "XVkSP5VGxrpa",
    "outputId": "ed59b7dc-9410-4a73-f395-a42cb43651f1"
   },
   "outputs": [
    {
     "data": {
      "image/png": "[encoded data removed]",
      "text/plain": [
       "<Figure size 2000x1000 with 4 Axes>"
      ]
     },
     "metadata": {},
     "output_type": "display_data"
    }
   ],
   "source": [
    "fig = plt.figure(figsize=(20, 10))\n",
    "u_viz = (u.reshape(201, 77)).T \n",
    "ext = [x_l, x_u, 0 ,t_T]    # plot boundary \n",
    "ax1 = fig.add_subplot(2,3,1)\n",
    "mesh =ax1.imshow(u_viz, interpolation='bilinear', origin='lower', cmap='rainbow', extent=ext, aspect=.55); \n",
    "plt.colorbar(mesh) \n",
    "plt.xlabel('x'); plt.ylabel('t'); \n",
    "plt.title('PDE-NN Solution (v2=%s)' %(v2), fontsize='x-large'); \n",
    "\n",
    "\n",
    "u_true = (batch_y.reshape(201, 77)).T\n",
    "\n",
    "ax2 = fig.add_subplot(2,3,2)\n",
    "mesh2 = ax2.imshow(u_true, interpolation='bilinear', origin='lower', cmap='rainbow', extent=ext, aspect=.55); \n",
    "plt.colorbar(mesh2); \n",
    "plt.xlabel('x'); plt.ylabel('t'); \n",
    "plt.title('Simluated Solution (v2=%s)' %(v2), fontsize='x-large'); "
   ]
  },
  {
   "cell_type": "code",
   "execution_count": 17,
   "metadata": {},
   "outputs": [
    {
     "data": {
      "text/plain": [
       "DeviceArray(0.00337094, dtype=float32)"
      ]
     },
     "execution_count": 17,
     "metadata": {},
     "output_type": "execute_result"
    }
   ],
   "source": [
    "np.mean((u_viz - u_true)**2)"
   ]
  },
  {
   "cell_type": "code",
   "execution_count": null,
   "metadata": {},
   "outputs": [],
   "source": []
  }
 ],
 "metadata": {
  "accelerator": "GPU",
  "colab": {
   "authorship_tag": "ABX9TyPxfu7Zqd/1OrGLQRzYWNna",
   "collapsed_sections": [],
   "provenance": []
  },
  "kernelspec": {
   "display_name": "Python 3 (ipykernel)",
   "language": "python",
   "name": "python3"
  },
  "language_info": {
   "codemirror_mode": {
    "name": "ipython",
    "version": 3
   },
   "file_extension": ".py",
   "mimetype": "text/x-python",
   "name": "python",
   "nbconvert_exporter": "python",
   "pygments_lexer": "ipython3",
   "version": "3.8.13"
  }
 },
 "nbformat": 4,
 "nbformat_minor": 1
}
