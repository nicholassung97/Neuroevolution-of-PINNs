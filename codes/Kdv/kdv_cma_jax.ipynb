{
 "cells": [
  {
   "cell_type": "markdown",
   "metadata": {
    "id": "6AU-ByWBYWMU"
   },
   "source": [
    "# Import Libraries"
   ]
  },
  {
   "cell_type": "code",
   "execution_count": 1,
   "metadata": {
    "colab": {
     "base_uri": "https://localhost:8080/"
    },
    "executionInfo": {
     "elapsed": 17477,
     "status": "ok",
     "timestamp": 1665300418373,
     "user": {
      "displayName": "Nicholas Sung",
      "userId": "04413473591799886681"
     },
     "user_tz": -480
    },
    "id": "EosvoMefq-H4",
    "outputId": "b1ad52a4-1996-4ba1-c199-87de476fd514"
   },
   "outputs": [],
   "source": [
    "# !pip install evojax\n",
    "# !pip install flax\n",
    "# !pip install evosax\n",
    "# !pip install pyDOE"
   ]
  },
  {
   "cell_type": "code",
   "execution_count": 2,
   "metadata": {
    "id": "6tcbWZllrCN2"
   },
   "outputs": [],
   "source": [
    "import os\n",
    "import numpy as np\n",
    "import jax\n",
    "import shutil\n",
    "import jax.numpy as jnp\n",
    "import logging\n",
    "import time\n",
    "import matplotlib.pyplot as plt\n",
    "import pandas as pd\n",
    "from jax import random, grad, vmap, hessian, jacfwd\n",
    "from evojax import Trainer\n",
    "from evojax.task.base import TaskState\n",
    "from evojax.task.base import VectorizedTask\n",
    "from evojax.policy.base import PolicyNetwork\n",
    "from evojax.policy.base import PolicyState\n",
    "from evojax.util import create_logger\n",
    "from evojax.util import get_params_format_fn\n",
    "from flax.struct import dataclass\n",
    "from typing import Tuple\n",
    "from flax import linen as nn\n",
    "from jax.nn.initializers import xavier_uniform\n",
    "from evojax.sim_mgr import SimManager\n",
    "from flax.core.frozen_dict import unfreeze, freeze\n",
    "# from pyDOE import lhs\n",
    "\n",
    "# choose GPU\n",
    "import os\n",
    "os.environ['CUDA_VISIBLE_DEVICES'] = '1'"
   ]
  },
  {
   "cell_type": "code",
   "execution_count": 3,
   "metadata": {
    "colab": {
     "base_uri": "https://localhost:8080/"
    },
    "executionInfo": {
     "elapsed": 2960,
     "status": "ok",
     "timestamp": 1665300422486,
     "user": {
      "displayName": "Nicholas Sung",
      "userId": "04413473591799886681"
     },
     "user_tz": -480
    },
    "id": "rub6-FtsrL2k",
    "outputId": "e266216b-19d0-43b2-fad9-a7a33134681a"
   },
   "outputs": [],
   "source": [
    "# from google.colab import drive\n",
    "# drive.mount('/content/drive')"
   ]
  },
  {
   "cell_type": "markdown",
   "metadata": {
    "id": "2sBP7OlwYaPv"
   },
   "source": [
    "# Directory to save logs and models"
   ]
  },
  {
   "cell_type": "code",
   "execution_count": 4,
   "metadata": {
    "colab": {
     "base_uri": "https://localhost:8080/"
    },
    "executionInfo": {
     "elapsed": 11,
     "status": "ok",
     "timestamp": 1665300422486,
     "user": {
      "displayName": "Nicholas Sung",
      "userId": "04413473591799886681"
     },
     "user_tz": -480
    },
    "id": "uBR-gZI1rFk2",
    "outputId": "087285b1-fb3f-4684-e08c-1bae2ddf0814"
   },
   "outputs": [
    {
     "name": "stdout",
     "output_type": "stream",
     "text": [
      "NVIDIA GeForce RTX 3090\r\n",
      "NVIDIA GeForce RTX 3090\r\n"
     ]
    }
   ],
   "source": [
    "# Let's create a directory to save logs and models.\n",
    "log_dir = 'loggerfiles'\n",
    "logger = create_logger(name='EvoJAX', log_dir=log_dir)\n",
    "logger.info('EvoJax for PINNs')\n",
    "\n",
    "logger.info('Jax backend: {}'.format(jax.local_devices()))\n",
    "#GPU count and name\n",
    "!nvidia-smi --query-gpu=name --format=csv,noheader"
   ]
  },
  {
   "cell_type": "markdown",
   "metadata": {
    "id": "egYFbMFLYnLj"
   },
   "source": [
    "# Functions"
   ]
  },
  {
   "cell_type": "code",
   "execution_count": 5,
   "metadata": {
    "id": "OG1c_7A-KzsL"
   },
   "outputs": [],
   "source": [
    "@dataclass\n",
    "# Contains the train input and its labels\n",
    "class State(TaskState):\n",
    "    obs: jnp.ndarray\n",
    "    labels: jnp.ndarray\n",
    "# function to generate analytical solution of IC\n",
    "def f_ic(x):\n",
    "    return 3*c1*(1 / jnp.cosh(a1*(x-x1)))**2 + 3*c2*(1 / jnp.cosh(a2*(x-x2)))**2\n",
    "def third_deriviative(f):\n",
    "    return jacfwd(jacfwd(jacfwd(f)))\n"
   ]
  },
  {
   "cell_type": "code",
   "execution_count": 6,
   "metadata": {
    "id": "SxdiqoTa6Ms8"
   },
   "outputs": [],
   "source": [
    "v1 = 1\n",
    "v2 = 0.001\n",
    "# initial condition\n",
    "c1, c2, x1, x2 = 0.3, 0.1, 0.4, 0.8\n",
    "a1, a2 = 0.5*np.sqrt(c1/v2), 0.5*np.sqrt(c2/v2)\n",
    "\n",
    "# spatial domain\n",
    "x_l, x_u = 0., 1.5\n",
    "\n",
    "# time domain: 0 - t_T\n",
    "t_T = 2.0    "
   ]
  },
  {
   "cell_type": "code",
   "execution_count": 7,
   "metadata": {
    "id": "BXC3qYiSnYMD"
   },
   "outputs": [
    {
     "data": {
      "image/png": "[encoded data removed]",
      "text/plain": [
       "<Figure size 640x480 with 1 Axes>"
      ]
     },
     "metadata": {},
     "output_type": "display_data"
    },
    {
     "data": {
      "text/plain": [
       "(15477, 1)"
      ]
     },
     "execution_count": 7,
     "metadata": {},
     "output_type": "execute_result"
    }
   ],
   "source": [
    "sim = pd.read_csv('kdv.csv')\n",
    "# sim = pd.read_csv('/home/sungnwy/kdv plot/kdv.csv')\n",
    "sim['x'], sim['t'] = sim['x'], sim['t']\n",
    "x_train = np.vstack([sim.x.values, sim.t.values]).T\n",
    "y_train = sim[['u']].values\n",
    "x = x_train[:,0:1].reshape(-1)\n",
    "t = x_train[:,1:2].reshape(-1)\n",
    "_train1 = np.argwhere(x <= 1.5)\n",
    "x_train1 = x[_train1].reshape(-1)\n",
    "t_train1 = t[_train1].reshape(-1)\n",
    "y_train1 = y_train[_train1].reshape(-1)\n",
    "_train2 = np.argwhere(x_train1 >= 0.0)\n",
    "x_train2 = x_train1[_train2].reshape(-1,1)\n",
    "t_train2 = t_train1[_train2].reshape(-1,1)\n",
    "y_train2 = y_train1[_train2].reshape(-1,1)\n",
    "batch_X = jnp.hstack([x_train2, t_train2])\n",
    "batch_y = y_train2\n",
    "x = batch_X[:,0:1].reshape(-1,1)\n",
    "t = batch_X[:,1:2].reshape(-1,1)\n",
    "_ic = np.argwhere(t == 0)\n",
    "x_plot = x[_ic].reshape(-1)\n",
    "u_true_plot = f_ic(x_plot) \n",
    "u_simu_plot = batch_y[_ic].reshape(-1)\n",
    "plt.plot(x_plot, u_true_plot, '+r')\n",
    "plt.plot(x_plot, u_simu_plot, '_b')\n",
    "plt.legend(['true', 'formula'])\n",
    "# plt.xlim(800,1000)\n",
    "# plt.ylim(-1e6,0)\n",
    "plt.title('At initial condition')\n",
    "plt.show()\n",
    "x.shape"
   ]
  },
  {
   "cell_type": "code",
   "execution_count": 8,
   "metadata": {
    "id": "Eo560U81RUrW"
   },
   "outputs": [],
   "source": [
    "\n",
    "# Loss Function will be used as the fitness  (f=-L)\n",
    "def loss(prediction, input):\n",
    "  # essentially the new prediction here\n",
    "    # [u,u_x, u_xx, u_xxx, u_t]\n",
    "    x = input[:,0:1].reshape(-1,1)\n",
    "    t = input[:,1:2].reshape(-1,1)\n",
    "    u, u_x, u_xx, u_xxx, u_t = prediction[:,0:1], prediction[:,1:2], prediction[:,2:3], prediction[:,3:4], prediction[:,4:5]\n",
    "    # ground truth\n",
    "    t_u = f_ic(x) \n",
    "    _ic = jnp.where((jnp.equal(t, 0)), 1, 0)\n",
    "    ic_mse = jnp.sum(jnp.square((t_u-u)*_ic))/jnp.sum(_ic)\n",
    "    # PDE (physics laws): u_t + v1*u*u_x + v2*u_xxx = 0   \n",
    "    pde = u_t + v1*u*u_x + v2*u_xxx\n",
    "\n",
    "\n",
    "    # exclude BC points\n",
    "    _pde = jnp.where((jnp.equal(t, 0)), 0, 1)\n",
    "    pde = pde*_pde\n",
    "    pde_mse = jnp.sum(jnp.square(pde))/jnp.sum(_pde)\n",
    "    pde_mse = pde_mse \n",
    "    loss = pde_mse + ic_mse\n",
    "    return loss\n",
    "\n",
    "\n",
    "# In[10]:\n",
    "\n",
    "\n",
    "# Accuracy should not be used in this case, change to mean square error\n",
    "def mse(prediction, target):\n",
    "    u = prediction[:,0:1]\n",
    "    \n",
    "    mean_square_error = jnp.mean(jnp.square(u-target)) \n",
    "    return mean_square_error"
   ]
  },
  {
   "cell_type": "markdown",
   "metadata": {
    "id": "f_lSEQGfYTX1"
   },
   "source": [
    "# Task"
   ]
  },
  {
   "cell_type": "code",
   "execution_count": 9,
   "metadata": {
    "id": "Qc6Bu5KKFx3G"
   },
   "outputs": [],
   "source": [
    "class kdv(VectorizedTask):\n",
    "    \"\"\"PDE-NN for 1D convection-kdv equation.\n",
    "    We model the regression as a one-step task, i.e., \n",
    "    `kdv.reset` returns a batch of data to the agent, the agent outputs\n",
    "    predictions, `kdv.step` returns the reward loss) and\n",
    "    terminates the rollout.\n",
    "    \"\"\"\n",
    "\n",
    "    def __init__(self, batch_size, test):\n",
    "\n",
    "        self.max_steps = 1\n",
    "\n",
    "        # These are similar to OpenAI Gym environment's\n",
    "        # observation_space and action_space.\n",
    "        # They are helpful for initializing the policy networks.\n",
    "        # Input shape is 2\n",
    "        self.obs_shape = tuple([2, ])\n",
    "        # Output shape is 1\n",
    "        self.act_shape = tuple([1, ])\n",
    "\n",
    "\n",
    "        # x = jnp.linspace(x_l, x_u, n)\n",
    "        # PDE Data\n",
    "        data_pde = batch_X\n",
    "        labels_pde = batch_y\n",
    "        # samples, features = data_pde.shape\n",
    "        # \n",
    "        # _pde = np.reshape(eval_u(x, Pe, L),(-1, 1))\n",
    "        # # BC data\n",
    "        # bc = jnp.where((data_pde[:,0] == x_l) | (data_pde[:,0] == x_u))[0]\n",
    "        # data_bc = jnp.take(data_pde, indices=bc, axis=0)\n",
    "        # labels_bc = jnp.take(labels_pde, indices=bc, axis=0)\n",
    "\n",
    "        def reset_fn(key):\n",
    "            batch_data, batch_labels = data_pde, labels_pde\n",
    "            # if test:\n",
    "            #     # In the test mode, we want to test on the entire test set.\n",
    "            #     batch_data, batch_labels = data_pde, labels_pde\n",
    "            # else:\n",
    "            #     # In the training mode, we only sample a batch of training data.\n",
    "            #     batch_data, batch_labels = sample_batch(\n",
    "            #         key, data_pde, labels_pde, data_bc, labels_bc, batch_size)\n",
    "            return State(obs=batch_data, labels=batch_labels)\n",
    "        \n",
    "        # We use jax.vmap for auto-vectorization.\n",
    "        self._reset_fn = jax.jit(jax.vmap(reset_fn))\n",
    "        \n",
    "        # step_fn needs to be changed\n",
    "        def step_fn(state, action):\n",
    "            if test:\n",
    "                # In the test mode, we report the mean square error\n",
    "                \"change to training loss\"\n",
    "                # reward = loss(action, state.obs, state.labels)\n",
    "                reward = mse(action, state.labels)\n",
    "            else:\n",
    "                reward = -loss(action, state.obs)       \n",
    "            return state, reward, jnp.ones(())\n",
    "\n",
    "        # We use jax.vmap for auto-vectorization.\n",
    "        self._step_fn = jax.jit(jax.vmap(step_fn))\n",
    "    # Returns a batch of data to the agent, the agent outputs predictions\n",
    "    def reset(self, key):\n",
    "        return self._reset_fn(key)\n",
    "    # Returns the fitness loss\n",
    "    def step(self, state, action):\n",
    "        return self._step_fn(state, action)"
   ]
  },
  {
   "cell_type": "code",
   "execution_count": 10,
   "metadata": {
    "id": "uF5Ma-JcsMER"
   },
   "outputs": [],
   "source": [
    "seed = 1\n",
    "batch_size = 498\n",
    "train_task = kdv(batch_size=batch_size, test=False)\n",
    "test_task = kdv(batch_size=batch_size, test=True)"
   ]
  },
  {
   "cell_type": "markdown",
   "metadata": {
    "id": "hp-SQ0LCYRZy"
   },
   "source": [
    "# Policy"
   ]
  },
  {
   "cell_type": "code",
   "execution_count": 11,
   "metadata": {
    "id": "flD1EjBmVSFs"
   },
   "outputs": [],
   "source": [
    "node = 8\n",
    "class PINNs(nn.Module):\n",
    "  \"\"\"PINNs\"\"\"\n",
    "  def setup(self):\n",
    "    self.layers = [nn.Dense(node, kernel_init = jax.nn.initializers.glorot_uniform(), use_bias=False),\n",
    "                   nn.tanh,\n",
    "                   nn.Dense(node, kernel_init = jax.nn.initializers.glorot_uniform()),\n",
    "                   nn.tanh,\n",
    "                   nn.Dense(node, kernel_init = jax.nn.initializers.glorot_uniform()),\n",
    "                   nn.tanh,\n",
    "                   nn.Dense(node, kernel_init = jax.nn.initializers.glorot_uniform()),\n",
    "                   nn.tanh,\n",
    "                   nn.Dense(1, kernel_init = jax.nn.initializers.glorot_uniform(), use_bias=False)]\n",
    "\n",
    "\n",
    "  @nn.compact\n",
    "  def __call__(self, inputs):\n",
    "      # split the two variables, probably just by slicing\n",
    "      x, t = inputs[:,0:1], inputs[:,1:2]\n",
    "      \n",
    "      def get_u(x, t):\n",
    "        u = jnp.hstack([x, t])\n",
    "        for i, lyr in enumerate(self.layers):\n",
    "          u = lyr(u)\n",
    "        return u\n",
    "\n",
    "      u = get_u(x, t)\n",
    "\n",
    "      # obtain u_t\n",
    "      def get_u_t(get_u, x, t):\n",
    "        u_t = jacfwd(get_u, 1)(x, t)\n",
    "        return u_t\n",
    "      u_t_vmap = vmap(get_u_t, in_axes=(None, 0, 0))\n",
    "      u_t = u_t_vmap(get_u, x, t).reshape(-1,1) \n",
    "      #obtain u_x\n",
    "      def get_u_x(get_u, x, t):\n",
    "        u_x = jacfwd(get_u)(x, t)\n",
    "        return u_x\n",
    "      u_x_vmap = vmap(get_u_x, in_axes=(None, 0, 0))\n",
    "      u_x = u_x_vmap(get_u, x, t).reshape(-1,1)  \n",
    "      #obtain u_xx    \n",
    "      def get_u_xx(get_u, x, t):\n",
    "        u_xx = hessian(get_u)(x,t)\n",
    "        return u_xx\n",
    "      u_xx_vmap = vmap(get_u_xx, in_axes=(None, 0, 0))\n",
    "      u_xx = u_xx_vmap(get_u, x, t).reshape(-1,1)\n",
    "      #obtain u_xxx    \n",
    "      def get_u_xxx(get_u, x, t):\n",
    "        u_xxx = third_deriviative(get_u)(x,t)\n",
    "        return u_xxx\n",
    "      u_xxx_vmap = vmap(get_u_xxx, in_axes=(None, 0, 0))\n",
    "      u_xxx = u_xxx_vmap(get_u, x, t).reshape(-1,1)\n",
    "\n",
    "      action = jnp.hstack([u,u_x, u_xx, u_xxx, u_t])   \n",
    "      return action"
   ]
  },
  {
   "cell_type": "code",
   "execution_count": 12,
   "metadata": {
    "id": "yuuYczkEfaaO"
   },
   "outputs": [],
   "source": [
    "class PINNsPolicy(PolicyNetwork):\n",
    "    \"\"\"A physics informmed neural neural network for the kdv task.\"\"\"\n",
    "\n",
    "    def __init__(self, logger: logging.Logger = None):\n",
    "        if logger is None:\n",
    "            self._logger = create_logger('PINNsPolicy')\n",
    "        else:\n",
    "            self._logger = logger\n",
    "\n",
    "        model = PINNs()\n",
    "        key1, key2 = random.split(random.PRNGKey(seed))\n",
    "        a = random.normal(key1, [1,2]) # Dummy input\n",
    "        params = model.init(key2, a) # Initialization call\n",
    "        \"\"\"Return a function that formats the parameters into a correct format.\"\"\"\n",
    "        self.num_params, format_params_fn = get_params_format_fn(params)\n",
    "        self._logger.info(\n",
    "            'PINNsPolicy.num_params = {}'.format(self.num_params))\n",
    "        self._format_params_fn = jax.vmap(format_params_fn)\n",
    "        self._forward_fn = jax.vmap(model.apply)\n",
    "\n",
    "    def get_actions(self,\n",
    "                    t_states: TaskState,\n",
    "                    params: jnp.ndarray,\n",
    "                    p_states: PolicyState) -> Tuple[jnp.ndarray, PolicyState]:\n",
    "        params = self._format_params_fn(params)\n",
    "        return self._forward_fn(params, t_states.obs), p_states\n",
    "policy = PINNsPolicy(logger=logger)"
   ]
  },
  {
   "cell_type": "markdown",
   "metadata": {
    "id": "OuOi44EdOdgb"
   },
   "source": [
    "# Solvers"
   ]
  },
  {
   "cell_type": "markdown",
   "metadata": {
    "id": "oMILwybsH3E8"
   },
   "source": [
    "CMA-ES Jax Solver"
   ]
  },
  {
   "cell_type": "code",
   "execution_count": 13,
   "metadata": {
    "id": "uMp3OmUwH533"
   },
   "outputs": [],
   "source": [
    "from evojax.algo import CMA_ES_JAX\n",
    "popn = 50\n",
    "\n",
    "solver = CMA_ES_JAX(\n",
    "                pop_size=popn,\n",
    "                param_size=policy.num_params,\n",
    "                init_stdev=0.05,\n",
    "                seed=seed,\n",
    "                logger=logger)"
   ]
  },
  {
   "cell_type": "markdown",
   "metadata": {
    "id": "n30pRIHNOynO"
   },
   "source": [
    "# Training"
   ]
  },
  {
   "cell_type": "code",
   "execution_count": 14,
   "metadata": {
    "colab": {
     "base_uri": "https://localhost:8080/"
    },
    "executionInfo": {
     "elapsed": 49364,
     "status": "ok",
     "timestamp": 1665300478232,
     "user": {
      "displayName": "Nicholas Sung",
      "userId": "04413473591799886681"
     },
     "user_tz": -480
    },
    "id": "fTn2aebBOSAh",
    "outputId": "dcfbc59f-af9a-424f-f7b6-71214d1c4831"
   },
   "outputs": [],
   "source": [
    "max_iters = 25000 #50000//popn\n",
    "num_tests = 1\n",
    "t_fitness = 0\n",
    "\n",
    "sim_mgr = SimManager(n_repeats=1,\n",
    "\t\t\ttest_n_repeats=1,\n",
    "\t\t\tpop_size=popn,      \n",
    "\t\t\tn_evaluations= num_tests,\n",
    "\t\t\tpolicy_net= policy,\n",
    "\t\t\ttrain_vec_task=train_task,\n",
    "\t\t\tvalid_vec_task=test_task,\n",
    "\t\t\tseed=seed)\n",
    "loss_ls = []\n",
    "t_training = []\n",
    "# best_ls = []\n",
    "# t_fitness = 0\n",
    "# start_time = time.perf_counter()\n",
    "\n",
    "runtime = 0\n",
    "train_iters = 0\n",
    "while (train_iters < max_iters) and (runtime < 60):\n",
    "    start = time.time()\n",
    "    # Training.\n",
    "    params = solver.ask()\n",
    "    # This is where fitness is calculated, want to get the time\n",
    "#     start = time.time()\n",
    "    scores, _ = sim_mgr.eval_params(params=params, test=False)\n",
    "#     end = time.time()\n",
    "#     t_fitness = t_fitness + (end-start)\n",
    "    \n",
    "    # Updates the weights through the solver\n",
    "    solver.tell(fitness=scores)\n",
    "    # This is the average loss of all the population of parameters\n",
    "    score_avg_loss = np.mean(np.array(scores, copy=False, subok=True))\n",
    "    best_params = solver.best_params\n",
    "    end = time.time()\n",
    "    t_training.append(end-start)\n",
    "    loss_ls.append(-1*score_avg_loss)\n",
    "    # update\n",
    "    runtime += end-start\n",
    "    train_iters += 1\n",
    "    "
   ]
  },
  {
   "cell_type": "code",
   "execution_count": 15,
   "metadata": {},
   "outputs": [
    {
     "data": {
      "text/plain": [
       "array([ 3.67011142,  4.33425355,  4.34224796, ..., 59.98632503,\n",
       "       59.99356675, 60.00080991])"
      ]
     },
     "execution_count": 15,
     "metadata": {},
     "output_type": "execute_result"
    }
   ],
   "source": [
    "training_ls = np.cumsum(t_training)\n",
    "training_ls"
   ]
  },
  {
   "cell_type": "markdown",
   "metadata": {
    "id": "xyGKr2o8O5ZE"
   },
   "source": [
    "# Plot of loss/mse against iterations"
   ]
  },
  {
   "cell_type": "code",
   "execution_count": 16,
   "metadata": {
    "colab": {
     "base_uri": "https://localhost:8080/",
     "height": 281
    },
    "executionInfo": {
     "elapsed": 866,
     "status": "ok",
     "timestamp": 1665300479084,
     "user": {
      "displayName": "Nicholas Sung",
      "userId": "04413473591799886681"
     },
     "user_tz": -480
    },
    "id": "EhS7UZSO6lMM",
    "outputId": "1bc7e1b7-8b05-4cf7-db32-645ddd317788"
   },
   "outputs": [
    {
     "data": {
      "image/png": "[encoded data removed]",
      "text/plain": [
       "<Figure size 640x480 with 1 Axes>"
      ]
     },
     "metadata": {},
     "output_type": "display_data"
    }
   ],
   "source": [
    "plt.plot(training_ls, loss_ls); plt.yscale('log');\n",
    "# plt.xlim(800,1000)\n",
    "# plt.ylim(-1e6,0)\n",
    "plt.title('Fitness against Iterations')\n",
    "plt.show()"
   ]
  },
  {
   "cell_type": "code",
   "execution_count": 17,
   "metadata": {
    "colab": {
     "base_uri": "https://localhost:8080/"
    },
    "executionInfo": {
     "elapsed": 13,
     "status": "ok",
     "timestamp": 1665300479085,
     "user": {
      "displayName": "Nicholas Sung",
      "userId": "04413473591799886681"
     },
     "user_tz": -480
    },
    "id": "zrBjiG5ljFh5",
    "outputId": "f69a9f13-9d09-4b74-86bd-bf84b38ac341"
   },
   "outputs": [
    {
     "data": {
      "text/html": [
       "<div>\n",
       "<style scoped>\n",
       "    .dataframe tbody tr th:only-of-type {\n",
       "        vertical-align: middle;\n",
       "    }\n",
       "\n",
       "    .dataframe tbody tr th {\n",
       "        vertical-align: top;\n",
       "    }\n",
       "\n",
       "    .dataframe thead th {\n",
       "        text-align: right;\n",
       "    }\n",
       "</style>\n",
       "<table border=\"1\" class=\"dataframe\">\n",
       "  <thead>\n",
       "    <tr style=\"text-align: right;\">\n",
       "      <th></th>\n",
       "      <th>Training Time</th>\n",
       "      <th>Loss</th>\n",
       "    </tr>\n",
       "  </thead>\n",
       "  <tbody>\n",
       "    <tr>\n",
       "      <th>0</th>\n",
       "      <td>3.670111</td>\n",
       "      <td>0.107835</td>\n",
       "    </tr>\n",
       "    <tr>\n",
       "      <th>1</th>\n",
       "      <td>4.334254</td>\n",
       "      <td>0.107509</td>\n",
       "    </tr>\n",
       "    <tr>\n",
       "      <th>2</th>\n",
       "      <td>4.342248</td>\n",
       "      <td>0.105868</td>\n",
       "    </tr>\n",
       "    <tr>\n",
       "      <th>3</th>\n",
       "      <td>4.350176</td>\n",
       "      <td>0.103396</td>\n",
       "    </tr>\n",
       "    <tr>\n",
       "      <th>4</th>\n",
       "      <td>4.358063</td>\n",
       "      <td>0.099696</td>\n",
       "    </tr>\n",
       "    <tr>\n",
       "      <th>...</th>\n",
       "      <td>...</td>\n",
       "      <td>...</td>\n",
       "    </tr>\n",
       "    <tr>\n",
       "      <th>7615</th>\n",
       "      <td>59.971821</td>\n",
       "      <td>0.000102</td>\n",
       "    </tr>\n",
       "    <tr>\n",
       "      <th>7616</th>\n",
       "      <td>59.979080</td>\n",
       "      <td>0.000102</td>\n",
       "    </tr>\n",
       "    <tr>\n",
       "      <th>7617</th>\n",
       "      <td>59.986325</td>\n",
       "      <td>0.000103</td>\n",
       "    </tr>\n",
       "    <tr>\n",
       "      <th>7618</th>\n",
       "      <td>59.993567</td>\n",
       "      <td>0.000102</td>\n",
       "    </tr>\n",
       "    <tr>\n",
       "      <th>7619</th>\n",
       "      <td>60.000810</td>\n",
       "      <td>0.000102</td>\n",
       "    </tr>\n",
       "  </tbody>\n",
       "</table>\n",
       "<p>7620 rows × 2 columns</p>\n",
       "</div>"
      ],
      "text/plain": [
       "      Training Time      Loss\n",
       "0          3.670111  0.107835\n",
       "1          4.334254  0.107509\n",
       "2          4.342248  0.105868\n",
       "3          4.350176  0.103396\n",
       "4          4.358063  0.099696\n",
       "...             ...       ...\n",
       "7615      59.971821  0.000102\n",
       "7616      59.979080  0.000102\n",
       "7617      59.986325  0.000103\n",
       "7618      59.993567  0.000102\n",
       "7619      60.000810  0.000102\n",
       "\n",
       "[7620 rows x 2 columns]"
      ]
     },
     "execution_count": 17,
     "metadata": {},
     "output_type": "execute_result"
    }
   ],
   "source": [
    "import pandas as pd\n",
    "\n",
    "df = pd.DataFrame({'Training Time': training_ls, 'Loss': loss_ls})\n",
    "#df.to_csv('kdv_cma_%d.csv'%(seed), index=False)\n",
    "df"
   ]
  },
  {
   "cell_type": "code",
   "execution_count": 18,
   "metadata": {},
   "outputs": [],
   "source": [
    "this_dict = policy._format_params_fn(best_params[None, :])\n",
    "new_dict = unfreeze(this_dict)\n",
    "for key1, value1 in new_dict.items():\n",
    "  # print(value1)\n",
    "  for key2, value2 in value1.items():\n",
    "    # print(value2)\n",
    "    for key3, value3 in value2.items():\n",
    "      new_dict[key1][key2][key3] = value3[0]\n",
    "new_dict = freeze(new_dict)"
   ]
  },
  {
   "cell_type": "code",
   "execution_count": 19,
   "metadata": {},
   "outputs": [],
   "source": [
    "hello = PINNs()\n",
    "# params_hello = hello.init(random.PRNGKey(0), jnp.zeros([1,2]))\n",
    "prediction = hello.apply(new_dict, batch_X)\n",
    "u = prediction[:,0:1]"
   ]
  },
  {
   "cell_type": "code",
   "execution_count": 20,
   "metadata": {},
   "outputs": [
    {
     "data": {
      "image/png": "[encoded data removed]",
      "text/plain": [
       "<Figure size 2000x1000 with 4 Axes>"
      ]
     },
     "metadata": {},
     "output_type": "display_data"
    }
   ],
   "source": [
    "fig = plt.figure(figsize=(20, 10))\n",
    "u_viz = (u.reshape(201, 77)).T \n",
    "ext = [x_l, x_u, 0 ,t_T]    # plot boundary \n",
    "ax1 = fig.add_subplot(2,3,1)\n",
    "mesh =ax1.imshow(u_viz, interpolation='bilinear', origin='lower', cmap='rainbow', extent=ext, aspect=.55); \n",
    "plt.colorbar(mesh) \n",
    "plt.xlabel('x'); plt.ylabel('t'); \n",
    "plt.title('PDE-NN Solution (v2=%s)' %(v2), fontsize='x-large'); \n",
    "\n",
    "u_true = (batch_y.reshape(201, 77)).T\n",
    "\n",
    "ax2 = fig.add_subplot(2,3,2)\n",
    "mesh2 = ax2.imshow(u_true, interpolation='bilinear', origin='lower', cmap='rainbow', extent=ext, aspect=.55); \n",
    "plt.colorbar(mesh2); \n",
    "plt.xlabel('x'); plt.ylabel('t'); \n",
    "plt.title('Simluated Solution (v2=%s)' %(v2), fontsize='x-large'); "
   ]
  },
  {
   "cell_type": "code",
   "execution_count": 21,
   "metadata": {},
   "outputs": [
    {
     "data": {
      "text/plain": [
       "DeviceArray(7.565652e-05, dtype=float32)"
      ]
     },
     "execution_count": 21,
     "metadata": {},
     "output_type": "execute_result"
    }
   ],
   "source": [
    "np.mean((u_viz - u_true)**2)"
   ]
  },
  {
   "cell_type": "code",
   "execution_count": 22,
   "metadata": {},
   "outputs": [],
   "source": [
    "np.save('kdv_cma_60s', (u_viz, u_true))"
   ]
  },
  {
   "cell_type": "code",
   "execution_count": null,
   "metadata": {},
   "outputs": [],
   "source": []
  }
 ],
 "metadata": {
  "accelerator": "GPU",
  "colab": {
   "authorship_tag": "ABX9TyMTIcDiyJjsPQIsuLyIlKKZ",
   "collapsed_sections": [],
   "mount_file_id": "1XvHQ8A46tu3S1WIt7xeVZhhoJZcnxqcH",
   "provenance": []
  },
  "gpuClass": "standard",
  "kernelspec": {
   "display_name": "Python 3 (ipykernel)",
   "language": "python",
   "name": "python3"
  },
  "language_info": {
   "codemirror_mode": {
    "name": "ipython",
    "version": 3
   },
   "file_extension": ".py",
   "mimetype": "text/x-python",
   "name": "python",
   "nbconvert_exporter": "python",
   "pygments_lexer": "ipython3",
   "version": "3.8.13"
  }
 },
 "nbformat": 4,
 "nbformat_minor": 1
}
