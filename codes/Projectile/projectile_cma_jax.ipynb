{
 "cells": [
  {
   "cell_type": "markdown",
   "metadata": {
    "id": "6AU-ByWBYWMU"
   },
   "source": [
    "# Import Libraries"
   ]
  },
  {
   "cell_type": "code",
   "execution_count": 1,
   "metadata": {
    "colab": {
     "base_uri": "https://localhost:8080/"
    },
    "executionInfo": {
     "elapsed": 24192,
     "status": "ok",
     "timestamp": 1665024955501,
     "user": {
      "displayName": "Nicholas Sung",
      "userId": "04413473591799886681"
     },
     "user_tz": -480
    },
    "id": "EosvoMefq-H4",
    "outputId": "cd374d9a-b6e2-4839-b35b-8e659910a786"
   },
   "outputs": [],
   "source": [
    "# !pip install evojax\n",
    "# !pip install flax\n",
    "# !pip install evosax\n",
    "# !pip install pyDOE"
   ]
  },
  {
   "cell_type": "code",
   "execution_count": 2,
   "metadata": {
    "executionInfo": {
     "elapsed": 1973,
     "status": "ok",
     "timestamp": 1665024957467,
     "user": {
      "displayName": "Nicholas Sung",
      "userId": "04413473591799886681"
     },
     "user_tz": -480
    },
    "id": "6tcbWZllrCN2"
   },
   "outputs": [],
   "source": [
    "import os\n",
    "import numpy as np\n",
    "import jax\n",
    "import shutil\n",
    "import jax.numpy as jnp\n",
    "import logging\n",
    "import time\n",
    "import matplotlib.pyplot as plt\n",
    "from jax import random, grad, vmap, hessian, jacfwd\n",
    "from evojax import Trainer\n",
    "from evojax.task.base import TaskState\n",
    "from evojax.task.base import VectorizedTask\n",
    "from evojax.policy.base import PolicyNetwork\n",
    "from evojax.policy.base import PolicyState\n",
    "from evojax.util import create_logger\n",
    "from evojax.util import get_params_format_fn\n",
    "from flax.struct import dataclass\n",
    "from typing import Tuple\n",
    "from flax import linen as nn\n",
    "from jax.nn.initializers import xavier_uniform\n",
    "from evojax.sim_mgr import SimManager\n",
    "from flax.core.frozen_dict import unfreeze, freeze\n",
    "from scipy import dot, exp, log, sqrt, floor, ones, randn, zeros_like, Inf, argmax, argmin, eye, outer, zeros\n",
    "from scipy import array, power, diag, cos, sin, pi\n",
    "\n",
    "# choose GPU\n",
    "import os\n",
    "os.environ['CUDA_VISIBLE_DEVICES'] = '0'"
   ]
  },
  {
   "cell_type": "code",
   "execution_count": 3,
   "metadata": {
    "colab": {
     "base_uri": "https://localhost:8080/"
    },
    "executionInfo": {
     "elapsed": 2361,
     "status": "ok",
     "timestamp": 1665024959821,
     "user": {
      "displayName": "Nicholas Sung",
      "userId": "04413473591799886681"
     },
     "user_tz": -480
    },
    "id": "rub6-FtsrL2k",
    "outputId": "34c5ab0e-3664-4f0c-d79d-a4499f9b14bb"
   },
   "outputs": [],
   "source": [
    "# from google.colab import drive\n",
    "# drive.mount('/content/drive')"
   ]
  },
  {
   "cell_type": "markdown",
   "metadata": {
    "id": "2sBP7OlwYaPv"
   },
   "source": [
    "# Directory to save logs and models"
   ]
  },
  {
   "cell_type": "code",
   "execution_count": 4,
   "metadata": {
    "colab": {
     "base_uri": "https://localhost:8080/"
    },
    "executionInfo": {
     "elapsed": 10,
     "status": "ok",
     "timestamp": 1665024959821,
     "user": {
      "displayName": "Nicholas Sung",
      "userId": "04413473591799886681"
     },
     "user_tz": -480
    },
    "id": "uBR-gZI1rFk2",
    "outputId": "b2b505c0-cf93-4357-ae32-ebc96f460de1"
   },
   "outputs": [
    {
     "name": "stdout",
     "output_type": "stream",
     "text": [
      "NVIDIA GeForce RTX 3090\r\n",
      "NVIDIA GeForce RTX 3090\r\n"
     ]
    }
   ],
   "source": [
    "# Let's create a directory to save logs and models.\n",
    "log_dir = 'loggerfiles'\n",
    "logger = create_logger(name='EvoJAX', log_dir=log_dir)\n",
    "logger.info('EvoJax for PINNs')\n",
    "\n",
    "logger.info('Jax backend: {}'.format(jax.local_devices()))\n",
    "!nvidia-smi --query-gpu=name --format=csv,noheader"
   ]
  },
  {
   "cell_type": "markdown",
   "metadata": {
    "id": "egYFbMFLYnLj"
   },
   "source": [
    "# Functions"
   ]
  },
  {
   "cell_type": "code",
   "execution_count": 5,
   "metadata": {
    "executionInfo": {
     "elapsed": 407,
     "status": "ok",
     "timestamp": 1665024960223,
     "user": {
      "displayName": "Nicholas Sung",
      "userId": "04413473591799886681"
     },
     "user_tz": -480
    },
    "id": "OG1c_7A-KzsL"
   },
   "outputs": [],
   "source": [
    "@dataclass\n",
    "# Contains the train input and its labels\n",
    "class State(TaskState):\n",
    "    obs: jnp.ndarray\n",
    "    labels: jnp.ndarray\n",
    "# function to generate analytical solution\n",
    "def f_x(t):\n",
    "    return x0 + t*u0\n",
    "\n",
    "def f_y(t):\n",
    "    return y0 + t*v0 - 1./2*g*t**2\n",
    "\n",
    "def f_t():\n",
    "    return (vel0*sin(a0*pi/180) + sqrt((vel0*sin(a0*pi/180))**2 + 2*g*y0)) / g\n",
    "\n",
    "# free fall\n",
    "def terminal_vel():\n",
    "    vinf = sqrt(2*m*g / (d*Cd*A))\n",
    "    return vinf\n",
    "\n",
    "def f_yfree(t, vinf):\n",
    "    y_free = y0 - vinf**2/g*log(np.cosh(g*t/vinf))\n",
    "    return y_free"
   ]
  },
  {
   "cell_type": "code",
   "execution_count": 6,
   "metadata": {
    "colab": {
     "base_uri": "https://localhost:8080/"
    },
    "executionInfo": {
     "elapsed": 9,
     "status": "ok",
     "timestamp": 1665024960223,
     "user": {
      "displayName": "Nicholas Sung",
      "userId": "04413473591799886681"
     },
     "user_tz": -480
    },
    "id": "WMAJsQkWMsuU",
    "outputId": "1be468ab-bd58-4b22-a830-a38729f7b68d"
   },
   "outputs": [
    {
     "name": "stderr",
     "output_type": "stream",
     "text": [
      "/tmp/ipykernel_3857233/2850935375.py:21: DeprecationWarning: scipy.cos is deprecated and will be removed in SciPy 2.0.0, use numpy.cos instead\n",
      "  u0 = vel0 * cos(a0*pi/180)\n",
      "/tmp/ipykernel_3857233/2850935375.py:22: DeprecationWarning: scipy.sin is deprecated and will be removed in SciPy 2.0.0, use numpy.sin instead\n",
      "  v0 = vel0 * sin(a0*pi/180)\n"
     ]
    }
   ],
   "source": [
    "# specify planet to change g, d & a_T\n",
    "# planet = {'earth': (9.8, 1.2, 2), 'mars': (3.7, 0, 4.5), 'moon': (1.6, 0, 10)}\n",
    "planet = {'earth': (9.8, 0, 2), 'mars': (3.7, 0, 5.5), 'moon': (1.6, 0, 8)}\n",
    "g, d, a_T = planet['mars']\n",
    "\n",
    "# parameter related to flying ball (constant)\n",
    "m = 0.6\n",
    "r = 0.12\n",
    "Cd = 0.54\n",
    "A = pi*r**2\n",
    "\n",
    "# initial condition @(x, y) position\n",
    "x0, y0 = 0, 2\n",
    "# initial condition @velocity\n",
    "vel0 = 10         \n",
    "\n",
    "# angle of projectile\n",
    "a0 = 80\n",
    "\n",
    "# initial velocity\n",
    "u0 = vel0 * cos(a0*pi/180)\n",
    "v0 = vel0 * sin(a0*pi/180)\n",
    "\n",
    "# time domain: 0 - t_T\n",
    "t_T = a_T    # let it fly.."
   ]
  },
  {
   "cell_type": "code",
   "execution_count": 7,
   "metadata": {
    "executionInfo": {
     "elapsed": 8,
     "status": "ok",
     "timestamp": 1665024960224,
     "user": {
      "displayName": "Nicholas Sung",
      "userId": "04413473591799886681"
     },
     "user_tz": -480
    },
    "id": "iDqtzKQp9V4W"
   },
   "outputs": [],
   "source": [
    "# def genBoundary_t_0(batch_size=1):\n",
    "#     return np.zeros(batch_size).reshape(-1, 1)\n",
    "\n",
    "# def genCollocation_T(batch_size=8):\n",
    "#     #ALPHA, BETA = 1, 1\n",
    "#     #return np.random.beta(a=ALPHA, b=BETA, size=batch_size).reshape(-1, 1) *t_T\n",
    "#     return lhs(1, samples=batch_size) *t_T   # use LHS sampling.."
   ]
  },
  {
   "cell_type": "code",
   "execution_count": 8,
   "metadata": {
    "executionInfo": {
     "elapsed": 7,
     "status": "ok",
     "timestamp": 1665024960224,
     "user": {
      "displayName": "Nicholas Sung",
      "userId": "04413473591799886681"
     },
     "user_tz": -480
    },
    "id": "ZsA7LQgM9a89"
   },
   "outputs": [],
   "source": [
    "n_pde= 10000\n",
    "n_ic= 1\n",
    "t = jnp.linspace(0, t_T, n_pde).reshape(-1, 1)\n",
    "\n",
    "# batch_X = np.vstack([genBoundary_t_0(n_ic), genCollocation_T(n_pde)])\n",
    "# batch_X = np.hstack([batch_X, np.zeros(len(batch_X)).reshape(-1, 1)])\n",
    "# batch_Y = np.empty((len(batch_X), 1))\n",
    "# shuffle\n",
    "# perm = np.random.permutation(len(batch_X))"
   ]
  },
  {
   "cell_type": "code",
   "execution_count": 9,
   "metadata": {
    "executionInfo": {
     "elapsed": 7,
     "status": "ok",
     "timestamp": 1665024960224,
     "user": {
      "displayName": "Nicholas Sung",
      "userId": "04413473591799886681"
     },
     "user_tz": -480
    },
    "id": "Eo560U81RUrW"
   },
   "outputs": [],
   "source": [
    "# Loss Function will be used as the fitness  (f=-L)\n",
    "def loss(prediction, input, target):\n",
    "  # essentially the new prediction here\n",
    "    t = input[:,0:1].reshape(-1,1)\n",
    "    x, y, x_t, y_t, x_tt, y_tt = prediction[:,0:1], prediction[:,1:2], prediction[:,2:3], prediction[:,3:4], prediction[:,4:5], prediction[:,5:6]\n",
    "\n",
    "\n",
    "    # ground truth\n",
    "    x_true = f_x(t)\n",
    "    y_true = f_y(t)  \n",
    "    _ic = jnp.where((jnp.equal(t, 0)), 1, 0)\n",
    "\n",
    "    # initial conditions (which define the problem)\n",
    "    ic_1 = jnp.sum(jnp.square((x_true-x)*_ic))/jnp.sum(_ic)\n",
    "    ic_2 = jnp.sum(jnp.square((y_true-y)*_ic))/jnp.sum(_ic)\n",
    "\n",
    "    ic_3 = jnp.sum(jnp.square((x_t-u0)*_ic))/jnp.sum(_ic)\n",
    "    ic_4 = jnp.sum(jnp.square((y_t-v0)*_ic))/jnp.sum(_ic)\n",
    "\n",
    "    # sum up all initial conditions\n",
    "    ic_mse = ic_1 + ic_2 + ic_3 + ic_4\n",
    "\n",
    "    # consider drag effect\n",
    "    V = jnp.sqrt( (x_t)**2 + (y_t)**2 )\n",
    "    C = 0.5*d*Cd*A/m\n",
    "    R = C*V\n",
    "\n",
    "    # PDE (physics laws):\n",
    "    pde_x = x_tt + R*x_t\n",
    "    pde_y = y_tt + R*y_t + g\n",
    "    # exclude BC points\n",
    "    _pde = jnp.where((jnp.equal(t, 0)), 0, 1)\n",
    "    pde_x = pde_x*_pde\n",
    "    pde_y = pde_y*_pde        \n",
    "    pde_residuals_x = jnp.sum(jnp.square(pde_x))/jnp.sum(_pde)\n",
    "    pde_residuals_y = jnp.sum(jnp.square(pde_y))/jnp.sum(_pde)\n",
    "    pde_mse = pde_residuals_x + pde_residuals_y\n",
    "\n",
    "    loss = pde_mse + ic_mse\n",
    "    return loss\n",
    "\n",
    "# Accuracy should not be used in this case, change to mean square error\n",
    "def mse(prediction, target):\n",
    "    x, y  = prediction[:,0:1], prediction[:,1:2]\n",
    "    x_true, y_true  = target[:,0:1], target[:,1:2]\n",
    "    mse_x = jnp.mean(jnp.square(x-x_true))\n",
    "    mse_y = jnp.mean(jnp.square(y-y_true))\n",
    "    mean_square_error = mse_x + mse_y\n",
    "    return mean_square_error"
   ]
  },
  {
   "cell_type": "markdown",
   "metadata": {
    "id": "f_lSEQGfYTX1"
   },
   "source": [
    "# Task"
   ]
  },
  {
   "cell_type": "code",
   "execution_count": 10,
   "metadata": {
    "executionInfo": {
     "elapsed": 7,
     "status": "ok",
     "timestamp": 1665024960225,
     "user": {
      "displayName": "Nicholas Sung",
      "userId": "04413473591799886681"
     },
     "user_tz": -480
    },
    "id": "Qc6Bu5KKFx3G"
   },
   "outputs": [],
   "source": [
    "class Projectile(VectorizedTask):\n",
    "    \"\"\"PDE-NN for 2D projectile equation.\n",
    "    We model the regression as a one-step task, i.e., \n",
    "    `Projectile.reset` returns a batch of data to the agent, the agent outputs\n",
    "    predictions, `Projectile.step` returns the reward loss) and\n",
    "    terminates the rollout.\n",
    "    \"\"\"\n",
    "\n",
    "    def __init__(self, batch_size, test):\n",
    "\n",
    "        self.max_steps = 1\n",
    "\n",
    "        # These are similar to OpenAI Gym environment's\n",
    "        # observation_space and action_space.\n",
    "        # They are helpful for initializing the policy networks.\n",
    "        # Input shape is 1\n",
    "        self.obs_shape = tuple([1, ])\n",
    "        # Output shape is 2\n",
    "        self.act_shape = tuple([2, ])\n",
    "\n",
    "        # PDE Data\n",
    "        data_pde = t.reshape(-1,1)\n",
    "        # samples, features = data_pde.shape\n",
    "        x = f_x(data_pde)\n",
    "        y = f_y(data_pde)\n",
    "        labels_pde = jnp.hstack([x.reshape(-1, 1), y.reshape(-1, 1)])\n",
    "\n",
    "\n",
    "        def reset_fn(key):\n",
    "            batch_data, batch_labels = data_pde, labels_pde\n",
    "            # if test:\n",
    "            #     # In the test mode, we want to test on the entire test set.\n",
    "            #     batch_data, batch_labels = data_pde, labels_pde\n",
    "            # else:\n",
    "            #     # In the training mode, we only sample a batch of training data.\n",
    "            #     batch_data, batch_labels = sample_batch(\n",
    "            #         key, data_pde, labels_pde, data_bc, labels_bc, batch_size)\n",
    "            return State(obs=batch_data, labels=batch_labels)\n",
    "        \n",
    "        # We use jax.vmap for auto-vectorization.\n",
    "        self._reset_fn = jax.jit(jax.vmap(reset_fn))\n",
    "        \n",
    "        # step_fn needs to be changed\n",
    "        def step_fn(state, action):\n",
    "            if test:\n",
    "                # In the test mode, we report the mean square error\n",
    "                \"change to training loss\"\n",
    "                # reward = loss(action, state.obs, state.labels)\n",
    "                reward = mse(action, state.labels)\n",
    "            else:\n",
    "                # In the training mode, we return the negative loss as the\n",
    "                # fitness. \n",
    "                # the action (prediction) will include u, u_x and u_xx\n",
    "                reward = -loss(action, state.obs, state.labels)\n",
    "            # This is an one-step task, so that last return value (the `done`\n",
    "            # flag) is one.\n",
    "            \n",
    "            return state, reward, jnp.ones(())\n",
    "\n",
    "        # We use jax.vmap for auto-vectorization.\n",
    "        self._step_fn = jax.jit(jax.vmap(step_fn))\n",
    "    # Returns a batch of data to the agent, the agent outputs predictions\n",
    "    def reset(self, key):\n",
    "        return self._reset_fn(key)\n",
    "    # Returns the fitness loss\n",
    "    def step(self, state, action):\n",
    "        return self._step_fn(state, action)"
   ]
  },
  {
   "cell_type": "code",
   "execution_count": 11,
   "metadata": {
    "executionInfo": {
     "elapsed": 7,
     "status": "ok",
     "timestamp": 1665024960225,
     "user": {
      "displayName": "Nicholas Sung",
      "userId": "04413473591799886681"
     },
     "user_tz": -480
    },
    "id": "uF5Ma-JcsMER"
   },
   "outputs": [],
   "source": [
    "seed = 0\n",
    "batch_size = 498\n",
    "train_task = Projectile(batch_size=batch_size, test=False)\n",
    "test_task = Projectile(batch_size=batch_size, test=True)"
   ]
  },
  {
   "cell_type": "markdown",
   "metadata": {
    "id": "hp-SQ0LCYRZy"
   },
   "source": [
    "# Policy"
   ]
  },
  {
   "cell_type": "code",
   "execution_count": 12,
   "metadata": {
    "executionInfo": {
     "elapsed": 7,
     "status": "ok",
     "timestamp": 1665024960225,
     "user": {
      "displayName": "Nicholas Sung",
      "userId": "04413473591799886681"
     },
     "user_tz": -480
    },
    "id": "flD1EjBmVSFs"
   },
   "outputs": [],
   "source": [
    "n_nodes = 8\n",
    "class PINNs(nn.Module):\n",
    "  \"\"\"PINNs\"\"\"\n",
    "  def setup(self):\n",
    "    # hidden layers\n",
    "    self.layers = [nn.Dense(n_nodes, kernel_init = jax.nn.initializers.glorot_uniform(), use_bias=False),\n",
    "                   nn.tanh,\n",
    "                   nn.Dense(n_nodes, kernel_init = jax.nn.initializers.glorot_uniform()),\n",
    "                   nn.tanh]\n",
    "    # split layers\n",
    "    self.splitx = [nn.Dense(n_nodes, kernel_init = jax.nn.initializers.glorot_uniform()),\n",
    "                   nn.tanh,\n",
    "                   nn.Dense(1, use_bias=False)]\n",
    "    self.splity = [nn.Dense(n_nodes, kernel_init = jax.nn.initializers.glorot_uniform()),\n",
    "                   nn.tanh,\n",
    "                   nn.Dense(1, use_bias=False)]\n",
    "\n",
    "\n",
    "  @nn.compact\n",
    "  def __call__(self, inputs):\n",
    "      # split the two variables, probably just by slicing\n",
    "      t= inputs#[:,0:1]\n",
    "      \n",
    "      def get_xy(t):\n",
    "        for i, lyr in enumerate(self.layers):\n",
    "          t = lyr(t)\n",
    "        # split layers\n",
    "        hidden_x = self.splitx[0](t)\n",
    "        hidden_x = self.splitx[1](hidden_x)\n",
    "        hidden_y = self.splity[0](t)\n",
    "        hidden_y = self.splity[1](hidden_y)\n",
    "        # output layers\n",
    "        x = self.splitx[2](hidden_x)\n",
    "        y = self.splity[2](hidden_y)\n",
    "        return x, y\n",
    "\n",
    "      x, y = get_xy(t)\n",
    "\n",
    "      # deriviatives needed to obtain are x_t, y_t, x_tt, y_tt\n",
    "      def get_xy_t(get_xy, t):\n",
    "        x_t, y_t = jacfwd(get_xy)(t)\n",
    "        return x_t, y_t\n",
    "      xy_t_vmap = vmap(get_xy_t, in_axes=(None, 0))\n",
    "      x_t, y_t = xy_t_vmap(get_xy, t)\n",
    "      x_t = x_t.reshape(-1,1)\n",
    "      y_t = y_t.reshape(-1,1)\n",
    "      def get_xy_tt(get_xy, t):\n",
    "        x_tt, y_tt = hessian(get_xy)(t)\n",
    "        return x_tt, y_tt\n",
    "      xy_tt_vmap = vmap(get_xy_tt, in_axes=(None, 0))\n",
    "      x_tt, y_tt = xy_tt_vmap(get_xy, t)\n",
    "      x_tt = x_tt.reshape(-1,1)\n",
    "      y_tt = y_tt.reshape(-1,1)\n",
    "      action = jnp.hstack([x, y, x_t, y_t, x_tt, y_tt])   \n",
    "      return action\n"
   ]
  },
  {
   "cell_type": "code",
   "execution_count": 13,
   "metadata": {},
   "outputs": [],
   "source": [
    "# model = PINNs()\n",
    "# params = model.init(random.PRNGKey(0), jnp.zeros([1,1]))\n",
    "# \"\"\"Return a function that formats the parameters into a correct format.\"\"\"\n",
    "# num_params, format_params_fn = get_params_format_fn(params)\n",
    "# num_params"
   ]
  },
  {
   "cell_type": "code",
   "execution_count": 14,
   "metadata": {
    "executionInfo": {
     "elapsed": 2327,
     "status": "ok",
     "timestamp": 1665024962545,
     "user": {
      "displayName": "Nicholas Sung",
      "userId": "04413473591799886681"
     },
     "user_tz": -480
    },
    "id": "yuuYczkEfaaO"
   },
   "outputs": [],
   "source": [
    "class PINNsPolicy(PolicyNetwork):\n",
    "    \"\"\"A physics informmed neural neural network for the Projectile task.\"\"\"\n",
    "\n",
    "    def __init__(self, logger: logging.Logger = None):\n",
    "        if logger is None:\n",
    "            self._logger = create_logger('PINNsPolicy')\n",
    "        else:\n",
    "            self._logger = logger\n",
    "\n",
    "        model = PINNs()\n",
    "        key1, key2 = random.split(random.PRNGKey(seed))\n",
    "        a = random.normal(key1, [1,1]) # Dummy input\n",
    "        params = model.init(key2, a) # Initialization call\n",
    "        \"\"\"Return a function that formats the parameters into a correct format.\"\"\"\n",
    "        self.num_params, format_params_fn = get_params_format_fn(params)\n",
    "        self._logger.info(\n",
    "            'PINNsPolicy.num_params = {}'.format(self.num_params))\n",
    "        self._format_params_fn = jax.vmap(format_params_fn)\n",
    "        self._forward_fn = jax.vmap(model.apply)\n",
    "\n",
    "    def get_actions(self,\n",
    "                    t_states: TaskState,\n",
    "                    params: jnp.ndarray,\n",
    "                    p_states: PolicyState) -> Tuple[jnp.ndarray, PolicyState]:\n",
    "        params = self._format_params_fn(params)\n",
    "        return self._forward_fn(params, t_states.obs), p_states\n",
    "policy = PINNsPolicy(logger=logger)"
   ]
  },
  {
   "cell_type": "markdown",
   "metadata": {
    "id": "OuOi44EdOdgb"
   },
   "source": [
    "# Solvers"
   ]
  },
  {
   "cell_type": "code",
   "execution_count": 15,
   "metadata": {
    "executionInfo": {
     "elapsed": 5,
     "status": "ok",
     "timestamp": 1665024962545,
     "user": {
      "displayName": "Nicholas Sung",
      "userId": "04413473591799886681"
     },
     "user_tz": -480
    },
    "id": "AWFFELFks7a_"
   },
   "outputs": [],
   "source": [
    "from evojax.algo import CMA_ES_JAX\n",
    "popn = 80\n",
    "solver = CMA_ES_JAX(\n",
    "                pop_size=popn,\n",
    "                param_size=policy.num_params,\n",
    "                init_stdev=0.001,\n",
    "                seed=seed,\n",
    "                logger=logger)"
   ]
  },
  {
   "cell_type": "markdown",
   "metadata": {
    "id": "n30pRIHNOynO"
   },
   "source": [
    "# Training"
   ]
  },
  {
   "cell_type": "code",
   "execution_count": 16,
   "metadata": {
    "colab": {
     "base_uri": "https://localhost:8080/"
    },
    "executionInfo": {
     "elapsed": 157338,
     "status": "ok",
     "timestamp": 1665025120213,
     "user": {
      "displayName": "Nicholas Sung",
      "userId": "04413473591799886681"
     },
     "user_tz": -480
    },
    "id": "fTn2aebBOSAh",
    "outputId": "9f61d498-4cb0-44fe-8fef-31b3147bdebc"
   },
   "outputs": [],
   "source": [
    "max_iters = 40000 #50000//popn\n",
    "num_tests = 1\n",
    "\n",
    "sim_mgr = SimManager(n_repeats=1,\n",
    "\t\t\ttest_n_repeats=1,\n",
    "\t\t\tpop_size=popn,      \n",
    "\t\t\tn_evaluations= num_tests,\n",
    "\t\t\tpolicy_net= policy,\n",
    "\t\t\ttrain_vec_task=train_task,\n",
    "\t\t\tvalid_vec_task=test_task,\n",
    "\t\t\tseed=seed)\n",
    "\n",
    "    \n",
    "loss_ls = []\n",
    "t_training = []\n",
    "# best_ls = []\n",
    "# t_fitness = 0\n",
    "# start_time = time.perf_counter()\n",
    "runtime = 0\n",
    "train_iters = 0\n",
    "while (train_iters < max_iters) and (runtime < 60):\n",
    "    start = time.process_time()\n",
    "    # Training.\n",
    "    params = solver.ask()\n",
    "    # This is where fitness is calculated, want to get the time\n",
    "#     start = time.time()\n",
    "    scores, _ = sim_mgr.eval_params(params=params, test=False)\n",
    "#     end = time.time()\n",
    "#     t_fitness = t_fitness + (end-start)\n",
    "    \n",
    "    # Updates the weights through the solver\n",
    "    solver.tell(fitness=scores)\n",
    "    # This is the average loss of all the population of parameters\n",
    "    score_avg_loss = np.mean(np.array(scores, copy=False, subok=True))\n",
    "    best_params = solver.best_params\n",
    "#     if (train_iters < 10) | ((train_iters < 100) & (train_iters%10 == 0)) | ((train_iters < 1000) & (train_iters%100 == 0)) | ((train_iters < 10000) & (train_iters%100 == 0)) | ((train_iters < 300000) & (train_iters%1000 == 0)):\n",
    "    end = time.process_time()\n",
    "    t_training.append(end-start)\n",
    "    loss_ls.append(-1*score_avg_loss)\n",
    "    # update\n",
    "    runtime += (end-start)\n",
    "    train_iters += 1\n"
   ]
  },
  {
   "cell_type": "code",
   "execution_count": 17,
   "metadata": {},
   "outputs": [],
   "source": [
    "training_ls = np.cumsum(t_training)"
   ]
  },
  {
   "cell_type": "code",
   "execution_count": 18,
   "metadata": {},
   "outputs": [
    {
     "data": {
      "image/png": "[encoded data removed]",
      "text/plain": [
       "<Figure size 640x480 with 1 Axes>"
      ]
     },
     "metadata": {},
     "output_type": "display_data"
    }
   ],
   "source": [
    "plt.plot(training_ls, loss_ls)\n",
    "plt.xscale('log');plt.yscale('log');\n",
    "# plt.xlim(800,1000)\n",
    "# plt.ylim(-1e6,0)\n",
    "plt.title('Fitness against Iterations')\n",
    "plt.show()"
   ]
  },
  {
   "cell_type": "code",
   "execution_count": 19,
   "metadata": {},
   "outputs": [
    {
     "data": {
      "text/html": [
       "<div>\n",
       "<style scoped>\n",
       "    .dataframe tbody tr th:only-of-type {\n",
       "        vertical-align: middle;\n",
       "    }\n",
       "\n",
       "    .dataframe tbody tr th {\n",
       "        vertical-align: top;\n",
       "    }\n",
       "\n",
       "    .dataframe thead th {\n",
       "        text-align: right;\n",
       "    }\n",
       "</style>\n",
       "<table border=\"1\" class=\"dataframe\">\n",
       "  <thead>\n",
       "    <tr style=\"text-align: right;\">\n",
       "      <th></th>\n",
       "      <th>Training Time</th>\n",
       "      <th>Loss</th>\n",
       "    </tr>\n",
       "  </thead>\n",
       "  <tbody>\n",
       "    <tr>\n",
       "      <th>0</th>\n",
       "      <td>4.106972</td>\n",
       "      <td>117.690002</td>\n",
       "    </tr>\n",
       "    <tr>\n",
       "      <th>1</th>\n",
       "      <td>5.954842</td>\n",
       "      <td>117.690002</td>\n",
       "    </tr>\n",
       "    <tr>\n",
       "      <th>2</th>\n",
       "      <td>5.964258</td>\n",
       "      <td>117.689987</td>\n",
       "    </tr>\n",
       "    <tr>\n",
       "      <th>3</th>\n",
       "      <td>5.973466</td>\n",
       "      <td>117.689987</td>\n",
       "    </tr>\n",
       "    <tr>\n",
       "      <th>4</th>\n",
       "      <td>5.982645</td>\n",
       "      <td>117.689980</td>\n",
       "    </tr>\n",
       "    <tr>\n",
       "      <th>...</th>\n",
       "      <td>...</td>\n",
       "      <td>...</td>\n",
       "    </tr>\n",
       "    <tr>\n",
       "      <th>6288</th>\n",
       "      <td>59.966585</td>\n",
       "      <td>0.000694</td>\n",
       "    </tr>\n",
       "    <tr>\n",
       "      <th>6289</th>\n",
       "      <td>59.975285</td>\n",
       "      <td>0.000690</td>\n",
       "    </tr>\n",
       "    <tr>\n",
       "      <th>6290</th>\n",
       "      <td>59.983959</td>\n",
       "      <td>0.000673</td>\n",
       "    </tr>\n",
       "    <tr>\n",
       "      <th>6291</th>\n",
       "      <td>59.992579</td>\n",
       "      <td>0.000688</td>\n",
       "    </tr>\n",
       "    <tr>\n",
       "      <th>6292</th>\n",
       "      <td>60.001432</td>\n",
       "      <td>0.000673</td>\n",
       "    </tr>\n",
       "  </tbody>\n",
       "</table>\n",
       "<p>6293 rows × 2 columns</p>\n",
       "</div>"
      ],
      "text/plain": [
       "      Training Time        Loss\n",
       "0          4.106972  117.690002\n",
       "1          5.954842  117.690002\n",
       "2          5.964258  117.689987\n",
       "3          5.973466  117.689987\n",
       "4          5.982645  117.689980\n",
       "...             ...         ...\n",
       "6288      59.966585    0.000694\n",
       "6289      59.975285    0.000690\n",
       "6290      59.983959    0.000673\n",
       "6291      59.992579    0.000688\n",
       "6292      60.001432    0.000673\n",
       "\n",
       "[6293 rows x 2 columns]"
      ]
     },
     "execution_count": 19,
     "metadata": {},
     "output_type": "execute_result"
    }
   ],
   "source": [
    "import pandas as pd\n",
    "\n",
    "df = pd.DataFrame({'Training Time': training_ls, 'Loss': loss_ls})\n",
    "#df.to_csv('projectile_cma_%d.csv'%(seed), index=False)\n",
    "df"
   ]
  },
  {
   "cell_type": "code",
   "execution_count": 20,
   "metadata": {},
   "outputs": [],
   "source": [
    "this_dict = policy._format_params_fn(best_params[None, :])\n",
    "new_dict = unfreeze(this_dict)\n",
    "for key1, value1 in new_dict.items():\n",
    "  # print(value1)\n",
    "  for key2, value2 in value1.items():\n",
    "    # print(value2)\n",
    "    for key3, value3 in value2.items():\n",
    "      new_dict[key1][key2][key3] = value3[0]\n",
    "new_dict = freeze(new_dict)"
   ]
  },
  {
   "cell_type": "code",
   "execution_count": 21,
   "metadata": {},
   "outputs": [],
   "source": [
    "# PDE Data\n",
    "data_pde = t.reshape(-1,1)\n",
    "# samples, features = data_pde.shape\n",
    "labels_pde_x = f_x(data_pde)\n",
    "labels_pde_y = f_y(data_pde)\n",
    "# PINN\n",
    "hello = PINNs()\n",
    "prediction = hello.apply(new_dict, data_pde)\n",
    "x, y = prediction[:,0:1], prediction[:,1:2]"
   ]
  },
  {
   "cell_type": "code",
   "execution_count": 22,
   "metadata": {},
   "outputs": [
    {
     "data": {
      "image/png": "[encoded data removed]",
      "text/plain": [
       "<Figure size 640x480 with 1 Axes>"
      ]
     },
     "metadata": {},
     "output_type": "display_data"
    }
   ],
   "source": [
    "plt.plot(labels_pde_x, labels_pde_y, linewidth=5, alpha=.5);\n",
    "plt.plot(x, y, linestyle='--', c='red');"
   ]
  },
  {
   "cell_type": "code",
   "execution_count": 23,
   "metadata": {},
   "outputs": [
    {
     "data": {
      "text/plain": [
       "0.00039579283"
      ]
     },
     "execution_count": 23,
     "metadata": {},
     "output_type": "execute_result"
    }
   ],
   "source": [
    "np.mean((np.hstack([labels_pde_x, labels_pde_y]) - np.hstack([x, y]))**2)"
   ]
  },
  {
   "cell_type": "code",
   "execution_count": 24,
   "metadata": {},
   "outputs": [],
   "source": [
    "np.save('projectile_cma_60s', (x, y, labels_pde_x, labels_pde_y))"
   ]
  },
  {
   "cell_type": "code",
   "execution_count": null,
   "metadata": {},
   "outputs": [],
   "source": []
  }
 ],
 "metadata": {
  "accelerator": "GPU",
  "colab": {
   "authorship_tag": "ABX9TyMdDRG1Yoiu5xEnB3hhx/UW",
   "collapsed_sections": [
    "2sBP7OlwYaPv",
    "egYFbMFLYnLj",
    "f_lSEQGfYTX1",
    "hp-SQ0LCYRZy"
   ],
   "mount_file_id": "1XvHQ8A46tu3S1WIt7xeVZhhoJZcnxqcH",
   "provenance": []
  },
  "gpuClass": "standard",
  "kernelspec": {
   "display_name": "Python 3 (ipykernel)",
   "language": "python",
   "name": "python3"
  },
  "language_info": {
   "codemirror_mode": {
    "name": "ipython",
    "version": 3
   },
   "file_extension": ".py",
   "mimetype": "text/x-python",
   "name": "python",
   "nbconvert_exporter": "python",
   "pygments_lexer": "ipython3",
   "version": "3.8.13"
  }
 },
 "nbformat": 4,
 "nbformat_minor": 1
}
