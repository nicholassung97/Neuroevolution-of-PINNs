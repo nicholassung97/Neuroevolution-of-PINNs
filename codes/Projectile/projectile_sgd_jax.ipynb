{
 "cells": [
  {
   "cell_type": "markdown",
   "metadata": {
    "id": "L1utZItgyGsp"
   },
   "source": [
    "Import Libraries"
   ]
  },
  {
   "cell_type": "code",
   "execution_count": 1,
   "metadata": {
    "colab": {
     "base_uri": "https://localhost:8080/"
    },
    "executionInfo": {
     "elapsed": 21742,
     "status": "ok",
     "timestamp": 1665420690043,
     "user": {
      "displayName": "Nicholas Sung",
      "userId": "04413473591799886681"
     },
     "user_tz": -480
    },
    "id": "bhzFIM8b1DaE",
    "outputId": "8c96791a-5a2c-45d9-d0e2-d7e1acf27b4c"
   },
   "outputs": [],
   "source": [
    "# # Install the latest JAXlib version.\n",
    "# !pip install --upgrade -q pip jax jaxlib\n",
    "# # Install Flax at head:\n",
    "# # !pip install --upgrade -q git+https://github.com/google/flax.git\n",
    "# !pip install flax\n",
    "# # !pip install flax==0.5.1\n",
    "# # !pip install evojax\n",
    "# !pip install optax"
   ]
  },
  {
   "cell_type": "code",
   "execution_count": 2,
   "metadata": {
    "executionInfo": {
     "elapsed": 11,
     "status": "ok",
     "timestamp": 1665420690044,
     "user": {
      "displayName": "Nicholas Sung",
      "userId": "04413473591799886681"
     },
     "user_tz": -480
    },
    "id": "H4O49iRI1Z7v"
   },
   "outputs": [],
   "source": [
    "import jax\n",
    "import optax\n",
    "import time\n",
    "import matplotlib.pyplot as plt\n",
    "from typing import Any, Callable, Sequence, Optional\n",
    "from jax import lax, random, numpy as jnp\n",
    "import flax\n",
    "from flax.core import freeze, unfreeze\n",
    "from flax import linen as nn\n",
    "from jax import random, grad, vmap, hessian, jacfwd, jit\n",
    "from jax.config import config\n",
    "from scipy import array, power, diag, cos, sin, pi\n",
    "# config.enable_omnistaging() # Linen requires enabling omnistaging\n",
    "# from evojax.util import get_params_format_fn\n",
    "\n",
    "# choose GPU\n",
    "import os\n",
    "os.environ['CUDA_VISIBLE_DEVICES'] = '0'"
   ]
  },
  {
   "cell_type": "markdown",
   "metadata": {
    "id": "x0VO_YozyKDg"
   },
   "source": [
    "PINNs Network"
   ]
  },
  {
   "cell_type": "code",
   "execution_count": 3,
   "metadata": {
    "executionInfo": {
     "elapsed": 8,
     "status": "ok",
     "timestamp": 1665420690044,
     "user": {
      "displayName": "Nicholas Sung",
      "userId": "04413473591799886681"
     },
     "user_tz": -480
    },
    "id": "FYOrzZrl1cEe"
   },
   "outputs": [],
   "source": [
    "n_nodes = 8\n",
    "\n",
    "class PINNs(nn.Module):\n",
    "  \"\"\"PINNs\"\"\"\n",
    "  def setup(self):\n",
    "    # hidden layers\n",
    "    self.layers = [nn.Dense(n_nodes, kernel_init = jax.nn.initializers.glorot_uniform(), use_bias=False),\n",
    "                   nn.tanh,\n",
    "                   nn.Dense(n_nodes, kernel_init = jax.nn.initializers.glorot_uniform()),\n",
    "                   nn.tanh]\n",
    "    # split layers\n",
    "    self.splitx = [nn.Dense(n_nodes, kernel_init = jax.nn.initializers.glorot_uniform()),\n",
    "                   nn.tanh,\n",
    "                   nn.Dense(1, use_bias=False)]\n",
    "    self.splity = [nn.Dense(n_nodes, kernel_init = jax.nn.initializers.glorot_uniform()),\n",
    "                   nn.tanh,\n",
    "                   nn.Dense(1, use_bias=False)]\n",
    "\n",
    "\n",
    "  @nn.compact\n",
    "  def __call__(self, inputs):\n",
    "      # split the two variables, probably just by slicing\n",
    "      t= inputs#[:,0:1]\n",
    "      \n",
    "      def get_xy(t):\n",
    "        for i, lyr in enumerate(self.layers):\n",
    "          t = lyr(t)\n",
    "        # split layers\n",
    "        hidden_x = self.splitx[0](t)\n",
    "        hidden_x = self.splitx[1](hidden_x)\n",
    "        hidden_y = self.splity[0](t)\n",
    "        hidden_y = self.splity[1](hidden_y)\n",
    "        # output layers\n",
    "        x = self.splitx[2](hidden_x)\n",
    "        y = self.splity[2](hidden_y)\n",
    "        return x, y\n",
    "\n",
    "      x, y = get_xy(t)\n",
    "\n",
    "      # deriviatives needed to obtain are x_t, y_t, x_tt, y_tt\n",
    "      def get_xy_t(get_xy, t):\n",
    "        x_t, y_t = jacfwd(get_xy)(t)\n",
    "        return x_t, y_t\n",
    "      xy_t_vmap = vmap(get_xy_t, in_axes=(None, 0))\n",
    "      x_t, y_t = xy_t_vmap(get_xy, t)\n",
    "      x_t = x_t.reshape(-1,1)\n",
    "      y_t = y_t.reshape(-1,1)\n",
    "      def get_xy_tt(get_xy, t):\n",
    "        x_tt, y_tt = hessian(get_xy)(t)\n",
    "        return x_tt, y_tt\n",
    "      xy_tt_vmap = vmap(get_xy_tt, in_axes=(None, 0))\n",
    "      x_tt, y_tt = xy_tt_vmap(get_xy, t)\n",
    "      x_tt = x_tt.reshape(-1,1)\n",
    "      y_tt = y_tt.reshape(-1,1)\n",
    "      action = jnp.hstack([x, y, x_t, y_t, x_tt, y_tt])   \n",
    "      return action\n",
    "\n"
   ]
  },
  {
   "cell_type": "code",
   "execution_count": 4,
   "metadata": {
    "executionInfo": {
     "elapsed": 8,
     "status": "ok",
     "timestamp": 1665420690044,
     "user": {
      "displayName": "Nicholas Sung",
      "userId": "04413473591799886681"
     },
     "user_tz": -480
    },
    "id": "vh_R9gdC33oK"
   },
   "outputs": [],
   "source": [
    "model = PINNs()\n",
    "# params = model.init(random.PRNGKey(0), jnp.zeros([2,1]))"
   ]
  },
  {
   "cell_type": "code",
   "execution_count": 5,
   "metadata": {
    "colab": {
     "base_uri": "https://localhost:8080/"
    },
    "executionInfo": {
     "elapsed": 8,
     "status": "ok",
     "timestamp": 1665420690044,
     "user": {
      "displayName": "Nicholas Sung",
      "userId": "04413473591799886681"
     },
     "user_tz": -480
    },
    "id": "iQA5LaAoNsX2",
    "outputId": "fd1cb032-30d9-404b-bbc8-aa12c9c17efd"
   },
   "outputs": [],
   "source": [
    "seed = 0\n",
    "key1, key2 = random.split(random.PRNGKey(seed))\n",
    "a = random.normal(key1, [1,1]) # Dummy input\n",
    "params = model.init(key2, a) # Initialization call\n",
    "# jax.tree_map(lambda a: a.shape, params) # Checking output shapes\n",
    "# model.apply(params, a)\n",
    "# num_params, format_params_fn = get_params_format_fn(params)"
   ]
  },
  {
   "cell_type": "markdown",
   "metadata": {
    "id": "qLkoVCRBySO2"
   },
   "source": [
    "Functions"
   ]
  },
  {
   "cell_type": "code",
   "execution_count": 6,
   "metadata": {
    "executionInfo": {
     "elapsed": 523,
     "status": "ok",
     "timestamp": 1665420690562,
     "user": {
      "displayName": "Nicholas Sung",
      "userId": "04413473591799886681"
     },
     "user_tz": -480
    },
    "id": "sSBikTe8Ol3_"
   },
   "outputs": [],
   "source": [
    "# function to generate analytical solution\n",
    "def f_x(t):\n",
    "    return x0 + t*u0\n",
    "\n",
    "def f_y(t):\n",
    "    return y0 + t*v0 - 1./2*g*t**2\n",
    "\n",
    "def f_t():\n",
    "    return (vel0*sin(a0*pi/180) + sqrt((vel0*sin(a0*pi/180))**2 + 2*g*y0)) / g\n",
    "\n",
    "# free fall\n",
    "def terminal_vel():\n",
    "    vinf = sqrt(2*m*g / (d*Cd*A))\n",
    "    return vinf\n",
    "\n",
    "def f_yfree(t, vinf):\n",
    "    y_free = y0 - vinf**2/g*log(np.cosh(g*t/vinf))\n",
    "    return y_free"
   ]
  },
  {
   "cell_type": "markdown",
   "metadata": {
    "id": "Vq_v-NIvyVCO"
   },
   "source": [
    "Hyper parameters and data "
   ]
  },
  {
   "cell_type": "code",
   "execution_count": 7,
   "metadata": {
    "executionInfo": {
     "elapsed": 5,
     "status": "ok",
     "timestamp": 1665420690562,
     "user": {
      "displayName": "Nicholas Sung",
      "userId": "04413473591799886681"
     },
     "user_tz": -480
    },
    "id": "6UfQH3XzPZTE"
   },
   "outputs": [
    {
     "name": "stderr",
     "output_type": "stream",
     "text": [
      "/tmp/ipykernel_3924614/3011757104.py:21: DeprecationWarning: scipy.cos is deprecated and will be removed in SciPy 2.0.0, use numpy.cos instead\n",
      "  u0 = vel0 * cos(a0*pi/180)\n",
      "/tmp/ipykernel_3924614/3011757104.py:22: DeprecationWarning: scipy.sin is deprecated and will be removed in SciPy 2.0.0, use numpy.sin instead\n",
      "  v0 = vel0 * sin(a0*pi/180)\n"
     ]
    }
   ],
   "source": [
    "# specify planet to change g, d & a_T\n",
    "# planet = {'earth': (9.8, 1.2, 2), 'mars': (3.7, 0, 4.5), 'moon': (1.6, 0, 10)}\n",
    "planet = {'earth': (9.8, 0, 2), 'mars': (3.7, 0, 5.5), 'moon': (1.6, 0, 8)}\n",
    "g, d, a_T = planet['mars']\n",
    "\n",
    "# parameter related to flying ball (constant)\n",
    "m = 0.6\n",
    "r = 0.12\n",
    "Cd = 0.54\n",
    "A = pi*r**2\n",
    "\n",
    "# initial condition @(x, y) position\n",
    "x0, y0 = 0, 2\n",
    "# initial condition @velocity\n",
    "vel0 = 10       \n",
    "\n",
    "# angle of projectile\n",
    "a0 = 80\n",
    "\n",
    "# initial velocity\n",
    "u0 = vel0 * cos(a0*pi/180)\n",
    "v0 = vel0 * sin(a0*pi/180)\n",
    "\n",
    "# time domain: 0 - t_T\n",
    "t_T = a_T    # let it fly..\n",
    "\n",
    "t_fitness = 0"
   ]
  },
  {
   "cell_type": "code",
   "execution_count": 8,
   "metadata": {
    "executionInfo": {
     "elapsed": 4,
     "status": "ok",
     "timestamp": 1665420690562,
     "user": {
      "displayName": "Nicholas Sung",
      "userId": "04413473591799886681"
     },
     "user_tz": -480
    },
    "id": "HtsEUoRsPaOc"
   },
   "outputs": [],
   "source": [
    "n_pde= 10000\n",
    "n_ic= 1\n",
    "t = jnp.linspace(0, t_T, n_pde).reshape(-1, 1)\n",
    "data_pde = t\n",
    "labels_pde_x = f_x(t)\n",
    "labels_pde_y = f_y(t)"
   ]
  },
  {
   "cell_type": "markdown",
   "metadata": {
    "id": "UHOgwyobyb02"
   },
   "source": [
    "Loss Function"
   ]
  },
  {
   "cell_type": "code",
   "execution_count": 9,
   "metadata": {
    "executionInfo": {
     "elapsed": 4,
     "status": "ok",
     "timestamp": 1665420690562,
     "user": {
      "displayName": "Nicholas Sung",
      "userId": "04413473591799886681"
     },
     "user_tz": -480
    },
    "id": "4e0j2QhFPPEF"
   },
   "outputs": [],
   "source": [
    "def make_mse_func(input):\n",
    "  def mse(params):\n",
    "    # Define the squared loss for a single pair (x,y)\n",
    "    def squared_error(input):\n",
    "        t = input[:,0:1]\n",
    "\n",
    "        prediction = model.apply(params, input)\n",
    "        x, y, x_t, y_t, x_tt, y_tt = prediction[:,0:1], prediction[:,1:2], prediction[:,2:3], prediction[:,3:4], prediction[:,4:5], prediction[:,5:6]\n",
    "\n",
    "\n",
    "        # ground truth\n",
    "        x_true = f_x(t)\n",
    "        y_true = f_y(t)  \n",
    "        _ic = jnp.where((jnp.equal(t, 0)), 1, 0)\n",
    "\n",
    "        # initial conditions (which define the problem)\n",
    "        ic_1 = jnp.sum(jnp.square((x_true-x)*_ic))/jnp.sum(_ic)\n",
    "        ic_2 = jnp.sum(jnp.square((y_true-y)*_ic))/jnp.sum(_ic)\n",
    "\n",
    "        ic_3 = jnp.sum(jnp.square((x_t-u0)*_ic))/jnp.sum(_ic)\n",
    "        ic_4 = jnp.sum(jnp.square((y_t-v0)*_ic))/jnp.sum(_ic)\n",
    "\n",
    "        # sum up all initial conditions\n",
    "        ic_mse = ic_1 + ic_2 + ic_3 + ic_4\n",
    "\n",
    "        # consider drag effect\n",
    "        V = jnp.sqrt( (x_t)**2 + (y_t)**2 )\n",
    "        C = 0.5*d*Cd*A/m\n",
    "        R = C*V\n",
    "\n",
    "        # PDE (physics laws):\n",
    "        pde_x = x_tt + R*x_t\n",
    "        pde_y = y_tt + R*y_t + g\n",
    "        # exclude BC points\n",
    "        _pde = jnp.where((jnp.equal(t, 0)), 0, 1)\n",
    "        pde_x = pde_x*_pde\n",
    "        pde_y = pde_y*_pde        \n",
    "        pde_residuals_x = jnp.sum(jnp.square(pde_x))/jnp.sum(_pde)\n",
    "        pde_residuals_y = jnp.sum(jnp.square(pde_y))/jnp.sum(_pde)\n",
    "        pde_mse = pde_residuals_x + pde_residuals_y\n",
    "\n",
    "        loss = pde_mse + ic_mse\n",
    "        return loss\n",
    "    return squared_error(input)\n",
    "  return jax.jit(mse) # And finally we jit the result.\n",
    "\n",
    "# Get the sampled loss\n",
    "loss = make_mse_func(data_pde)"
   ]
  },
  {
   "cell_type": "markdown",
   "metadata": {
    "id": "DX_6EF54yl4C"
   },
   "source": [
    "Weights Update"
   ]
  },
  {
   "cell_type": "code",
   "execution_count": 10,
   "metadata": {
    "executionInfo": {
     "elapsed": 3,
     "status": "ok",
     "timestamp": 1665420690562,
     "user": {
      "displayName": "Nicholas Sung",
      "userId": "04413473591799886681"
     },
     "user_tz": -480
    },
    "id": "LxrVM13VVM6i"
   },
   "outputs": [],
   "source": [
    "def update(params, opt_state):\n",
    "    start = time.time()  \n",
    "    loss_value, grad = jax.value_and_grad(loss)(params)\n",
    "    end = time.time()\n",
    "    global t_fitness\n",
    "    t_fitness = t_fitness + (end-start)\n",
    "    updates, opt_state = optimizer.update(grad, opt_state)\n",
    "    params = optax.apply_updates(params, updates)\n",
    "    return params, opt_state, loss_value\n",
    "update = jit(update)"
   ]
  },
  {
   "cell_type": "markdown",
   "metadata": {
    "id": "EzT-X2KRyeW0"
   },
   "source": [
    "Optimizer"
   ]
  },
  {
   "cell_type": "code",
   "execution_count": 11,
   "metadata": {
    "executionInfo": {
     "elapsed": 3,
     "status": "ok",
     "timestamp": 1665420690562,
     "user": {
      "displayName": "Nicholas Sung",
      "userId": "04413473591799886681"
     },
     "user_tz": -480
    },
    "id": "RW1pnAmenHGG"
   },
   "outputs": [],
   "source": [
    "alpha = 0.001\n",
    "# optimizer = optax.adam(learning_rate=alpha) # Choose the method\n",
    "optimizer = optax.sgd(learning_rate=alpha) # Choose the method\n",
    "opt_state = optimizer.init(params)\n",
    "loss_grad_fn = jax.value_and_grad(loss)"
   ]
  },
  {
   "cell_type": "markdown",
   "metadata": {
    "id": "GSe-AJVayouG"
   },
   "source": [
    "Training "
   ]
  },
  {
   "cell_type": "code",
   "execution_count": 12,
   "metadata": {},
   "outputs": [],
   "source": [
    "max_iters = 550000\n",
    "loss_ls = []\n",
    "t_training = []\n",
    "\n",
    "runtime = 0\n",
    "train_iters = 0\n",
    "while (train_iters < max_iters) and (runtime < 60):\n",
    "    start = time.process_time()\n",
    "    params, opt_state, loss_value = update(params, opt_state)\n",
    "    end = time.process_time()\n",
    "    t_training.append(end-start)\n",
    "    loss_ls.append(loss_value)\n",
    "    runtime += (end-start)\n",
    "    train_iters += 1\n"
   ]
  },
  {
   "cell_type": "code",
   "execution_count": 13,
   "metadata": {},
   "outputs": [
    {
     "data": {
      "image/png": "[encoded data removed]",
      "text/plain": [
       "<Figure size 640x480 with 1 Axes>"
      ]
     },
     "metadata": {},
     "output_type": "display_data"
    }
   ],
   "source": [
    "import numpy as np\n",
    "training_ls = np.cumsum(t_training)\n",
    "\n",
    "plt.plot(training_ls, loss_ls); plt.yscale('log');\n",
    "# plt.xlim(800,1000)\n",
    "# plt.ylim(-1e6,0)\n",
    "plt.title('Fitness against Iterations')\n",
    "plt.show()"
   ]
  },
  {
   "cell_type": "code",
   "execution_count": 14,
   "metadata": {
    "scrolled": true
   },
   "outputs": [
    {
     "data": {
      "text/html": [
       "<div>\n",
       "<style scoped>\n",
       "    .dataframe tbody tr th:only-of-type {\n",
       "        vertical-align: middle;\n",
       "    }\n",
       "\n",
       "    .dataframe tbody tr th {\n",
       "        vertical-align: top;\n",
       "    }\n",
       "\n",
       "    .dataframe thead th {\n",
       "        text-align: right;\n",
       "    }\n",
       "</style>\n",
       "<table border=\"1\" class=\"dataframe\">\n",
       "  <thead>\n",
       "    <tr style=\"text-align: right;\">\n",
       "      <th></th>\n",
       "      <th>Training Time</th>\n",
       "      <th>Loss</th>\n",
       "    </tr>\n",
       "  </thead>\n",
       "  <tbody>\n",
       "    <tr>\n",
       "      <th>0</th>\n",
       "      <td>5.215438</td>\n",
       "      <td>171.04527</td>\n",
       "    </tr>\n",
       "    <tr>\n",
       "      <th>1</th>\n",
       "      <td>5.216351</td>\n",
       "      <td>156.13757</td>\n",
       "    </tr>\n",
       "    <tr>\n",
       "      <th>2</th>\n",
       "      <td>5.217064</td>\n",
       "      <td>145.70427</td>\n",
       "    </tr>\n",
       "    <tr>\n",
       "      <th>3</th>\n",
       "      <td>5.217736</td>\n",
       "      <td>137.84583</td>\n",
       "    </tr>\n",
       "    <tr>\n",
       "      <th>4</th>\n",
       "      <td>5.218336</td>\n",
       "      <td>131.5871</td>\n",
       "    </tr>\n",
       "    <tr>\n",
       "      <th>...</th>\n",
       "      <td>...</td>\n",
       "      <td>...</td>\n",
       "    </tr>\n",
       "    <tr>\n",
       "      <th>117649</th>\n",
       "      <td>59.998454</td>\n",
       "      <td>0.17878109</td>\n",
       "    </tr>\n",
       "    <tr>\n",
       "      <th>117650</th>\n",
       "      <td>59.998915</td>\n",
       "      <td>0.13647854</td>\n",
       "    </tr>\n",
       "    <tr>\n",
       "      <th>117651</th>\n",
       "      <td>59.999382</td>\n",
       "      <td>0.17875895</td>\n",
       "    </tr>\n",
       "    <tr>\n",
       "      <th>117652</th>\n",
       "      <td>59.999872</td>\n",
       "      <td>0.1364634</td>\n",
       "    </tr>\n",
       "    <tr>\n",
       "      <th>117653</th>\n",
       "      <td>60.000332</td>\n",
       "      <td>0.17873736</td>\n",
       "    </tr>\n",
       "  </tbody>\n",
       "</table>\n",
       "<p>117654 rows × 2 columns</p>\n",
       "</div>"
      ],
      "text/plain": [
       "        Training Time        Loss\n",
       "0            5.215438   171.04527\n",
       "1            5.216351   156.13757\n",
       "2            5.217064   145.70427\n",
       "3            5.217736   137.84583\n",
       "4            5.218336    131.5871\n",
       "...               ...         ...\n",
       "117649      59.998454  0.17878109\n",
       "117650      59.998915  0.13647854\n",
       "117651      59.999382  0.17875895\n",
       "117652      59.999872   0.1364634\n",
       "117653      60.000332  0.17873736\n",
       "\n",
       "[117654 rows x 2 columns]"
      ]
     },
     "execution_count": 14,
     "metadata": {},
     "output_type": "execute_result"
    }
   ],
   "source": [
    "import pandas as pd\n",
    "\n",
    "df = pd.DataFrame({'Training Time': training_ls, 'Loss': loss_ls})\n",
    "#df.to_csv('projectile_sgd_%d.csv'%(seed), index=False)\n",
    "df"
   ]
  },
  {
   "cell_type": "code",
   "execution_count": 15,
   "metadata": {},
   "outputs": [],
   "source": [
    "hello = PINNs()\n",
    "prediction = hello.apply(params, data_pde)\n",
    "x, y = prediction[:,0:1], prediction[:,1:2]"
   ]
  },
  {
   "cell_type": "code",
   "execution_count": 16,
   "metadata": {},
   "outputs": [
    {
     "data": {
      "image/png": "[encoded data removed]",
      "text/plain": [
       "<Figure size 640x480 with 1 Axes>"
      ]
     },
     "metadata": {},
     "output_type": "display_data"
    }
   ],
   "source": [
    "plt.plot(labels_pde_x, labels_pde_y, linewidth=5, alpha=.5);\n",
    "plt.plot(x, y, linestyle='--', c='red');"
   ]
  },
  {
   "cell_type": "code",
   "execution_count": 17,
   "metadata": {},
   "outputs": [
    {
     "data": {
      "text/plain": [
       "2.9144795"
      ]
     },
     "execution_count": 17,
     "metadata": {},
     "output_type": "execute_result"
    }
   ],
   "source": [
    "np.mean((np.hstack([labels_pde_x, labels_pde_y]) - np.hstack([x, y]))**2)"
   ]
  },
  {
   "cell_type": "code",
   "execution_count": 18,
   "metadata": {},
   "outputs": [],
   "source": [
    "np.save('projectile_sgd_60s', (x, y, labels_pde_x, labels_pde_y))"
   ]
  },
  {
   "cell_type": "code",
   "execution_count": null,
   "metadata": {},
   "outputs": [],
   "source": []
  }
 ],
 "metadata": {
  "accelerator": "GPU",
  "colab": {
   "authorship_tag": "ABX9TyPxfu7Zqd/1OrGLQRzYWNna",
   "collapsed_sections": [],
   "provenance": []
  },
  "kernelspec": {
   "display_name": "Python 3 (ipykernel)",
   "language": "python",
   "name": "python3"
  },
  "language_info": {
   "codemirror_mode": {
    "name": "ipython",
    "version": 3
   },
   "file_extension": ".py",
   "mimetype": "text/x-python",
   "name": "python",
   "nbconvert_exporter": "python",
   "pygments_lexer": "ipython3",
   "version": "3.8.13"
  }
 },
 "nbformat": 4,
 "nbformat_minor": 1
}
