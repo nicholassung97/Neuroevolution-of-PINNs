{
 "cells": [
  {
   "cell_type": "markdown",
   "metadata": {
    "id": "L1utZItgyGsp"
   },
   "source": [
    "Import Libraries"
   ]
  },
  {
   "cell_type": "code",
   "execution_count": 1,
   "metadata": {
    "executionInfo": {
     "elapsed": 11,
     "status": "ok",
     "timestamp": 1665420690044,
     "user": {
      "displayName": "Nicholas Sung",
      "userId": "04413473591799886681"
     },
     "user_tz": -480
    },
    "id": "H4O49iRI1Z7v"
   },
   "outputs": [],
   "source": [
    "import jax\n",
    "import optax\n",
    "import time\n",
    "import matplotlib.pyplot as plt\n",
    "from typing import Any, Callable, Sequence, Optional\n",
    "from jax import lax, random, numpy as jnp\n",
    "import flax\n",
    "from flax.core import freeze, unfreeze\n",
    "from flax import linen as nn\n",
    "from jax import random, grad, vmap, hessian, jacfwd, jit\n",
    "from jax.config import config\n",
    "\n",
    "# choose GPU\n",
    "import os\n",
    "os.environ['CUDA_VISIBLE_DEVICES'] = '1'"
   ]
  },
  {
   "cell_type": "markdown",
   "metadata": {
    "id": "x0VO_YozyKDg"
   },
   "source": [
    "PINNs Network"
   ]
  },
  {
   "cell_type": "code",
   "execution_count": 2,
   "metadata": {
    "executionInfo": {
     "elapsed": 8,
     "status": "ok",
     "timestamp": 1665420690044,
     "user": {
      "displayName": "Nicholas Sung",
      "userId": "04413473591799886681"
     },
     "user_tz": -480
    },
    "id": "FYOrzZrl1cEe"
   },
   "outputs": [],
   "source": [
    "n_nodes = 10\n",
    "\n",
    "class PINNs(nn.Module):\n",
    "    \"\"\"PINNs\"\"\"\n",
    "    def setup(self):\n",
    "        self.layers = [nn.Dense(n_nodes, kernel_init = jax.nn.initializers.glorot_uniform()),\n",
    "                       nn.tanh,\n",
    "                       nn.Dense(n_nodes, kernel_init = jax.nn.initializers.glorot_uniform()),\n",
    "                       nn.tanh,\n",
    "                       nn.Dense(n_nodes, kernel_init = jax.nn.initializers.glorot_uniform()),\n",
    "                       nn.tanh,\n",
    "                       nn.Dense(1, kernel_init = jax.nn.initializers.glorot_uniform(), use_bias=False)]\n",
    "        \n",
    "    @nn.compact\n",
    "    def __call__(self, inputs):\n",
    "        # split the two variables, probably just by slicing\n",
    "        x, w = inputs[:,0:1], inputs[:,1:2]\n",
    "        \n",
    "        def get_u(x,w):\n",
    "            u = x\n",
    "            for i, lyr in enumerate(self.layers):\n",
    "                u = lyr(u)\n",
    "            return u\n",
    "        \n",
    "        u = get_u(x, w)\n",
    "        \n",
    "        # obtain u_x\n",
    "        def get_u_x(get_u, x, w):\n",
    "            u_x = jacfwd(get_u)(x, w)\n",
    "            return u_x\n",
    "        \n",
    "        u_x_vmap = vmap(get_u_x, in_axes=(None, 0, 0))\n",
    "        u_x = u_x_vmap(get_u, x, w).reshape(-1,1)  \n",
    "        \n",
    "        #obtain u_xx    \n",
    "        def get_u_xx(get_u, x, w):\n",
    "            u_xx = hessian(get_u)(x,w)\n",
    "            return u_xx\n",
    "        \n",
    "        u_xx_vmap = vmap(get_u_xx, in_axes=(None, 0, 0))\n",
    "        u_xx = u_xx_vmap(get_u, x, w).reshape(-1,1)  \n",
    "        \n",
    "        action = jnp.hstack([u,u_x, u_xx])   \n",
    "        return action\n",
    "\n",
    "# initialize model\n",
    "model = PINNs()    "
   ]
  },
  {
   "cell_type": "code",
   "execution_count": 3,
   "metadata": {
    "executionInfo": {
     "elapsed": 8,
     "status": "ok",
     "timestamp": 1665420690044,
     "user": {
      "displayName": "Nicholas Sung",
      "userId": "04413473591799886681"
     },
     "user_tz": -480
    },
    "id": "vh_R9gdC33oK"
   },
   "outputs": [],
   "source": [
    "# choose seed\n",
    "seed = 0\n",
    "key1, key2 = random.split(random.PRNGKey(seed))\n",
    "a = random.normal(key1, [1,1]) # Dummy input\n",
    "params = model.init(key2, a) # Initialization call"
   ]
  },
  {
   "cell_type": "code",
   "execution_count": 4,
   "metadata": {},
   "outputs": [
    {
     "data": {
      "text/plain": [
       "250"
      ]
     },
     "execution_count": 4,
     "metadata": {},
     "output_type": "execute_result"
    }
   ],
   "source": [
    "from evojax.util import get_params_format_fn\n",
    "num_params, format_params_fn = get_params_format_fn(params)\n",
    "num_params"
   ]
  },
  {
   "cell_type": "markdown",
   "metadata": {
    "id": "qLkoVCRBySO2"
   },
   "source": [
    "Problem"
   ]
  },
  {
   "cell_type": "code",
   "execution_count": 5,
   "metadata": {
    "executionInfo": {
     "elapsed": 523,
     "status": "ok",
     "timestamp": 1665420690562,
     "user": {
      "displayName": "Nicholas Sung",
      "userId": "04413473591799886681"
     },
     "user_tz": -480
    },
    "id": "sSBikTe8Ol3_"
   },
   "outputs": [],
   "source": [
    "# Function to generate analytical solution\n",
    "def eval_u(x, Pe, L):\n",
    "    u = (1. - jnp.exp(Pe*x/L)) / (1. - jnp.exp(Pe))\n",
    "    return u\n",
    "\n",
    "def eval_Pe(u, k, L):\n",
    "    return u*L/k\n",
    "\n",
    "# f: IC/BC\n",
    "def tf_bc(x):\n",
    "    u = (1. - jnp.exp(Pe*x/L)) / (1. - jnp.exp(Pe))\n",
    "    return u"
   ]
  },
  {
   "cell_type": "markdown",
   "metadata": {
    "id": "Vq_v-NIvyVCO"
   },
   "source": [
    "Hyper parameters and data "
   ]
  },
  {
   "cell_type": "code",
   "execution_count": 6,
   "metadata": {
    "executionInfo": {
     "elapsed": 5,
     "status": "ok",
     "timestamp": 1665420690562,
     "user": {
      "displayName": "Nicholas Sung",
      "userId": "04413473591799886681"
     },
     "user_tz": -480
    },
    "id": "6UfQH3XzPZTE"
   },
   "outputs": [],
   "source": [
    "# choose v (PDE parameter)\n",
    "v = 6\n",
    "\n",
    "# fixed PDE & BC parameters k & L\n",
    "k = 1.\n",
    "L = 1.\n",
    "Pe = eval_Pe(v, k, L)\n",
    "\n",
    "# domain Boundary\n",
    "x_l, x_u = 0, L\n",
    "\n",
    "# sample size\n",
    "n = 10000\n",
    "\n",
    "# PDE data\n",
    "x_pde = jnp.linspace(x_l, x_u, n)\n",
    "data_pde = jnp.hstack([x_pde.reshape(-1, 1), jnp.ones((len(x_pde), 1))])\n",
    "labels_pde = jnp.reshape(eval_u(x_pde, Pe, L),(-1, 1))"
   ]
  },
  {
   "cell_type": "markdown",
   "metadata": {
    "id": "UHOgwyobyb02"
   },
   "source": [
    "Loss Function"
   ]
  },
  {
   "cell_type": "code",
   "execution_count": 7,
   "metadata": {},
   "outputs": [],
   "source": [
    "# loss function parameter\n",
    "lmbda = 1 #500"
   ]
  },
  {
   "cell_type": "code",
   "execution_count": 8,
   "metadata": {},
   "outputs": [],
   "source": [
    "def loss(params, input):\n",
    "    x = input[:,0:1]\n",
    "    pred = model.apply(format_params_fn(params), x)\n",
    "    u, u_x, u_xx = pred[:,0:1], pred[:,1:2], pred[:,2:3]\n",
    "    t_u = tf_bc(x) # ground truth\n",
    "    _bc = jnp.where((jnp.equal(x, x_l) | jnp.equal(x, x_u)), 1, 0)\n",
    "    bc_mse = jnp.sum(jnp.square((t_u - u)*_bc)) / jnp.sum(_bc)\n",
    "    # PDE (physics laws): v*u_x = k*u_xx  \n",
    "    pde = v*u_x - k*u_xx\n",
    "    # exclude BC points\n",
    "    _pde = jnp.where((jnp.equal(x, x_l) | jnp.equal(x, x_u)), 0, 1)\n",
    "    pde = pde *_pde\n",
    "    pde_mse = jnp.sum(jnp.square(pde)) / jnp.sum(_pde)\n",
    "    pde_mse = pde_mse / lmbda  \n",
    "    loss = pde_mse + bc_mse\n",
    "    return loss\n",
    "  \n",
    "#loss_grad = jax.jit(jax.grad(loss))\n",
    "loss_grad = jax.jit(jax.value_and_grad(loss))    "
   ]
  },
  {
   "cell_type": "markdown",
   "metadata": {
    "id": "DX_6EF54yl4C"
   },
   "source": [
    "Weights Update"
   ]
  },
  {
   "cell_type": "code",
   "execution_count": 9,
   "metadata": {
    "executionInfo": {
     "elapsed": 3,
     "status": "ok",
     "timestamp": 1665420690562,
     "user": {
      "displayName": "Nicholas Sung",
      "userId": "04413473591799886681"
     },
     "user_tz": -480
    },
    "id": "LxrVM13VVM6i"
   },
   "outputs": [],
   "source": [
    "def update(params, opt_state, batch_data):\n",
    "    loss_value, grad = loss_grad(params, batch_data)\n",
    "    updates, opt_state = optimizer.update(grad, opt_state)\n",
    "    params = optax.apply_updates(params, updates)\n",
    "    return params, opt_state, loss_value\n",
    "\n",
    "update = jit(update)"
   ]
  },
  {
   "cell_type": "markdown",
   "metadata": {},
   "source": [
    "Initialization"
   ]
  },
  {
   "cell_type": "code",
   "execution_count": 10,
   "metadata": {},
   "outputs": [],
   "source": [
    "# initial params\n",
    "params = model.init(key2, a) # Initialization call\n",
    "\n",
    "# flatten initial params\n",
    "params = jax.flatten_util.ravel_pytree(params)[0]"
   ]
  },
  {
   "cell_type": "code",
   "execution_count": 11,
   "metadata": {},
   "outputs": [],
   "source": [
    "# # obtain hessien matrix\n",
    "# hess = jax.hessian(loss)(params)\n",
    "# hess"
   ]
  },
  {
   "cell_type": "markdown",
   "metadata": {
    "id": "EzT-X2KRyeW0"
   },
   "source": [
    "Optimizer"
   ]
  },
  {
   "cell_type": "code",
   "execution_count": 12,
   "metadata": {
    "executionInfo": {
     "elapsed": 3,
     "status": "ok",
     "timestamp": 1665420690562,
     "user": {
      "displayName": "Nicholas Sung",
      "userId": "04413473591799886681"
     },
     "user_tz": -480
    },
    "id": "RW1pnAmenHGG"
   },
   "outputs": [],
   "source": [
    "alpha = 0.001\n",
    "#optimizer = optax.adam(learning_rate=alpha) # Choose the method\n",
    "optimizer = optax.sgd(learning_rate=alpha) # Choose the method\n",
    "opt_state = optimizer.init(params)"
   ]
  },
  {
   "cell_type": "markdown",
   "metadata": {},
   "source": [
    "Minibatching"
   ]
  },
  {
   "cell_type": "code",
   "execution_count": 13,
   "metadata": {},
   "outputs": [],
   "source": [
    "BS_pde = 100\n",
    "\n",
    "data_bc = data_pde[(0,-1),:]\n",
    "def minibatch(train_iters):\n",
    "    _batch = jax.random.choice(random.PRNGKey(train_iters), n, (BS_pde,))\n",
    "    batch_data = jnp.vstack([data_pde[_batch], data_bc])\n",
    "    return batch_data\n",
    "\n",
    "minibatch = jit(minibatch)"
   ]
  },
  {
   "cell_type": "markdown",
   "metadata": {
    "id": "GSe-AJVayouG"
   },
   "source": [
    "Training "
   ]
  },
  {
   "cell_type": "code",
   "execution_count": 14,
   "metadata": {
    "colab": {
     "base_uri": "https://localhost:8080/"
    },
    "executionInfo": {
     "elapsed": 4541,
     "status": "ok",
     "timestamp": 1665420695100,
     "user": {
      "displayName": "Nicholas Sung",
      "userId": "04413473591799886681"
     },
     "user_tz": -480
    },
    "id": "i5ZOx3jIv5gH",
    "outputId": "d5453e6d-646d-4031-fb8c-5cb070be3ec8"
   },
   "outputs": [
    {
     "name": "stdout",
     "output_type": "stream",
     "text": [
      "Loss step 1000:  0.2363987\n",
      "Loss step 5000:  0.23062538\n",
      "Loss step 10000:  0.22883177\n",
      "Loss step 50000:  0.20650917\n",
      "Loss step 100000:  0.0023287057\n"
     ]
    },
    {
     "data": {
      "text/plain": [
       "170351"
      ]
     },
     "execution_count": 14,
     "metadata": {},
     "output_type": "execute_result"
    }
   ],
   "source": [
    "max_iters = 500000\n",
    "loss_ls = []\n",
    "t_training = []\n",
    "runtime = 0\n",
    "train_iters = 0\n",
    "while (train_iters < max_iters) and (runtime < 60):\n",
    "    start = time.time()\n",
    "    # stochastic update\n",
    "    batch_data = minibatch(train_iters)\n",
    "    params, opt_state, loss_value = update(params, opt_state, batch_data)\n",
    "    end = time.time()\n",
    "    t_training.append(end-start)\n",
    "    loss_ls.append(loss_value)\n",
    "    runtime += (end-start)\n",
    "    train_iters += 1    \n",
    "    # append weights\n",
    "    show_iters = [1000, 5000, 10000, 50000, 100000]\n",
    "    if (train_iters in show_iters):\n",
    "        print('Loss step {}: '.format(train_iters), loss_value)\n",
    "              \n",
    "# final train_iters\n",
    "train_iters"
   ]
  },
  {
   "cell_type": "code",
   "execution_count": 15,
   "metadata": {},
   "outputs": [],
   "source": [
    "# process results\n",
    "import numpy as np\n",
    "import pandas as pd"
   ]
  },
  {
   "cell_type": "code",
   "execution_count": 16,
   "metadata": {},
   "outputs": [
    {
     "data": {
      "text/plain": [
       "array([ 1.92027831,  1.92080641,  1.92114377, ..., 59.99956536,\n",
       "       59.99988484, 60.00021362])"
      ]
     },
     "execution_count": 16,
     "metadata": {},
     "output_type": "execute_result"
    }
   ],
   "source": [
    "training_ls = np.cumsum(t_training)\n",
    "training_ls"
   ]
  },
  {
   "cell_type": "code",
   "execution_count": 17,
   "metadata": {},
   "outputs": [
    {
     "data": {
      "text/plain": [
       "DeviceArray(0.00037874, dtype=float32)"
      ]
     },
     "execution_count": 17,
     "metadata": {},
     "output_type": "execute_result"
    }
   ],
   "source": [
    "loss_ls[-1]"
   ]
  },
  {
   "cell_type": "code",
   "execution_count": 18,
   "metadata": {},
   "outputs": [
    {
     "data": {
      "image/png": "[encoded data removed]",
      "text/plain": [
       "<Figure size 640x480 with 1 Axes>"
      ]
     },
     "metadata": {},
     "output_type": "display_data"
    }
   ],
   "source": [
    "plt.plot(training_ls, loss_ls); plt.yscale('log');\n",
    "plt.title('Fitness against Iterations')\n",
    "plt.show()"
   ]
  },
  {
   "cell_type": "markdown",
   "metadata": {},
   "source": [
    "#### Visualize results"
   ]
  },
  {
   "cell_type": "code",
   "execution_count": 19,
   "metadata": {},
   "outputs": [
    {
     "data": {
      "text/plain": [
       "DeviceArray(2.061595e-06, dtype=float32)"
      ]
     },
     "execution_count": 19,
     "metadata": {},
     "output_type": "execute_result"
    },
    {
     "data": {
      "image/png": "[encoded data removed]",
      "text/plain": [
       "<Figure size 640x480 with 1 Axes>"
      ]
     },
     "metadata": {},
     "output_type": "display_data"
    }
   ],
   "source": [
    "# plot final\n",
    "hello = PINNs()\n",
    "prediction = hello.apply(format_params_fn(params), data_pde)\n",
    "u = prediction[:,0:1]\n",
    "\n",
    "plt.plot(x_pde, labels_pde, label = \"Actual\"); plt.plot(x_pde, u, '--', label = \"Predicted\");\n",
    "plt.legend(loc='upper center'); plt.title('u against x');\n",
    "jnp.mean(jnp.square(labels_pde - u))"
   ]
  },
  {
   "cell_type": "code",
   "execution_count": null,
   "metadata": {},
   "outputs": [],
   "source": []
  }
 ],
 "metadata": {
  "accelerator": "GPU",
  "colab": {
   "authorship_tag": "ABX9TyPxfu7Zqd/1OrGLQRzYWNna",
   "collapsed_sections": [],
   "provenance": []
  },
  "kernelspec": {
   "display_name": "Python 3 (ipykernel)",
   "language": "python",
   "name": "python3"
  },
  "language_info": {
   "codemirror_mode": {
    "name": "ipython",
    "version": 3
   },
   "file_extension": ".py",
   "mimetype": "text/x-python",
   "name": "python",
   "nbconvert_exporter": "python",
   "pygments_lexer": "ipython3",
   "version": "3.8.13"
  }
 },
 "nbformat": 4,
 "nbformat_minor": 1
}
