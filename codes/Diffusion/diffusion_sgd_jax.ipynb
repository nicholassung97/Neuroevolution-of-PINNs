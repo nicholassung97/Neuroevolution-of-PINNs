{
 "cells": [
  {
   "cell_type": "markdown",
   "metadata": {
    "id": "L1utZItgyGsp"
   },
   "source": [
    "Import Libraries"
   ]
  },
  {
   "cell_type": "code",
   "execution_count": 1,
   "metadata": {
    "executionInfo": {
     "elapsed": 11,
     "status": "ok",
     "timestamp": 1665420690044,
     "user": {
      "displayName": "Nicholas Sung",
      "userId": "04413473591799886681"
     },
     "user_tz": -480
    },
    "id": "H4O49iRI1Z7v"
   },
   "outputs": [],
   "source": [
    "import jax\n",
    "import optax\n",
    "import time\n",
    "import matplotlib.pyplot as plt\n",
    "from typing import Any, Callable, Sequence, Optional\n",
    "from jax import lax, random, numpy as jnp\n",
    "import flax\n",
    "from flax.core import freeze, unfreeze\n",
    "from flax import linen as nn\n",
    "from jax import random, grad, vmap, hessian, jacfwd, jit\n",
    "from jax.config import config\n",
    "\n",
    "# choose GPU\n",
    "import os\n",
    "os.environ['CUDA_VISIBLE_DEVICES'] = '0'"
   ]
  },
  {
   "cell_type": "markdown",
   "metadata": {
    "id": "x0VO_YozyKDg"
   },
   "source": [
    "PINNs Network"
   ]
  },
  {
   "cell_type": "code",
   "execution_count": 2,
   "metadata": {
    "executionInfo": {
     "elapsed": 8,
     "status": "ok",
     "timestamp": 1665420690044,
     "user": {
      "displayName": "Nicholas Sung",
      "userId": "04413473591799886681"
     },
     "user_tz": -480
    },
    "id": "FYOrzZrl1cEe"
   },
   "outputs": [],
   "source": [
    "n_nodes = 10\n",
    "\n",
    "class PINNs(nn.Module):\n",
    "  \"\"\"PINNs\"\"\"\n",
    "  def setup(self):\n",
    "    self.layers = [nn.Dense(n_nodes, kernel_init = jax.nn.initializers.glorot_uniform()),\n",
    "                   nn.tanh,\n",
    "                   nn.Dense(n_nodes, kernel_init = jax.nn.initializers.glorot_uniform()),\n",
    "                   nn.tanh,\n",
    "                   nn.Dense(n_nodes, kernel_init = jax.nn.initializers.glorot_uniform()),\n",
    "                   nn.tanh,\n",
    "                   nn.Dense(1, kernel_init = jax.nn.initializers.glorot_uniform(), use_bias=False)]\n",
    "\n",
    "\n",
    "  @nn.compact\n",
    "  def __call__(self, inputs):\n",
    "      # split the two variables, probably just by slicing\n",
    "      x, w = inputs[:,0:1], inputs[:,1:2]\n",
    "      \n",
    "      def get_u(x,w):\n",
    "#         u = jnp.hstack([x,w])\n",
    "        u = x\n",
    "        for i, lyr in enumerate(self.layers):\n",
    "          u = lyr(u)\n",
    "        return u\n",
    "\n",
    "      u = get_u(x, w)\n",
    "\n",
    "      # obtain u_x\n",
    "      def get_u_x(get_u, x, w):\n",
    "        u_x = jacfwd(get_u)(x, w)\n",
    "        return u_x\n",
    "      u_x_vmap = vmap(get_u_x, in_axes=(None, 0, 0))\n",
    "      u_x = u_x_vmap(get_u, x, w).reshape(-1,1)  \n",
    "      #obtain u_xx    \n",
    "      def get_u_xx(get_u, x, w):\n",
    "        u_xx = hessian(get_u)(x,w)\n",
    "        return u_xx\n",
    "      u_xx_vmap = vmap(get_u_xx, in_axes=(None, 0, 0))\n",
    "      u_xx = u_xx_vmap(get_u, x, w).reshape(-1,1)      \n",
    "      action = jnp.hstack([u,u_x, u_xx])   \n",
    "      return action\n"
   ]
  },
  {
   "cell_type": "code",
   "execution_count": 3,
   "metadata": {
    "executionInfo": {
     "elapsed": 8,
     "status": "ok",
     "timestamp": 1665420690044,
     "user": {
      "displayName": "Nicholas Sung",
      "userId": "04413473591799886681"
     },
     "user_tz": -480
    },
    "id": "vh_R9gdC33oK"
   },
   "outputs": [],
   "source": [
    "model = PINNs()\n",
    "# params = model.init(random.PRNGKey(0), jnp.zeros([2,1]))"
   ]
  },
  {
   "cell_type": "code",
   "execution_count": 4,
   "metadata": {
    "colab": {
     "base_uri": "https://localhost:8080/"
    },
    "executionInfo": {
     "elapsed": 8,
     "status": "ok",
     "timestamp": 1665420690044,
     "user": {
      "displayName": "Nicholas Sung",
      "userId": "04413473591799886681"
     },
     "user_tz": -480
    },
    "id": "iQA5LaAoNsX2",
    "outputId": "fd1cb032-30d9-404b-bbc8-aa12c9c17efd"
   },
   "outputs": [
    {
     "data": {
      "text/plain": [
       "FrozenDict({\n",
       "    params: {\n",
       "        layers_0: {\n",
       "            kernel: DeviceArray([[ 0.42931974,  0.44043028,  0.40724975,  0.5920474 ,\n",
       "                           0.35924262, -0.26018986, -0.17083684, -0.04383535,\n",
       "                          -0.55320156, -0.04911241]], dtype=float32),\n",
       "            bias: DeviceArray([0., 0., 0., 0., 0., 0., 0., 0., 0., 0.], dtype=float32),\n",
       "        },\n",
       "        layers_2: {\n",
       "            kernel: DeviceArray([[-0.10643526, -0.33458424, -0.31936586, -0.10162847,\n",
       "                          -0.3434626 ,  0.2522192 ,  0.32469654, -0.39344093,\n",
       "                           0.11392509,  0.20166366],\n",
       "                         [ 0.50698286, -0.39070815,  0.28065586,  0.35078502,\n",
       "                           0.30270684, -0.5174967 , -0.04673991,  0.50925744,\n",
       "                           0.03883834,  0.31939563],\n",
       "                         [ 0.48460272, -0.5359312 ,  0.1574139 , -0.326109  ,\n",
       "                           0.35532957,  0.36741516, -0.04490673,  0.11889929,\n",
       "                           0.40595734, -0.30129087],\n",
       "                         [-0.45957124, -0.3569029 ,  0.16847752, -0.19626427,\n",
       "                           0.17051168, -0.54272604, -0.39414808, -0.39835688,\n",
       "                          -0.39874002,  0.28094134],\n",
       "                         [ 0.05320372,  0.2723872 , -0.0676835 , -0.09744786,\n",
       "                           0.02808527, -0.18692335,  0.44900203, -0.00683781,\n",
       "                           0.45929295,  0.27580938],\n",
       "                         [ 0.43202478,  0.50300705,  0.48766473, -0.53141785,\n",
       "                           0.0294721 , -0.5314821 ,  0.37146154,  0.4629759 ,\n",
       "                           0.2073267 ,  0.5412768 ],\n",
       "                         [-0.45578316, -0.30395564, -0.47430512, -0.34583354,\n",
       "                          -0.50350577,  0.3342579 , -0.36464372,  0.5392165 ,\n",
       "                          -0.12665291, -0.36759144],\n",
       "                         [-0.2139698 , -0.02760327, -0.48934904,  0.29225802,\n",
       "                          -0.07199614, -0.4191323 ,  0.48923022, -0.4056746 ,\n",
       "                           0.28641072, -0.3587058 ],\n",
       "                         [ 0.06074984, -0.01606693, -0.53446615, -0.01589599,\n",
       "                          -0.41139498,  0.4900435 ,  0.38830233, -0.35976353,\n",
       "                           0.17502698, -0.10296099],\n",
       "                         [ 0.03976747, -0.32127413, -0.18493465, -0.42956084,\n",
       "                           0.3462419 , -0.01178916, -0.30969024,  0.09694705,\n",
       "                           0.03533939,  0.02975809]], dtype=float32),\n",
       "            bias: DeviceArray([0., 0., 0., 0., 0., 0., 0., 0., 0., 0.], dtype=float32),\n",
       "        },\n",
       "        layers_4: {\n",
       "            kernel: DeviceArray([[ 0.31571946,  0.36504695,  0.44184533, -0.21640551,\n",
       "                           0.18875876,  0.20624061,  0.24408583,  0.14110826,\n",
       "                           0.17124335,  0.5385572 ],\n",
       "                         [ 0.33717796,  0.39197275, -0.45155448,  0.05014106,\n",
       "                          -0.29197714, -0.3472154 , -0.00162842,  0.27390215,\n",
       "                           0.16992311,  0.16355987],\n",
       "                         [ 0.33718878,  0.509697  , -0.15967345, -0.5096841 ,\n",
       "                           0.08970259,  0.4251714 , -0.39168468, -0.0413071 ,\n",
       "                          -0.29416525,  0.13243113],\n",
       "                         [-0.21099973,  0.09316812, -0.11493492,  0.20796292,\n",
       "                           0.18596785, -0.18693654, -0.5301023 , -0.15499882,\n",
       "                          -0.10049693, -0.35828567],\n",
       "                         [-0.38832074,  0.35875854, -0.26112276, -0.31698197,\n",
       "                           0.10052266, -0.32685503, -0.23303202, -0.21535389,\n",
       "                          -0.45477542, -0.12851286],\n",
       "                         [-0.0387122 ,  0.37540787, -0.35790437, -0.48615238,\n",
       "                          -0.38977158, -0.44517282,  0.48623034, -0.45554745,\n",
       "                           0.5146362 , -0.00547213],\n",
       "                         [-0.46288475, -0.09323145,  0.5030333 , -0.16911113,\n",
       "                          -0.3160415 , -0.43272355, -0.3477354 , -0.16208188,\n",
       "                           0.04278769,  0.41770574],\n",
       "                         [-0.42615578,  0.24979302, -0.0951025 ,  0.40827146,\n",
       "                          -0.3482567 ,  0.19823483,  0.2406993 ,  0.30255234,\n",
       "                           0.33226448, -0.02221498],\n",
       "                         [-0.09102988,  0.5075039 ,  0.07909565,  0.25786775,\n",
       "                          -0.14358184,  0.09974031, -0.16080774,  0.32067943,\n",
       "                           0.09455025, -0.13349934],\n",
       "                         [ 0.42899278, -0.4577882 , -0.10968348,  0.16655998,\n",
       "                           0.32704073,  0.29050815,  0.03350529,  0.48677346,\n",
       "                          -0.46895066,  0.01764299]], dtype=float32),\n",
       "            bias: DeviceArray([0., 0., 0., 0., 0., 0., 0., 0., 0., 0.], dtype=float32),\n",
       "        },\n",
       "        layers_6: {\n",
       "            kernel: DeviceArray([[ 0.1305633 ],\n",
       "                         [ 0.4708845 ],\n",
       "                         [ 0.52783424],\n",
       "                         [ 0.49166697],\n",
       "                         [-0.06848674],\n",
       "                         [-0.65911436],\n",
       "                         [-0.5686689 ],\n",
       "                         [-0.47531193],\n",
       "                         [ 0.5664693 ],\n",
       "                         [ 0.24108793]], dtype=float32),\n",
       "        },\n",
       "    },\n",
       "})"
      ]
     },
     "execution_count": 4,
     "metadata": {},
     "output_type": "execute_result"
    }
   ],
   "source": [
    "seed = 0\n",
    "key1, key2 = random.split(random.PRNGKey(seed))\n",
    "a = random.normal(key1, [1,1]) # Dummy input\n",
    "params = model.init(key2, a) # Initialization call\n",
    "# jax.tree_map(lambda a: a.shape, params) # Checking output shapes\n",
    "# model.apply(params, a)\n",
    "# num_params, format_params_fn = get_params_format_fn(params)\n",
    "params"
   ]
  },
  {
   "cell_type": "markdown",
   "metadata": {
    "id": "qLkoVCRBySO2"
   },
   "source": [
    "Functions"
   ]
  },
  {
   "cell_type": "code",
   "execution_count": 5,
   "metadata": {
    "executionInfo": {
     "elapsed": 523,
     "status": "ok",
     "timestamp": 1665420690562,
     "user": {
      "displayName": "Nicholas Sung",
      "userId": "04413473591799886681"
     },
     "user_tz": -480
    },
    "id": "sSBikTe8Ol3_"
   },
   "outputs": [],
   "source": [
    "# Function to generate analytical solution\n",
    "def eval_u(x, Pe, L):\n",
    "    u = (1. - jnp.exp(Pe*x/L)) / (1. - jnp.exp(Pe))\n",
    "    return u\n",
    "\n",
    "def eval_Pe(u, k, L):\n",
    "    return u*L/k\n",
    "\n",
    "# f: IC/BC\n",
    "def tf_bc(x):\n",
    "    u = (1. - jnp.exp(Pe*x/L)) / (1. - jnp.exp(Pe))\n",
    "    return u"
   ]
  },
  {
   "cell_type": "markdown",
   "metadata": {
    "id": "Vq_v-NIvyVCO"
   },
   "source": [
    "Hyper parameters and data "
   ]
  },
  {
   "cell_type": "code",
   "execution_count": 6,
   "metadata": {
    "executionInfo": {
     "elapsed": 5,
     "status": "ok",
     "timestamp": 1665420690562,
     "user": {
      "displayName": "Nicholas Sung",
      "userId": "04413473591799886681"
     },
     "user_tz": -480
    },
    "id": "6UfQH3XzPZTE"
   },
   "outputs": [],
   "source": [
    "# We prepare the data\n",
    "# choose v (PDE parameter)\n",
    "v = 6\n",
    "# fixed PDE & BC parameters k & L\n",
    "k = 1.\n",
    "L = 1.\n",
    "Pe = eval_Pe(v, k, L)\n",
    "lmbda = 1 #500\n",
    "# Domain Boundary\n",
    "x_l, x_u = 0, L\n",
    "n = 10000\n",
    "\n",
    "# t_fitness = 0\n"
   ]
  },
  {
   "cell_type": "code",
   "execution_count": 7,
   "metadata": {
    "executionInfo": {
     "elapsed": 4,
     "status": "ok",
     "timestamp": 1665420690562,
     "user": {
      "displayName": "Nicholas Sung",
      "userId": "04413473591799886681"
     },
     "user_tz": -480
    },
    "id": "HtsEUoRsPaOc"
   },
   "outputs": [],
   "source": [
    "x_pde = jnp.linspace(x_l, x_u, n)\n",
    "# PDE Data\n",
    "# shape (1000, 2)\n",
    "data_pde = jnp.hstack([x_pde.reshape(-1, 1), jnp.ones((len(x_pde), 1))])\n",
    "# samples, features = data_pde.shape\n",
    "# shape (1000, 1)\n",
    "labels_pde = jnp.reshape(eval_u(x_pde, Pe, L),(-1, 1))\n",
    "# b = model.apply(params, data_pde)"
   ]
  },
  {
   "cell_type": "markdown",
   "metadata": {
    "id": "UHOgwyobyb02"
   },
   "source": [
    "Loss Function"
   ]
  },
  {
   "cell_type": "code",
   "execution_count": 8,
   "metadata": {
    "executionInfo": {
     "elapsed": 4,
     "status": "ok",
     "timestamp": 1665420690562,
     "user": {
      "displayName": "Nicholas Sung",
      "userId": "04413473591799886681"
     },
     "user_tz": -480
    },
    "id": "4e0j2QhFPPEF"
   },
   "outputs": [],
   "source": [
    "def make_mse_func(input):\n",
    "  def mse(params):\n",
    "    # Define the squared loss for a single pair (x,y)\n",
    "    def squared_error(input):\n",
    "      x = input[:,0:1]\n",
    "      \n",
    "      pred = model.apply(params, input)\n",
    "      u, u_x, u_xx = pred[:,0:1], pred[:,1:2], pred[:,2:3]\n",
    "      # ground truth\n",
    "      t_u = tf_bc(x)\n",
    "      _bc = jnp.where((jnp.equal(x, x_l)|jnp.equal(x, x_u)), 1, 0)\n",
    "      # _bc = ( jnp.equal(x, x_l) | jnp.equal(x, x_u) )\n",
    "      bc_mse = jnp.sum(jnp.square((t_u-u)*_bc))/jnp.sum(_bc)\n",
    "      # PDE (physics laws): v*u_x = k*u_xx  \n",
    "      pde = v*u_x - k*u_xx \n",
    "      # exclude BC points\n",
    "      _pde = jnp.where((jnp.equal(x, x_l)|jnp.equal(x, x_u)), 0, 1)\n",
    "      pde = pde*_pde\n",
    "      pde_mse = jnp.sum(jnp.square(pde))/jnp.sum(_pde)\n",
    "      pde_mse = pde_mse / lmbda  \n",
    "      loss = pde_mse + bc_mse\n",
    "      return loss\n",
    "    return squared_error(input)\n",
    "  return jax.jit(mse) # And finally we jit the result.\n",
    "\n",
    "# Get the sampled loss\n",
    "loss = make_mse_func(data_pde)"
   ]
  },
  {
   "cell_type": "markdown",
   "metadata": {
    "id": "DX_6EF54yl4C"
   },
   "source": [
    "Weights Update"
   ]
  },
  {
   "cell_type": "code",
   "execution_count": 9,
   "metadata": {
    "executionInfo": {
     "elapsed": 3,
     "status": "ok",
     "timestamp": 1665420690562,
     "user": {
      "displayName": "Nicholas Sung",
      "userId": "04413473591799886681"
     },
     "user_tz": -480
    },
    "id": "LxrVM13VVM6i"
   },
   "outputs": [],
   "source": [
    "def update(params, opt_state):\n",
    "#     start = time.time()  \n",
    "    loss_value, grad = jax.value_and_grad(loss)(params)\n",
    "#     end = time.time()\n",
    "#     global t_fitness\n",
    "#     t_fitness = t_fitness + (end-start)\n",
    "    updates, opt_state = optimizer.update(grad, opt_state)\n",
    "    params = optax.apply_updates(params, updates)\n",
    "    return params, opt_state, loss_value\n",
    "update = jit(update)"
   ]
  },
  {
   "cell_type": "markdown",
   "metadata": {
    "id": "EzT-X2KRyeW0"
   },
   "source": [
    "Optimizer"
   ]
  },
  {
   "cell_type": "code",
   "execution_count": 10,
   "metadata": {
    "executionInfo": {
     "elapsed": 3,
     "status": "ok",
     "timestamp": 1665420690562,
     "user": {
      "displayName": "Nicholas Sung",
      "userId": "04413473591799886681"
     },
     "user_tz": -480
    },
    "id": "RW1pnAmenHGG"
   },
   "outputs": [],
   "source": [
    "alpha = 0.001\n",
    "# optimizer = optax.adam(learning_rate=alpha) # Choose the method\n",
    "optimizer = optax.sgd(learning_rate=alpha) # Choose the method\n",
    "opt_state = optimizer.init(params)\n",
    "loss_grad_fn = jax.value_and_grad(loss)"
   ]
  },
  {
   "cell_type": "markdown",
   "metadata": {
    "id": "GSe-AJVayouG"
   },
   "source": [
    "Training "
   ]
  },
  {
   "cell_type": "code",
   "execution_count": 11,
   "metadata": {
    "colab": {
     "base_uri": "https://localhost:8080/"
    },
    "executionInfo": {
     "elapsed": 4541,
     "status": "ok",
     "timestamp": 1665420695100,
     "user": {
      "displayName": "Nicholas Sung",
      "userId": "04413473591799886681"
     },
     "user_tz": -480
    },
    "id": "i5ZOx3jIv5gH",
    "outputId": "d5453e6d-646d-4031-fb8c-5cb070be3ec8"
   },
   "outputs": [],
   "source": [
    "# start_time = time.perf_counter()\n",
    "max_iters = 500000\n",
    "loss_ls = []\n",
    "t_training = []\n",
    "runtime = 0\n",
    "train_iters = 0\n",
    "while (train_iters < max_iters) and (runtime < 60):\n",
    "    start = time.time()\n",
    "    params, opt_state, loss_value = update(params, opt_state)\n",
    "    end = time.time()\n",
    "    t_training.append(end-start)\n",
    "    loss_ls.append(loss_value)\n",
    "    runtime += (end-start)\n",
    "    train_iters += 1    \n",
    "#     print('Loss step {}: '.format(train_iters), loss_value)\n",
    "# print('time cost: {}s'.format(time.perf_counter() - start_time))\n",
    "# print (\"...\\nFitness Evaluation time: %d mins %d secs!\" %((t_fitness)/60, jnp.remainder(t_fitness, 60)))"
   ]
  },
  {
   "cell_type": "code",
   "execution_count": 12,
   "metadata": {},
   "outputs": [
    {
     "data": {
      "text/plain": [
       "array([ 2.2978785 ,  2.29833126,  2.2986865 , ..., 59.99942708,\n",
       "       59.99983025, 60.00023603])"
      ]
     },
     "execution_count": 12,
     "metadata": {},
     "output_type": "execute_result"
    }
   ],
   "source": [
    "import numpy as np\n",
    "training_ls = np.cumsum(t_training)\n",
    "training_ls"
   ]
  },
  {
   "cell_type": "code",
   "execution_count": 13,
   "metadata": {},
   "outputs": [
    {
     "data": {
      "image/png": "[encoded data removed]",
      "text/plain": [
       "<Figure size 640x480 with 1 Axes>"
      ]
     },
     "metadata": {},
     "output_type": "display_data"
    }
   ],
   "source": [
    "plt.plot(training_ls, loss_ls); plt.yscale('log');\n",
    "# plt.xlim(800,1000)\n",
    "# plt.ylim(-1e6,0)\n",
    "plt.title('Fitness against Iterations')\n",
    "plt.show()"
   ]
  },
  {
   "cell_type": "code",
   "execution_count": 14,
   "metadata": {},
   "outputs": [
    {
     "data": {
      "text/html": [
       "<div>\n",
       "<style scoped>\n",
       "    .dataframe tbody tr th:only-of-type {\n",
       "        vertical-align: middle;\n",
       "    }\n",
       "\n",
       "    .dataframe tbody tr th {\n",
       "        vertical-align: top;\n",
       "    }\n",
       "\n",
       "    .dataframe thead th {\n",
       "        text-align: right;\n",
       "    }\n",
       "</style>\n",
       "<table border=\"1\" class=\"dataframe\">\n",
       "  <thead>\n",
       "    <tr style=\"text-align: right;\">\n",
       "      <th></th>\n",
       "      <th>Training Time</th>\n",
       "      <th>Loss</th>\n",
       "    </tr>\n",
       "  </thead>\n",
       "  <tbody>\n",
       "    <tr>\n",
       "      <th>0</th>\n",
       "      <td>2.297879</td>\n",
       "      <td>22.529116</td>\n",
       "    </tr>\n",
       "    <tr>\n",
       "      <th>1</th>\n",
       "      <td>2.298331</td>\n",
       "      <td>4.9869494</td>\n",
       "    </tr>\n",
       "    <tr>\n",
       "      <th>2</th>\n",
       "      <td>2.298687</td>\n",
       "      <td>1.8609338</td>\n",
       "    </tr>\n",
       "    <tr>\n",
       "      <th>3</th>\n",
       "      <td>2.299029</td>\n",
       "      <td>0.98197985</td>\n",
       "    </tr>\n",
       "    <tr>\n",
       "      <th>4</th>\n",
       "      <td>2.299354</td>\n",
       "      <td>0.70618796</td>\n",
       "    </tr>\n",
       "    <tr>\n",
       "      <th>...</th>\n",
       "      <td>...</td>\n",
       "      <td>...</td>\n",
       "    </tr>\n",
       "    <tr>\n",
       "      <th>141262</th>\n",
       "      <td>59.998613</td>\n",
       "      <td>0.24532457</td>\n",
       "    </tr>\n",
       "    <tr>\n",
       "      <th>141263</th>\n",
       "      <td>59.999019</td>\n",
       "      <td>0.24532449</td>\n",
       "    </tr>\n",
       "    <tr>\n",
       "      <th>141264</th>\n",
       "      <td>59.999427</td>\n",
       "      <td>0.24532442</td>\n",
       "    </tr>\n",
       "    <tr>\n",
       "      <th>141265</th>\n",
       "      <td>59.999830</td>\n",
       "      <td>0.24532448</td>\n",
       "    </tr>\n",
       "    <tr>\n",
       "      <th>141266</th>\n",
       "      <td>60.000236</td>\n",
       "      <td>0.24532442</td>\n",
       "    </tr>\n",
       "  </tbody>\n",
       "</table>\n",
       "<p>141267 rows × 2 columns</p>\n",
       "</div>"
      ],
      "text/plain": [
       "        Training Time        Loss\n",
       "0            2.297879   22.529116\n",
       "1            2.298331   4.9869494\n",
       "2            2.298687   1.8609338\n",
       "3            2.299029  0.98197985\n",
       "4            2.299354  0.70618796\n",
       "...               ...         ...\n",
       "141262      59.998613  0.24532457\n",
       "141263      59.999019  0.24532449\n",
       "141264      59.999427  0.24532442\n",
       "141265      59.999830  0.24532448\n",
       "141266      60.000236  0.24532442\n",
       "\n",
       "[141267 rows x 2 columns]"
      ]
     },
     "execution_count": 14,
     "metadata": {},
     "output_type": "execute_result"
    }
   ],
   "source": [
    "import pandas as pd\n",
    "\n",
    "df = pd.DataFrame({'Training Time': training_ls, 'Loss': loss_ls})\n",
    "#df.to_csv('diffusion_sgd_%d.csv'%(seed), index=False)\n",
    "df"
   ]
  },
  {
   "cell_type": "code",
   "execution_count": 15,
   "metadata": {},
   "outputs": [],
   "source": [
    "hello = PINNs()\n",
    "prediction = hello.apply(params, data_pde)\n",
    "u = prediction[:,0:1]"
   ]
  },
  {
   "cell_type": "code",
   "execution_count": 17,
   "metadata": {},
   "outputs": [
    {
     "data": {
      "image/png": "[encoded data removed]",
      "text/plain": [
       "<Figure size 640x480 with 1 Axes>"
      ]
     },
     "metadata": {},
     "output_type": "display_data"
    }
   ],
   "source": [
    "plt.plot(x_pde, labels_pde, label = \"Actual\")\n",
    "plt.plot(x_pde, u, '--', label = \"Predicted\")\n",
    "\n",
    "leg = plt.legend(loc='upper center')\n",
    "plt.title('u against x')\n",
    "plt.show()"
   ]
  },
  {
   "cell_type": "code",
   "execution_count": 18,
   "metadata": {},
   "outputs": [
    {
     "data": {
      "text/plain": [
       "DeviceArray(0.16489194, dtype=float32)"
      ]
     },
     "execution_count": 18,
     "metadata": {},
     "output_type": "execute_result"
    }
   ],
   "source": [
    "jnp.mean(jnp.square(labels_pde - u))"
   ]
  },
  {
   "cell_type": "code",
   "execution_count": 19,
   "metadata": {},
   "outputs": [],
   "source": [
    "np.save('diffusion_sgd_60s', (u, labels_pde))"
   ]
  },
  {
   "cell_type": "code",
   "execution_count": null,
   "metadata": {},
   "outputs": [],
   "source": []
  }
 ],
 "metadata": {
  "accelerator": "GPU",
  "colab": {
   "authorship_tag": "ABX9TyPxfu7Zqd/1OrGLQRzYWNna",
   "collapsed_sections": [],
   "provenance": []
  },
  "kernelspec": {
   "display_name": "Python 3 (ipykernel)",
   "language": "python",
   "name": "python3"
  },
  "language_info": {
   "codemirror_mode": {
    "name": "ipython",
    "version": 3
   },
   "file_extension": ".py",
   "mimetype": "text/x-python",
   "name": "python",
   "nbconvert_exporter": "python",
   "pygments_lexer": "ipython3",
   "version": "3.8.13"
  }
 },
 "nbformat": 4,
 "nbformat_minor": 1
}
