{
 "cells": [
  {
   "cell_type": "markdown",
   "metadata": {},
   "source": [
    "***\n",
    "    \n",
    "Demo JAX for PINN (Physics-Informed Neural Network)\n",
    "    \n",
    "***\n",
    "\n",
    "    Version: 2023-02-24\n",
    "    \n",
    "    Author : Nicholas Sung Wei Yong, Wong Jian Cheng, Ooi Chin Chun, Abhishek Gupta\n",
    "\n",
    "    Contain:\n",
    "    \n",
    "    1. PINN for solving convection-diffusion equation (1D linear convection)\n",
    "    \n",
    "    2. Optimize PINN using batch gradient descent on the JAX framework\n",
    "       -  as described in Nicholas Sung Wei Yong, Jian Cheng Wong, Pao-Hsiung Chiu, Abhishek Gupta, Chinchun Ooi, Yew-Soon Ong\n",
    "       \"Neuroevolution Surpasses Stochastic Gradient Descent for Physics-Informed Neural Networks\" arXiv preprint arXiv:2212.07624 (2022)."
   ]
  },
  {
   "cell_type": "markdown",
   "metadata": {
    "id": "L1utZItgyGsp"
   },
   "source": [
    "Import Libraries"
   ]
  },
  {
   "cell_type": "code",
   "execution_count": 1,
   "metadata": {
    "executionInfo": {
     "elapsed": 11,
     "status": "ok",
     "timestamp": 1665420690044,
     "user": {
      "displayName": "Nicholas Sung",
      "userId": "04413473591799886681"
     },
     "user_tz": -480
    },
    "id": "H4O49iRI1Z7v"
   },
   "outputs": [],
   "source": [
    "import jax\n",
    "import optax\n",
    "import time\n",
    "import matplotlib.pyplot as plt\n",
    "from typing import Any, Callable, Sequence, Optional\n",
    "from jax import lax, random, numpy as jnp\n",
    "import flax\n",
    "from flax.core import freeze, unfreeze\n",
    "from flax import linen as nn\n",
    "from jax import random, grad, vmap, hessian, jacfwd, jit\n",
    "from jax.config import config\n",
    "\n",
    "# choose GPU\n",
    "import os\n",
    "os.environ['CUDA_VISIBLE_DEVICES'] = '0'"
   ]
  },
  {
   "cell_type": "markdown",
   "metadata": {
    "id": "x0VO_YozyKDg"
   },
   "source": [
    "PINNs Network"
   ]
  },
  {
   "cell_type": "code",
   "execution_count": 2,
   "metadata": {
    "executionInfo": {
     "elapsed": 8,
     "status": "ok",
     "timestamp": 1665420690044,
     "user": {
      "displayName": "Nicholas Sung",
      "userId": "04413473591799886681"
     },
     "user_tz": -480
    },
    "id": "FYOrzZrl1cEe"
   },
   "outputs": [],
   "source": [
    "n_nodes = 10\n",
    "# Set up a class for the neural network\n",
    "class PINNs(nn.Module):\n",
    "    \"\"\"PINNs\"\"\"\n",
    "    def setup(self):\n",
    "        self.layers = [nn.Dense(n_nodes, kernel_init = jax.nn.initializers.glorot_uniform()),\n",
    "                       nn.tanh,\n",
    "                       nn.Dense(n_nodes, kernel_init = jax.nn.initializers.glorot_uniform()),\n",
    "                       nn.tanh,\n",
    "                       nn.Dense(n_nodes, kernel_init = jax.nn.initializers.glorot_uniform()),\n",
    "                       nn.tanh,\n",
    "                       nn.Dense(1, kernel_init = jax.nn.initializers.glorot_uniform(), use_bias=False)]\n",
    "    # Setting x as the inputs and saving the outputs, u, u_x, and u_xx     \n",
    "    @nn.compact\n",
    "    def __call__(self, inputs):\n",
    "        # split the two variables, probably just by slicing\n",
    "        x, w = inputs[:,0:1], inputs[:,1:2]\n",
    "        \n",
    "        def get_u(x,w):\n",
    "            u = x\n",
    "            for i, lyr in enumerate(self.layers):\n",
    "                u = lyr(u)\n",
    "            return u\n",
    "        \n",
    "        u = get_u(x, w)\n",
    "        \n",
    "        # obtain u_x\n",
    "        def get_u_x(get_u, x, w):\n",
    "            u_x = jacfwd(get_u)(x, w)\n",
    "            return u_x\n",
    "        \n",
    "        u_x_vmap = vmap(get_u_x, in_axes=(None, 0, 0))\n",
    "        u_x = u_x_vmap(get_u, x, w).reshape(-1,1)  \n",
    "        \n",
    "        #obtain u_xx    \n",
    "        def get_u_xx(get_u, x, w):\n",
    "            u_xx = hessian(get_u)(x,w)\n",
    "            return u_xx\n",
    "        \n",
    "        u_xx_vmap = vmap(get_u_xx, in_axes=(None, 0, 0))\n",
    "        u_xx = u_xx_vmap(get_u, x, w).reshape(-1,1)  \n",
    "        \n",
    "        action = jnp.hstack([u,u_x, u_xx])   \n",
    "        return action\n",
    "\n",
    "# initialize model\n",
    "model = PINNs()    "
   ]
  },
  {
   "cell_type": "code",
   "execution_count": 3,
   "metadata": {
    "executionInfo": {
     "elapsed": 8,
     "status": "ok",
     "timestamp": 1665420690044,
     "user": {
      "displayName": "Nicholas Sung",
      "userId": "04413473591799886681"
     },
     "user_tz": -480
    },
    "id": "vh_R9gdC33oK"
   },
   "outputs": [],
   "source": [
    "# Initialization of the weights and biases\n",
    "# choose seed\n",
    "seed = 0\n",
    "key1, key2 = random.split(random.PRNGKey(seed))\n",
    "a = random.normal(key1, [1,1]) # Dummy input\n",
    "params = model.init(key2, a) # Initialization call"
   ]
  },
  {
   "cell_type": "code",
   "execution_count": 4,
   "metadata": {},
   "outputs": [
    {
     "data": {
      "text/plain": [
       "250"
      ]
     },
     "execution_count": 4,
     "metadata": {},
     "output_type": "execute_result"
    }
   ],
   "source": [
    "from evojax.util import get_params_format_fn\n",
    "num_params, format_params_fn = get_params_format_fn(params)\n",
    "num_params"
   ]
  },
  {
   "cell_type": "markdown",
   "metadata": {
    "id": "qLkoVCRBySO2"
   },
   "source": [
    "Problem"
   ]
  },
  {
   "cell_type": "code",
   "execution_count": 5,
   "metadata": {
    "executionInfo": {
     "elapsed": 523,
     "status": "ok",
     "timestamp": 1665420690562,
     "user": {
      "displayName": "Nicholas Sung",
      "userId": "04413473591799886681"
     },
     "user_tz": -480
    },
    "id": "sSBikTe8Ol3_"
   },
   "outputs": [],
   "source": [
    "# Function to generate ground truth\n",
    "def eval_u(x, Pe, L):\n",
    "    u = (1. - jnp.exp(Pe*x/L)) / (1. - jnp.exp(Pe))\n",
    "    return u\n",
    "\n",
    "def eval_Pe(u, k, L):\n",
    "    return u*L/k\n",
    "\n",
    "# f: IC/BC\n",
    "def tf_bc(x):\n",
    "    u = (1. - jnp.exp(Pe*x/L)) / (1. - jnp.exp(Pe))\n",
    "    return u"
   ]
  },
  {
   "cell_type": "markdown",
   "metadata": {
    "id": "Vq_v-NIvyVCO"
   },
   "source": [
    "Hyper parameters and data "
   ]
  },
  {
   "cell_type": "code",
   "execution_count": 6,
   "metadata": {
    "executionInfo": {
     "elapsed": 5,
     "status": "ok",
     "timestamp": 1665420690562,
     "user": {
      "displayName": "Nicholas Sung",
      "userId": "04413473591799886681"
     },
     "user_tz": -480
    },
    "id": "6UfQH3XzPZTE"
   },
   "outputs": [],
   "source": [
    "# choose v (PDE parameter)\n",
    "v = 6\n",
    "\n",
    "# fixed PDE & BC parameters k & L\n",
    "k = 1.\n",
    "L = 1.\n",
    "Pe = eval_Pe(v, k, L)\n",
    "\n",
    "# domain Boundary\n",
    "x_l, x_u = 0, L\n",
    "\n",
    "# sample size\n",
    "n = 10000\n",
    "\n",
    "# PDE data\n",
    "x_pde = jnp.linspace(x_l, x_u, n)\n",
    "data_pde = jnp.hstack([x_pde.reshape(-1, 1), jnp.ones((len(x_pde), 1))])\n",
    "labels_pde = jnp.reshape(eval_u(x_pde, Pe, L),(-1, 1))"
   ]
  },
  {
   "cell_type": "markdown",
   "metadata": {
    "id": "UHOgwyobyb02"
   },
   "source": [
    "Loss Function"
   ]
  },
  {
   "cell_type": "code",
   "execution_count": 7,
   "metadata": {},
   "outputs": [],
   "source": [
    "# loss function parameter\n",
    "lmbda = 1 #500"
   ]
  },
  {
   "cell_type": "code",
   "execution_count": 8,
   "metadata": {},
   "outputs": [],
   "source": [
    "# split the loss into pde loss and bc loss\n",
    "\n",
    "def loss(params):\n",
    "    x = data_pde\n",
    "    pred = model.apply(format_params_fn(params), x)\n",
    "    u, u_x, u_xx = pred[:,0:1], pred[:,1:2], pred[:,2:3]\n",
    "    t_u = tf_bc(x) # ground truth\n",
    "    _bc = jnp.where((jnp.equal(x, x_l) | jnp.equal(x, x_u)), 1, 0)\n",
    "    bc_mse = jnp.sum(jnp.square((t_u - u)*_bc)) / jnp.sum(_bc)\n",
    "    # PDE (physics laws): v*u_x = k*u_xx  \n",
    "    pde = v*u_x - k*u_xx\n",
    "    # exclude BC points\n",
    "    _pde = jnp.where((jnp.equal(x, x_l) | jnp.equal(x, x_u)), 0, 1)\n",
    "    pde = pde *_pde\n",
    "    pde_mse = jnp.sum(jnp.square(pde)) / jnp.sum(_pde)\n",
    "    pde_mse = pde_mse / lmbda  \n",
    "    loss = pde_mse + bc_mse\n",
    "    return loss\n",
    "  \n",
    "#loss_grad = jax.jit(jax.grad(loss))\n",
    "loss_grad = jax.jit(jax.value_and_grad(loss))    "
   ]
  },
  {
   "cell_type": "markdown",
   "metadata": {
    "id": "DX_6EF54yl4C"
   },
   "source": [
    "Weights Update"
   ]
  },
  {
   "cell_type": "code",
   "execution_count": 9,
   "metadata": {
    "executionInfo": {
     "elapsed": 3,
     "status": "ok",
     "timestamp": 1665420690562,
     "user": {
      "displayName": "Nicholas Sung",
      "userId": "04413473591799886681"
     },
     "user_tz": -480
    },
    "id": "LxrVM13VVM6i"
   },
   "outputs": [],
   "source": [
    "def update(params, opt_state):\n",
    "    loss_value, grad = loss_grad(params)\n",
    "    updates, opt_state = optimizer.update(grad, opt_state)\n",
    "    params = optax.apply_updates(params, updates)\n",
    "    return params, opt_state, loss_value\n",
    "\n",
    "update = jit(update)"
   ]
  },
  {
   "cell_type": "markdown",
   "metadata": {},
   "source": [
    "Initialization"
   ]
  },
  {
   "cell_type": "code",
   "execution_count": 10,
   "metadata": {},
   "outputs": [],
   "source": [
    "# initial params\n",
    "params = model.init(key2, a) # Initialization call\n",
    "\n",
    "# flatten initial params\n",
    "params = jax.flatten_util.ravel_pytree(params)[0]"
   ]
  },
  {
   "cell_type": "markdown",
   "metadata": {
    "id": "EzT-X2KRyeW0"
   },
   "source": [
    "Optimizer"
   ]
  },
  {
   "cell_type": "code",
   "execution_count": 11,
   "metadata": {
    "executionInfo": {
     "elapsed": 3,
     "status": "ok",
     "timestamp": 1665420690562,
     "user": {
      "displayName": "Nicholas Sung",
      "userId": "04413473591799886681"
     },
     "user_tz": -480
    },
    "id": "RW1pnAmenHGG"
   },
   "outputs": [],
   "source": [
    "alpha = 0.001\n",
    "#optimizer = optax.adam(learning_rate=alpha) # Choose the method\n",
    "optimizer = optax.sgd(learning_rate=alpha) # Choose the method\n",
    "opt_state = optimizer.init(params)"
   ]
  },
  {
   "cell_type": "markdown",
   "metadata": {
    "id": "GSe-AJVayouG"
   },
   "source": [
    "Training "
   ]
  },
  {
   "cell_type": "code",
   "execution_count": 12,
   "metadata": {
    "colab": {
     "base_uri": "https://localhost:8080/"
    },
    "executionInfo": {
     "elapsed": 4541,
     "status": "ok",
     "timestamp": 1665420695100,
     "user": {
      "displayName": "Nicholas Sung",
      "userId": "04413473591799886681"
     },
     "user_tz": -480
    },
    "id": "i5ZOx3jIv5gH",
    "outputId": "d5453e6d-646d-4031-fb8c-5cb070be3ec8"
   },
   "outputs": [
    {
     "name": "stdout",
     "output_type": "stream",
     "text": [
      "Loss step 1000:  0.003325644\n",
      "Loss step 5000:  0.0008823679\n",
      "Loss step 10000:  0.00034946884\n",
      "Loss step 50000:  0.00010033038\n",
      "Loss step 100000:  0.00010000096\n"
     ]
    },
    {
     "data": {
      "text/plain": [
       "165142"
      ]
     },
     "execution_count": 12,
     "metadata": {},
     "output_type": "execute_result"
    }
   ],
   "source": [
    "max_iters = 500000\n",
    "loss_ls = []\n",
    "t_training = []\n",
    "runtime = 0\n",
    "train_iters = 0\n",
    "while (train_iters < max_iters) and (runtime < 60):\n",
    "    start = time.time()\n",
    "    # stochastic update\n",
    "    #batch_data = minibatch(train_iters)\n",
    "    \n",
    "    params, opt_state, loss_value = update(params, opt_state)\n",
    "    end = time.time()\n",
    "    t_training.append(end-start)\n",
    "    loss_ls.append(loss_value)\n",
    "    runtime += (end-start)\n",
    "    train_iters += 1    \n",
    "    # append weights\n",
    "    show_iters = [1000, 5000, 10000, 50000, 100000]\n",
    "    if (train_iters in show_iters):\n",
    "        print('Loss step {}: '.format(train_iters), loss_value)\n",
    "              \n",
    "# final train_iters\n",
    "train_iters"
   ]
  },
  {
   "cell_type": "markdown",
   "metadata": {},
   "source": [
    "#### Visualize results"
   ]
  },
  {
   "cell_type": "code",
   "execution_count": 13,
   "metadata": {},
   "outputs": [
    {
     "data": {
      "text/plain": [
       "DeviceArray(0.75435865, dtype=float32)"
      ]
     },
     "execution_count": 13,
     "metadata": {},
     "output_type": "execute_result"
    },
    {
     "data": {
      "image/png": "[encoded data removed]",
      "text/plain": [
       "<Figure size 640x480 with 1 Axes>"
      ]
     },
     "metadata": {},
     "output_type": "display_data"
    }
   ],
   "source": [
    "# plot final\n",
    "hello = PINNs()\n",
    "prediction = hello.apply(format_params_fn(params), data_pde)\n",
    "u = prediction[:,0:1]\n",
    "\n",
    "plt.plot(x_pde, labels_pde, label = \"Actual\"); plt.plot(x_pde, u, '--', label = \"Predicted\");\n",
    "plt.legend(loc='upper center'); plt.title('u against x');\n",
    "jnp.mean(jnp.square(labels_pde - u))"
   ]
  }
 ],
 "metadata": {
  "accelerator": "GPU",
  "colab": {
   "authorship_tag": "ABX9TyPxfu7Zqd/1OrGLQRzYWNna",
   "collapsed_sections": [],
   "provenance": []
  },
  "kernelspec": {
   "display_name": "Python 3 (ipykernel)",
   "language": "python",
   "name": "python3"
  },
  "language_info": {
   "codemirror_mode": {
    "name": "ipython",
    "version": 3
   },
   "file_extension": ".py",
   "mimetype": "text/x-python",
   "name": "python",
   "nbconvert_exporter": "python",
   "pygments_lexer": "ipython3",
   "version": "3.8.13"
  }
 },
 "nbformat": 4,
 "nbformat_minor": 1
}
