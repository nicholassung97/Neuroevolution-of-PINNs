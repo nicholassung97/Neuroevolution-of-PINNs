{
 "cells": [
  {
   "cell_type": "markdown",
   "metadata": {},
   "source": [
    "***\n",
    "    \n",
    "Demo EvoJAX for PINN (Physics-Informed Neural Network)\n",
    "    \n",
    "***\n",
    "\n",
    "    Version: 2023-02-24\n",
    "    \n",
    "    Author : Nicholas Sung Wei Yong, Wong Jian Cheng, Ooi Chin Chun, Abhishek Gupta\n",
    "\n",
    "    Contain:\n",
    "    \n",
    "    1. PINN for solving convection-diffusion equation (1D linear convection)\n",
    "    \n",
    "    2. Optimize PINN using CMA-ES solver in the EvoJAX framework\n",
    "       -  as described in Nicholas Sung Wei Yong, Jian Cheng Wong, Pao-Hsiung Chiu, Abhishek Gupta, Chinchun Ooi, Yew-Soon Ong\n",
    "       \"Neuroevolution Surpasses Stochastic Gradient Descent for Physics-Informed Neural Networks\" arXiv preprint arXiv:2212.07624 (2022)."
   ]
  },
  {
   "cell_type": "markdown",
   "metadata": {
    "id": "6AU-ByWBYWMU"
   },
   "source": [
    "# Import Libraries"
   ]
  },
  {
   "cell_type": "code",
   "execution_count": 1,
   "metadata": {
    "executionInfo": {
     "elapsed": 1230,
     "status": "ok",
     "timestamp": 1665420790187,
     "user": {
      "displayName": "Nicholas Sung",
      "userId": "04413473591799886681"
     },
     "user_tz": -480
    },
    "id": "6tcbWZllrCN2"
   },
   "outputs": [],
   "source": [
    "import os\n",
    "import numpy as np\n",
    "import jax\n",
    "import shutil\n",
    "import jax.numpy as jnp\n",
    "import logging\n",
    "import time\n",
    "import matplotlib.pyplot as plt\n",
    "from jax import random, grad, vmap, hessian, jacfwd\n",
    "from evojax import Trainer\n",
    "from evojax.task.base import TaskState\n",
    "from evojax.task.base import VectorizedTask\n",
    "from evojax.policy.base import PolicyNetwork\n",
    "from evojax.policy.base import PolicyState\n",
    "from evojax.util import create_logger\n",
    "from evojax.util import get_params_format_fn\n",
    "from flax.struct import dataclass\n",
    "from typing import Tuple\n",
    "from flax import linen as nn\n",
    "from jax.nn.initializers import xavier_uniform\n",
    "from evojax.sim_mgr import SimManager\n",
    "from flax.core.frozen_dict import unfreeze, freeze\n",
    "\n",
    "# choose GPU\n",
    "import os\n",
    "os.environ['CUDA_VISIBLE_DEVICES'] = '0'"
   ]
  },
  {
   "cell_type": "markdown",
   "metadata": {
    "id": "2sBP7OlwYaPv"
   },
   "source": [
    "# Directory to save logs and models"
   ]
  },
  {
   "cell_type": "code",
   "execution_count": 2,
   "metadata": {
    "colab": {
     "base_uri": "https://localhost:8080/"
    },
    "executionInfo": {
     "elapsed": 1227,
     "status": "ok",
     "timestamp": 1665420815987,
     "user": {
      "displayName": "Nicholas Sung",
      "userId": "04413473591799886681"
     },
     "user_tz": -480
    },
    "id": "uBR-gZI1rFk2",
    "outputId": "d7832aed-0bac-45cf-f208-da55ebdbdb3a"
   },
   "outputs": [
    {
     "name": "stdout",
     "output_type": "stream",
     "text": [
      "NVIDIA GeForce RTX 3090\r\n",
      "NVIDIA GeForce RTX 3090\r\n"
     ]
    }
   ],
   "source": [
    "# Let's create a directory to save logs and models.\n",
    "log_dir = 'loggerfiles'\n",
    "logger = create_logger(name='EvoJAX', log_dir=log_dir)\n",
    "logger.info('EvoJax for PINNs')\n",
    "\n",
    "logger.info('Jax backend: {}'.format(jax.local_devices()))\n",
    "!nvidia-smi --query-gpu=name --format=csv,noheader\n",
    "# !nvidia-smi -q -i 0 -d UTILIZATION -l 1"
   ]
  },
  {
   "cell_type": "markdown",
   "metadata": {
    "id": "egYFbMFLYnLj"
   },
   "source": [
    "# Functions"
   ]
  },
  {
   "cell_type": "code",
   "execution_count": 3,
   "metadata": {
    "executionInfo": {
     "elapsed": 8,
     "status": "ok",
     "timestamp": 1665420815987,
     "user": {
      "displayName": "Nicholas Sung",
      "userId": "04413473591799886681"
     },
     "user_tz": -480
    },
    "id": "OG1c_7A-KzsL"
   },
   "outputs": [],
   "source": [
    "@dataclass\n",
    "# Contains the train input and its labels\n",
    "class State(TaskState):\n",
    "    obs: jnp.ndarray\n",
    "    labels: jnp.ndarray\n",
    "# Function to generate analytical solution\n",
    "def eval_u(x, Pe, L):\n",
    "    u = (1. - jax.numpy.exp(Pe*x/L)) / (1. - jax.numpy.exp(Pe))\n",
    "    return u\n",
    "\n",
    "def eval_Pe(u, k, L):\n",
    "    return u*L/k\n",
    "\n",
    "# f: IC/BC\n",
    "def tf_bc(x):\n",
    "    u = (1. - jnp.exp(Pe*x/L)) / (1. - jnp.exp(Pe))\n",
    "    return u\n"
   ]
  },
  {
   "cell_type": "code",
   "execution_count": 4,
   "metadata": {
    "executionInfo": {
     "elapsed": 7,
     "status": "ok",
     "timestamp": 1665420815988,
     "user": {
      "displayName": "Nicholas Sung",
      "userId": "04413473591799886681"
     },
     "user_tz": -480
    },
    "id": "WMAJsQkWMsuU"
   },
   "outputs": [],
   "source": [
    "# We prepare the data\n",
    "# choose v (PDE parameter)\n",
    "v = 6\n",
    "# fixed PDE & BC parameters k & L\n",
    "k = 1.\n",
    "L = 1.\n",
    "Pe = eval_Pe(v, k, L)\n",
    "lmbda = 1\n",
    "# Domain Boundary\n",
    "x_l, x_u = 0, L\n",
    "\"\"\"Number of sample size\"\"\"\n",
    "n = 10000\n"
   ]
  },
  {
   "cell_type": "code",
   "execution_count": 5,
   "metadata": {
    "executionInfo": {
     "elapsed": 6,
     "status": "ok",
     "timestamp": 1665420815988,
     "user": {
      "displayName": "Nicholas Sung",
      "userId": "04413473591799886681"
     },
     "user_tz": -480
    },
    "id": "Eo560U81RUrW"
   },
   "outputs": [],
   "source": [
    "# Loss Function will be used as the fitness  (f=-L)\n",
    "def loss(prediction, input, target):\n",
    "  # essentially the new prediction here\n",
    "    x= input[:,0:1].reshape(-1,1)\n",
    "    u, u_x, u_xx = prediction[:,0:1], prediction[:,1:2], prediction[:,2:3]\n",
    "    # ground truth\n",
    "    t_u = tf_bc(x)  \n",
    "    _bc = jnp.where((jnp.equal(x, x_l)|jnp.equal(x, x_u)), 1, 0)\n",
    "    # _bc = ( jnp.equal(x, x_l) | jnp.equal(x, x_u) )\n",
    "    bc_mse = jnp.sum(jnp.square((t_u-u)*_bc))/jnp.sum(_bc)\n",
    "    # PDE (physics laws): v*u_x = k*u_xx  \n",
    "    pde = v*u_x - k*u_xx \n",
    "    # exclude BC points\n",
    "    _pde = jnp.where((jnp.equal(x, x_l)|jnp.equal(x, x_u)), 0, 1)\n",
    "    pde = pde*_pde\n",
    "    pde_mse = jnp.sum(jnp.square(pde))/jnp.sum(_pde)\n",
    "    pde_mse = pde_mse / lmbda  \n",
    "    loss = pde_mse + bc_mse\n",
    "    return loss\n",
    "\n",
    "# Accuracy should not be used in this case, change to mean square error\n",
    "def mse(prediction, target):\n",
    "    u = prediction[:,0:1]\n",
    "    mean_square_error = jnp.mean(jnp.square(u-target)) \n",
    "    return mean_square_error"
   ]
  },
  {
   "cell_type": "markdown",
   "metadata": {
    "id": "f_lSEQGfYTX1"
   },
   "source": [
    "# Task"
   ]
  },
  {
   "cell_type": "code",
   "execution_count": 6,
   "metadata": {
    "executionInfo": {
     "elapsed": 5,
     "status": "ok",
     "timestamp": 1665420815988,
     "user": {
      "displayName": "Nicholas Sung",
      "userId": "04413473591799886681"
     },
     "user_tz": -480
    },
    "id": "Qc6Bu5KKFx3G"
   },
   "outputs": [],
   "source": [
    "class Diffusion(VectorizedTask):\n",
    "    \"\"\"PDE-NN for 1D convection-diffusion equation.\n",
    "    We model the regression as a one-step task, i.e., \n",
    "    `Diffusion.reset` returns a batch of data to the agent, the agent outputs\n",
    "    predictions, `Diffusion.step` returns the reward loss) and\n",
    "    terminates the rollout.\n",
    "    \"\"\"\n",
    "\n",
    "    def __init__(self, batch_size, test):\n",
    "\n",
    "        self.max_steps = 1\n",
    "\n",
    "        # These are similar to OpenAI Gym environment's\n",
    "        # observation_space and action_space.\n",
    "        # They are helpful for initializing the policy networks.\n",
    "        # Input shape is 1\n",
    "        self.obs_shape = tuple([1, ])\n",
    "        # Output shape is 1\n",
    "        self.act_shape = tuple([1, ])\n",
    "\n",
    "\n",
    "        x = jnp.linspace(x_l, x_u, n)\n",
    "        # PDE Data\n",
    "        data_pde = x.reshape(-1, 1)\n",
    "        # samples, features = data_pde.shape\n",
    "        labels_pde = jnp.reshape(eval_u(x, Pe, L),(-1, 1))\n",
    "        # # BC data\n",
    "        # bc = jnp.where((data_pde[:,0] == x_l) | (data_pde[:,0] == x_u))[0]\n",
    "        # data_bc = jnp.take(data_pde, indices=bc, axis=0)\n",
    "        # labels_bc = jnp.take(labels_pde, indices=bc, axis=0)\n",
    "\n",
    "        def reset_fn(key):\n",
    "            batch_data, batch_labels = data_pde, labels_pde\n",
    "            # if test:\n",
    "            #     # In the test mode, we want to test on the entire test set.\n",
    "            #     batch_data, batch_labels = data_pde, labels_pde\n",
    "            # else:\n",
    "            #     # In the training mode, we only sample a batch of training data.\n",
    "            #     batch_data, batch_labels = sample_batch(\n",
    "            #         key, data_pde, labels_pde, data_bc, labels_bc, batch_size)\n",
    "            return State(obs=batch_data, labels=batch_labels)\n",
    "        \n",
    "        # We use jax.vmap for auto-vectorization.\n",
    "        self._reset_fn = jax.jit(jax.vmap(reset_fn))\n",
    "        \n",
    "        # step_fn needs to be changed\n",
    "        def step_fn(state, action):\n",
    "            if test:\n",
    "                # In the test mode, we report the mean square error\n",
    "                \"change to training loss\"\n",
    "                # reward = loss(action, state.obs, state.labels)\n",
    "                reward = mse(action, state.labels)\n",
    "            else:\n",
    "                # In the training mode, we return the negative loss as the\n",
    "                # fitness. \n",
    "                # the action (prediction) will include u, u_x and u_xx\n",
    "                reward = -loss(action, state.obs, state.labels)\n",
    "            # This is an one-step task, so that last return value (the `done`\n",
    "            # flag) is one.\n",
    "            \n",
    "            return state, reward, jnp.ones(())\n",
    "\n",
    "        # We use jax.vmap for auto-vectorization.\n",
    "        self._step_fn = jax.jit(jax.vmap(step_fn))\n",
    "    # Returns a batch of data to the agent, the agent outputs predictions\n",
    "    def reset(self, key):\n",
    "        return self._reset_fn(key)\n",
    "    # Returns the fitness loss\n",
    "    def step(self, state, action):\n",
    "        return self._step_fn(state, action)"
   ]
  },
  {
   "cell_type": "code",
   "execution_count": 7,
   "metadata": {
    "executionInfo": {
     "elapsed": 641,
     "status": "ok",
     "timestamp": 1665420816624,
     "user": {
      "displayName": "Nicholas Sung",
      "userId": "04413473591799886681"
     },
     "user_tz": -480
    },
    "id": "uF5Ma-JcsMER"
   },
   "outputs": [],
   "source": [
    "seed = 0\n",
    "batch_size = 498\n",
    "train_task = Diffusion(batch_size=batch_size, test=False)\n",
    "test_task = Diffusion(batch_size=batch_size, test=True)"
   ]
  },
  {
   "cell_type": "markdown",
   "metadata": {
    "id": "hp-SQ0LCYRZy"
   },
   "source": [
    "# Policy"
   ]
  },
  {
   "cell_type": "code",
   "execution_count": 8,
   "metadata": {
    "executionInfo": {
     "elapsed": 9,
     "status": "ok",
     "timestamp": 1665420816625,
     "user": {
      "displayName": "Nicholas Sung",
      "userId": "04413473591799886681"
     },
     "user_tz": -480
    },
    "id": "flD1EjBmVSFs"
   },
   "outputs": [],
   "source": [
    "\"\"\"Number of nodes per hidden layer\"\"\"\n",
    "n_nodes = 10\n",
    "\n",
    "class PINNs(nn.Module):\n",
    "  \"\"\"PINNs\"\"\"\n",
    "  def setup(self):\n",
    "    self.layers = [nn.Dense(n_nodes, kernel_init = jax.nn.initializers.glorot_uniform()),\n",
    "                   nn.tanh,\n",
    "                   nn.Dense(n_nodes, kernel_init = jax.nn.initializers.glorot_uniform()),\n",
    "                   nn.tanh,\n",
    "                   nn.Dense(n_nodes, kernel_init = jax.nn.initializers.glorot_uniform()),\n",
    "                   nn.tanh,\n",
    "                   nn.Dense(1, kernel_init = jax.nn.initializers.glorot_uniform(), use_bias=False)]\n",
    "\n",
    "\n",
    "  @nn.compact\n",
    "  def __call__(self, inputs):\n",
    "      # split the two variables, probably just by slicing\n",
    "      x = inputs\n",
    "      \n",
    "      def get_u(x):\n",
    "        u = x\n",
    "        for i, lyr in enumerate(self.layers):\n",
    "          u = lyr(u)\n",
    "        return u\n",
    "\n",
    "      u = get_u(x)\n",
    "\n",
    "      # obtain u_x\n",
    "      def get_u_x(get_u, x):\n",
    "        u_x = jacfwd(get_u)(x)\n",
    "        return u_x\n",
    "      u_x_vmap = vmap(get_u_x, in_axes=(None, 0))\n",
    "      u_x = u_x_vmap(get_u, x).reshape(-1,1)  \n",
    "      #obtain u_xx    \n",
    "      def get_u_xx(get_u, x):\n",
    "        u_xx = hessian(get_u)(x)\n",
    "        return u_xx\n",
    "      u_xx_vmap = vmap(get_u_xx, in_axes=(None, 0))\n",
    "      u_xx = u_xx_vmap(get_u, x).reshape(-1,1)      \n",
    "      action = jnp.hstack([u,u_x, u_xx])   \n",
    "      return action\n"
   ]
  },
  {
   "cell_type": "code",
   "execution_count": 9,
   "metadata": {
    "executionInfo": {
     "elapsed": 1723,
     "status": "ok",
     "timestamp": 1665420818341,
     "user": {
      "displayName": "Nicholas Sung",
      "userId": "04413473591799886681"
     },
     "user_tz": -480
    },
    "id": "yuuYczkEfaaO"
   },
   "outputs": [],
   "source": [
    "class PINNsPolicy(PolicyNetwork):\n",
    "    \"\"\"A physics informmed neural neural network for the diffusion task.\"\"\"\n",
    "\n",
    "    def __init__(self, logger: logging.Logger = None):\n",
    "        if logger is None:\n",
    "            self._logger = create_logger('PINNsPolicy')\n",
    "        else:\n",
    "            self._logger = logger\n",
    "\n",
    "        model = PINNs()\n",
    "        key1, key2 = random.split(random.PRNGKey(seed))\n",
    "        a = random.normal(key1, [1,1]) # Dummy input\n",
    "        params = model.init(key2, a) # Initialization call\n",
    "        \"\"\"Return a function that formats the parameters into a correct format.\"\"\"\n",
    "        self.num_params, format_params_fn = get_params_format_fn(params)\n",
    "        self._logger.info(\n",
    "            'PINNsPolicy.num_params = {}'.format(self.num_params))\n",
    "        self._format_params_fn = jax.vmap(format_params_fn)\n",
    "        self._forward_fn = jax.vmap(model.apply)\n",
    "\n",
    "    def get_actions(self,\n",
    "                    t_states: TaskState,\n",
    "                    params: jnp.ndarray,\n",
    "                    p_states: PolicyState) -> Tuple[jnp.ndarray, PolicyState]:\n",
    "        params = self._format_params_fn(params)\n",
    "        return self._forward_fn(params, t_states.obs), p_states\n",
    "policy = PINNsPolicy(logger=logger)"
   ]
  },
  {
   "cell_type": "markdown",
   "metadata": {
    "id": "OuOi44EdOdgb"
   },
   "source": [
    "# Solvers"
   ]
  },
  {
   "cell_type": "markdown",
   "metadata": {
    "id": "ieF_VTSdYtl8"
   },
   "source": [
    "CMA Solver"
   ]
  },
  {
   "cell_type": "code",
   "execution_count": 10,
   "metadata": {
    "executionInfo": {
     "elapsed": 5,
     "status": "ok",
     "timestamp": 1665420818342,
     "user": {
      "displayName": "Nicholas Sung",
      "userId": "04413473591799886681"
     },
     "user_tz": -480
    },
    "id": "AWFFELFks7a_"
   },
   "outputs": [],
   "source": [
    "from evojax.algo import CMA_ES_JAX\n",
    "popn = 80\n",
    "solver = CMA_ES_JAX(\n",
    "            pop_size=popn,\n",
    "            param_size=policy.num_params,\n",
    "            init_stdev=0.05,\n",
    "            seed=seed,\n",
    "            logger=logger,\n",
    "        )"
   ]
  },
  {
   "cell_type": "markdown",
   "metadata": {
    "id": "n30pRIHNOynO"
   },
   "source": [
    "# Training"
   ]
  },
  {
   "cell_type": "code",
   "execution_count": 11,
   "metadata": {
    "colab": {
     "base_uri": "https://localhost:8080/"
    },
    "executionInfo": {
     "elapsed": 78113,
     "status": "ok",
     "timestamp": 1665420897080,
     "user": {
      "displayName": "Nicholas Sung",
      "userId": "04413473591799886681"
     },
     "user_tz": -480
    },
    "id": "fTn2aebBOSAh",
    "outputId": "bec03e23-cb02-4493-a933-21d9f25f9766"
   },
   "outputs": [],
   "source": [
    "max_iters = 30000\n",
    "num_tests = 1\n",
    "\n",
    "sim_mgr = SimManager(n_repeats=1,\n",
    "\t\t\ttest_n_repeats=1,\n",
    "\t\t\tpop_size=popn,      \n",
    "\t\t\tn_evaluations= num_tests,\n",
    "\t\t\tpolicy_net= policy,\n",
    "\t\t\ttrain_vec_task=train_task,\n",
    "\t\t\tvalid_vec_task=test_task,\n",
    "\t\t\tseed=seed)\n",
    "loss_ls = []\n",
    "t_training = []\n",
    "# best_ls = []\n",
    "# t_fitness = 0\n",
    "# start_time = time.perf_counter()\n",
    "runtime = 0\n",
    "train_iters = 0\n",
    "while (train_iters < max_iters) and (runtime < 60):\n",
    "    start = time.time()\n",
    "    # Training.\n",
    "    params = solver.ask()\n",
    "    # This is where fitness is calculated, want to get the time\n",
    "#     start = time.time()\n",
    "    scores, _ = sim_mgr.eval_params(params=params, test=False)\n",
    "#     end = time.time()\n",
    "#     t_fitness = t_fitness + (end-start)\n",
    "    \n",
    "    # Updates the weights through the solver\n",
    "    solver.tell(fitness=scores)\n",
    "    # This is the average loss of all the population of parameters\n",
    "    score_avg_loss = np.mean(np.array(scores, copy=False, subok=True))\n",
    "    best_params = solver.best_params\n",
    "    end = time.time()\n",
    "    t_training.append(end-start)\n",
    "    loss_ls.append(-1*score_avg_loss)\n",
    "    # update\n",
    "    runtime += (end-start)\n",
    "    train_iters += 1"
   ]
  },
  {
   "cell_type": "code",
   "execution_count": 12,
   "metadata": {},
   "outputs": [
    {
     "data": {
      "text/plain": [
       "array([ 3.90707493,  4.86464262,  4.87182713, ..., 59.99358773,\n",
       "       59.99985003, 60.00610733])"
      ]
     },
     "execution_count": 12,
     "metadata": {},
     "output_type": "execute_result"
    }
   ],
   "source": [
    "training_ls = np.cumsum(t_training)\n",
    "training_ls"
   ]
  },
  {
   "cell_type": "code",
   "execution_count": 13,
   "metadata": {
    "scrolled": false
   },
   "outputs": [
    {
     "data": {
      "image/png": "[encoded data removed]",
      "text/plain": [
       "<Figure size 640x480 with 1 Axes>"
      ]
     },
     "metadata": {},
     "output_type": "display_data"
    }
   ],
   "source": [
    "plt.plot(training_ls, loss_ls); plt.yscale('log');\n",
    "# plt.xlim(800,1000)\n",
    "# plt.ylim(-1e6,0)\n",
    "plt.title('Fitness against Iterations')\n",
    "plt.show()"
   ]
  },
  {
   "cell_type": "code",
   "execution_count": 14,
   "metadata": {
    "scrolled": true
   },
   "outputs": [
    {
     "data": {
      "text/html": [
       "<div>\n",
       "<style scoped>\n",
       "    .dataframe tbody tr th:only-of-type {\n",
       "        vertical-align: middle;\n",
       "    }\n",
       "\n",
       "    .dataframe tbody tr th {\n",
       "        vertical-align: top;\n",
       "    }\n",
       "\n",
       "    .dataframe thead th {\n",
       "        text-align: right;\n",
       "    }\n",
       "</style>\n",
       "<table border=\"1\" class=\"dataframe\">\n",
       "  <thead>\n",
       "    <tr style=\"text-align: right;\">\n",
       "      <th></th>\n",
       "      <th>Training Time</th>\n",
       "      <th>Loss</th>\n",
       "    </tr>\n",
       "  </thead>\n",
       "  <tbody>\n",
       "    <tr>\n",
       "      <th>0</th>\n",
       "      <td>3.907075</td>\n",
       "      <td>0.499949</td>\n",
       "    </tr>\n",
       "    <tr>\n",
       "      <th>1</th>\n",
       "      <td>4.864643</td>\n",
       "      <td>0.498923</td>\n",
       "    </tr>\n",
       "    <tr>\n",
       "      <th>2</th>\n",
       "      <td>4.871827</td>\n",
       "      <td>0.498220</td>\n",
       "    </tr>\n",
       "    <tr>\n",
       "      <th>3</th>\n",
       "      <td>4.879066</td>\n",
       "      <td>0.494143</td>\n",
       "    </tr>\n",
       "    <tr>\n",
       "      <th>4</th>\n",
       "      <td>4.885975</td>\n",
       "      <td>0.487448</td>\n",
       "    </tr>\n",
       "    <tr>\n",
       "      <th>...</th>\n",
       "      <td>...</td>\n",
       "      <td>...</td>\n",
       "    </tr>\n",
       "    <tr>\n",
       "      <th>8734</th>\n",
       "      <td>59.981076</td>\n",
       "      <td>0.000010</td>\n",
       "    </tr>\n",
       "    <tr>\n",
       "      <th>8735</th>\n",
       "      <td>59.987316</td>\n",
       "      <td>0.000010</td>\n",
       "    </tr>\n",
       "    <tr>\n",
       "      <th>8736</th>\n",
       "      <td>59.993588</td>\n",
       "      <td>0.000009</td>\n",
       "    </tr>\n",
       "    <tr>\n",
       "      <th>8737</th>\n",
       "      <td>59.999850</td>\n",
       "      <td>0.000010</td>\n",
       "    </tr>\n",
       "    <tr>\n",
       "      <th>8738</th>\n",
       "      <td>60.006107</td>\n",
       "      <td>0.000010</td>\n",
       "    </tr>\n",
       "  </tbody>\n",
       "</table>\n",
       "<p>8739 rows × 2 columns</p>\n",
       "</div>"
      ],
      "text/plain": [
       "      Training Time      Loss\n",
       "0          3.907075  0.499949\n",
       "1          4.864643  0.498923\n",
       "2          4.871827  0.498220\n",
       "3          4.879066  0.494143\n",
       "4          4.885975  0.487448\n",
       "...             ...       ...\n",
       "8734      59.981076  0.000010\n",
       "8735      59.987316  0.000010\n",
       "8736      59.993588  0.000009\n",
       "8737      59.999850  0.000010\n",
       "8738      60.006107  0.000010\n",
       "\n",
       "[8739 rows x 2 columns]"
      ]
     },
     "execution_count": 14,
     "metadata": {},
     "output_type": "execute_result"
    }
   ],
   "source": [
    "import pandas as pd\n",
    "\n",
    "df = pd.DataFrame({'Training Time': training_ls, 'Loss': loss_ls})\n",
    "#df.to_csv('diffusion_cma_%d.csv'%(seed), index=False)\n",
    "df"
   ]
  },
  {
   "cell_type": "code",
   "execution_count": 15,
   "metadata": {},
   "outputs": [],
   "source": [
    "this_dict = policy._format_params_fn(best_params[None, :])\n",
    "new_dict = unfreeze(this_dict)\n",
    "for key1, value1 in new_dict.items():\n",
    "  # print(value1)\n",
    "  for key2, value2 in value1.items():\n",
    "    # print(value2)\n",
    "    for key3, value3 in value2.items():\n",
    "      new_dict[key1][key2][key3] = value3[0]\n",
    "new_dict = freeze(new_dict)"
   ]
  },
  {
   "cell_type": "code",
   "execution_count": 16,
   "metadata": {},
   "outputs": [],
   "source": [
    "x = jnp.linspace(x_l, x_u, n).reshape(-1,1)\n",
    "labels_pde = np.reshape(eval_u(x, Pe, L),(-1, 1))\n",
    "hello = PINNs()\n",
    "# params_hello = hello.init(random.PRNGKey(0), jnp.zeros([1,2]))\n",
    "prediction = hello.apply(new_dict, x)\n",
    "u, u_x, u_xx = prediction[:,0:1], prediction[:,1:2], prediction[:,2:3]"
   ]
  },
  {
   "cell_type": "code",
   "execution_count": 17,
   "metadata": {},
   "outputs": [
    {
     "data": {
      "image/png": "[encoded data removed]",
      "text/plain": [
       "<Figure size 640x480 with 1 Axes>"
      ]
     },
     "metadata": {},
     "output_type": "display_data"
    }
   ],
   "source": [
    "plt.plot(x, labels_pde, label = \"Actual\")\n",
    "plt.plot(x, u, '--', label = \"Predicted\")\n",
    "\n",
    "leg = plt.legend(loc='upper center')\n",
    "plt.title('u against x')\n",
    "plt.show()"
   ]
  },
  {
   "cell_type": "code",
   "execution_count": 18,
   "metadata": {},
   "outputs": [
    {
     "data": {
      "text/plain": [
       "DeviceArray(6.380013e-09, dtype=float32)"
      ]
     },
     "execution_count": 18,
     "metadata": {},
     "output_type": "execute_result"
    }
   ],
   "source": [
    "jnp.mean(jnp.square(labels_pde - u))"
   ]
  },
  {
   "cell_type": "code",
   "execution_count": 19,
   "metadata": {},
   "outputs": [],
   "source": [
    "np.save('diffusion_cma_60s', (u, labels_pde))"
   ]
  },
  {
   "cell_type": "code",
   "execution_count": null,
   "metadata": {},
   "outputs": [],
   "source": []
  }
 ],
 "metadata": {
  "accelerator": "GPU",
  "colab": {
   "authorship_tag": "ABX9TyP7yHMdkX7AaKfpJje6N+ih",
   "collapsed_sections": [
    "2sBP7OlwYaPv",
    "egYFbMFLYnLj",
    "f_lSEQGfYTX1",
    "hp-SQ0LCYRZy"
   ],
   "mount_file_id": "1XvHQ8A46tu3S1WIt7xeVZhhoJZcnxqcH",
   "provenance": []
  },
  "gpuClass": "standard",
  "kernelspec": {
   "display_name": "Python 3 (ipykernel)",
   "language": "python",
   "name": "python3"
  },
  "language_info": {
   "codemirror_mode": {
    "name": "ipython",
    "version": 3
   },
   "file_extension": ".py",
   "mimetype": "text/x-python",
   "name": "python",
   "nbconvert_exporter": "python",
   "pygments_lexer": "ipython3",
   "version": "3.8.13"
  }
 },
 "nbformat": 4,
 "nbformat_minor": 1
}
