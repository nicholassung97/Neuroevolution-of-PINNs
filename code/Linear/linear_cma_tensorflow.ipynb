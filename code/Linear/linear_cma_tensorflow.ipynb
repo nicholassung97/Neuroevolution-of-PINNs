{
 "cells": [
  {
   "cell_type": "markdown",
   "metadata": {},
   "source": [
    "***\n",
    "    \n",
    "Demo Tensorflow for PINN (Physics-Informed Neural Network)\n",
    "    \n",
    "***\n",
    "\n",
    "    Version: 2023-02-24\n",
    "    \n",
    "    Author : Nicholas Sung Wei Yong, Wong Jian Cheng, Ooi Chin Chun, Abhishek Gupta\n",
    "\n",
    "    Contain:\n",
    "    \n",
    "    1. PINN for solving Linearized Burgers equation \n",
    "    \n",
    "    2. Optimize PINN using CMA-ES on the Tensorflow framework\n",
    "       -  as described in Nicholas Sung Wei Yong, Jian Cheng Wong, Pao-Hsiung Chiu, Abhishek Gupta, Chinchun Ooi, Yew-Soon Ong\n",
    "       \"Neuroevolution Surpasses Stochastic Gradient Descent for Physics-Informed Neural Networks\" arXiv preprint arXiv:2212.07624 (2022)."
   ]
  },
  {
   "cell_type": "markdown",
   "metadata": {
    "id": "f77JlltM_5B9"
   },
   "source": [
    "Import Libraries"
   ]
  },
  {
   "cell_type": "code",
   "execution_count": 1,
   "metadata": {
    "executionInfo": {
     "elapsed": 4403,
     "status": "ok",
     "timestamp": 1665003728449,
     "user": {
      "displayName": "Nicholas Sung",
      "userId": "04413473591799886681"
     },
     "user_tz": -480
    },
    "id": "iZWrKHf0_5B-"
   },
   "outputs": [
    {
     "name": "stderr",
     "output_type": "stream",
     "text": [
      "2022-12-13 19:51:07.965853: I tensorflow/stream_executor/platform/default/dso_loader.cc:53] Successfully opened dynamic library libcudart.so.11.0\n"
     ]
    }
   ],
   "source": [
    "%matplotlib inline\n",
    "import matplotlib.pylab as plt \n",
    "from matplotlib import cm\n",
    "\n",
    "import os\n",
    "import math\n",
    "import numpy as np\n",
    "import pandas as pd\n",
    "import cma\n",
    "import tensorflow as tf\n",
    "from tensorflow import keras\n",
    "from tensorflow.keras import models, layers\n",
    "from tensorflow.keras.callbacks import LearningRateScheduler, ReduceLROnPlateau, ModelCheckpoint, Callback\n",
    "import tensorflow.keras.backend as K\n",
    "\n",
    "from IPython.display import clear_output\n",
    "from time import time, gmtime, strftime, localtime\n",
    "\n",
    "import warnings\n",
    "warnings.filterwarnings(\"ignore\")"
   ]
  },
  {
   "cell_type": "code",
   "execution_count": 2,
   "metadata": {
    "executionInfo": {
     "elapsed": 10,
     "status": "ok",
     "timestamp": 1665003728450,
     "user": {
      "displayName": "Nicholas Sung",
      "userId": "04413473591799886681"
     },
     "user_tz": -480
    },
    "id": "pjlXuYE8_5B_"
   },
   "outputs": [],
   "source": [
    "from scipy import dot, exp, log, sqrt, floor, ones, randn, zeros_like, Inf, argmax, argmin, eye, outer, zeros\n",
    "from scipy import array, power, diag, cos, sin, pi\n",
    "from scipy.linalg import expm, cholesky, solve, norm, eig\n",
    "from scipy.stats import multivariate_normal\n",
    "\n",
    "import seaborn as sns\n",
    "\n",
    "## run on CPU...\n",
    "os.environ[\"CUDA_VISIBLE_DEVICES\"]=\"-1\"\n",
    "\n",
    "# disable eager excution\n",
    "tf.compat.v1.disable_eager_execution()"
   ]
  },
  {
   "cell_type": "markdown",
   "metadata": {
    "id": "-_-3f44W_5CA"
   },
   "source": [
    "\n",
    "\n",
    "### 1. PINN for kdv equation"
   ]
  },
  {
   "cell_type": "markdown",
   "metadata": {
    "id": "WnNTTaUN_5CB"
   },
   "source": [
    "#### 1.0. Data"
   ]
  },
  {
   "cell_type": "markdown",
   "metadata": {
    "id": "xwzNcXWB_5CC"
   },
   "source": [
    "#### 1.1. Geometry, PDE parameter & BC"
   ]
  },
  {
   "cell_type": "code",
   "execution_count": 3,
   "metadata": {
    "executionInfo": {
     "elapsed": 9,
     "status": "ok",
     "timestamp": 1665003728450,
     "user": {
      "displayName": "Nicholas Sung",
      "userId": "04413473591799886681"
     },
     "user_tz": -480
    },
    "id": "6IXC0yrx_5CC"
   },
   "outputs": [],
   "source": [
    "vis = 0.02\n",
    "c = 1\n",
    "\n",
    "# initial condition\n",
    "k = 2\n",
    "m = 10\n",
    "\n",
    "# spatial domain\n",
    "x_l, x_u = -1.5, 6.5\n",
    "\n",
    "# time domain: 0 - t_T\n",
    "t_T = 2.0"
   ]
  },
  {
   "cell_type": "markdown",
   "metadata": {
    "id": "Skxrh-Gw_5CC"
   },
   "source": [
    "#### 1.2. Sampling plan"
   ]
  },
  {
   "cell_type": "code",
   "execution_count": 4,
   "metadata": {
    "executionInfo": {
     "elapsed": 8,
     "status": "ok",
     "timestamp": 1665003728450,
     "user": {
      "displayName": "Nicholas Sung",
      "userId": "04413473591799886681"
     },
     "user_tz": -480
    },
    "id": "2bDeKpJK_5CB"
   },
   "outputs": [],
   "source": [
    "sim = pd.read_csv('linear.csv')\n",
    "sim = sim[sim.x <= 4.5]\n",
    "batch_X = np.vstack([sim.t.values, sim.x.values]).T\n",
    "y_train = sim[['u']].values"
   ]
  },
  {
   "cell_type": "markdown",
   "metadata": {
    "id": "sGxlA6Hu_5CE"
   },
   "source": [
    "#### 1.3. PDE-NN"
   ]
  },
  {
   "cell_type": "code",
   "execution_count": 5,
   "metadata": {
    "executionInfo": {
     "elapsed": 8,
     "status": "ok",
     "timestamp": 1665003728451,
     "user": {
      "displayName": "Nicholas Sung",
      "userId": "04413473591799886681"
     },
     "user_tz": -480
    },
    "id": "o13nFP3Jm5ii"
   },
   "outputs": [],
   "source": [
    "# specify NN model + Physis\n",
    "def create_nn(nodes):\n",
    "\n",
    "    # input layers -> split into (t, x)\n",
    "    inputs = layers.Input(shape=(2,))\n",
    "    t, x = layers.Lambda( lambda k: tf.split(k, num_or_size_splits=2, axis=1))(inputs)\n",
    "\n",
    "    # hidden layers\n",
    "    hidden_1 = layers.Dense(nodes, activation='tanh')(layers.Concatenate()([t, x]))\n",
    "    hidden_2 = layers.Dense(nodes, activation='tanh')(hidden_1)\n",
    "    hidden_l = layers.Dense(nodes, activation='tanh')(hidden_2)\n",
    "\n",
    "    # output layers\n",
    "    u = layers.Dense(1, name=\"u\", use_bias=False)(hidden_l)\n",
    "\n",
    "    # axillary PDE outputs\n",
    "    u_t = K.gradients(u, t)[0]\n",
    "    u_x = K.gradients(u, x)[0]\n",
    "    u_xx = K.gradients(u_x, x)[0]\n",
    "    pde_residuals = u_t + c*u_x - vis*u_xx\n",
    "\n",
    "    # PDE residuals (u_t + c*u_x - vis*u_xx = 0)\n",
    "    pde_mse = tf.compat.v1.losses.mean_squared_error(labels=tf.zeros_like(pde_residuals), predictions=pde_residuals)\n",
    "\n",
    "    # initial conditions: u(0, x) = m*exp(-(k*x)**2)\n",
    "    x_0, u_0 = tf.boolean_mask(x, tf.equal(t, 0)), tf.boolean_mask(u, tf.equal(t, 0))\n",
    "    ic = m*tf.math.exp(tf.math.negative(tf.math.square(k*x_0)))\n",
    "    ic_mse = tf.compat.v1.losses.mean_squared_error(labels=ic, predictions=u_0)\n",
    "\n",
    "\n",
    "    # initiate model\n",
    "    nn = models.Model(inputs=inputs, outputs=u)\n",
    "\n",
    "    # optimizer\n",
    "    optimizer = tf.keras.optimizers.Adam(0.05)\n",
    "\n",
    "    # compile model with [physics] loss\n",
    "    nn.compile(loss = compute_physic_loss(pde_mse, ic_mse),\n",
    "               optimizer = optimizer,\n",
    "               metrics = [compute_pde_loss(pde_mse), compute_ic_loss(ic_mse)])\n",
    "\n",
    "    # pathway to variables inside NN\n",
    "    insiders = [u, pde_mse, ic_mse]\n",
    "    eval_ins = K.function([nn.input, K.learning_phase()], insiders)   # evaluation function\n",
    "\n",
    "    return (nn, eval_ins)"
   ]
  },
  {
   "cell_type": "code",
   "execution_count": 6,
   "metadata": {
    "executionInfo": {
     "elapsed": 8,
     "status": "ok",
     "timestamp": 1665003728451,
     "user": {
      "displayName": "Nicholas Sung",
      "userId": "04413473591799886681"
     },
     "user_tz": -480
    },
    "id": "sXupavt3_5CE"
   },
   "outputs": [],
   "source": [
    "# define loss function (PDE + IC loss)\n",
    "def compute_physic_loss(pde_mse, ic_mse):\n",
    "    def physic_loss(y_true, y_pred):\n",
    "        pde_loss  = pde_mse # PDE\n",
    "        ic_loss   = ic_mse  # IC\n",
    "        return pde_loss + ic_loss\n",
    "    return physic_loss\n",
    "\n",
    "# define loss function (PDE loss)\n",
    "def compute_pde_loss(pde_mse):\n",
    "    def pde_loss(y_true, y_pred): return pde_mse\n",
    "    return pde_loss # return a function\n",
    "\n",
    "# define loss function (IC loss)\n",
    "def compute_ic_loss(ic_mse):\n",
    "    def ic_loss(y_true, y_pred): return ic_mse\n",
    "    return ic_loss # return a function\n",
    "\n",
    "# define loss function (data loss)\n",
    "def compute_data_loss(z):\n",
    "    def data_loss(y_true, y_pred):\n",
    "        p_data = tf.equal(z, 1)\n",
    "        return tf.compat.v1.losses.mean_squared_error(labels=tf.boolean_mask(y_true, p_data), predictions=tf.boolean_mask(y_pred, p_data))\n",
    "    return data_loss"
   ]
  },
  {
   "cell_type": "markdown",
   "metadata": {
    "id": "-4tiYdMQ_5CF"
   },
   "source": [
    "### 3. Optimize PINN with [Neuroevolution / xNES]"
   ]
  },
  {
   "cell_type": "code",
   "execution_count": 7,
   "metadata": {
    "colab": {
     "base_uri": "https://localhost:8080/"
    },
    "executionInfo": {
     "elapsed": 732,
     "status": "ok",
     "timestamp": 1665003729176,
     "user": {
      "displayName": "Nicholas Sung",
      "userId": "04413473591799886681"
     },
     "user_tz": -480
    },
    "id": "W3X_6DeH_5CF",
    "outputId": "f42c49ed-2200-4fbc-d9ec-2df9d542c150"
   },
   "outputs": [
    {
     "name": "stdout",
     "output_type": "stream",
     "text": [
      "Model: \"model\"\n",
      "__________________________________________________________________________________________________\n",
      "Layer (type)                    Output Shape         Param #     Connected to                     \n",
      "==================================================================================================\n",
      "input_1 (InputLayer)            [(None, 2)]          0                                            \n",
      "__________________________________________________________________________________________________\n",
      "lambda (Lambda)                 [(None, 1), (None, 1 0           input_1[0][0]                    \n",
      "__________________________________________________________________________________________________\n",
      "concatenate (Concatenate)       (None, 2)            0           lambda[0][0]                     \n",
      "                                                                 lambda[0][1]                     \n",
      "__________________________________________________________________________________________________\n",
      "dense (Dense)                   (None, 10)           30          concatenate[0][0]                \n",
      "__________________________________________________________________________________________________\n",
      "dense_1 (Dense)                 (None, 10)           110         dense[0][0]                      \n",
      "__________________________________________________________________________________________________\n",
      "dense_2 (Dense)                 (None, 10)           110         dense_1[0][0]                    \n",
      "__________________________________________________________________________________________________\n",
      "u (Dense)                       (None, 1)            10          dense_2[0][0]                    \n",
      "==================================================================================================\n",
      "Total params: 260\n",
      "Trainable params: 260\n",
      "Non-trainable params: 0\n",
      "__________________________________________________________________________________________________\n"
     ]
    },
    {
     "name": "stderr",
     "output_type": "stream",
     "text": [
      "2022-12-13 19:51:11.457294: I tensorflow/stream_executor/platform/default/dso_loader.cc:53] Successfully opened dynamic library libcuda.so.1\n",
      "2022-12-13 19:51:11.473556: E tensorflow/stream_executor/cuda/cuda_driver.cc:328] failed call to cuInit: CUDA_ERROR_NO_DEVICE: no CUDA-capable device is detected\n",
      "2022-12-13 19:51:11.473579: I tensorflow/stream_executor/cuda/cuda_diagnostics.cc:169] retrieving CUDA diagnostic information for host: ihpcgs-03\n",
      "2022-12-13 19:51:11.473584: I tensorflow/stream_executor/cuda/cuda_diagnostics.cc:176] hostname: ihpcgs-03\n",
      "2022-12-13 19:51:11.473692: I tensorflow/stream_executor/cuda/cuda_diagnostics.cc:200] libcuda reported version is: 470.141.3\n",
      "2022-12-13 19:51:11.473711: I tensorflow/stream_executor/cuda/cuda_diagnostics.cc:204] kernel reported version is: 470.141.3\n",
      "2022-12-13 19:51:11.473715: I tensorflow/stream_executor/cuda/cuda_diagnostics.cc:310] kernel version seems to match DSO: 470.141.3\n",
      "2022-12-13 19:51:11.474031: I tensorflow/core/platform/cpu_feature_guard.cc:142] This TensorFlow binary is optimized with oneAPI Deep Neural Network Library (oneDNN) to use the following CPU instructions in performance-critical operations:  AVX2 AVX512F FMA\n",
      "To enable them in other operations, rebuild TensorFlow with the appropriate compiler flags.\n",
      "2022-12-13 19:51:11.508013: I tensorflow/core/platform/profile_utils/cpu_utils.cc:114] CPU Frequency: 3299990000 Hz\n"
     ]
    }
   ],
   "source": [
    "# initiate NN model (& pathway to internal values)\n",
    "n_nodes = 10\n",
    "nn, eval_ins = create_nn(n_nodes)\n",
    "\n",
    "# initial weights\n",
    "w0 = np.array([])\n",
    "nn_weights = nn.get_weights()\n",
    "for _g in nn_weights: w0 = np.append(w0, _g.flatten())\n",
    "\n",
    "nn.summary()"
   ]
  },
  {
   "cell_type": "code",
   "execution_count": 8,
   "metadata": {
    "executionInfo": {
     "elapsed": 4,
     "status": "ok",
     "timestamp": 1665003729177,
     "user": {
      "displayName": "Nicholas Sung",
      "userId": "04413473591799886681"
     },
     "user_tz": -480
    },
    "id": "Tnj4LIU8_5CF"
   },
   "outputs": [],
   "source": [
    "# nn weights structure \n",
    "nn_weights = nn.get_weights()\n",
    "nn_wlen = len(nn_weights)\n",
    "nn_wshape = [_w.shape for _w in nn_weights]\n",
    "nn_widx = np.cumsum([len(_w.flatten()) for _w in nn_weights])\n",
    "nn_nweights = nn_widx[-1]"
   ]
  },
  {
   "cell_type": "code",
   "execution_count": 9,
   "metadata": {
    "executionInfo": {
     "elapsed": 3,
     "status": "ok",
     "timestamp": 1665003729177,
     "user": {
      "displayName": "Nicholas Sung",
      "userId": "04413473591799886681"
     },
     "user_tz": -480
    },
    "id": "chaBfU92_5CG"
   },
   "outputs": [],
   "source": [
    "\n",
    "def nn_fitness(_weights):\n",
    "    _weights = np.split(_weights, nn_widx[:-1])\n",
    "    _weights = [_weights[i].reshape(nn_wshape[i]) for i in range(nn_wlen)]\n",
    "    nn.set_weights(_weights)\n",
    "    _x = batch_X\n",
    "    _, pde_mse, ic_mse = eval_ins(_x)\n",
    "    fitness = (pde_mse + ic_mse)\n",
    "    return fitness\n",
    "\n"
   ]
  },
  {
   "cell_type": "code",
   "execution_count": 10,
   "metadata": {
    "colab": {
     "base_uri": "https://localhost:8080/"
    },
    "executionInfo": {
     "elapsed": 1143508,
     "status": "ok",
     "timestamp": 1665022529490,
     "user": {
      "displayName": "Nicholas Sung",
      "userId": "04413473591799886681"
     },
     "user_tz": -480
    },
    "id": "1C0yQ5Hw_5CG",
    "outputId": "8731dc6d-91c2-4ea9-ceb6-875491d889c2"
   },
   "outputs": [
    {
     "name": "stdout",
     "output_type": "stream",
     "text": [
      "(25_w,50)-aCMA-ES (mu_w=14.0,w_1=14%) in dimension 260 (seed=1078325, Tue Dec 13 19:51:11 2022)\n",
      "Iterat #Fevals   function value  axis ratio  sigma  min&max std  t[m:s]\n",
      "    1     50 1.406853580474854e+01 1.0e+00 9.66e-03  1e-02  1e-02 0:00.6\n",
      "    2    100 1.381969642639160e+01 1.0e+00 9.41e-03  9e-03  9e-03 0:01.1\n",
      "    3    150 1.358181190490723e+01 1.0e+00 9.23e-03  9e-03  9e-03 0:01.6\n",
      "    4    200 1.345410728454590e+01 1.0e+00 9.10e-03  9e-03  9e-03 0:02.1\n",
      "    5    250 1.322073650360107e+01 1.0e+00 9.00e-03  9e-03  9e-03 0:02.6\n",
      "    6    300 1.312499046325684e+01 1.0e+00 8.96e-03  9e-03  9e-03 0:03.1\n",
      "    7    350 1.286690902709961e+01 1.0e+00 8.95e-03  9e-03  9e-03 0:03.6\n",
      "    8    400 1.266655826568604e+01 1.0e+00 8.98e-03  9e-03  9e-03 0:04.1\n",
      "    9    450 1.261105537414551e+01 1.0e+00 9.04e-03  9e-03  9e-03 0:04.6\n",
      "   10    500 1.228941345214844e+01 1.0e+00 9.13e-03  9e-03  9e-03 0:05.1\n",
      "Iterat #Fevals   function value  axis ratio  sigma  min&max std  t[m:s]\n",
      "   11    550 1.225606155395508e+01 1.0e+00 9.26e-03  9e-03  9e-03 0:05.7\n",
      "   12    600 1.213349914550781e+01 1.0e+00 9.39e-03  9e-03  9e-03 0:06.2\n",
      "   13    650 1.200945281982422e+01 1.0e+00 9.54e-03  1e-02  1e-02 0:06.7\n",
      "   14    700 1.185388469696045e+01 1.0e+00 9.71e-03  1e-02  1e-02 0:07.2\n",
      "   15    750 1.168930625915527e+01 1.0e+00 9.90e-03  1e-02  1e-02 0:07.7\n",
      "   16    800 1.154782962799072e+01 1.0e+00 1.01e-02  1e-02  1e-02 0:08.2\n",
      "   17    850 1.140700054168701e+01 1.0e+00 1.04e-02  1e-02  1e-02 0:08.7\n",
      "   18    900 1.123509216308594e+01 1.0e+00 1.07e-02  1e-02  1e-02 0:09.2\n",
      "   19    950 1.110991287231445e+01 1.0e+00 1.10e-02  1e-02  1e-02 0:09.8\n",
      "   20   1000 1.092998695373535e+01 1.0e+00 1.13e-02  1e-02  1e-02 0:10.3\n",
      "Iterat #Fevals   function value  axis ratio  sigma  min&max std  t[m:s]\n",
      "   21   1050 1.075044727325439e+01 1.0e+00 1.17e-02  1e-02  1e-02 0:10.8\n",
      "   22   1100 1.058423519134521e+01 1.0e+00 1.20e-02  1e-02  1e-02 0:11.4\n",
      "   23   1150 1.049307823181152e+01 1.0e+00 1.25e-02  1e-02  1e-02 0:11.9\n",
      "   24   1200 1.035958576202393e+01 1.0e+00 1.29e-02  1e-02  1e-02 0:12.4\n",
      "   25   1250 1.021434974670410e+01 1.0e+00 1.33e-02  1e-02  1e-02 0:12.9\n",
      "   26   1300 1.009990692138672e+01 1.0e+00 1.38e-02  1e-02  1e-02 0:13.4\n",
      "   27   1350 9.928128242492676e+00 1.1e+00 1.44e-02  1e-02  1e-02 0:13.9\n",
      "   28   1400 9.815767288208008e+00 1.1e+00 1.49e-02  1e-02  1e-02 0:14.4\n",
      "   29   1450 9.607443809509277e+00 1.1e+00 1.56e-02  2e-02  2e-02 0:15.0\n",
      "   30   1500 9.427365303039551e+00 1.1e+00 1.62e-02  2e-02  2e-02 0:15.4\n",
      "Iterat #Fevals   function value  axis ratio  sigma  min&max std  t[m:s]\n",
      "   31   1550 9.330101966857910e+00 1.1e+00 1.69e-02  2e-02  2e-02 0:16.0\n",
      "   32   1600 9.183977127075195e+00 1.1e+00 1.76e-02  2e-02  2e-02 0:16.4\n",
      "   33   1650 9.009025573730469e+00 1.1e+00 1.83e-02  2e-02  2e-02 0:16.9\n",
      "   34   1700 8.900179862976074e+00 1.1e+00 1.91e-02  2e-02  2e-02 0:17.4\n",
      "   35   1750 8.718817710876465e+00 1.1e+00 1.99e-02  2e-02  2e-02 0:18.0\n",
      "   36   1800 8.528636932373047e+00 1.1e+00 2.07e-02  2e-02  2e-02 0:18.5\n",
      "   37   1850 8.366112709045410e+00 1.1e+00 2.17e-02  2e-02  2e-02 0:19.0\n",
      "   38   1900 8.259200096130371e+00 1.1e+00 2.26e-02  2e-02  2e-02 0:19.5\n",
      "   39   1950 8.045691490173340e+00 1.1e+00 2.37e-02  2e-02  2e-02 0:20.1\n",
      "   40   2000 7.997689247131348e+00 1.1e+00 2.47e-02  2e-02  2e-02 0:20.6\n",
      "Iterat #Fevals   function value  axis ratio  sigma  min&max std  t[m:s]\n",
      "   41   2050 7.854867458343506e+00 1.1e+00 2.59e-02  3e-02  3e-02 0:21.1\n",
      "   42   2100 7.710964202880859e+00 1.1e+00 2.71e-02  3e-02  3e-02 0:21.7\n",
      "   43   2150 7.578904151916504e+00 1.1e+00 2.82e-02  3e-02  3e-02 0:22.2\n",
      "   44   2200 7.451348304748535e+00 1.1e+00 2.94e-02  3e-02  3e-02 0:22.7\n",
      "   45   2250 7.243031978607178e+00 1.1e+00 3.07e-02  3e-02  3e-02 0:23.2\n",
      "   46   2300 7.121038913726807e+00 1.1e+00 3.20e-02  3e-02  3e-02 0:23.7\n",
      "   47   2350 6.961114406585693e+00 1.1e+00 3.33e-02  3e-02  3e-02 0:24.3\n",
      "   48   2400 6.750397205352783e+00 1.1e+00 3.48e-02  3e-02  3e-02 0:24.8\n",
      "   49   2450 6.680794715881348e+00 1.1e+00 3.62e-02  4e-02  4e-02 0:25.3\n",
      "   50   2500 6.521309375762939e+00 1.1e+00 3.78e-02  4e-02  4e-02 0:25.9\n",
      "Iterat #Fevals   function value  axis ratio  sigma  min&max std  t[m:s]\n",
      "   51   2550 6.445115089416504e+00 1.1e+00 3.94e-02  4e-02  4e-02 0:26.4\n",
      "   52   2600 6.278228282928467e+00 1.1e+00 4.10e-02  4e-02  4e-02 0:26.9\n",
      "   53   2650 6.164679527282715e+00 1.1e+00 4.28e-02  4e-02  4e-02 0:27.5\n",
      "   54   2700 5.907654285430908e+00 1.1e+00 4.47e-02  4e-02  4e-02 0:28.0\n",
      "   55   2750 5.844910621643066e+00 1.1e+00 4.67e-02  5e-02  5e-02 0:28.5\n",
      "   56   2800 5.670065402984619e+00 1.1e+00 4.87e-02  5e-02  5e-02 0:29.0\n",
      "   57   2850 5.623140811920166e+00 1.1e+00 5.08e-02  5e-02  5e-02 0:29.6\n",
      "   58   2900 5.581977844238281e+00 1.1e+00 5.28e-02  5e-02  5e-02 0:30.1\n",
      "   59   2950 5.434786796569824e+00 1.1e+00 5.48e-02  5e-02  5e-02 0:30.6\n",
      "   60   3000 5.387571334838867e+00 1.1e+00 5.69e-02  6e-02  6e-02 0:31.1\n",
      "Iterat #Fevals   function value  axis ratio  sigma  min&max std  t[m:s]\n",
      "   61   3050 5.155435562133789e+00 1.1e+00 5.89e-02  6e-02  6e-02 0:31.6\n",
      "   62   3100 5.150822162628174e+00 1.1e+00 6.10e-02  6e-02  6e-02 0:32.2\n",
      "   63   3150 5.033600330352783e+00 1.1e+00 6.32e-02  6e-02  6e-02 0:32.7\n",
      "   64   3200 4.806748867034912e+00 1.1e+00 6.54e-02  7e-02  7e-02 0:33.2\n",
      "   65   3250 4.595255851745605e+00 1.1e+00 6.76e-02  7e-02  7e-02 0:33.7\n",
      "   66   3300 4.645611763000488e+00 1.1e+00 6.98e-02  7e-02  7e-02 0:34.2\n",
      "   67   3350 4.521720886230469e+00 1.1e+00 7.19e-02  7e-02  7e-02 0:34.7\n",
      "   68   3400 4.437717437744141e+00 1.1e+00 7.40e-02  7e-02  7e-02 0:35.2\n",
      "   69   3450 4.292721748352051e+00 1.1e+00 7.62e-02  8e-02  8e-02 0:35.8\n",
      "   70   3500 3.944588184356689e+00 1.1e+00 7.84e-02  8e-02  8e-02 0:36.3\n",
      "Iterat #Fevals   function value  axis ratio  sigma  min&max std  t[m:s]\n",
      "   71   3550 4.086834907531738e+00 1.1e+00 8.06e-02  8e-02  8e-02 0:36.8\n",
      "   72   3600 3.748663187026978e+00 1.1e+00 8.30e-02  8e-02  8e-02 0:37.4\n",
      "   73   3650 3.691293954849243e+00 1.1e+00 8.54e-02  9e-02  9e-02 0:37.9\n",
      "   74   3700 3.587923526763916e+00 1.1e+00 8.79e-02  9e-02  9e-02 0:38.4\n",
      "   75   3750 3.520362854003906e+00 1.1e+00 9.06e-02  9e-02  9e-02 0:38.9\n",
      "   76   3800 3.158316135406494e+00 1.1e+00 9.32e-02  9e-02  9e-02 0:39.5\n",
      "   77   3850 3.071023464202881e+00 1.1e+00 9.60e-02  1e-01  1e-01 0:40.0\n",
      "   78   3900 3.085373878479004e+00 1.1e+00 9.87e-02  1e-01  1e-01 0:40.5\n",
      "   79   3950 2.840979576110840e+00 1.1e+00 1.02e-01  1e-01  1e-01 0:41.1\n",
      "   80   4000 2.576064109802246e+00 1.1e+00 1.05e-01  1e-01  1e-01 0:41.6\n",
      "Iterat #Fevals   function value  axis ratio  sigma  min&max std  t[m:s]\n",
      "   81   4050 2.586370944976807e+00 1.1e+00 1.08e-01  1e-01  1e-01 0:42.1\n",
      "   82   4100 2.384963989257812e+00 1.1e+00 1.11e-01  1e-01  1e-01 0:42.6\n",
      "   83   4150 2.336323976516724e+00 1.1e+00 1.14e-01  1e-01  1e-01 0:43.1\n",
      "   84   4200 2.239231586456299e+00 1.1e+00 1.17e-01  1e-01  1e-01 0:43.6\n",
      "   85   4250 1.791718006134033e+00 1.1e+00 1.20e-01  1e-01  1e-01 0:44.1\n",
      "   86   4300 1.850051522254944e+00 1.1e+00 1.24e-01  1e-01  1e-01 0:44.6\n",
      "   87   4350 1.838582634925842e+00 1.1e+00 1.27e-01  1e-01  1e-01 0:45.1\n",
      "   88   4400 1.740198731422424e+00 1.1e+00 1.29e-01  1e-01  1e-01 0:45.6\n",
      "   89   4450 1.696088552474976e+00 1.1e+00 1.32e-01  1e-01  1e-01 0:46.2\n",
      "   90   4500 1.547407269477844e+00 1.1e+00 1.35e-01  1e-01  1e-01 0:46.7\n",
      "Iterat #Fevals   function value  axis ratio  sigma  min&max std  t[m:s]\n",
      "   91   4550 1.295841336250305e+00 1.1e+00 1.38e-01  1e-01  1e-01 0:47.2\n",
      "   92   4600 1.367806792259216e+00 1.1e+00 1.41e-01  1e-01  1e-01 0:47.7\n",
      "   93   4650 1.660769701004028e+00 1.1e+00 1.43e-01  1e-01  1e-01 0:48.3\n",
      "   94   4700 1.299300670623779e+00 1.1e+00 1.45e-01  1e-01  1e-01 0:48.8\n",
      "   95   4750 1.305198550224304e+00 1.1e+00 1.47e-01  1e-01  1e-01 0:49.3\n",
      "   96   4800 1.135766625404358e+00 1.1e+00 1.49e-01  1e-01  1e-01 0:49.8\n",
      "   97   4850 1.135926604270935e+00 1.1e+00 1.51e-01  2e-01  2e-01 0:50.3\n",
      "   98   4900 1.158505082130432e+00 1.1e+00 1.53e-01  2e-01  2e-01 0:50.8\n",
      "   99   4950 8.580580353736877e-01 1.1e+00 1.55e-01  2e-01  2e-01 0:51.3\n",
      "  100   5000 1.026489973068237e+00 1.1e+00 1.57e-01  2e-01  2e-01 0:51.8\n",
      "Iterat #Fevals   function value  axis ratio  sigma  min&max std  t[m:s]\n",
      "  101   5050 1.142303347587585e+00 1.1e+00 1.59e-01  2e-01  2e-01 0:52.3\n"
     ]
    },
    {
     "name": "stdout",
     "output_type": "stream",
     "text": [
      "  102   5100 8.800496459007263e-01 1.1e+00 1.61e-01  2e-01  2e-01 0:52.8\n",
      "  103   5150 1.093739509582520e+00 1.1e+00 1.63e-01  2e-01  2e-01 0:53.3\n",
      "  104   5200 7.162806987762451e-01 1.1e+00 1.65e-01  2e-01  2e-01 0:53.9\n",
      "  105   5250 7.831873893737793e-01 1.1e+00 1.67e-01  2e-01  2e-01 0:54.4\n",
      "  106   5300 9.513932466506958e-01 1.1e+00 1.69e-01  2e-01  2e-01 0:54.8\n",
      "  107   5350 8.191636800765991e-01 1.1e+00 1.70e-01  2e-01  2e-01 0:55.3\n",
      "  108   5400 8.320074081420898e-01 1.1e+00 1.71e-01  2e-01  2e-01 0:55.8\n",
      "  109   5450 8.333946466445923e-01 1.1e+00 1.73e-01  2e-01  2e-01 0:56.3\n",
      "  110   5500 5.842761993408203e-01 1.1e+00 1.74e-01  2e-01  2e-01 0:56.8\n",
      "Iterat #Fevals   function value  axis ratio  sigma  min&max std  t[m:s]\n",
      "  111   5550 7.774230837821960e-01 1.1e+00 1.76e-01  2e-01  2e-01 0:57.3\n",
      "  112   5600 6.650999188423157e-01 1.1e+00 1.77e-01  2e-01  2e-01 0:57.9\n",
      "  113   5650 5.797455906867981e-01 1.1e+00 1.79e-01  2e-01  2e-01 0:58.3\n",
      "  114   5700 5.100704431533813e-01 1.1e+00 1.80e-01  2e-01  2e-01 0:58.8\n",
      "  115   5750 7.626407146453857e-01 1.1e+00 1.82e-01  2e-01  2e-01 0:59.4\n",
      "  116   5800 8.050802946090698e-01 1.1e+00 1.83e-01  2e-01  2e-01 0:59.8\n",
      "  117   5850 6.418797969818115e-01 1.1e+00 1.84e-01  2e-01  2e-01 1:00.3\n",
      "  118   5900 5.774788856506348e-01 1.1e+00 1.84e-01  2e-01  2e-01 1:00.8\n",
      "  119   5950 6.670459508895874e-01 1.1e+00 1.85e-01  2e-01  2e-01 1:01.4\n",
      "  120   6000 6.808746457099915e-01 1.1e+00 1.85e-01  2e-01  2e-01 1:01.9\n",
      "Iterat #Fevals   function value  axis ratio  sigma  min&max std  t[m:s]\n",
      "  121   6050 7.764570713043213e-01 1.1e+00 1.85e-01  2e-01  2e-01 1:02.3\n",
      "  122   6100 6.795773506164551e-01 1.1e+00 1.85e-01  2e-01  2e-01 1:02.8\n",
      "  123   6150 6.850880980491638e-01 1.1e+00 1.85e-01  2e-01  2e-01 1:03.4\n",
      "  124   6200 5.785404443740845e-01 1.1e+00 1.85e-01  2e-01  2e-01 1:03.9\n",
      "  125   6250 6.802240610122681e-01 1.1e+00 1.86e-01  2e-01  2e-01 1:04.4\n",
      "  126   6300 5.708278417587280e-01 1.1e+00 1.86e-01  2e-01  2e-01 1:04.9\n",
      "  127   6350 7.672681808471680e-01 1.1e+00 1.86e-01  2e-01  2e-01 1:05.4\n",
      "  128   6400 6.372052431106567e-01 1.1e+00 1.86e-01  2e-01  2e-01 1:05.9\n",
      "  129   6450 6.912654638290405e-01 1.1e+00 1.86e-01  2e-01  2e-01 1:06.4\n",
      "  130   6500 6.189645528793335e-01 1.1e+00 1.86e-01  2e-01  2e-01 1:06.9\n",
      "Iterat #Fevals   function value  axis ratio  sigma  min&max std  t[m:s]\n",
      "  131   6550 4.869549274444580e-01 1.1e+00 1.86e-01  2e-01  2e-01 1:07.4\n",
      "  132   6600 6.839775443077087e-01 1.1e+00 1.86e-01  2e-01  2e-01 1:07.9\n",
      "  133   6650 5.166521072387695e-01 1.1e+00 1.86e-01  2e-01  2e-01 1:08.3\n",
      "  134   6700 8.619886636734009e-01 1.1e+00 1.86e-01  2e-01  2e-01 1:08.8\n",
      "  135   6750 6.544151306152344e-01 1.1e+00 1.86e-01  2e-01  2e-01 1:09.3\n",
      "  136   6800 8.709962368011475e-01 1.1e+00 1.86e-01  2e-01  2e-01 1:09.8\n",
      "  137   6850 6.245249509811401e-01 1.1e+00 1.85e-01  2e-01  2e-01 1:10.3\n",
      "  138   6900 9.650967121124268e-01 1.1e+00 1.85e-01  2e-01  2e-01 1:10.8\n",
      "  139   6950 5.929866433143616e-01 1.1e+00 1.84e-01  2e-01  2e-01 1:11.3\n",
      "  140   7000 6.557559967041016e-01 1.1e+00 1.84e-01  2e-01  2e-01 1:11.8\n",
      "Iterat #Fevals   function value  axis ratio  sigma  min&max std  t[m:s]\n",
      "  141   7050 7.315542697906494e-01 1.1e+00 1.84e-01  2e-01  2e-01 1:12.3\n",
      "  142   7100 6.571311950683594e-01 1.1e+00 1.83e-01  2e-01  2e-01 1:12.8\n",
      "  143   7150 3.611712157726288e-01 1.1e+00 1.83e-01  2e-01  2e-01 1:13.3\n",
      "  144   7200 7.390468120574951e-01 1.1e+00 1.82e-01  2e-01  2e-01 1:13.9\n",
      "  145   7250 7.040545940399170e-01 1.1e+00 1.81e-01  2e-01  2e-01 1:14.4\n",
      "  146   7300 6.168065667152405e-01 1.1e+00 1.81e-01  2e-01  2e-01 1:14.9\n",
      "  147   7350 6.165567636489868e-01 1.1e+00 1.80e-01  2e-01  2e-01 1:15.4\n",
      "  148   7400 4.963478147983551e-01 1.1e+00 1.80e-01  2e-01  2e-01 1:15.9\n",
      "  149   7450 5.518784523010254e-01 1.1e+00 1.79e-01  2e-01  2e-01 1:16.4\n",
      "  150   7500 5.931936502456665e-01 1.1e+00 1.79e-01  2e-01  2e-01 1:17.0\n",
      "Iterat #Fevals   function value  axis ratio  sigma  min&max std  t[m:s]\n",
      "  151   7550 5.766964554786682e-01 1.1e+00 1.79e-01  2e-01  2e-01 1:17.5\n",
      "  152   7600 5.066945552825928e-01 1.1e+00 1.79e-01  2e-01  2e-01 1:18.0\n",
      "  153   7650 6.050094366073608e-01 1.1e+00 1.79e-01  2e-01  2e-01 1:18.5\n",
      "  154   7700 8.057197928428650e-01 1.1e+00 1.79e-01  2e-01  2e-01 1:19.0\n",
      "  155   7750 5.016954541206360e-01 1.1e+00 1.79e-01  2e-01  2e-01 1:19.5\n",
      "  156   7800 4.642500579357147e-01 1.1e+00 1.79e-01  2e-01  2e-01 1:20.0\n",
      "  157   7850 4.286091029644012e-01 1.2e+00 1.79e-01  2e-01  2e-01 1:20.6\n",
      "  158   7900 4.668030440807343e-01 1.2e+00 1.79e-01  2e-01  2e-01 1:21.1\n",
      "  159   7950 7.535467147827148e-01 1.2e+00 1.79e-01  2e-01  2e-01 1:21.6\n",
      "  160   8000 2.979017496109009e-01 1.2e+00 1.79e-01  2e-01  2e-01 1:22.1\n",
      "Iterat #Fevals   function value  axis ratio  sigma  min&max std  t[m:s]\n",
      "  161   8050 6.105851531028748e-01 1.2e+00 1.79e-01  2e-01  2e-01 1:22.7\n",
      "  162   8100 5.307949185371399e-01 1.2e+00 1.79e-01  2e-01  2e-01 1:23.2\n",
      "  163   8150 4.785601794719696e-01 1.2e+00 1.78e-01  2e-01  2e-01 1:23.7\n",
      "  164   8200 6.309546232223511e-01 1.2e+00 1.77e-01  2e-01  2e-01 1:24.3\n",
      "  165   8250 5.402809381484985e-01 1.2e+00 1.76e-01  2e-01  2e-01 1:24.8\n",
      "  166   8300 5.227595567703247e-01 1.2e+00 1.75e-01  2e-01  2e-01 1:25.4\n",
      "  167   8350 4.830604195594788e-01 1.2e+00 1.74e-01  2e-01  2e-01 1:25.9\n",
      "  168   8400 5.720002651214600e-01 1.2e+00 1.72e-01  2e-01  2e-01 1:26.4\n",
      "  169   8450 3.394306600093842e-01 1.2e+00 1.71e-01  2e-01  2e-01 1:26.9\n",
      "  170   8500 5.993142724037170e-01 1.2e+00 1.70e-01  2e-01  2e-01 1:27.5\n",
      "Iterat #Fevals   function value  axis ratio  sigma  min&max std  t[m:s]\n",
      "  171   8550 7.491115331649780e-01 1.2e+00 1.69e-01  2e-01  2e-01 1:27.9\n",
      "  172   8600 3.969656229019165e-01 1.2e+00 1.68e-01  2e-01  2e-01 1:28.5\n",
      "  173   8650 5.515904426574707e-01 1.2e+00 1.67e-01  2e-01  2e-01 1:29.0\n",
      "  174   8700 6.620153784751892e-01 1.2e+00 1.66e-01  2e-01  2e-01 1:29.5\n",
      "  175   8750 6.751794219017029e-01 1.2e+00 1.65e-01  2e-01  2e-01 1:30.0\n",
      "  176   8800 5.458287000656128e-01 1.2e+00 1.64e-01  2e-01  2e-01 1:30.6\n",
      "  177   8850 5.379725694656372e-01 1.2e+00 1.63e-01  2e-01  2e-01 1:31.1\n",
      "  178   8900 4.255701303482056e-01 1.2e+00 1.62e-01  2e-01  2e-01 1:31.6\n",
      "  179   8950 4.587167501449585e-01 1.2e+00 1.62e-01  2e-01  2e-01 1:32.1\n",
      "  180   9000 4.855470657348633e-01 1.2e+00 1.62e-01  2e-01  2e-01 1:32.6\n",
      "Iterat #Fevals   function value  axis ratio  sigma  min&max std  t[m:s]\n",
      "  181   9050 3.854801952838898e-01 1.2e+00 1.61e-01  2e-01  2e-01 1:33.2\n",
      "  182   9100 2.977037131786346e-01 1.2e+00 1.61e-01  2e-01  2e-01 1:33.7\n",
      "  183   9150 5.066688656806946e-01 1.2e+00 1.60e-01  2e-01  2e-01 1:34.2\n",
      "  184   9200 4.833727478981018e-01 1.2e+00 1.60e-01  2e-01  2e-01 1:34.7\n",
      "  185   9250 4.874562323093414e-01 1.2e+00 1.60e-01  2e-01  2e-01 1:35.2\n",
      "  186   9300 4.901314377784729e-01 1.2e+00 1.60e-01  2e-01  2e-01 1:35.8\n",
      "  187   9350 4.603173732757568e-01 1.2e+00 1.60e-01  2e-01  2e-01 1:36.3\n",
      "  188   9400 5.244309902191162e-01 1.2e+00 1.60e-01  2e-01  2e-01 1:36.8\n",
      "  189   9450 5.438692569732666e-01 1.2e+00 1.60e-01  2e-01  2e-01 1:37.3\n",
      "  190   9500 3.505030274391174e-01 1.2e+00 1.60e-01  2e-01  2e-01 1:37.9\n",
      "Iterat #Fevals   function value  axis ratio  sigma  min&max std  t[m:s]\n",
      "  191   9550 6.231774091720581e-01 1.2e+00 1.59e-01  2e-01  2e-01 1:38.4\n",
      "  192   9600 2.555700838565826e-01 1.2e+00 1.59e-01  2e-01  2e-01 1:39.0\n",
      "  193   9650 4.216422438621521e-01 1.2e+00 1.58e-01  2e-01  2e-01 1:39.5\n",
      "  194   9700 3.955968916416168e-01 1.2e+00 1.58e-01  2e-01  2e-01 1:40.0\n",
      "  195   9750 2.823212742805481e-01 1.2e+00 1.57e-01  2e-01  2e-01 1:40.5\n",
      "  196   9800 4.555590748786926e-01 1.2e+00 1.57e-01  2e-01  2e-01 1:41.0\n",
      "  197   9850 4.307864010334015e-01 1.2e+00 1.56e-01  2e-01  2e-01 1:41.6\n",
      "  198   9900 3.976451754570007e-01 1.2e+00 1.56e-01  2e-01  2e-01 1:42.1\n",
      "  199   9950 5.205724239349365e-01 1.2e+00 1.56e-01  2e-01  2e-01 1:42.7\n",
      "  200  10000 4.039986133575439e-01 1.2e+00 1.56e-01  2e-01  2e-01 1:43.2\n",
      "Iterat #Fevals   function value  axis ratio  sigma  min&max std  t[m:s]\n",
      "  201  10050 3.835988044738770e-01 1.2e+00 1.55e-01  2e-01  2e-01 1:43.7\n",
      "  202  10100 5.383197665214539e-01 1.2e+00 1.55e-01  2e-01  2e-01 1:44.2\n",
      "  203  10150 4.888189435005188e-01 1.2e+00 1.54e-01  2e-01  2e-01 1:44.7\n",
      "  204  10200 6.510312557220459e-01 1.2e+00 1.54e-01  2e-01  2e-01 1:45.3\n"
     ]
    },
    {
     "name": "stdout",
     "output_type": "stream",
     "text": [
      "  205  10250 4.663576781749725e-01 1.2e+00 1.54e-01  2e-01  2e-01 1:45.8\n",
      "  206  10300 5.970602631568909e-01 1.2e+00 1.54e-01  2e-01  2e-01 1:46.3\n",
      "  207  10350 6.045348644256592e-01 1.2e+00 1.53e-01  2e-01  2e-01 1:46.9\n",
      "  208  10400 3.694593608379364e-01 1.2e+00 1.53e-01  2e-01  2e-01 1:47.4\n",
      "  209  10450 4.221165180206299e-01 1.2e+00 1.52e-01  2e-01  2e-01 1:47.9\n",
      "  210  10500 3.961148858070374e-01 1.2e+00 1.51e-01  1e-01  2e-01 1:48.5\n",
      "Iterat #Fevals   function value  axis ratio  sigma  min&max std  t[m:s]\n",
      "  211  10550 4.920518994331360e-01 1.2e+00 1.51e-01  1e-01  2e-01 1:49.0\n",
      "  212  10600 3.427827656269073e-01 1.2e+00 1.51e-01  1e-01  2e-01 1:49.6\n",
      "  213  10650 4.577803015708923e-01 1.2e+00 1.51e-01  1e-01  2e-01 1:50.1\n",
      "  214  10700 2.635003030300140e-01 1.2e+00 1.51e-01  1e-01  2e-01 1:50.6\n",
      "  215  10750 2.744615077972412e-01 1.2e+00 1.51e-01  1e-01  2e-01 1:51.2\n",
      "  216  10800 2.937824726104736e-01 1.2e+00 1.50e-01  1e-01  2e-01 1:51.7\n",
      "  217  10850 4.395264089107513e-01 1.2e+00 1.50e-01  1e-01  2e-01 1:52.2\n",
      "  218  10900 3.303561806678772e-01 1.2e+00 1.50e-01  1e-01  2e-01 1:52.7\n",
      "  219  10950 4.417704343795776e-01 1.2e+00 1.50e-01  1e-01  2e-01 1:53.3\n",
      "  220  11000 4.900586605072021e-01 1.2e+00 1.50e-01  1e-01  2e-01 1:53.8\n",
      "Iterat #Fevals   function value  axis ratio  sigma  min&max std  t[m:s]\n",
      "  221  11050 2.993161678314209e-01 1.2e+00 1.50e-01  1e-01  2e-01 1:54.3\n",
      "  222  11100 2.324561476707458e-01 1.2e+00 1.50e-01  1e-01  2e-01 1:54.8\n",
      "  223  11150 2.810850739479065e-01 1.2e+00 1.50e-01  1e-01  2e-01 1:55.3\n",
      "  224  11200 3.649986386299133e-01 1.2e+00 1.49e-01  1e-01  1e-01 1:55.8\n",
      "  225  11250 3.094247579574585e-01 1.2e+00 1.49e-01  1e-01  1e-01 1:56.3\n",
      "  226  11300 3.529854416847229e-01 1.2e+00 1.49e-01  1e-01  1e-01 1:56.9\n",
      "  227  11350 5.118579268455505e-01 1.2e+00 1.48e-01  1e-01  1e-01 1:57.4\n",
      "  228  11400 4.446444511413574e-01 1.2e+00 1.48e-01  1e-01  1e-01 1:57.9\n",
      "  229  11450 3.707021474838257e-01 1.2e+00 1.47e-01  1e-01  1e-01 1:58.4\n",
      "  230  11500 3.108187913894653e-01 1.2e+00 1.47e-01  1e-01  1e-01 1:58.9\n",
      "Iterat #Fevals   function value  axis ratio  sigma  min&max std  t[m:s]\n",
      "  231  11550 4.190540015697479e-01 1.2e+00 1.46e-01  1e-01  1e-01 1:59.4\n",
      "  232  11600 3.999624550342560e-01 1.2e+00 1.46e-01  1e-01  1e-01 1:59.9\n",
      "  233  11650 3.719595670700073e-01 1.2e+00 1.45e-01  1e-01  1e-01 2:00.4\n",
      "  234  11700 3.737609982490540e-01 1.2e+00 1.45e-01  1e-01  1e-01 2:00.9\n",
      "  235  11750 2.682292759418488e-01 1.2e+00 1.45e-01  1e-01  1e-01 2:01.4\n",
      "  236  11800 4.929379820823669e-01 1.2e+00 1.45e-01  1e-01  1e-01 2:01.9\n",
      "  237  11850 4.120183289051056e-01 1.2e+00 1.45e-01  1e-01  1e-01 2:02.5\n",
      "  238  11900 3.654851913452148e-01 1.2e+00 1.44e-01  1e-01  1e-01 2:03.0\n",
      "  239  11950 2.656236290931702e-01 1.3e+00 1.44e-01  1e-01  1e-01 2:03.5\n",
      "  240  12000 3.898180723190308e-01 1.3e+00 1.44e-01  1e-01  1e-01 2:04.0\n",
      "Iterat #Fevals   function value  axis ratio  sigma  min&max std  t[m:s]\n",
      "  241  12050 3.582258820533752e-01 1.3e+00 1.43e-01  1e-01  1e-01 2:04.6\n",
      "  242  12100 5.384984612464905e-01 1.3e+00 1.43e-01  1e-01  1e-01 2:05.0\n",
      "  243  12150 3.203587830066681e-01 1.3e+00 1.43e-01  1e-01  1e-01 2:05.5\n",
      "  244  12200 3.667485713958740e-01 1.3e+00 1.43e-01  1e-01  1e-01 2:06.0\n",
      "  245  12250 3.018317222595215e-01 1.3e+00 1.42e-01  1e-01  1e-01 2:06.6\n",
      "  246  12300 3.670088648796082e-01 1.3e+00 1.43e-01  1e-01  1e-01 2:07.0\n",
      "  247  12350 2.841178178787231e-01 1.3e+00 1.43e-01  1e-01  1e-01 2:07.5\n",
      "  248  12400 3.713900446891785e-01 1.3e+00 1.43e-01  1e-01  1e-01 2:08.1\n",
      "  249  12450 3.152167201042175e-01 1.3e+00 1.43e-01  1e-01  1e-01 2:08.5\n",
      "  250  12500 2.532594203948975e-01 1.3e+00 1.42e-01  1e-01  1e-01 2:09.1\n",
      "Iterat #Fevals   function value  axis ratio  sigma  min&max std  t[m:s]\n",
      "  251  12550 2.555013298988342e-01 1.3e+00 1.42e-01  1e-01  1e-01 2:09.6\n",
      "  252  12600 3.742838501930237e-01 1.3e+00 1.41e-01  1e-01  1e-01 2:10.1\n",
      "  253  12650 2.948244810104370e-01 1.3e+00 1.40e-01  1e-01  1e-01 2:10.6\n",
      "  254  12700 2.820022702217102e-01 1.3e+00 1.39e-01  1e-01  1e-01 2:11.1\n",
      "  255  12750 3.004683256149292e-01 1.3e+00 1.39e-01  1e-01  1e-01 2:11.6\n",
      "  256  12800 2.663668394088745e-01 1.3e+00 1.38e-01  1e-01  1e-01 2:12.1\n",
      "  257  12850 3.177424669265747e-01 1.3e+00 1.37e-01  1e-01  1e-01 2:12.6\n",
      "  258  12900 3.326120972633362e-01 1.3e+00 1.37e-01  1e-01  1e-01 2:13.2\n",
      "  259  12950 2.809747159481049e-01 1.3e+00 1.37e-01  1e-01  1e-01 2:13.7\n",
      "  260  13000 2.351695001125336e-01 1.3e+00 1.36e-01  1e-01  1e-01 2:14.2\n",
      "Iterat #Fevals   function value  axis ratio  sigma  min&max std  t[m:s]\n",
      "  261  13050 2.341978251934052e-01 1.3e+00 1.36e-01  1e-01  1e-01 2:14.7\n",
      "  262  13100 2.912076711654663e-01 1.3e+00 1.35e-01  1e-01  1e-01 2:15.2\n",
      "  263  13150 3.433831334114075e-01 1.3e+00 1.34e-01  1e-01  1e-01 2:15.7\n",
      "  264  13200 3.927140235900879e-01 1.3e+00 1.33e-01  1e-01  1e-01 2:16.2\n",
      "  265  13250 2.699385285377502e-01 1.3e+00 1.33e-01  1e-01  1e-01 2:16.7\n",
      "  266  13300 2.091760039329529e-01 1.3e+00 1.32e-01  1e-01  1e-01 2:17.3\n",
      "  267  13350 3.030097484588623e-01 1.3e+00 1.31e-01  1e-01  1e-01 2:17.8\n",
      "  268  13400 3.410154283046722e-01 1.3e+00 1.30e-01  1e-01  1e-01 2:18.3\n",
      "  269  13450 3.412572741508484e-01 1.3e+00 1.29e-01  1e-01  1e-01 2:18.8\n",
      "  270  13500 2.710213959217072e-01 1.3e+00 1.29e-01  1e-01  1e-01 2:19.3\n",
      "Iterat #Fevals   function value  axis ratio  sigma  min&max std  t[m:s]\n",
      "  271  13550 2.698008716106415e-01 1.3e+00 1.28e-01  1e-01  1e-01 2:19.9\n",
      "  272  13600 1.569571793079376e-01 1.3e+00 1.28e-01  1e-01  1e-01 2:20.4\n",
      "  273  13650 3.620828092098236e-01 1.3e+00 1.27e-01  1e-01  1e-01 2:20.9\n",
      "  274  13700 2.128661721944809e-01 1.3e+00 1.27e-01  1e-01  1e-01 2:21.4\n",
      "  275  13750 3.014410734176636e-01 1.3e+00 1.26e-01  1e-01  1e-01 2:21.9\n",
      "  276  13800 2.561173439025879e-01 1.3e+00 1.26e-01  1e-01  1e-01 2:22.4\n",
      "  277  13850 2.787746787071228e-01 1.3e+00 1.26e-01  1e-01  1e-01 2:22.9\n",
      "  278  13900 3.211050629615784e-01 1.3e+00 1.26e-01  1e-01  1e-01 2:23.4\n",
      "  279  13950 1.881266683340073e-01 1.3e+00 1.26e-01  1e-01  1e-01 2:23.9\n",
      "  280  14000 2.342064976692200e-01 1.3e+00 1.25e-01  1e-01  1e-01 2:24.4\n",
      "Iterat #Fevals   function value  axis ratio  sigma  min&max std  t[m:s]\n",
      "  281  14050 2.751681208610535e-01 1.3e+00 1.25e-01  1e-01  1e-01 2:24.9\n",
      "  282  14100 2.915431857109070e-01 1.3e+00 1.24e-01  1e-01  1e-01 2:25.5\n",
      "  283  14150 2.236998081207275e-01 1.3e+00 1.24e-01  1e-01  1e-01 2:26.0\n",
      "  284  14200 2.054894268512726e-01 1.3e+00 1.24e-01  1e-01  1e-01 2:26.5\n",
      "  285  14250 3.025293052196503e-01 1.3e+00 1.24e-01  1e-01  1e-01 2:27.0\n",
      "  286  14300 1.840323507785797e-01 1.3e+00 1.24e-01  1e-01  1e-01 2:27.6\n",
      "  287  14350 2.639499902725220e-01 1.3e+00 1.24e-01  1e-01  1e-01 2:28.1\n",
      "  288  14400 2.338101267814636e-01 1.3e+00 1.24e-01  1e-01  1e-01 2:28.5\n",
      "  289  14450 2.940516173839569e-01 1.3e+00 1.24e-01  1e-01  1e-01 2:29.0\n",
      "  290  14500 2.951948940753937e-01 1.3e+00 1.24e-01  1e-01  1e-01 2:29.5\n",
      "Iterat #Fevals   function value  axis ratio  sigma  min&max std  t[m:s]\n",
      "  291  14550 3.204632103443146e-01 1.3e+00 1.24e-01  1e-01  1e-01 2:30.0\n",
      "  292  14600 2.094796597957611e-01 1.3e+00 1.24e-01  1e-01  1e-01 2:30.6\n",
      "  293  14650 2.070290148258209e-01 1.3e+00 1.24e-01  1e-01  1e-01 2:31.1\n",
      "  294  14700 2.627499997615814e-01 1.3e+00 1.24e-01  1e-01  1e-01 2:31.6\n",
      "  295  14750 1.953454762697220e-01 1.3e+00 1.23e-01  1e-01  1e-01 2:32.1\n",
      "  296  14800 2.589260637760162e-01 1.3e+00 1.23e-01  1e-01  1e-01 2:32.6\n",
      "  297  14850 2.769716084003448e-01 1.3e+00 1.23e-01  1e-01  1e-01 2:33.2\n",
      "  298  14900 3.413177132606506e-01 1.3e+00 1.23e-01  1e-01  1e-01 2:33.7\n",
      "  299  14950 2.805052995681763e-01 1.3e+00 1.22e-01  1e-01  1e-01 2:34.2\n",
      "  300  15000 3.283609449863434e-01 1.3e+00 1.22e-01  1e-01  1e-01 2:34.8\n",
      "Iterat #Fevals   function value  axis ratio  sigma  min&max std  t[m:s]\n",
      "  301  15050 3.362811803817749e-01 1.3e+00 1.21e-01  1e-01  1e-01 2:35.3\n",
      "  302  15100 2.332593798637390e-01 1.3e+00 1.20e-01  1e-01  1e-01 2:35.8\n",
      "  303  15150 3.252812027931213e-01 1.3e+00 1.19e-01  1e-01  1e-01 2:36.3\n",
      "  304  15200 2.332258820533752e-01 1.3e+00 1.19e-01  1e-01  1e-01 2:36.8\n",
      "  305  15250 2.993060946464539e-01 1.3e+00 1.18e-01  1e-01  1e-01 2:37.4\n",
      "  306  15300 2.273890674114227e-01 1.3e+00 1.18e-01  1e-01  1e-01 2:37.9\n",
      "  307  15350 1.687594354152679e-01 1.3e+00 1.17e-01  1e-01  1e-01 2:38.4\n"
     ]
    },
    {
     "name": "stdout",
     "output_type": "stream",
     "text": [
      "  308  15400 2.697140276432037e-01 1.3e+00 1.17e-01  1e-01  1e-01 2:39.0\n",
      "  309  15450 1.860858201980591e-01 1.3e+00 1.17e-01  1e-01  1e-01 2:39.5\n",
      "  310  15500 2.546798288822174e-01 1.3e+00 1.16e-01  1e-01  1e-01 2:40.0\n",
      "Iterat #Fevals   function value  axis ratio  sigma  min&max std  t[m:s]\n",
      "  311  15550 2.309516370296478e-01 1.3e+00 1.16e-01  1e-01  1e-01 2:40.5\n",
      "  312  15600 2.424561381340027e-01 1.3e+00 1.15e-01  1e-01  1e-01 2:41.0\n",
      "  313  15650 2.116218507289886e-01 1.3e+00 1.15e-01  1e-01  1e-01 2:41.5\n",
      "  314  15700 1.433404386043549e-01 1.3e+00 1.14e-01  1e-01  1e-01 2:42.0\n",
      "  315  15750 1.697653979063034e-01 1.3e+00 1.14e-01  1e-01  1e-01 2:42.5\n",
      "  316  15800 1.704879105091095e-01 1.3e+00 1.14e-01  1e-01  1e-01 2:43.0\n",
      "  317  15850 1.343992650508881e-01 1.3e+00 1.13e-01  1e-01  1e-01 2:43.5\n",
      "  318  15900 1.939006745815277e-01 1.3e+00 1.12e-01  1e-01  1e-01 2:44.0\n",
      "  319  15950 2.299163341522217e-01 1.3e+00 1.12e-01  1e-01  1e-01 2:44.6\n",
      "  320  16000 1.889723837375641e-01 1.3e+00 1.11e-01  1e-01  1e-01 2:45.0\n",
      "Iterat #Fevals   function value  axis ratio  sigma  min&max std  t[m:s]\n",
      "  321  16050 1.231681108474731e-01 1.3e+00 1.11e-01  1e-01  1e-01 2:45.5\n",
      "  322  16100 1.900911033153534e-01 1.3e+00 1.11e-01  1e-01  1e-01 2:46.0\n",
      "  323  16150 2.274011969566345e-01 1.3e+00 1.11e-01  1e-01  1e-01 2:46.5\n",
      "  324  16200 2.157128006219864e-01 1.3e+00 1.10e-01  1e-01  1e-01 2:47.0\n",
      "  325  16250 2.005478590726852e-01 1.3e+00 1.10e-01  1e-01  1e-01 2:47.6\n",
      "  326  16300 2.376640439033508e-01 1.3e+00 1.10e-01  1e-01  1e-01 2:48.0\n",
      "  327  16350 2.290383130311966e-01 1.3e+00 1.09e-01  1e-01  1e-01 2:48.6\n",
      "  328  16400 1.819497942924500e-01 1.3e+00 1.09e-01  1e-01  1e-01 2:49.1\n",
      "  329  16450 2.074278593063354e-01 1.3e+00 1.09e-01  1e-01  1e-01 2:49.6\n",
      "  330  16500 2.041436135768890e-01 1.3e+00 1.09e-01  1e-01  1e-01 2:50.1\n",
      "Iterat #Fevals   function value  axis ratio  sigma  min&max std  t[m:s]\n",
      "  331  16550 2.260105758905411e-01 1.3e+00 1.09e-01  1e-01  1e-01 2:50.6\n",
      "  332  16600 2.360108196735382e-01 1.3e+00 1.09e-01  1e-01  1e-01 2:51.1\n",
      "  333  16650 2.169905453920364e-01 1.3e+00 1.09e-01  1e-01  1e-01 2:51.6\n",
      "  334  16700 2.897688746452332e-01 1.3e+00 1.09e-01  1e-01  1e-01 2:52.1\n",
      "  335  16750 2.551929950714111e-01 1.3e+00 1.09e-01  1e-01  1e-01 2:52.6\n",
      "  336  16800 3.108305931091309e-01 1.3e+00 1.09e-01  1e-01  1e-01 2:53.1\n",
      "  337  16850 2.571332752704620e-01 1.3e+00 1.09e-01  1e-01  1e-01 2:53.7\n",
      "  338  16900 2.058581560850143e-01 1.3e+00 1.08e-01  1e-01  1e-01 2:54.2\n",
      "  339  16950 2.959612011909485e-01 1.3e+00 1.08e-01  1e-01  1e-01 2:54.7\n",
      "  340  17000 2.550723254680634e-01 1.3e+00 1.08e-01  1e-01  1e-01 2:55.2\n",
      "Iterat #Fevals   function value  axis ratio  sigma  min&max std  t[m:s]\n",
      "  341  17050 2.571631669998169e-01 1.3e+00 1.07e-01  1e-01  1e-01 2:55.7\n",
      "  342  17100 2.170798182487488e-01 1.3e+00 1.07e-01  1e-01  1e-01 2:56.2\n",
      "  343  17150 1.688037514686584e-01 1.3e+00 1.07e-01  1e-01  1e-01 2:56.7\n",
      "  344  17200 2.180779725313187e-01 1.3e+00 1.07e-01  1e-01  1e-01 2:57.3\n",
      "  345  17250 2.471127659082413e-01 1.3e+00 1.07e-01  1e-01  1e-01 2:57.8\n",
      "  346  17300 2.107179164886475e-01 1.3e+00 1.07e-01  1e-01  1e-01 2:58.3\n",
      "  347  17350 1.888496577739716e-01 1.3e+00 1.07e-01  1e-01  1e-01 2:58.9\n",
      "  348  17400 2.274273335933685e-01 1.3e+00 1.07e-01  1e-01  1e-01 2:59.4\n",
      "  349  17450 1.948754936456680e-01 1.3e+00 1.07e-01  1e-01  1e-01 2:59.9\n",
      "  350  17500 2.100110948085785e-01 1.3e+00 1.06e-01  1e-01  1e-01 3:00.4\n",
      "Iterat #Fevals   function value  axis ratio  sigma  min&max std  t[m:s]\n",
      "  351  17550 2.451354265213013e-01 1.3e+00 1.06e-01  1e-01  1e-01 3:00.9\n",
      "  352  17600 2.135863006114960e-01 1.3e+00 1.06e-01  1e-01  1e-01 3:01.4\n",
      "  353  17650 2.264603525400162e-01 1.3e+00 1.06e-01  1e-01  1e-01 3:02.0\n",
      "  354  17700 2.708016335964203e-01 1.3e+00 1.06e-01  1e-01  1e-01 3:02.5\n",
      "  355  17750 1.462312787771225e-01 1.3e+00 1.05e-01  1e-01  1e-01 3:03.0\n",
      "  356  17800 2.517009973526001e-01 1.3e+00 1.05e-01  1e-01  1e-01 3:03.6\n",
      "  357  17850 2.720780968666077e-01 1.3e+00 1.05e-01  1e-01  1e-01 3:04.1\n",
      "  358  17900 2.202107608318329e-01 1.3e+00 1.05e-01  1e-01  1e-01 3:04.6\n",
      "  359  17950 1.473507434129715e-01 1.3e+00 1.05e-01  1e-01  1e-01 3:05.1\n",
      "  360  18000 2.155349254608154e-01 1.3e+00 1.05e-01  1e-01  1e-01 3:05.6\n",
      "termination on maxiter=360 (Tue Dec 13 19:54:19 2022)\n",
      "final/bestever f-value = 8.670064e-02 8.670064e-02\n",
      "incumbent solution: [-0.44086818  0.62626102  1.84176116 -0.69271193 -1.04937291 -1.23500639\n",
      " -0.69218375  0.23292237 ...]\n",
      "std deviations: [0.10416436 0.10407811 0.10474885 0.10522721 0.10444012 0.10433833\n",
      " 0.10475094 0.10485634 ...]\n"
     ]
    }
   ],
   "source": [
    "x, es = cma.fmin2(nn_fitness, w0, 0.01, options={'ftarget':1e-04 ,'popsize':50, 'maxiter':360, 'verb_disp':1})"
   ]
  }
 ],
 "metadata": {
  "colab": {
   "collapsed_sections": [],
   "provenance": []
  },
  "kernelspec": {
   "display_name": "Python 3 (ipykernel)",
   "language": "python",
   "name": "python3"
  },
  "language_info": {
   "codemirror_mode": {
    "name": "ipython",
    "version": 3
   },
   "file_extension": ".py",
   "mimetype": "text/x-python",
   "name": "python",
   "nbconvert_exporter": "python",
   "pygments_lexer": "ipython3",
   "version": "3.8.13"
  }
 },
 "nbformat": 4,
 "nbformat_minor": 1
}
