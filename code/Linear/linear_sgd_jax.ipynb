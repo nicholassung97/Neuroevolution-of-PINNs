{
 "cells": [
  {
   "cell_type": "markdown",
   "metadata": {},
   "source": [
    "***\n",
    "    \n",
    "Demo JAX for PINN (Physics-Informed Neural Network)\n",
    "    \n",
    "***\n",
    "\n",
    "    Version: 2023-02-24\n",
    "    \n",
    "    Author : Nicholas Sung Wei Yong, Wong Jian Cheng, Ooi Chin Chun, Abhishek Gupta\n",
    "\n",
    "    Contain:\n",
    "    \n",
    "    1. PINN for solving Linearized Burgers equation\n",
    "    \n",
    "    2. Optimize PINN using Stochastic gradient descent on the JAX framework\n",
    "       -  as described in Nicholas Sung Wei Yong, Jian Cheng Wong, Pao-Hsiung Chiu, Abhishek Gupta, Chinchun Ooi, Yew-Soon Ong\n",
    "       \"Neuroevolution Surpasses Stochastic Gradient Descent for Physics-Informed Neural Networks\" arXiv preprint arXiv:2212.07624 (2022)."
   ]
  },
  {
   "cell_type": "markdown",
   "metadata": {
    "id": "L1utZItgyGsp"
   },
   "source": [
    "Import Libraries"
   ]
  },
  {
   "cell_type": "code",
   "execution_count": 1,
   "metadata": {
    "executionInfo": {
     "elapsed": 11,
     "status": "ok",
     "timestamp": 1665420690044,
     "user": {
      "displayName": "Nicholas Sung",
      "userId": "04413473591799886681"
     },
     "user_tz": -480
    },
    "id": "H4O49iRI1Z7v"
   },
   "outputs": [],
   "source": [
    "import jax\n",
    "import optax\n",
    "import time\n",
    "import matplotlib.pyplot as plt\n",
    "import pandas as pd\n",
    "import numpy as np\n",
    "from typing import Any, Callable, Sequence, Optional\n",
    "from jax import lax, random, numpy as jnp\n",
    "import flax\n",
    "from flax.core import freeze, unfreeze\n",
    "from flax import linen as nn\n",
    "from jax import random, grad, vmap, hessian, jacfwd, jit\n",
    "from jax.config import config\n",
    "\n",
    "# choose GPU\n",
    "import os\n",
    "os.environ['CUDA_VISIBLE_DEVICES'] = '0'"
   ]
  },
  {
   "cell_type": "markdown",
   "metadata": {
    "id": "qLkoVCRBySO2"
   },
   "source": [
    "Problem"
   ]
  },
  {
   "cell_type": "code",
   "execution_count": 2,
   "metadata": {},
   "outputs": [],
   "source": [
    "def f_ic(x):\n",
    "    return m*jnp.exp(-(k*x)**2)"
   ]
  },
  {
   "cell_type": "markdown",
   "metadata": {
    "id": "x0VO_YozyKDg"
   },
   "source": [
    "PINNs Network"
   ]
  },
  {
   "cell_type": "code",
   "execution_count": 3,
   "metadata": {
    "executionInfo": {
     "elapsed": 8,
     "status": "ok",
     "timestamp": 1665420690044,
     "user": {
      "displayName": "Nicholas Sung",
      "userId": "04413473591799886681"
     },
     "user_tz": -480
    },
    "id": "FYOrzZrl1cEe"
   },
   "outputs": [],
   "source": [
    "node = 10\n",
    "class PINNs(nn.Module):\n",
    "  \"\"\"PINNs\"\"\"\n",
    "  def setup(self):\n",
    "    self.layers = [nn.Dense(node, kernel_init = jax.nn.initializers.glorot_uniform()),\n",
    "                   nn.tanh,\n",
    "                   nn.Dense(node, kernel_init = jax.nn.initializers.glorot_uniform()),\n",
    "                   nn.tanh,\n",
    "                   nn.Dense(node, kernel_init = jax.nn.initializers.glorot_uniform()),\n",
    "                   nn.tanh,\n",
    "                   nn.Dense(1, kernel_init = jax.nn.initializers.glorot_uniform(), use_bias=False)]\n",
    "\n",
    "\n",
    "  @nn.compact\n",
    "  def __call__(self, inputs):\n",
    "      # split the two variables, probably just by slicing\n",
    "      x, t = inputs[:,0:1], inputs[:,1:2]\n",
    "      \n",
    "      def get_u(x, t):\n",
    "        u = jnp.hstack([x, t])\n",
    "        for i, lyr in enumerate(self.layers):\n",
    "          u = lyr(u)\n",
    "        return u\n",
    "\n",
    "      u = get_u(x, t)\n",
    "\n",
    "      # obtain u_t\n",
    "      def get_u_t(get_u, x, t):\n",
    "        u_t = jacfwd(get_u, 1)(x, t)\n",
    "        return u_t\n",
    "      u_t_vmap = vmap(get_u_t, in_axes=(None, 0, 0))\n",
    "      u_t = u_t_vmap(get_u, x, t).reshape(-1,1) \n",
    "      #obtain u_x\n",
    "      def get_u_x(get_u, x, t):\n",
    "        u_x = jacfwd(get_u)(x, t)\n",
    "        return u_x\n",
    "      u_x_vmap = vmap(get_u_x, in_axes=(None, 0, 0))\n",
    "      u_x = u_x_vmap(get_u, x, t).reshape(-1,1)  \n",
    "      #obtain u_xx    \n",
    "      def get_u_xx(get_u, x, t):\n",
    "        u_xx = hessian(get_u)(x,t)\n",
    "        return u_xx\n",
    "      u_xx_vmap = vmap(get_u_xx, in_axes=(None, 0, 0))\n",
    "      u_xx = u_xx_vmap(get_u, x, t).reshape(-1,1)\n",
    "\n",
    "      action = jnp.hstack([u,u_x, u_xx, u_t])   \n",
    "      return action\n",
    "\n",
    "# initialize model\n",
    "model = PINNs()    "
   ]
  },
  {
   "cell_type": "code",
   "execution_count": 4,
   "metadata": {
    "executionInfo": {
     "elapsed": 8,
     "status": "ok",
     "timestamp": 1665420690044,
     "user": {
      "displayName": "Nicholas Sung",
      "userId": "04413473591799886681"
     },
     "user_tz": -480
    },
    "id": "vh_R9gdC33oK"
   },
   "outputs": [],
   "source": [
    "# choose seed\n",
    "seed = 0\n",
    "key1, key2 = random.split(random.PRNGKey(seed))\n",
    "a = random.normal(key1, [1,2]) # Dummy input\n",
    "params = model.init(key2, a) # Initialization call"
   ]
  },
  {
   "cell_type": "code",
   "execution_count": 5,
   "metadata": {},
   "outputs": [
    {
     "data": {
      "text/plain": [
       "260"
      ]
     },
     "execution_count": 5,
     "metadata": {},
     "output_type": "execute_result"
    }
   ],
   "source": [
    "from evojax.util import get_params_format_fn\n",
    "num_params, format_params_fn = get_params_format_fn(params)\n",
    "num_params"
   ]
  },
  {
   "cell_type": "markdown",
   "metadata": {
    "id": "Vq_v-NIvyVCO"
   },
   "source": [
    "Hyper parameters and data "
   ]
  },
  {
   "cell_type": "code",
   "execution_count": 6,
   "metadata": {
    "executionInfo": {
     "elapsed": 5,
     "status": "ok",
     "timestamp": 1665420690562,
     "user": {
      "displayName": "Nicholas Sung",
      "userId": "04413473591799886681"
     },
     "user_tz": -480
    },
    "id": "6UfQH3XzPZTE"
   },
   "outputs": [
    {
     "data": {
      "text/plain": [
       "257"
      ]
     },
     "execution_count": 6,
     "metadata": {},
     "output_type": "execute_result"
    }
   ],
   "source": [
    "vis = 0.02\n",
    "c = 1\n",
    "\n",
    "# initial condition\n",
    "k = 2\n",
    "m = 10\n",
    "\n",
    "# spatial domain\n",
    "x_l, x_u = -1.5, 4.5\n",
    "\n",
    "# time domain: 0 - t_T\n",
    "t_T = 2.0\n",
    "\n",
    "sim = pd.read_csv('linear.csv')\n",
    "sim = sim[sim.x <= 4.5]\n",
    "data_all = np.vstack([sim.x.values, sim.t.values]).T\n",
    "label_all = sim[['u']].values\n",
    "\n",
    "\n",
    "\n",
    "x_train = jnp.vstack([sim.x.values, sim.t.values]).T\n",
    "y_train = sim[['u']].values\n",
    "x = x_train[:,0:1].reshape(-1,1)\n",
    "t = x_train[:,1:2].reshape(-1,1)\n",
    "\n",
    "_train1 = np.argwhere(t != 0.0)[:, 0]\n",
    "x_train1 = x[_train1].reshape(-1,1)\n",
    "t_train1 = t[_train1].reshape(-1,1)\n",
    "y_train1 = y_train[_train1].reshape(-1,1)\n",
    "\n",
    "_train2 = np.argwhere(t == 0.0)[:, 0]\n",
    "x_train2 = x[_train2].reshape(-1,1)\n",
    "t_train2 = t[_train2].reshape(-1,1)\n",
    "y_train2 = y_train[_train2].reshape(-1,1)\n",
    "\n",
    "data_all = jnp.hstack([x,t])\n",
    "label_all = y_train\n",
    "data_pde = jnp.hstack([x_train1, t_train1])\n",
    "label_pde = y_train1\n",
    "data_bc = jnp.hstack([x_train2, t_train2])\n",
    "label_bc = y_train2\n",
    "label_bc.shape[0]"
   ]
  },
  {
   "cell_type": "markdown",
   "metadata": {
    "id": "UHOgwyobyb02"
   },
   "source": [
    "Loss Function"
   ]
  },
  {
   "cell_type": "code",
   "execution_count": 7,
   "metadata": {},
   "outputs": [],
   "source": [
    "# loss function parameter\n",
    "lmbda = 1 #500"
   ]
  },
  {
   "cell_type": "code",
   "execution_count": 8,
   "metadata": {},
   "outputs": [],
   "source": [
    "def loss(params, input):\n",
    "    x = input[:,0:1].reshape(-1,1)\n",
    "    t = input[:,1:2].reshape(-1,1)\n",
    "    prediction = model.apply(format_params_fn(params), jnp.hstack([x, t]))\n",
    "    u, u_x, u_xx, u_t = prediction[:,0:1], prediction[:,1:2], prediction[:,2:3], prediction[:,3:4]\n",
    "    # ground truth\n",
    "    t_u = f_ic(x) \n",
    "    _ic = jnp.where((jnp.equal(t, 0)), 1, 0)\n",
    "    # _bc = ( jnp.equal(x, x_l) | jnp.equal(x, x_u) )\n",
    "    ic_mse = jnp.sum(jnp.square((t_u-u)*_ic))/jnp.sum(_ic)\n",
    "    # PDE (physics laws): v*u_x = k*u_xx  \n",
    "    pde = u_t + c*u_x - vis*u_xx\n",
    "\n",
    "\n",
    "    # exclude BC points\n",
    "    _pde = jnp.where((jnp.equal(t, 0)), 0, 1)\n",
    "    pde = pde*_pde\n",
    "    pde_mse = jnp.sum(jnp.square(pde))/jnp.sum(_pde)\n",
    "    pde_mse = pde_mse \n",
    "    loss = pde_mse + ic_mse\n",
    "    return loss\n",
    "  \n",
    "#loss_grad = jax.jit(jax.grad(loss))\n",
    "loss_grad = jax.jit(jax.value_and_grad(loss))    "
   ]
  },
  {
   "cell_type": "markdown",
   "metadata": {
    "id": "DX_6EF54yl4C"
   },
   "source": [
    "Weights Update"
   ]
  },
  {
   "cell_type": "code",
   "execution_count": 9,
   "metadata": {
    "executionInfo": {
     "elapsed": 3,
     "status": "ok",
     "timestamp": 1665420690562,
     "user": {
      "displayName": "Nicholas Sung",
      "userId": "04413473591799886681"
     },
     "user_tz": -480
    },
    "id": "LxrVM13VVM6i"
   },
   "outputs": [],
   "source": [
    "def update(params, opt_state, batch_data):\n",
    "    loss_value, grad = loss_grad(params, batch_data)\n",
    "    updates, opt_state = optimizer.update(grad, opt_state)\n",
    "    params = optax.apply_updates(params, updates)\n",
    "    return params, opt_state, loss_value\n",
    "\n",
    "update = jit(update)"
   ]
  },
  {
   "cell_type": "markdown",
   "metadata": {},
   "source": [
    "Initialization"
   ]
  },
  {
   "cell_type": "code",
   "execution_count": 10,
   "metadata": {},
   "outputs": [],
   "source": [
    "# initial params\n",
    "params = model.init(key2, a) # Initialization call\n",
    "\n",
    "# flatten initial params\n",
    "params = jax.flatten_util.ravel_pytree(params)[0]"
   ]
  },
  {
   "cell_type": "markdown",
   "metadata": {
    "id": "EzT-X2KRyeW0"
   },
   "source": [
    "Optimizer"
   ]
  },
  {
   "cell_type": "code",
   "execution_count": 11,
   "metadata": {
    "executionInfo": {
     "elapsed": 3,
     "status": "ok",
     "timestamp": 1665420690562,
     "user": {
      "displayName": "Nicholas Sung",
      "userId": "04413473591799886681"
     },
     "user_tz": -480
    },
    "id": "RW1pnAmenHGG"
   },
   "outputs": [],
   "source": [
    "alpha = 0.1\n",
    "#optimizer = optax.adam(learning_rate=alpha) # Choose the method\n",
    "optimizer = optax.sgd(learning_rate=alpha) # Choose the method\n",
    "opt_state = optimizer.init(params)"
   ]
  },
  {
   "cell_type": "markdown",
   "metadata": {},
   "source": [
    "Minibatching"
   ]
  },
  {
   "cell_type": "code",
   "execution_count": 12,
   "metadata": {},
   "outputs": [],
   "source": [
    "BS_pde = 23000\n",
    "BS_bc = 120\n",
    "\n",
    "\n",
    "def minibatch(train_iters):\n",
    "    _batch_pde = jax.random.choice(random.PRNGKey(train_iters), label_pde.shape[0], (BS_pde,))\n",
    "    _batch_bc = jax.random.choice(random.PRNGKey(train_iters), label_bc.shape[0], (BS_bc,))\n",
    "    batch_data = jnp.vstack([data_pde[_batch_pde], data_bc[_batch_bc]])\n",
    "    return batch_data\n",
    "\n",
    "minibatch = jit(minibatch)"
   ]
  },
  {
   "cell_type": "markdown",
   "metadata": {
    "id": "GSe-AJVayouG"
   },
   "source": [
    "Training "
   ]
  },
  {
   "cell_type": "code",
   "execution_count": 13,
   "metadata": {
    "colab": {
     "base_uri": "https://localhost:8080/"
    },
    "executionInfo": {
     "elapsed": 4541,
     "status": "ok",
     "timestamp": 1665420695100,
     "user": {
      "displayName": "Nicholas Sung",
      "userId": "04413473591799886681"
     },
     "user_tz": -480
    },
    "id": "i5ZOx3jIv5gH",
    "outputId": "d5453e6d-646d-4031-fb8c-5cb070be3ec8"
   },
   "outputs": [
    {
     "name": "stdout",
     "output_type": "stream",
     "text": [
      "Loss step 1000:  0.002593721\n",
      "Loss step 5000:  0.00050136354\n",
      "Loss step 10000:  0.00024450925\n",
      "Loss step 50000:  5.0580988e-05\n"
     ]
    },
    {
     "data": {
      "text/plain": [
       "64293"
      ]
     },
     "execution_count": 13,
     "metadata": {},
     "output_type": "execute_result"
    }
   ],
   "source": [
    "max_iters = 500000\n",
    "loss_ls = []\n",
    "t_training = []\n",
    "runtime = 0\n",
    "train_iters = 0\n",
    "while (train_iters < max_iters) and (runtime < 60):\n",
    "    start = time.time()\n",
    "    # stochastic update\n",
    "    batch_data = minibatch(train_iters)\n",
    "    params, opt_state, loss_value = update(params, opt_state, batch_data)\n",
    "    end = time.time()\n",
    "    t_training.append(end-start)\n",
    "    loss_ls.append(loss_value)\n",
    "    runtime += (end-start)\n",
    "    train_iters += 1    \n",
    "    # append weights\n",
    "    show_iters = [1000, 5000, 10000, 50000, 100000]\n",
    "    if (train_iters in show_iters):\n",
    "        print('Loss step {}: '.format(train_iters), loss_value)\n",
    "              \n",
    "# final train_iters\n",
    "train_iters"
   ]
  },
  {
   "cell_type": "code",
   "execution_count": 14,
   "metadata": {},
   "outputs": [],
   "source": [
    "# process results\n",
    "import numpy as np\n",
    "import pandas as pd"
   ]
  },
  {
   "cell_type": "code",
   "execution_count": 15,
   "metadata": {},
   "outputs": [
    {
     "data": {
      "text/plain": [
       "array([ 2.35341525,  2.35434484,  2.35496187, ..., 59.99879026,\n",
       "       59.99969792, 60.00059915])"
      ]
     },
     "execution_count": 15,
     "metadata": {},
     "output_type": "execute_result"
    }
   ],
   "source": [
    "training_ls = np.cumsum(t_training)\n",
    "training_ls"
   ]
  },
  {
   "cell_type": "code",
   "execution_count": 16,
   "metadata": {},
   "outputs": [
    {
     "data": {
      "text/plain": [
       "DeviceArray(4.969715e-05, dtype=float32)"
      ]
     },
     "execution_count": 16,
     "metadata": {},
     "output_type": "execute_result"
    }
   ],
   "source": [
    "loss_ls[-1]"
   ]
  },
  {
   "cell_type": "code",
   "execution_count": 17,
   "metadata": {},
   "outputs": [
    {
     "data": {
      "image/png": "[encoded data removed]",
      "text/plain": [
       "<Figure size 640x480 with 1 Axes>"
      ]
     },
     "metadata": {},
     "output_type": "display_data"
    }
   ],
   "source": [
    "plt.plot(training_ls, loss_ls); plt.yscale('log');\n",
    "plt.title('Fitness against Iterations')\n",
    "plt.show()"
   ]
  },
  {
   "cell_type": "markdown",
   "metadata": {},
   "source": [
    "#### Visualize results"
   ]
  },
  {
   "cell_type": "code",
   "execution_count": 18,
   "metadata": {},
   "outputs": [
    {
     "data": {
      "text/plain": [
       "DeviceArray(5.097855e-05, dtype=float32)"
      ]
     },
     "execution_count": 18,
     "metadata": {},
     "output_type": "execute_result"
    },
    {
     "data": {
      "image/png": "[encoded data removed]",
      "text/plain": [
       "<Figure size 2000x1000 with 4 Axes>"
      ]
     },
     "metadata": {},
     "output_type": "display_data"
    }
   ],
   "source": [
    "# plot final\n",
    "hello = PINNs()\n",
    "prediction = hello.apply(format_params_fn(params), data_all)\n",
    "u = prediction[:,0:1]\n",
    "fig = plt.figure(figsize=(20, 10))\n",
    "u_viz = (u.reshape(201, 257)).T \n",
    "ext = [x_l, x_u, 0 ,t_T]     # plot boundary \n",
    "ax1 = fig.add_subplot(2,3,1)\n",
    "mesh =ax1.imshow(u_viz, interpolation='bilinear', origin='lower', cmap='rainbow', extent=ext, aspect=4); \n",
    "plt.colorbar(mesh) \n",
    "plt.xlabel('x'); plt.ylabel('t'); \n",
    "plt.title('PDE-NN Solution (vis=%s)' %(vis), fontsize='x-large'); \n",
    "\n",
    "\n",
    "u_true = (label_all.reshape(201, 257)).T \n",
    "ext = [x_l, x_u, 0 ,t_T]     # plot boundary \n",
    "ax2 = fig.add_subplot(2,3,2)\n",
    "mesh2 = ax2.imshow(u_true, interpolation='bilinear', origin='lower', cmap='rainbow', extent=ext, aspect=4); \n",
    "plt.colorbar(mesh2); \n",
    "plt.xlabel('x'); plt.ylabel('t'); \n",
    "plt.title('Simluated Solution (vis=%s)' %(vis), fontsize='x-large'); \n",
    "jnp.mean(jnp.square(label_all - u))"
   ]
  },
  {
   "cell_type": "code",
   "execution_count": null,
   "metadata": {},
   "outputs": [],
   "source": []
  }
 ],
 "metadata": {
  "accelerator": "GPU",
  "colab": {
   "authorship_tag": "ABX9TyPxfu7Zqd/1OrGLQRzYWNna",
   "collapsed_sections": [],
   "provenance": []
  },
  "kernelspec": {
   "display_name": "Python 3 (ipykernel)",
   "language": "python",
   "name": "python3"
  },
  "language_info": {
   "codemirror_mode": {
    "name": "ipython",
    "version": 3
   },
   "file_extension": ".py",
   "mimetype": "text/x-python",
   "name": "python",
   "nbconvert_exporter": "python",
   "pygments_lexer": "ipython3",
   "version": "3.8.13"
  }
 },
 "nbformat": 4,
 "nbformat_minor": 1
}
