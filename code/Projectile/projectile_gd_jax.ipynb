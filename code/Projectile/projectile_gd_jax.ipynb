{
 "cells": [
  {
   "cell_type": "markdown",
   "metadata": {},
   "source": [
    "***\n",
    "    \n",
    "Demo JAX for PINN (Physics-Informed Neural Network)\n",
    "    \n",
    "***\n",
    "\n",
    "    Version: 2023-02-24\n",
    "    \n",
    "    Author : Nicholas Sung Wei Yong, Wong Jian Cheng, Ooi Chin Chun, Abhishek Gupta\n",
    "\n",
    "    Contain:\n",
    "    \n",
    "    1. PINN for solving projectile motion equation\n",
    "    \n",
    "    2. Optimize PINN using batch gradient descent on the JAX framework\n",
    "       -  as described in Nicholas Sung Wei Yong, Jian Cheng Wong, Pao-Hsiung Chiu, Abhishek Gupta, Chinchun Ooi, Yew-Soon Ong\n",
    "       \"Neuroevolution Surpasses Stochastic Gradient Descent for Physics-Informed Neural Networks\" arXiv preprint arXiv:2212.07624 (2022)."
   ]
  },
  {
   "cell_type": "markdown",
   "metadata": {
    "id": "L1utZItgyGsp"
   },
   "source": [
    "Import Libraries"
   ]
  },
  {
   "cell_type": "code",
   "execution_count": 1,
   "metadata": {
    "executionInfo": {
     "elapsed": 11,
     "status": "ok",
     "timestamp": 1665420690044,
     "user": {
      "displayName": "Nicholas Sung",
      "userId": "04413473591799886681"
     },
     "user_tz": -480
    },
    "id": "H4O49iRI1Z7v"
   },
   "outputs": [],
   "source": [
    "import jax\n",
    "import optax\n",
    "import time\n",
    "import matplotlib.pyplot as plt\n",
    "from typing import Any, Callable, Sequence, Optional\n",
    "from jax import lax, random, numpy as jnp\n",
    "import flax\n",
    "import numpy as np\n",
    "from flax.core import freeze, unfreeze\n",
    "from flax import linen as nn\n",
    "from jax import random, grad, vmap, hessian, jacfwd, jit\n",
    "from jax.config import config\n",
    "from scipy import array, power, diag, pi\n",
    "# choose GPU\n",
    "import os\n",
    "os.environ['CUDA_VISIBLE_DEVICES'] = '0'"
   ]
  },
  {
   "cell_type": "markdown",
   "metadata": {
    "id": "x0VO_YozyKDg"
   },
   "source": [
    "PINNs Network"
   ]
  },
  {
   "cell_type": "code",
   "execution_count": 2,
   "metadata": {
    "executionInfo": {
     "elapsed": 8,
     "status": "ok",
     "timestamp": 1665420690044,
     "user": {
      "displayName": "Nicholas Sung",
      "userId": "04413473591799886681"
     },
     "user_tz": -480
    },
    "id": "FYOrzZrl1cEe"
   },
   "outputs": [],
   "source": [
    "n_nodes = 8\n",
    "\n",
    "class PINNs(nn.Module):\n",
    "  \"\"\"PINNs\"\"\"\n",
    "  def setup(self):\n",
    "    # hidden layers\n",
    "    self.layers = [nn.Dense(n_nodes, kernel_init = jax.nn.initializers.glorot_uniform(), use_bias=False),\n",
    "                   nn.tanh,\n",
    "                   nn.Dense(n_nodes, kernel_init = jax.nn.initializers.glorot_uniform()),\n",
    "                   nn.tanh]\n",
    "    # split layers\n",
    "    self.splitx = [nn.Dense(n_nodes, kernel_init = jax.nn.initializers.glorot_uniform()),\n",
    "                   nn.tanh,\n",
    "                   nn.Dense(1, use_bias=False)]\n",
    "    self.splity = [nn.Dense(n_nodes, kernel_init = jax.nn.initializers.glorot_uniform()),\n",
    "                   nn.tanh,\n",
    "                   nn.Dense(1, use_bias=False)]\n",
    "\n",
    "\n",
    "  @nn.compact\n",
    "  def __call__(self, inputs):\n",
    "      # split the two variables, probably just by slicing\n",
    "      t= inputs#[:,0:1]\n",
    "      \n",
    "      def get_xy(t):\n",
    "        for i, lyr in enumerate(self.layers):\n",
    "          t = lyr(t)\n",
    "        # split layers\n",
    "        hidden_x = self.splitx[0](t)\n",
    "        hidden_x = self.splitx[1](hidden_x)\n",
    "        hidden_y = self.splity[0](t)\n",
    "        hidden_y = self.splity[1](hidden_y)\n",
    "        # output layers\n",
    "        x = self.splitx[2](hidden_x)\n",
    "        y = self.splity[2](hidden_y)\n",
    "        return x, y\n",
    "\n",
    "      x, y = get_xy(t)\n",
    "\n",
    "      # deriviatives needed to obtain are x_t, y_t, x_tt, y_tt\n",
    "      def get_xy_t(get_xy, t):\n",
    "        x_t, y_t = jacfwd(get_xy)(t)\n",
    "        return x_t, y_t\n",
    "      xy_t_vmap = vmap(get_xy_t, in_axes=(None, 0))\n",
    "      x_t, y_t = xy_t_vmap(get_xy, t)\n",
    "      x_t = x_t.reshape(-1,1)\n",
    "      y_t = y_t.reshape(-1,1)\n",
    "      def get_xy_tt(get_xy, t):\n",
    "        x_tt, y_tt = hessian(get_xy)(t)\n",
    "        return x_tt, y_tt\n",
    "      xy_tt_vmap = vmap(get_xy_tt, in_axes=(None, 0))\n",
    "      x_tt, y_tt = xy_tt_vmap(get_xy, t)\n",
    "      x_tt = x_tt.reshape(-1,1)\n",
    "      y_tt = y_tt.reshape(-1,1)\n",
    "      action = jnp.hstack([x, y, x_t, y_t, x_tt, y_tt])   \n",
    "      return action\n",
    "\n",
    "\n",
    "# initialize model\n",
    "model = PINNs()    "
   ]
  },
  {
   "cell_type": "code",
   "execution_count": 3,
   "metadata": {
    "executionInfo": {
     "elapsed": 8,
     "status": "ok",
     "timestamp": 1665420690044,
     "user": {
      "displayName": "Nicholas Sung",
      "userId": "04413473591799886681"
     },
     "user_tz": -480
    },
    "id": "vh_R9gdC33oK"
   },
   "outputs": [],
   "source": [
    "# choose seed\n",
    "seed = 0\n",
    "key1, key2 = random.split(random.PRNGKey(seed))\n",
    "a = random.normal(key1, [1,1]) # Dummy input\n",
    "params = model.init(key2, a) # Initialization call"
   ]
  },
  {
   "cell_type": "code",
   "execution_count": 4,
   "metadata": {},
   "outputs": [
    {
     "data": {
      "text/plain": [
       "240"
      ]
     },
     "execution_count": 4,
     "metadata": {},
     "output_type": "execute_result"
    }
   ],
   "source": [
    "from evojax.util import get_params_format_fn\n",
    "num_params, format_params_fn = get_params_format_fn(params)\n",
    "num_params"
   ]
  },
  {
   "cell_type": "markdown",
   "metadata": {
    "id": "qLkoVCRBySO2"
   },
   "source": [
    "Problem"
   ]
  },
  {
   "cell_type": "code",
   "execution_count": 5,
   "metadata": {
    "executionInfo": {
     "elapsed": 523,
     "status": "ok",
     "timestamp": 1665420690562,
     "user": {
      "displayName": "Nicholas Sung",
      "userId": "04413473591799886681"
     },
     "user_tz": -480
    },
    "id": "sSBikTe8Ol3_"
   },
   "outputs": [],
   "source": [
    "# function to generate analytical solution\n",
    "def f_x(t):\n",
    "    return x0 + t*u0\n",
    "\n",
    "def f_y(t):\n",
    "    return y0 + t*v0 - 1./2*g*t**2\n",
    "\n",
    "def f_t():\n",
    "    return (vel0*sin(a0*pi/180) + sqrt((vel0*sin(a0*pi/180))**2 + 2*g*y0)) / g\n",
    "\n",
    "# free fall\n",
    "def terminal_vel():\n",
    "    vinf = sqrt(2*m*g / (d*Cd*A))\n",
    "    return vinf\n",
    "\n",
    "def f_yfree(t, vinf):\n",
    "    y_free = y0 - vinf**2/g*log(np.cosh(g*t/vinf))\n",
    "    return y_free"
   ]
  },
  {
   "cell_type": "markdown",
   "metadata": {
    "id": "Vq_v-NIvyVCO"
   },
   "source": [
    "Hyper parameters and data "
   ]
  },
  {
   "cell_type": "code",
   "execution_count": 6,
   "metadata": {
    "executionInfo": {
     "elapsed": 5,
     "status": "ok",
     "timestamp": 1665420690562,
     "user": {
      "displayName": "Nicholas Sung",
      "userId": "04413473591799886681"
     },
     "user_tz": -480
    },
    "id": "6UfQH3XzPZTE"
   },
   "outputs": [],
   "source": [
    "# specify planet to change g, d & a_T\n",
    "# planet = {'earth': (9.8, 1.2, 2), 'mars': (3.7, 0, 4.5), 'moon': (1.6, 0, 10)}\n",
    "planet = {'earth': (9.8, 0, 2), 'mars': (3.7, 0, 4.5), 'moon': (1.6, 0, 10)}\n",
    "g, d, a_T = planet['earth']\n",
    "\n",
    "# parameter related to flying ball (constant)\n",
    "m = 0.6\n",
    "r = 0.12\n",
    "Cd = 0.54\n",
    "A = pi*r**2\n",
    "\n",
    "# initial condition @(x, y) position\n",
    "x0, y0 = 0, 2\n",
    "# initial condition @velocity\n",
    "vel0 = 8.0     \n",
    "\n",
    "# angle of projectile\n",
    "a0 = 75\n",
    "\n",
    "# initial velocity\n",
    "u0 = vel0 * np.cos(a0*pi/180)\n",
    "v0 = vel0 * np.sin(a0*pi/180)\n",
    "\n",
    "# time domain: 0 - t_T\n",
    "t_T = a_T    # let it fly..\n",
    "\n",
    "t_fitness = 0\n",
    "\n",
    "# PDE data\n",
    "n_pde= 10000\n",
    "n_ic= 1\n",
    "t = jnp.linspace(0, t_T, n_pde).reshape(-1, 1)\n",
    "data_pde = t\n",
    "labels_pde_x = f_x(t)\n",
    "labels_pde_y = f_y(t)"
   ]
  },
  {
   "cell_type": "markdown",
   "metadata": {
    "id": "UHOgwyobyb02"
   },
   "source": [
    "Loss Function"
   ]
  },
  {
   "cell_type": "code",
   "execution_count": 7,
   "metadata": {},
   "outputs": [],
   "source": [
    "# loss function parameter\n",
    "lmbda = 1 #500"
   ]
  },
  {
   "cell_type": "code",
   "execution_count": 8,
   "metadata": {},
   "outputs": [],
   "source": [
    "def loss(params, input):\n",
    "    t = input[:,0:1]\n",
    "    prediction = model.apply(format_params_fn(params), t)\n",
    "    x, y, x_t, y_t, x_tt, y_tt = prediction[:,0:1], prediction[:,1:2], prediction[:,2:3], prediction[:,3:4], prediction[:,4:5], prediction[:,5:6]\n",
    "\n",
    "\n",
    "    # ground truth\n",
    "    x_true = f_x(t)\n",
    "    y_true = f_y(t)  \n",
    "    _ic = jnp.where((jnp.equal(t, 0)), 1, 0)\n",
    "\n",
    "    # initial conditions (which define the problem)\n",
    "    ic_1 = jnp.sum(jnp.square((x_true-x)*_ic))/jnp.sum(_ic)\n",
    "    ic_2 = jnp.sum(jnp.square((y_true-y)*_ic))/jnp.sum(_ic)\n",
    "\n",
    "    ic_3 = jnp.sum(jnp.square((x_t-u0)*_ic))/jnp.sum(_ic)\n",
    "    ic_4 = jnp.sum(jnp.square((y_t-v0)*_ic))/jnp.sum(_ic)\n",
    "\n",
    "    # sum up all initial conditions\n",
    "    ic_mse = ic_1 + ic_2 + ic_3 + ic_4\n",
    "\n",
    "    # consider drag effect\n",
    "    V = jnp.sqrt( (x_t)**2 + (y_t)**2 )\n",
    "    C = 0.5*d*Cd*A/m\n",
    "    R = C*V\n",
    "\n",
    "    # PDE (physics laws):\n",
    "    pde_x = x_tt + R*x_t\n",
    "    pde_y = y_tt + R*y_t + g\n",
    "    # exclude BC points\n",
    "    _pde = jnp.where((jnp.equal(t, 0)), 0, 1)\n",
    "    pde_x = pde_x*_pde\n",
    "    pde_y = pde_y*_pde        \n",
    "    pde_residuals_x = jnp.sum(jnp.square(pde_x))/jnp.sum(_pde)\n",
    "    pde_residuals_y = jnp.sum(jnp.square(pde_y))/jnp.sum(_pde)\n",
    "    pde_mse = pde_residuals_x + pde_residuals_y\n",
    "\n",
    "    loss = pde_mse + ic_mse\n",
    "    return loss\n",
    "  \n",
    "#loss_grad = jax.jit(jax.grad(loss))\n",
    "loss_grad = jax.jit(jax.value_and_grad(loss))    "
   ]
  },
  {
   "cell_type": "markdown",
   "metadata": {
    "id": "DX_6EF54yl4C"
   },
   "source": [
    "Weights Update"
   ]
  },
  {
   "cell_type": "code",
   "execution_count": 9,
   "metadata": {
    "executionInfo": {
     "elapsed": 3,
     "status": "ok",
     "timestamp": 1665420690562,
     "user": {
      "displayName": "Nicholas Sung",
      "userId": "04413473591799886681"
     },
     "user_tz": -480
    },
    "id": "LxrVM13VVM6i"
   },
   "outputs": [],
   "source": [
    "def update(params, opt_state, batch_data):\n",
    "    loss_value, grad = loss_grad(params, batch_data)\n",
    "    updates, opt_state = optimizer.update(grad, opt_state)\n",
    "    params = optax.apply_updates(params, updates)\n",
    "    return params, opt_state, loss_value\n",
    "\n",
    "update = jit(update)"
   ]
  },
  {
   "cell_type": "markdown",
   "metadata": {},
   "source": [
    "Initialization"
   ]
  },
  {
   "cell_type": "code",
   "execution_count": 10,
   "metadata": {},
   "outputs": [],
   "source": [
    "# initial params\n",
    "params = model.init(key2, a) # Initialization call\n",
    "\n",
    "# flatten initial params\n",
    "params = jax.flatten_util.ravel_pytree(params)[0]"
   ]
  },
  {
   "cell_type": "markdown",
   "metadata": {
    "id": "EzT-X2KRyeW0"
   },
   "source": [
    "Optimizer"
   ]
  },
  {
   "cell_type": "code",
   "execution_count": 11,
   "metadata": {
    "executionInfo": {
     "elapsed": 3,
     "status": "ok",
     "timestamp": 1665420690562,
     "user": {
      "displayName": "Nicholas Sung",
      "userId": "04413473591799886681"
     },
     "user_tz": -480
    },
    "id": "RW1pnAmenHGG"
   },
   "outputs": [],
   "source": [
    "alpha = 0.001\n",
    "#optimizer = optax.adam(learning_rate=alpha) # Choose the method\n",
    "optimizer = optax.sgd(learning_rate=alpha) # Choose the method\n",
    "opt_state = optimizer.init(params)"
   ]
  },
  {
   "cell_type": "markdown",
   "metadata": {
    "id": "GSe-AJVayouG"
   },
   "source": [
    "Training "
   ]
  },
  {
   "cell_type": "code",
   "execution_count": 12,
   "metadata": {
    "colab": {
     "base_uri": "https://localhost:8080/"
    },
    "executionInfo": {
     "elapsed": 4541,
     "status": "ok",
     "timestamp": 1665420695100,
     "user": {
      "displayName": "Nicholas Sung",
      "userId": "04413473591799886681"
     },
     "user_tz": -480
    },
    "id": "i5ZOx3jIv5gH",
    "outputId": "d5453e6d-646d-4031-fb8c-5cb070be3ec8"
   },
   "outputs": [
    {
     "name": "stdout",
     "output_type": "stream",
     "text": [
      "Loss step 1000:  33.530334\n",
      "Loss step 5000:  6.2334843\n",
      "Loss step 10000:  0.65860164\n",
      "Loss step 50000:  0.011680504\n",
      "Loss step 100000:  0.0026344175\n"
     ]
    },
    {
     "data": {
      "text/plain": [
       "142457"
      ]
     },
     "execution_count": 12,
     "metadata": {},
     "output_type": "execute_result"
    }
   ],
   "source": [
    "max_iters = 500000\n",
    "loss_ls = []\n",
    "t_training = []\n",
    "runtime = 0\n",
    "train_iters = 0\n",
    "while (train_iters < max_iters) and (runtime < 60):\n",
    "    start = time.time()\n",
    "    # stochastic update\n",
    "    #batch_data = minibatch(train_iters)\n",
    "    batch_data = data_pde\n",
    "    params, opt_state, loss_value = update(params, opt_state, batch_data)\n",
    "    end = time.time()\n",
    "    t_training.append(end-start)\n",
    "    loss_ls.append(loss_value)\n",
    "    runtime += (end-start)\n",
    "    train_iters += 1    \n",
    "    # append weights\n",
    "    show_iters = [1000, 5000, 10000, 50000, 100000]\n",
    "    if (train_iters in show_iters):\n",
    "        print('Loss step {}: '.format(train_iters), loss_value)\n",
    "              \n",
    "# final train_iters\n",
    "train_iters"
   ]
  },
  {
   "cell_type": "code",
   "execution_count": 13,
   "metadata": {},
   "outputs": [],
   "source": [
    "# process results\n",
    "import numpy as np\n",
    "import pandas as pd"
   ]
  },
  {
   "cell_type": "code",
   "execution_count": 14,
   "metadata": {},
   "outputs": [
    {
     "data": {
      "text/plain": [
       "array([ 1.62602353,  1.62665343,  1.62704039, ..., 59.99949193,\n",
       "       59.9999063 , 60.0003171 ])"
      ]
     },
     "execution_count": 14,
     "metadata": {},
     "output_type": "execute_result"
    }
   ],
   "source": [
    "training_ls = np.cumsum(t_training)\n",
    "training_ls"
   ]
  },
  {
   "cell_type": "code",
   "execution_count": 15,
   "metadata": {},
   "outputs": [
    {
     "data": {
      "text/plain": [
       "DeviceArray(0.00343596, dtype=float32)"
      ]
     },
     "execution_count": 15,
     "metadata": {},
     "output_type": "execute_result"
    }
   ],
   "source": [
    "loss_ls[-1]"
   ]
  },
  {
   "cell_type": "code",
   "execution_count": 16,
   "metadata": {},
   "outputs": [
    {
     "data": {
      "image/png": "[encoded data removed]",
      "text/plain": [
       "<Figure size 640x480 with 1 Axes>"
      ]
     },
     "metadata": {},
     "output_type": "display_data"
    }
   ],
   "source": [
    "plt.plot(training_ls, loss_ls); plt.yscale('log');\n",
    "plt.title('Fitness against Iterations')\n",
    "plt.show()"
   ]
  },
  {
   "cell_type": "markdown",
   "metadata": {},
   "source": [
    "#### Visualize results"
   ]
  },
  {
   "cell_type": "code",
   "execution_count": 17,
   "metadata": {},
   "outputs": [
    {
     "data": {
      "text/plain": [
       "Text(0.5, 1.0, 'y against t')"
      ]
     },
     "execution_count": 17,
     "metadata": {},
     "output_type": "execute_result"
    },
    {
     "data": {
      "image/png": "[encoded data removed]",
      "text/plain": [
       "<Figure size 2000x1000 with 2 Axes>"
      ]
     },
     "metadata": {},
     "output_type": "display_data"
    }
   ],
   "source": [
    "# plot final\n",
    "hello = PINNs()\n",
    "prediction = hello.apply(format_params_fn(params), data_pde)\n",
    "prediction_x, prediction_y = prediction[:,0:1], prediction[:,1:2]\n",
    "fig = plt.figure(figsize=(20, 10))\n",
    "ax1 = fig.add_subplot(2,3,1)\n",
    "plt.plot(t, labels_pde_x, label = \"Actual\")\n",
    "plt.plot(t, prediction_x, '--', label = \"Predicted\")\n",
    "plt.legend()\n",
    "plt.title('x against t')\n",
    "ax2 = fig.add_subplot(2,3,2)\n",
    "plt.plot(t, labels_pde_y, label = \"Actual\")\n",
    "plt.plot(t, prediction_y, '--', label = \"Predicted\")\n",
    "plt.legend()\n",
    "plt.title('y against t')"
   ]
  },
  {
   "cell_type": "code",
   "execution_count": 18,
   "metadata": {},
   "outputs": [
    {
     "data": {
      "text/plain": [
       "DeviceArray(9.386871e-06, dtype=float32)"
      ]
     },
     "execution_count": 18,
     "metadata": {},
     "output_type": "execute_result"
    }
   ],
   "source": [
    "jnp.mean(jnp.square(labels_pde_x - prediction_x))"
   ]
  },
  {
   "cell_type": "code",
   "execution_count": 19,
   "metadata": {},
   "outputs": [
    {
     "data": {
      "text/plain": [
       "DeviceArray(0.00013341, dtype=float32)"
      ]
     },
     "execution_count": 19,
     "metadata": {},
     "output_type": "execute_result"
    }
   ],
   "source": [
    "jnp.mean(jnp.square(labels_pde_y - prediction_y))"
   ]
  }
 ],
 "metadata": {
  "accelerator": "GPU",
  "colab": {
   "authorship_tag": "ABX9TyPxfu7Zqd/1OrGLQRzYWNna",
   "collapsed_sections": [],
   "provenance": []
  },
  "kernelspec": {
   "display_name": "Python 3 (ipykernel)",
   "language": "python",
   "name": "python3"
  },
  "language_info": {
   "codemirror_mode": {
    "name": "ipython",
    "version": 3
   },
   "file_extension": ".py",
   "mimetype": "text/x-python",
   "name": "python",
   "nbconvert_exporter": "python",
   "pygments_lexer": "ipython3",
   "version": "3.8.13"
  }
 },
 "nbformat": 4,
 "nbformat_minor": 1
}
