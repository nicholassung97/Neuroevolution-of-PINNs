{
 "cells": [
  {
   "cell_type": "markdown",
   "metadata": {},
   "source": [
    "***\n",
    "    \n",
    "Demo Tensorflow for PINN (Physics-Informed Neural Network)\n",
    "    \n",
    "***\n",
    "\n",
    "    Version: 2023-02-24\n",
    "    \n",
    "    Author : Nicholas Sung Wei Yong, Wong Jian Cheng, Ooi Chin Chun, Abhishek Gupta\n",
    "\n",
    "    Contain:\n",
    "    \n",
    "    1. PINN for solving Korteweg–De Vries equation \n",
    "    \n",
    "    2. Optimize PINN using CMA-ES on the Tensorflow framework\n",
    "       -  as described in Nicholas Sung Wei Yong, Jian Cheng Wong, Pao-Hsiung Chiu, Abhishek Gupta, Chinchun Ooi, Yew-Soon Ong\n",
    "       \"Neuroevolution Surpasses Stochastic Gradient Descent for Physics-Informed Neural Networks\" arXiv preprint arXiv:2212.07624 (2022)."
   ]
  },
  {
   "cell_type": "markdown",
   "metadata": {
    "id": "f77JlltM_5B9"
   },
   "source": [
    "Import Libraries"
   ]
  },
  {
   "cell_type": "code",
   "execution_count": 1,
   "metadata": {
    "colab": {
     "base_uri": "https://localhost:8080/"
    },
    "executionInfo": {
     "elapsed": 3906,
     "status": "ok",
     "timestamp": 1665308359536,
     "user": {
      "displayName": "Nicholas Sung",
      "userId": "04413473591799886681"
     },
     "user_tz": -480
    },
    "id": "DttUSGvcdRTl",
    "outputId": "4ad3cb91-bce3-44da-81df-69491845134b"
   },
   "outputs": [],
   "source": [
    "# !pip install pyDOE"
   ]
  },
  {
   "cell_type": "code",
   "execution_count": 2,
   "metadata": {
    "executionInfo": {
     "elapsed": 3319,
     "status": "ok",
     "timestamp": 1665308362850,
     "user": {
      "displayName": "Nicholas Sung",
      "userId": "04413473591799886681"
     },
     "user_tz": -480
    },
    "id": "iZWrKHf0_5B-"
   },
   "outputs": [
    {
     "name": "stderr",
     "output_type": "stream",
     "text": [
      "2022-12-13 17:01:01.060651: I tensorflow/stream_executor/platform/default/dso_loader.cc:53] Successfully opened dynamic library libcudart.so.11.0\n"
     ]
    }
   ],
   "source": [
    "%matplotlib inline\n",
    "import matplotlib.pylab as plt \n",
    "from matplotlib import cm\n",
    "import cma\n",
    "import os\n",
    "import math\n",
    "import numpy as np\n",
    "import pandas as pd\n",
    "\n",
    "import tensorflow as tf\n",
    "from tensorflow import keras\n",
    "from tensorflow.keras import models, layers\n",
    "from tensorflow.keras.callbacks import LearningRateScheduler, ReduceLROnPlateau, ModelCheckpoint, Callback\n",
    "import tensorflow.keras.backend as K\n",
    "# from pyDOE import lhs\n",
    "from IPython.display import clear_output\n",
    "from time import time, gmtime, strftime, localtime\n",
    "\n",
    "import warnings\n",
    "warnings.filterwarnings(\"ignore\")"
   ]
  },
  {
   "cell_type": "code",
   "execution_count": 3,
   "metadata": {
    "executionInfo": {
     "elapsed": 12,
     "status": "ok",
     "timestamp": 1665308362851,
     "user": {
      "displayName": "Nicholas Sung",
      "userId": "04413473591799886681"
     },
     "user_tz": -480
    },
    "id": "pjlXuYE8_5B_"
   },
   "outputs": [
    {
     "name": "stdout",
     "output_type": "stream",
     "text": [
      "NVIDIA GeForce RTX 3090\r\n",
      "NVIDIA GeForce RTX 3090\r\n"
     ]
    }
   ],
   "source": [
    "from scipy import dot, exp, log, sqrt, floor, ones, randn, zeros_like, Inf, argmax, argmin, eye, outer, zeros\n",
    "from scipy import array, power, diag, cos, sin, pi\n",
    "from scipy.linalg import expm, cholesky, solve, norm, eig\n",
    "from scipy.stats import multivariate_normal\n",
    "\n",
    "import seaborn as sns\n",
    "\n",
    "## run on CPU...\n",
    "os.environ[\"CUDA_VISIBLE_DEVICES\"]=\"-1\"\n",
    "\n",
    "# disable eager excution\n",
    "tf.compat.v1.disable_eager_execution()\n",
    "!nvidia-smi --query-gpu=name --format=csv,noheader"
   ]
  },
  {
   "cell_type": "markdown",
   "metadata": {
    "id": "-_-3f44W_5CA"
   },
   "source": [
    "\n",
    "\n",
    "### 1. PINN for kdv equation"
   ]
  },
  {
   "cell_type": "markdown",
   "metadata": {
    "id": "WnNTTaUN_5CB"
   },
   "source": [
    "#### 1.0. Data"
   ]
  },
  {
   "cell_type": "markdown",
   "metadata": {
    "id": "xwzNcXWB_5CC"
   },
   "source": [
    "#### 1.1. Geometry, PDE parameter & BC"
   ]
  },
  {
   "cell_type": "code",
   "execution_count": 4,
   "metadata": {
    "executionInfo": {
     "elapsed": 11,
     "status": "ok",
     "timestamp": 1665308362851,
     "user": {
      "displayName": "Nicholas Sung",
      "userId": "04413473591799886681"
     },
     "user_tz": -480
    },
    "id": "6IXC0yrx_5CC"
   },
   "outputs": [],
   "source": [
    "v1 = 1\n",
    "v2 = 0.001\n",
    "# initial condition\n",
    "c1, c2, x1, x2 = 0.3, 0.1, 0.4, 0.8\n",
    "a1, a2 = 0.5*np.sqrt(c1/v2), 0.5*np.sqrt(c2/v2)\n",
    "\n",
    "# spatial domain\n",
    "x_l, x_u = 0., 1.5\n",
    "\n",
    "# time domain: 0 - t_T\n",
    "t_T = 2.0  \n",
    "\n",
    "t_fitness = 0"
   ]
  },
  {
   "cell_type": "code",
   "execution_count": 5,
   "metadata": {
    "executionInfo": {
     "elapsed": 11,
     "status": "ok",
     "timestamp": 1665308362851,
     "user": {
      "displayName": "Nicholas Sung",
      "userId": "04413473591799886681"
     },
     "user_tz": -480
    },
    "id": "2bDeKpJK_5CB"
   },
   "outputs": [],
   "source": [
    "# function to generate analytical solution of IC\n",
    "def f_ic(x):\n",
    "    return 3*c1*(1 / np.cosh(a1*(x-x1)))**2 + 3*c2*(1 / np.cosh(a2*(x-x2)))**2"
   ]
  },
  {
   "cell_type": "markdown",
   "metadata": {
    "id": "Skxrh-Gw_5CC"
   },
   "source": [
    "#### 1.2. Sampling plan"
   ]
  },
  {
   "cell_type": "code",
   "execution_count": 6,
   "metadata": {},
   "outputs": [],
   "source": [
    "sim = pd.read_csv('kdv.csv')\n",
    "# sim = pd.read_csv('/home/sungnwy/kdv plot/kdv.csv')\n",
    "sim['x'], sim['t'] = sim['x'], sim['t']\n",
    "x_train = np.vstack([sim.x.values, sim.t.values]).T\n",
    "y_train = sim[['u']].values\n",
    "\n",
    "x = x_train[:,0:1].reshape(-1)\n",
    "t = x_train[:,1:2].reshape(-1)\n",
    "_train1 = np.argwhere(x <= 1.5)\n",
    "x_train1 = x[_train1].reshape(-1)\n",
    "t_train1 = t[_train1].reshape(-1)\n",
    "y_train1 = y_train[_train1].reshape(-1)\n",
    "_train2 = np.argwhere(x_train1 >= 0.0)\n",
    "x_train2 = x_train1[_train2].reshape(-1,1)\n",
    "t_train2 = t_train1[_train2].reshape(-1,1)\n",
    "y_train2 = y_train1[_train2].reshape(-1,1)\n",
    "batch_X = np.hstack([t_train2, x_train2])"
   ]
  },
  {
   "cell_type": "markdown",
   "metadata": {
    "id": "sGxlA6Hu_5CE"
   },
   "source": [
    "#### 1.3. PDE-NN"
   ]
  },
  {
   "cell_type": "code",
   "execution_count": 7,
   "metadata": {
    "executionInfo": {
     "elapsed": 11,
     "status": "ok",
     "timestamp": 1665308362852,
     "user": {
      "displayName": "Nicholas Sung",
      "userId": "04413473591799886681"
     },
     "user_tz": -480
    },
    "id": "50ty0hm2_5CE"
   },
   "outputs": [],
   "source": [
    "# specify NN model + Physis \n",
    "def create_nn(nodes):\n",
    "\n",
    "    # input layers -> split into (t, x, z)\n",
    "    inputs = layers.Input(shape=(2,))\n",
    "    t, x= layers.Lambda( lambda k: tf.split(k, num_or_size_splits=2, axis=1))(inputs)\n",
    "\n",
    "    # hidden layers\n",
    "    hidden_1 = layers.Dense(nodes, activation='tanh', use_bias=False)(layers.Concatenate()([t, x]))\n",
    "    hidden_2 = layers.Dense(nodes, activation='tanh')(hidden_1)\n",
    "    hidden_3 = layers.Dense(nodes, activation='tanh')(hidden_2)\n",
    "    hidden_l = layers.Dense(nodes, activation='tanh')(hidden_3)\n",
    "\n",
    "    # output layers \n",
    "    u = layers.Dense(1, name=\"u\", use_bias=False)(hidden_l)\n",
    "\n",
    "    # axillary PDE outputs\n",
    "    u_t = K.gradients(u, t)[0]\n",
    "    u_x = K.gradients(u, x)[0]\n",
    "    u_xx = K.gradients(u_x, x)[0]\n",
    "    u_xxx = K.gradients(u_xx, x)[0]\n",
    "    pde_residuals = u_t + v1*u*u_x + v2*u_xxx\n",
    "\n",
    "    # PDE residuals (u_t + v1*u*u_x + v2*u_xxx = 0)\n",
    "    pde_mse = tf.compat.v1.losses.mean_squared_error(labels=tf.zeros_like(pde_residuals), predictions=pde_residuals)\n",
    "\n",
    "    # initial conditions: u(0, x) = 3*c1*sech2(a1(x-x1)) + 3*c2*sech2(a2(x-x2))\n",
    "    x_0, u_0 = tf.boolean_mask(x, tf.equal(t, 0)), tf.boolean_mask(u, tf.equal(t, 0))\n",
    "    ic = 3*c1*(1 / tf.math.cosh(a1*(x_0-x1)))**2 + 3*c2*(1 / tf.math.cosh(a2*(x_0-x2)))**2\n",
    "    ic_mse = tf.compat.v1.losses.mean_squared_error (labels=ic, predictions=u_0)\n",
    "\n",
    "\n",
    "    # initiate model\n",
    "    nn = models.Model(inputs=inputs, outputs=u)\n",
    "\n",
    "    # optimizer\n",
    "    optimizer = tf.keras.optimizers.Adam(0.05)\n",
    "\n",
    "    # compile model with [physics] loss \n",
    "    nn.compile(loss = compute_physic_loss(pde_mse, ic_mse),\n",
    "               optimizer = optimizer,\n",
    "               metrics = [compute_pde_loss(pde_mse), compute_ic_loss(ic_mse)])\n",
    "\n",
    "    # pathway to variables inside NN\n",
    "    insiders = [u, pde_mse, ic_mse]\n",
    "    eval_ins = K.function([nn.input, K.learning_phase()], insiders)   # evaluation function\n",
    "\n",
    "    return (nn, eval_ins)\n"
   ]
  },
  {
   "cell_type": "code",
   "execution_count": 8,
   "metadata": {
    "executionInfo": {
     "elapsed": 11,
     "status": "ok",
     "timestamp": 1665308362852,
     "user": {
      "displayName": "Nicholas Sung",
      "userId": "04413473591799886681"
     },
     "user_tz": -480
    },
    "id": "sXupavt3_5CE"
   },
   "outputs": [],
   "source": [
    "# define loss function (PDE + IC loss)\n",
    "def compute_physic_loss(pde_mse, ic_mse):\n",
    "    def physic_loss(y_true, y_pred):\n",
    "        pde_loss  = pde_mse # PDE\n",
    "        ic_loss   = ic_mse  # IC\n",
    "        return pde_loss + ic_loss\n",
    "    return physic_loss\n",
    "\n",
    "# define loss function (PDE loss)\n",
    "def compute_pde_loss(pde_mse):\n",
    "    def pde_loss(y_true, y_pred): return pde_mse\n",
    "    return pde_loss # return a function\n",
    "\n",
    "# define loss function (IC loss)\n",
    "def compute_ic_loss(ic_mse):\n",
    "    def ic_loss(y_true, y_pred): return ic_mse\n",
    "    return ic_loss # return a function\n",
    "\n",
    "# define loss function (data loss)\n",
    "def compute_data_loss(z):\n",
    "    def data_loss(y_true, y_pred):\n",
    "        p_data = tf.equal(z, 1)\n",
    "        return tf.losses.mean_squared_error(labels=tf.boolean_mask(y_true, p_data), predictions=tf.boolean_mask(y_pred, p_data))\n",
    "    return data_loss"
   ]
  },
  {
   "cell_type": "markdown",
   "metadata": {
    "id": "-4tiYdMQ_5CF"
   },
   "source": [
    "### 3. Optimize PINN with [Neuroevolution / xNES]"
   ]
  },
  {
   "cell_type": "code",
   "execution_count": 9,
   "metadata": {
    "colab": {
     "base_uri": "https://localhost:8080/"
    },
    "executionInfo": {
     "elapsed": 1287,
     "status": "ok",
     "timestamp": 1665308364128,
     "user": {
      "displayName": "Nicholas Sung",
      "userId": "04413473591799886681"
     },
     "user_tz": -480
    },
    "id": "W3X_6DeH_5CF",
    "outputId": "383d5c25-8936-47c8-b52b-e447d84be0dc"
   },
   "outputs": [
    {
     "name": "stdout",
     "output_type": "stream",
     "text": [
      "Model: \"model\"\n",
      "__________________________________________________________________________________________________\n",
      "Layer (type)                    Output Shape         Param #     Connected to                     \n",
      "==================================================================================================\n",
      "input_1 (InputLayer)            [(None, 2)]          0                                            \n",
      "__________________________________________________________________________________________________\n",
      "lambda (Lambda)                 [(None, 1), (None, 1 0           input_1[0][0]                    \n",
      "__________________________________________________________________________________________________\n",
      "concatenate (Concatenate)       (None, 2)            0           lambda[0][0]                     \n",
      "                                                                 lambda[0][1]                     \n",
      "__________________________________________________________________________________________________\n",
      "dense (Dense)                   (None, 8)            16          concatenate[0][0]                \n",
      "__________________________________________________________________________________________________\n",
      "dense_1 (Dense)                 (None, 8)            72          dense[0][0]                      \n",
      "__________________________________________________________________________________________________\n",
      "dense_2 (Dense)                 (None, 8)            72          dense_1[0][0]                    \n",
      "__________________________________________________________________________________________________\n",
      "dense_3 (Dense)                 (None, 8)            72          dense_2[0][0]                    \n",
      "__________________________________________________________________________________________________\n",
      "u (Dense)                       (None, 1)            8           dense_3[0][0]                    \n",
      "==================================================================================================\n",
      "Total params: 240\n",
      "Trainable params: 240\n",
      "Non-trainable params: 0\n",
      "__________________________________________________________________________________________________\n"
     ]
    },
    {
     "name": "stderr",
     "output_type": "stream",
     "text": [
      "2022-12-13 17:01:04.510801: I tensorflow/stream_executor/platform/default/dso_loader.cc:53] Successfully opened dynamic library libcuda.so.1\n",
      "2022-12-13 17:01:04.553924: E tensorflow/stream_executor/cuda/cuda_driver.cc:328] failed call to cuInit: CUDA_ERROR_NO_DEVICE: no CUDA-capable device is detected\n",
      "2022-12-13 17:01:04.553963: I tensorflow/stream_executor/cuda/cuda_diagnostics.cc:169] retrieving CUDA diagnostic information for host: ihpcgs-01\n",
      "2022-12-13 17:01:04.553969: I tensorflow/stream_executor/cuda/cuda_diagnostics.cc:176] hostname: ihpcgs-01\n",
      "2022-12-13 17:01:04.554132: I tensorflow/stream_executor/cuda/cuda_diagnostics.cc:200] libcuda reported version is: 470.141.3\n",
      "2022-12-13 17:01:04.554159: I tensorflow/stream_executor/cuda/cuda_diagnostics.cc:204] kernel reported version is: 470.141.3\n",
      "2022-12-13 17:01:04.554164: I tensorflow/stream_executor/cuda/cuda_diagnostics.cc:310] kernel version seems to match DSO: 470.141.3\n",
      "2022-12-13 17:01:04.554674: I tensorflow/core/platform/cpu_feature_guard.cc:142] This TensorFlow binary is optimized with oneAPI Deep Neural Network Library (oneDNN) to use the following CPU instructions in performance-critical operations:  AVX2 AVX512F FMA\n",
      "To enable them in other operations, rebuild TensorFlow with the appropriate compiler flags.\n",
      "2022-12-13 17:01:04.599948: I tensorflow/core/platform/profile_utils/cpu_utils.cc:114] CPU Frequency: 3299990000 Hz\n"
     ]
    }
   ],
   "source": [
    "# initiate NN model (& pathway to internal values)\n",
    "n_nodes = 8\n",
    "nn, eval_ins = create_nn(n_nodes)\n",
    "\n",
    "# initial weights\n",
    "w0 = np.array([])\n",
    "nn_weights = nn.get_weights()\n",
    "for _g in nn_weights: w0 = np.append(w0, _g.flatten())\n",
    "\n",
    "nn.summary()"
   ]
  },
  {
   "cell_type": "code",
   "execution_count": 10,
   "metadata": {
    "executionInfo": {
     "elapsed": 3,
     "status": "ok",
     "timestamp": 1665308364128,
     "user": {
      "displayName": "Nicholas Sung",
      "userId": "04413473591799886681"
     },
     "user_tz": -480
    },
    "id": "Tnj4LIU8_5CF"
   },
   "outputs": [],
   "source": [
    "# nn weights structure \n",
    "nn_weights = nn.get_weights()\n",
    "nn_wlen = len(nn_weights)\n",
    "nn_wshape = [_w.shape for _w in nn_weights]\n",
    "nn_widx = np.cumsum([len(_w.flatten()) for _w in nn_weights])\n",
    "nn_nweights = nn_widx[-1]"
   ]
  },
  {
   "cell_type": "code",
   "execution_count": 11,
   "metadata": {
    "executionInfo": {
     "elapsed": 3,
     "status": "ok",
     "timestamp": 1665308364128,
     "user": {
      "displayName": "Nicholas Sung",
      "userId": "04413473591799886681"
     },
     "user_tz": -480
    },
    "id": "chaBfU92_5CG"
   },
   "outputs": [],
   "source": [
    "def nn_fitness(_weights):\n",
    "    _weights = np.split(_weights, nn_widx[:-1])\n",
    "    _weights = [_weights[i].reshape(nn_wshape[i]) for i in range(nn_wlen)]\n",
    "    nn.set_weights(_weights)\n",
    "    _x = batch_X\n",
    "    _, pde_mse, ic_mse = eval_ins(_x)\n",
    "    fitness = (pde_mse + ic_mse)\n",
    "    return fitness"
   ]
  },
  {
   "cell_type": "code",
   "execution_count": 13,
   "metadata": {
    "colab": {
     "background_save": true,
     "base_uri": "https://localhost:8080/"
    },
    "id": "1C0yQ5Hw_5CG"
   },
   "outputs": [
    {
     "name": "stdout",
     "output_type": "stream",
     "text": [
      "(25_w,50)-aCMA-ES (mu_w=14.0,w_1=14%) in dimension 240 (seed=1079773, Tue Dec 13 17:10:24 2022)\n",
      "Iterat #Fevals   function value  axis ratio  sigma  min&max std  t[m:s]\n",
      "    1     50 1.380307674407959e-01 1.0e+00 4.82e-02  5e-02  5e-02 0:00.5\n",
      "    2    100 1.305103898048401e-01 1.0e+00 4.68e-02  5e-02  5e-02 0:01.1\n",
      "    3    150 1.073689088225365e-01 1.0e+00 4.57e-02  5e-02  5e-02 0:01.6\n",
      "    4    200 5.947285890579224e-02 1.0e+00 4.49e-02  4e-02  4e-02 0:02.2\n",
      "    5    250 5.757907778024673e-02 1.0e+00 4.44e-02  4e-02  4e-02 0:02.7\n",
      "    6    300 5.567182227969170e-02 1.0e+00 4.40e-02  4e-02  4e-02 0:03.3\n",
      "    7    350 5.676807090640068e-02 1.0e+00 4.37e-02  4e-02  4e-02 0:03.8\n",
      "    8    400 5.507174879312515e-02 1.0e+00 4.34e-02  4e-02  4e-02 0:04.4\n",
      "    9    450 5.403392761945724e-02 1.0e+00 4.31e-02  4e-02  4e-02 0:04.9\n",
      "   10    500 5.350517109036446e-02 1.0e+00 4.28e-02  4e-02  4e-02 0:05.4\n",
      "Iterat #Fevals   function value  axis ratio  sigma  min&max std  t[m:s]\n",
      "   11    550 5.327090993523598e-02 1.0e+00 4.26e-02  4e-02  4e-02 0:06.0\n",
      "   12    600 5.302020162343979e-02 1.0e+00 4.25e-02  4e-02  4e-02 0:06.5\n",
      "   13    650 5.226747319102287e-02 1.0e+00 4.24e-02  4e-02  4e-02 0:07.0\n",
      "   14    700 5.237591266632080e-02 1.0e+00 4.25e-02  4e-02  4e-02 0:07.6\n",
      "   15    750 5.217916890978813e-02 1.0e+00 4.25e-02  4e-02  4e-02 0:08.1\n",
      "   16    800 5.261485278606415e-02 1.0e+00 4.25e-02  4e-02  4e-02 0:08.6\n",
      "   17    850 5.126265808939934e-02 1.0e+00 4.26e-02  4e-02  4e-02 0:09.1\n",
      "   18    900 5.090312287211418e-02 1.0e+00 4.28e-02  4e-02  4e-02 0:09.7\n",
      "   19    950 4.886032268404961e-02 1.0e+00 4.30e-02  4e-02  4e-02 0:10.2\n",
      "   20   1000 4.938063398003578e-02 1.0e+00 4.31e-02  4e-02  4e-02 0:10.7\n",
      "Iterat #Fevals   function value  axis ratio  sigma  min&max std  t[m:s]\n",
      "   21   1050 4.912572354078293e-02 1.0e+00 4.32e-02  4e-02  4e-02 0:11.3\n",
      "   22   1100 4.979807510972023e-02 1.0e+00 4.33e-02  4e-02  4e-02 0:11.8\n",
      "   23   1150 4.819770157337189e-02 1.0e+00 4.35e-02  4e-02  4e-02 0:12.4\n",
      "   24   1200 4.988702386617661e-02 1.0e+00 4.35e-02  4e-02  4e-02 0:13.0\n",
      "   25   1250 4.823346436023712e-02 1.0e+00 4.35e-02  4e-02  4e-02 0:13.5\n",
      "   26   1300 4.979908838868141e-02 1.1e+00 4.36e-02  4e-02  4e-02 0:14.0\n",
      "   27   1350 4.877337813377380e-02 1.1e+00 4.36e-02  4e-02  4e-02 0:14.6\n",
      "   28   1400 4.785589501261711e-02 1.1e+00 4.36e-02  4e-02  4e-02 0:15.1\n",
      "   29   1450 4.782132804393768e-02 1.1e+00 4.36e-02  4e-02  4e-02 0:15.6\n",
      "   30   1500 4.785127565264702e-02 1.1e+00 4.36e-02  4e-02  4e-02 0:16.1\n",
      "Iterat #Fevals   function value  axis ratio  sigma  min&max std  t[m:s]\n",
      "   31   1550 4.730253666639328e-02 1.1e+00 4.37e-02  4e-02  4e-02 0:16.7\n",
      "   32   1600 4.737835004925728e-02 1.1e+00 4.37e-02  4e-02  4e-02 0:17.2\n",
      "   33   1650 4.860904067754745e-02 1.1e+00 4.37e-02  4e-02  4e-02 0:17.8\n",
      "   34   1700 4.827051982283592e-02 1.1e+00 4.36e-02  4e-02  4e-02 0:18.3\n",
      "   35   1750 4.706560075283051e-02 1.1e+00 4.35e-02  4e-02  4e-02 0:18.8\n",
      "   36   1800 4.601901024580002e-02 1.1e+00 4.34e-02  4e-02  4e-02 0:19.4\n",
      "   37   1850 4.519256204366684e-02 1.1e+00 4.34e-02  4e-02  4e-02 0:19.9\n",
      "   38   1900 4.593075811862946e-02 1.1e+00 4.34e-02  4e-02  4e-02 0:20.4\n",
      "   39   1950 4.636098816990852e-02 1.1e+00 4.33e-02  4e-02  4e-02 0:21.0\n",
      "   40   2000 4.500041529536247e-02 1.1e+00 4.32e-02  4e-02  4e-02 0:21.5\n",
      "Iterat #Fevals   function value  axis ratio  sigma  min&max std  t[m:s]\n",
      "   41   2050 4.240255430340767e-02 1.1e+00 4.32e-02  4e-02  4e-02 0:22.0\n",
      "   42   2100 4.547746479511261e-02 1.1e+00 4.32e-02  4e-02  4e-02 0:22.6\n",
      "   43   2150 4.444491118192673e-02 1.1e+00 4.31e-02  4e-02  4e-02 0:23.1\n",
      "   44   2200 4.534259438514709e-02 1.1e+00 4.31e-02  4e-02  4e-02 0:23.6\n",
      "   45   2250 4.345978423953056e-02 1.1e+00 4.30e-02  4e-02  4e-02 0:24.1\n",
      "   46   2300 4.295579716563225e-02 1.1e+00 4.30e-02  4e-02  4e-02 0:24.7\n",
      "   47   2350 4.225463420152664e-02 1.1e+00 4.30e-02  4e-02  4e-02 0:25.3\n",
      "   48   2400 4.349488392472267e-02 1.1e+00 4.30e-02  4e-02  4e-02 0:25.8\n",
      "   49   2450 3.894863650202751e-02 1.1e+00 4.30e-02  4e-02  4e-02 0:26.3\n",
      "   50   2500 3.980227932333946e-02 1.1e+00 4.31e-02  4e-02  4e-02 0:26.9\n",
      "Iterat #Fevals   function value  axis ratio  sigma  min&max std  t[m:s]\n",
      "   51   2550 4.024578258395195e-02 1.1e+00 4.33e-02  4e-02  4e-02 0:27.5\n",
      "   52   2600 3.958130255341530e-02 1.1e+00 4.36e-02  4e-02  4e-02 0:28.0\n",
      "   53   2650 3.672703355550766e-02 1.1e+00 4.38e-02  4e-02  4e-02 0:28.5\n",
      "   54   2700 3.690480813384056e-02 1.1e+00 4.41e-02  4e-02  4e-02 0:29.1\n",
      "   55   2750 3.817826509475708e-02 1.1e+00 4.43e-02  4e-02  4e-02 0:29.6\n",
      "   56   2800 3.734367713332176e-02 1.1e+00 4.45e-02  4e-02  4e-02 0:30.2\n",
      "   57   2850 3.686247393488884e-02 1.1e+00 4.47e-02  4e-02  4e-02 0:30.7\n",
      "   58   2900 3.718118742108345e-02 1.1e+00 4.49e-02  4e-02  5e-02 0:31.2\n",
      "   59   2950 3.514540195465088e-02 1.1e+00 4.51e-02  4e-02  5e-02 0:31.8\n",
      "   60   3000 3.438705205917358e-02 1.1e+00 4.53e-02  5e-02  5e-02 0:32.3\n",
      "Iterat #Fevals   function value  axis ratio  sigma  min&max std  t[m:s]\n",
      "   61   3050 3.347962349653244e-02 1.2e+00 4.55e-02  5e-02  5e-02 0:32.8\n",
      "   62   3100 3.557278215885162e-02 1.2e+00 4.58e-02  5e-02  5e-02 0:33.4\n",
      "   63   3150 3.330755606293678e-02 1.2e+00 4.60e-02  5e-02  5e-02 0:33.9\n",
      "   64   3200 3.407070785760880e-02 1.2e+00 4.61e-02  5e-02  5e-02 0:34.5\n",
      "   65   3250 3.409747034311295e-02 1.2e+00 4.62e-02  5e-02  5e-02 0:35.0\n",
      "   66   3300 3.261929005384445e-02 1.2e+00 4.64e-02  5e-02  5e-02 0:35.6\n",
      "   67   3350 3.019528463482857e-02 1.2e+00 4.66e-02  5e-02  5e-02 0:36.1\n",
      "   68   3400 3.108379431068897e-02 1.2e+00 4.67e-02  5e-02  5e-02 0:36.6\n",
      "   69   3450 3.164672851562500e-02 1.2e+00 4.70e-02  5e-02  5e-02 0:37.1\n",
      "   70   3500 3.095035813748837e-02 1.2e+00 4.72e-02  5e-02  5e-02 0:37.7\n",
      "Iterat #Fevals   function value  axis ratio  sigma  min&max std  t[m:s]\n",
      "   71   3550 2.992427535355091e-02 1.2e+00 4.73e-02  5e-02  5e-02 0:38.2\n",
      "   72   3600 2.983560971915722e-02 1.2e+00 4.74e-02  5e-02  5e-02 0:38.8\n",
      "   73   3650 3.109486587345600e-02 1.2e+00 4.75e-02  5e-02  5e-02 0:39.4\n",
      "   74   3700 3.008720837533474e-02 1.2e+00 4.76e-02  5e-02  5e-02 0:39.9\n",
      "   75   3750 3.173053264617920e-02 1.2e+00 4.76e-02  5e-02  5e-02 0:40.5\n",
      "   76   3800 3.017974086105824e-02 1.2e+00 4.77e-02  5e-02  5e-02 0:41.0\n",
      "   77   3850 2.966905757784843e-02 1.2e+00 4.78e-02  5e-02  5e-02 0:41.6\n",
      "   78   3900 2.672510966658592e-02 1.2e+00 4.80e-02  5e-02  5e-02 0:42.1\n",
      "   79   3950 2.859034016728401e-02 1.2e+00 4.83e-02  5e-02  5e-02 0:42.6\n",
      "   80   4000 2.905482426285744e-02 1.2e+00 4.85e-02  5e-02  5e-02 0:43.2\n",
      "Iterat #Fevals   function value  axis ratio  sigma  min&max std  t[m:s]\n",
      "   81   4050 2.866646461188793e-02 1.2e+00 4.86e-02  5e-02  5e-02 0:43.7\n",
      "   82   4100 2.883267030119896e-02 1.2e+00 4.88e-02  5e-02  5e-02 0:44.2\n",
      "   83   4150 2.880967780947685e-02 1.2e+00 4.90e-02  5e-02  5e-02 0:44.8\n",
      "   84   4200 2.758799679577351e-02 1.2e+00 4.92e-02  5e-02  5e-02 0:45.3\n",
      "   85   4250 3.020773082971573e-02 1.2e+00 4.94e-02  5e-02  5e-02 0:45.9\n",
      "   86   4300 2.674627862870693e-02 1.2e+00 4.96e-02  5e-02  5e-02 0:46.4\n",
      "   87   4350 2.701051160693169e-02 1.2e+00 4.98e-02  5e-02  5e-02 0:46.9\n",
      "   88   4400 2.652074396610260e-02 1.2e+00 5.00e-02  5e-02  5e-02 0:47.5\n",
      "   89   4450 2.639775164425373e-02 1.2e+00 5.02e-02  5e-02  5e-02 0:48.0\n",
      "   90   4500 2.523519657552242e-02 1.3e+00 5.04e-02  5e-02  5e-02 0:48.5\n",
      "Iterat #Fevals   function value  axis ratio  sigma  min&max std  t[m:s]\n",
      "   91   4550 2.586188912391663e-02 1.3e+00 5.07e-02  5e-02  5e-02 0:49.1\n",
      "   92   4600 2.635253965854645e-02 1.3e+00 5.08e-02  5e-02  5e-02 0:49.6\n",
      "   93   4650 2.707975916564465e-02 1.3e+00 5.09e-02  5e-02  5e-02 0:50.2\n",
      "   94   4700 2.898900583386421e-02 1.3e+00 5.10e-02  5e-02  5e-02 0:50.8\n",
      "   95   4750 2.789887972176075e-02 1.3e+00 5.11e-02  5e-02  5e-02 0:51.3\n",
      "   96   4800 2.485067769885063e-02 1.3e+00 5.13e-02  5e-02  5e-02 0:51.9\n",
      "   97   4850 2.594150230288506e-02 1.3e+00 5.15e-02  5e-02  5e-02 0:52.4\n",
      "   98   4900 2.506192587316036e-02 1.3e+00 5.18e-02  5e-02  5e-02 0:53.0\n",
      "   99   4950 2.510776184499264e-02 1.3e+00 5.21e-02  5e-02  5e-02 0:53.5\n",
      "  100   5000 2.471569553017616e-02 1.3e+00 5.24e-02  5e-02  5e-02 0:54.0\n",
      "Iterat #Fevals   function value  axis ratio  sigma  min&max std  t[m:s]\n",
      "  101   5050 2.464992180466652e-02 1.3e+00 5.27e-02  5e-02  5e-02 0:54.6\n"
     ]
    },
    {
     "name": "stdout",
     "output_type": "stream",
     "text": [
      "  102   5100 2.582370303571224e-02 1.3e+00 5.30e-02  5e-02  5e-02 0:55.1\n",
      "  103   5150 2.528420463204384e-02 1.3e+00 5.33e-02  5e-02  5e-02 0:55.7\n",
      "  104   5200 2.400267310440540e-02 1.3e+00 5.36e-02  5e-02  5e-02 0:56.2\n",
      "  105   5250 2.642455324530602e-02 1.3e+00 5.39e-02  5e-02  5e-02 0:56.7\n",
      "  106   5300 2.523511275649071e-02 1.3e+00 5.41e-02  5e-02  5e-02 0:57.3\n",
      "  107   5350 2.501249127089977e-02 1.3e+00 5.44e-02  5e-02  6e-02 0:57.9\n",
      "  108   5400 2.452723868191242e-02 1.3e+00 5.44e-02  5e-02  6e-02 0:58.4\n",
      "  109   5450 2.468856051564217e-02 1.3e+00 5.46e-02  5e-02  6e-02 0:58.9\n",
      "  110   5500 2.614720538258553e-02 1.3e+00 5.47e-02  5e-02  6e-02 0:59.5\n",
      "Iterat #Fevals   function value  axis ratio  sigma  min&max std  t[m:s]\n",
      "  111   5550 2.527030557394028e-02 1.3e+00 5.49e-02  5e-02  6e-02 1:00.0\n",
      "  112   5600 2.610958740115166e-02 1.3e+00 5.50e-02  5e-02  6e-02 1:00.6\n",
      "  113   5650 2.592662908136845e-02 1.3e+00 5.53e-02  5e-02  6e-02 1:01.1\n",
      "  114   5700 2.718753740191460e-02 1.3e+00 5.56e-02  6e-02  6e-02 1:01.6\n",
      "  115   5750 2.576920576393604e-02 1.3e+00 5.58e-02  6e-02  6e-02 1:02.2\n",
      "  116   5800 2.704021707177162e-02 1.3e+00 5.59e-02  6e-02  6e-02 1:02.7\n",
      "  117   5850 2.466421574354172e-02 1.3e+00 5.59e-02  6e-02  6e-02 1:03.2\n",
      "  118   5900 2.704731002449989e-02 1.3e+00 5.59e-02  6e-02  6e-02 1:03.8\n",
      "  119   5950 2.805015444755554e-02 1.3e+00 5.60e-02  6e-02  6e-02 1:04.3\n",
      "  120   6000 2.472582459449768e-02 1.3e+00 5.60e-02  6e-02  6e-02 1:04.8\n",
      "Iterat #Fevals   function value  axis ratio  sigma  min&max std  t[m:s]\n",
      "  121   6050 2.681654691696167e-02 1.3e+00 5.60e-02  6e-02  6e-02 1:05.4\n",
      "  122   6100 2.666081860661507e-02 1.3e+00 5.60e-02  6e-02  6e-02 1:05.9\n",
      "  123   6150 2.467339858412743e-02 1.3e+00 5.62e-02  6e-02  6e-02 1:06.5\n",
      "  124   6200 2.439195290207863e-02 1.4e+00 5.63e-02  6e-02  6e-02 1:07.0\n",
      "  125   6250 2.496741712093353e-02 1.4e+00 5.63e-02  6e-02  6e-02 1:07.5\n",
      "  126   6300 2.405061200261116e-02 1.4e+00 5.64e-02  6e-02  6e-02 1:08.1\n",
      "  127   6350 2.424009703099728e-02 1.4e+00 5.63e-02  6e-02  6e-02 1:08.6\n",
      "  128   6400 2.589310519397259e-02 1.4e+00 5.64e-02  6e-02  6e-02 1:09.2\n",
      "  129   6450 2.539373375475407e-02 1.4e+00 5.64e-02  6e-02  6e-02 1:09.7\n",
      "  130   6500 2.538553066551685e-02 1.4e+00 5.63e-02  6e-02  6e-02 1:10.2\n",
      "Iterat #Fevals   function value  axis ratio  sigma  min&max std  t[m:s]\n",
      "  131   6550 2.809308469295502e-02 1.4e+00 5.63e-02  6e-02  6e-02 1:10.8\n",
      "  132   6600 2.664918266236782e-02 1.4e+00 5.63e-02  6e-02  6e-02 1:11.3\n",
      "  133   6650 2.557123824954033e-02 1.4e+00 5.64e-02  6e-02  6e-02 1:11.8\n",
      "  134   6700 2.405273169279099e-02 1.4e+00 5.63e-02  6e-02  6e-02 1:12.3\n",
      "  135   6750 2.499309927225113e-02 1.4e+00 5.61e-02  6e-02  6e-02 1:12.8\n",
      "  136   6800 2.616299875080585e-02 1.4e+00 5.60e-02  6e-02  6e-02 1:13.3\n",
      "  137   6850 2.724064886569977e-02 1.4e+00 5.59e-02  6e-02  6e-02 1:13.8\n",
      "  138   6900 2.619513496756554e-02 1.4e+00 5.58e-02  6e-02  6e-02 1:14.3\n",
      "  139   6950 2.156148292124271e-02 1.4e+00 5.57e-02  6e-02  6e-02 1:14.8\n",
      "  140   7000 2.466503530740738e-02 1.4e+00 5.58e-02  6e-02  6e-02 1:15.4\n",
      "Iterat #Fevals   function value  axis ratio  sigma  min&max std  t[m:s]\n",
      "  141   7050 2.466892264783382e-02 1.4e+00 5.58e-02  6e-02  6e-02 1:15.9\n",
      "  142   7100 2.383912354707718e-02 1.4e+00 5.57e-02  6e-02  6e-02 1:16.5\n",
      "  143   7150 2.443724311888218e-02 1.4e+00 5.58e-02  6e-02  6e-02 1:17.0\n",
      "  144   7200 2.389453537762165e-02 1.4e+00 5.61e-02  6e-02  6e-02 1:17.5\n",
      "  145   7250 2.526461333036423e-02 1.4e+00 5.63e-02  6e-02  6e-02 1:18.1\n",
      "  146   7300 2.422113344073296e-02 1.4e+00 5.67e-02  6e-02  6e-02 1:18.6\n",
      "  147   7350 2.485176920890808e-02 1.4e+00 5.69e-02  6e-02  6e-02 1:19.1\n",
      "  148   7400 2.620111405849457e-02 1.4e+00 5.71e-02  6e-02  6e-02 1:19.6\n",
      "  149   7450 2.575117722153664e-02 1.4e+00 5.72e-02  6e-02  6e-02 1:20.2\n",
      "  150   7500 2.222871966660023e-02 1.4e+00 5.72e-02  6e-02  6e-02 1:20.8\n",
      "Iterat #Fevals   function value  axis ratio  sigma  min&max std  t[m:s]\n",
      "  151   7550 2.346785739064217e-02 1.4e+00 5.70e-02  6e-02  6e-02 1:21.3\n",
      "  152   7600 2.531095594167709e-02 1.4e+00 5.69e-02  6e-02  6e-02 1:21.9\n",
      "  153   7650 2.344587817788124e-02 1.4e+00 5.67e-02  6e-02  6e-02 1:22.4\n",
      "  154   7700 2.339566126465797e-02 1.4e+00 5.65e-02  6e-02  6e-02 1:23.0\n",
      "  155   7750 2.353825792670250e-02 1.4e+00 5.62e-02  6e-02  6e-02 1:23.5\n",
      "  156   7800 2.311350405216217e-02 1.4e+00 5.59e-02  6e-02  6e-02 1:24.1\n",
      "  157   7850 2.391628921031952e-02 1.4e+00 5.55e-02  6e-02  6e-02 1:24.6\n",
      "  158   7900 2.568431757390499e-02 1.4e+00 5.51e-02  5e-02  6e-02 1:25.2\n",
      "  159   7950 2.240299433469772e-02 1.4e+00 5.47e-02  5e-02  6e-02 1:25.7\n",
      "  160   8000 2.390130981802940e-02 1.4e+00 5.45e-02  5e-02  6e-02 1:26.2\n",
      "Iterat #Fevals   function value  axis ratio  sigma  min&max std  t[m:s]\n",
      "  161   8050 2.313758432865143e-02 1.4e+00 5.43e-02  5e-02  6e-02 1:26.8\n",
      "  162   8100 2.297338098287582e-02 1.4e+00 5.42e-02  5e-02  6e-02 1:27.3\n",
      "  163   8150 2.233077771961689e-02 1.4e+00 5.43e-02  5e-02  6e-02 1:27.9\n",
      "  164   8200 2.204542793333530e-02 1.4e+00 5.43e-02  5e-02  6e-02 1:28.4\n",
      "  165   8250 2.064992859959602e-02 1.4e+00 5.43e-02  5e-02  6e-02 1:29.0\n",
      "  166   8300 2.381055429577827e-02 1.4e+00 5.44e-02  5e-02  6e-02 1:29.5\n",
      "  167   8350 2.397439815104008e-02 1.4e+00 5.46e-02  5e-02  6e-02 1:30.0\n",
      "  168   8400 2.377630211412907e-02 1.4e+00 5.48e-02  5e-02  6e-02 1:30.6\n",
      "  169   8450 2.566690184175968e-02 1.4e+00 5.51e-02  5e-02  6e-02 1:31.2\n",
      "  170   8500 2.337843924760818e-02 1.4e+00 5.54e-02  5e-02  6e-02 1:31.7\n",
      "Iterat #Fevals   function value  axis ratio  sigma  min&max std  t[m:s]\n",
      "  171   8550 2.314708009362221e-02 1.4e+00 5.56e-02  6e-02  6e-02 1:32.2\n",
      "  172   8600 2.309835515916348e-02 1.4e+00 5.60e-02  6e-02  6e-02 1:32.8\n",
      "  173   8650 2.219277247786522e-02 1.5e+00 5.63e-02  6e-02  6e-02 1:33.3\n",
      "  174   8700 2.283660881221294e-02 1.5e+00 5.67e-02  6e-02  6e-02 1:33.8\n",
      "  175   8750 2.338380366563797e-02 1.5e+00 5.70e-02  6e-02  6e-02 1:34.4\n",
      "  176   8800 2.258095145225525e-02 1.5e+00 5.73e-02  6e-02  6e-02 1:35.0\n",
      "  177   8850 2.313766442239285e-02 1.5e+00 5.78e-02  6e-02  6e-02 1:35.5\n",
      "  178   8900 2.181386388838291e-02 1.5e+00 5.82e-02  6e-02  6e-02 1:36.1\n",
      "  179   8950 2.440107986330986e-02 1.5e+00 5.85e-02  6e-02  6e-02 1:36.6\n",
      "  180   9000 2.534624189138412e-02 1.5e+00 5.88e-02  6e-02  6e-02 1:37.1\n",
      "Iterat #Fevals   function value  axis ratio  sigma  min&max std  t[m:s]\n",
      "  181   9050 2.302412874996662e-02 1.5e+00 5.92e-02  6e-02  6e-02 1:37.7\n",
      "  182   9100 2.268237248063087e-02 1.5e+00 5.96e-02  6e-02  6e-02 1:38.2\n",
      "  183   9150 2.237064763903618e-02 1.5e+00 5.99e-02  6e-02  6e-02 1:38.8\n",
      "  184   9200 2.256667986512184e-02 1.5e+00 6.03e-02  6e-02  6e-02 1:39.3\n",
      "  185   9250 2.241458930075169e-02 1.5e+00 6.06e-02  6e-02  6e-02 1:39.9\n",
      "  186   9300 2.321762591600418e-02 1.5e+00 6.09e-02  6e-02  6e-02 1:40.4\n",
      "  187   9350 2.332284487783909e-02 1.5e+00 6.11e-02  6e-02  6e-02 1:41.0\n",
      "  188   9400 2.198546193540096e-02 1.5e+00 6.13e-02  6e-02  6e-02 1:41.5\n",
      "  189   9450 2.281684428453445e-02 1.5e+00 6.14e-02  6e-02  6e-02 1:42.0\n",
      "  190   9500 2.263976261019707e-02 1.5e+00 6.15e-02  6e-02  6e-02 1:42.5\n",
      "Iterat #Fevals   function value  axis ratio  sigma  min&max std  t[m:s]\n",
      "  191   9550 2.276639640331268e-02 1.5e+00 6.15e-02  6e-02  6e-02 1:43.0\n",
      "  192   9600 2.649971470236778e-02 1.5e+00 6.16e-02  6e-02  6e-02 1:43.6\n",
      "  193   9650 2.348446659743786e-02 1.5e+00 6.16e-02  6e-02  6e-02 1:44.1\n",
      "  194   9700 2.076557092368603e-02 1.5e+00 6.18e-02  6e-02  6e-02 1:44.6\n",
      "  195   9750 2.053570561110973e-02 1.5e+00 6.20e-02  6e-02  6e-02 1:45.2\n",
      "  196   9800 1.963169500231743e-02 1.5e+00 6.21e-02  6e-02  6e-02 1:45.7\n",
      "  197   9850 2.167655155062675e-02 1.5e+00 6.23e-02  6e-02  6e-02 1:46.3\n",
      "  198   9900 1.902322843670845e-02 1.5e+00 6.26e-02  6e-02  6e-02 1:46.8\n",
      "  199   9950 2.109352499246597e-02 1.5e+00 6.27e-02  6e-02  6e-02 1:47.4\n",
      "  200  10000 2.122336626052856e-02 1.5e+00 6.28e-02  6e-02  6e-02 1:47.9\n",
      "Iterat #Fevals   function value  axis ratio  sigma  min&max std  t[m:s]\n",
      "  201  10050 2.195880375802517e-02 1.5e+00 6.29e-02  6e-02  6e-02 1:48.5\n",
      "  202  10100 2.131167612969875e-02 1.5e+00 6.32e-02  6e-02  6e-02 1:49.0\n",
      "  203  10150 2.055784501135349e-02 1.5e+00 6.32e-02  6e-02  6e-02 1:49.6\n",
      "  204  10200 2.158115804195404e-02 1.5e+00 6.33e-02  6e-02  6e-02 1:50.1\n"
     ]
    },
    {
     "name": "stdout",
     "output_type": "stream",
     "text": [
      "  205  10250 1.981849782168865e-02 1.5e+00 6.35e-02  6e-02  6e-02 1:50.7\n",
      "  206  10300 2.036021463572979e-02 1.5e+00 6.38e-02  6e-02  6e-02 1:51.2\n",
      "  207  10350 2.080755494534969e-02 1.5e+00 6.42e-02  6e-02  7e-02 1:51.8\n",
      "  208  10400 2.071472257375717e-02 1.5e+00 6.46e-02  6e-02  7e-02 1:52.3\n",
      "  209  10450 2.018992789089680e-02 1.5e+00 6.50e-02  6e-02  7e-02 1:52.8\n",
      "  210  10500 2.018767967820168e-02 1.5e+00 6.54e-02  6e-02  7e-02 1:53.3\n",
      "Iterat #Fevals   function value  axis ratio  sigma  min&max std  t[m:s]\n",
      "  211  10550 2.241992950439453e-02 1.5e+00 6.58e-02  6e-02  7e-02 1:53.9\n",
      "  212  10600 2.037903666496277e-02 1.5e+00 6.61e-02  7e-02  7e-02 1:54.4\n",
      "  213  10650 2.079105190932751e-02 1.5e+00 6.64e-02  7e-02  7e-02 1:54.9\n",
      "  214  10700 2.138561382889748e-02 1.5e+00 6.66e-02  7e-02  7e-02 1:55.4\n",
      "  215  10750 1.874079927802086e-02 1.5e+00 6.69e-02  7e-02  7e-02 1:56.0\n",
      "  216  10800 2.252891100943089e-02 1.5e+00 6.71e-02  7e-02  7e-02 1:56.5\n",
      "  217  10850 2.138701081275940e-02 1.5e+00 6.74e-02  7e-02  7e-02 1:57.1\n",
      "  218  10900 1.956744119524956e-02 1.5e+00 6.79e-02  7e-02  7e-02 1:57.6\n",
      "  219  10950 1.797530986368656e-02 1.5e+00 6.83e-02  7e-02  7e-02 1:58.2\n",
      "  220  11000 1.972217671573162e-02 1.5e+00 6.87e-02  7e-02  7e-02 1:58.7\n",
      "Iterat #Fevals   function value  axis ratio  sigma  min&max std  t[m:s]\n",
      "  221  11050 1.810262724757195e-02 1.5e+00 6.92e-02  7e-02  7e-02 1:59.2\n",
      "  222  11100 2.223746478557587e-02 1.5e+00 6.95e-02  7e-02  7e-02 1:59.7\n",
      "  223  11150 1.905145309865475e-02 1.5e+00 6.97e-02  7e-02  7e-02 2:00.3\n",
      "  224  11200 1.893782243132591e-02 1.5e+00 7.00e-02  7e-02  7e-02 2:00.8\n",
      "  225  11250 1.949336752295494e-02 1.5e+00 7.02e-02  7e-02  7e-02 2:01.3\n",
      "  226  11300 1.831533387303352e-02 1.5e+00 7.03e-02  7e-02  7e-02 2:01.8\n",
      "  227  11350 2.243338711559772e-02 1.5e+00 7.04e-02  7e-02  7e-02 2:02.4\n",
      "  228  11400 2.025579847395420e-02 1.5e+00 7.06e-02  7e-02  7e-02 2:03.0\n",
      "  229  11450 1.762478053569794e-02 1.5e+00 7.08e-02  7e-02  7e-02 2:03.6\n",
      "  230  11500 1.979539170861244e-02 1.5e+00 7.09e-02  7e-02  7e-02 2:04.1\n",
      "Iterat #Fevals   function value  axis ratio  sigma  min&max std  t[m:s]\n",
      "  231  11550 2.051650919020176e-02 1.5e+00 7.09e-02  7e-02  7e-02 2:04.7\n",
      "  232  11600 1.906239986419678e-02 1.5e+00 7.11e-02  7e-02  7e-02 2:05.2\n",
      "  233  11650 1.786966808140278e-02 1.5e+00 7.11e-02  7e-02  7e-02 2:05.7\n",
      "  234  11700 1.686504483222961e-02 1.5e+00 7.12e-02  7e-02  7e-02 2:06.3\n",
      "  235  11750 1.889602094888687e-02 1.5e+00 7.13e-02  7e-02  7e-02 2:06.8\n",
      "  236  11800 1.845303922891617e-02 1.5e+00 7.14e-02  7e-02  7e-02 2:07.3\n",
      "  237  11850 1.890363730490208e-02 1.5e+00 7.15e-02  7e-02  7e-02 2:07.9\n",
      "  238  11900 1.567943580448627e-02 1.5e+00 7.15e-02  7e-02  7e-02 2:08.4\n",
      "  239  11950 1.656299084424973e-02 1.5e+00 7.15e-02  7e-02  7e-02 2:08.9\n",
      "  240  12000 1.795382052659988e-02 1.5e+00 7.16e-02  7e-02  7e-02 2:09.5\n",
      "Iterat #Fevals   function value  axis ratio  sigma  min&max std  t[m:s]\n",
      "  241  12050 1.718134991824627e-02 1.5e+00 7.18e-02  7e-02  7e-02 2:10.0\n",
      "  242  12100 1.871222816407681e-02 1.5e+00 7.20e-02  7e-02  7e-02 2:10.6\n",
      "  243  12150 1.487709954380989e-02 1.5e+00 7.21e-02  7e-02  7e-02 2:11.1\n",
      "  244  12200 1.728665269911289e-02 1.5e+00 7.22e-02  7e-02  7e-02 2:11.7\n",
      "  245  12250 2.111244760453701e-02 1.6e+00 7.23e-02  7e-02  7e-02 2:12.2\n",
      "  246  12300 1.945336349308491e-02 1.6e+00 7.26e-02  7e-02  7e-02 2:12.7\n",
      "  247  12350 1.670384407043457e-02 1.6e+00 7.29e-02  7e-02  7e-02 2:13.3\n",
      "  248  12400 1.638584025204182e-02 1.6e+00 7.33e-02  7e-02  7e-02 2:13.8\n",
      "  249  12450 2.018104121088982e-02 1.6e+00 7.37e-02  7e-02  7e-02 2:14.4\n",
      "  250  12500 1.934904977679253e-02 1.6e+00 7.40e-02  7e-02  8e-02 2:14.9\n",
      "Iterat #Fevals   function value  axis ratio  sigma  min&max std  t[m:s]\n",
      "  251  12550 1.850865967571735e-02 1.6e+00 7.42e-02  7e-02  8e-02 2:15.5\n",
      "  252  12600 1.641603372991085e-02 1.6e+00 7.44e-02  7e-02  8e-02 2:16.0\n",
      "  253  12650 1.770697534084320e-02 1.6e+00 7.45e-02  7e-02  8e-02 2:16.5\n",
      "  254  12700 1.961638405919075e-02 1.6e+00 7.45e-02  7e-02  8e-02 2:17.1\n",
      "  255  12750 1.806685701012611e-02 1.6e+00 7.45e-02  7e-02  8e-02 2:17.7\n",
      "  256  12800 1.646851003170013e-02 1.6e+00 7.45e-02  7e-02  8e-02 2:18.3\n",
      "  257  12850 1.841190271079540e-02 1.6e+00 7.44e-02  7e-02  8e-02 2:18.8\n",
      "  258  12900 1.904965378344059e-02 1.6e+00 7.43e-02  7e-02  8e-02 2:19.4\n",
      "  259  12950 1.988088712096214e-02 1.6e+00 7.42e-02  7e-02  8e-02 2:19.9\n",
      "  260  13000 1.868307590484619e-02 1.6e+00 7.40e-02  7e-02  8e-02 2:20.4\n",
      "Iterat #Fevals   function value  axis ratio  sigma  min&max std  t[m:s]\n",
      "  261  13050 1.491838786751032e-02 1.6e+00 7.37e-02  7e-02  8e-02 2:21.0\n",
      "  262  13100 1.753401756286621e-02 1.6e+00 7.34e-02  7e-02  7e-02 2:21.5\n",
      "  263  13150 1.985843665897846e-02 1.6e+00 7.30e-02  7e-02  7e-02 2:22.0\n",
      "  264  13200 1.736388728022575e-02 1.6e+00 7.27e-02  7e-02  7e-02 2:22.6\n",
      "  265  13250 1.881000399589539e-02 1.6e+00 7.23e-02  7e-02  7e-02 2:23.1\n",
      "  266  13300 1.849256269633770e-02 1.6e+00 7.19e-02  7e-02  7e-02 2:23.6\n",
      "  267  13350 2.001577988266945e-02 1.6e+00 7.17e-02  7e-02  7e-02 2:24.1\n",
      "  268  13400 1.905370503664017e-02 1.6e+00 7.16e-02  7e-02  7e-02 2:24.7\n",
      "  269  13450 1.885204017162323e-02 1.6e+00 7.15e-02  7e-02  7e-02 2:25.3\n",
      "  270  13500 2.000576816499233e-02 1.6e+00 7.15e-02  7e-02  7e-02 2:25.8\n",
      "Iterat #Fevals   function value  axis ratio  sigma  min&max std  t[m:s]\n",
      "  271  13550 1.952579617500305e-02 1.6e+00 7.16e-02  7e-02  7e-02 2:26.3\n",
      "  272  13600 1.770516484975815e-02 1.6e+00 7.17e-02  7e-02  7e-02 2:26.8\n",
      "  273  13650 1.728808134794235e-02 1.6e+00 7.18e-02  7e-02  7e-02 2:27.4\n",
      "  274  13700 1.614658348262310e-02 1.6e+00 7.17e-02  7e-02  7e-02 2:28.0\n",
      "  275  13750 1.544962450861931e-02 1.6e+00 7.14e-02  7e-02  7e-02 2:28.5\n",
      "  276  13800 1.256118807941675e-02 1.6e+00 7.11e-02  7e-02  7e-02 2:29.0\n",
      "  277  13850 1.522811315953732e-02 1.6e+00 7.08e-02  7e-02  7e-02 2:29.5\n",
      "  278  13900 1.814597286283970e-02 1.6e+00 7.05e-02  7e-02  7e-02 2:30.1\n",
      "  279  13950 1.959467679262161e-02 1.6e+00 7.01e-02  7e-02  7e-02 2:30.6\n",
      "  280  14000 1.490768138319254e-02 1.6e+00 6.96e-02  7e-02  7e-02 2:31.2\n",
      "Iterat #Fevals   function value  axis ratio  sigma  min&max std  t[m:s]\n",
      "  281  14050 1.915856637060642e-02 1.6e+00 6.92e-02  7e-02  7e-02 2:31.7\n",
      "  282  14100 1.530341804027557e-02 1.6e+00 6.89e-02  7e-02  7e-02 2:32.3\n",
      "  283  14150 2.125319279730320e-02 1.6e+00 6.86e-02  7e-02  7e-02 2:32.8\n",
      "  284  14200 1.733896508812904e-02 1.6e+00 6.82e-02  7e-02  7e-02 2:33.3\n",
      "  285  14250 1.578745059669018e-02 1.6e+00 6.78e-02  7e-02  7e-02 2:33.9\n",
      "  286  14300 1.873245835304260e-02 1.6e+00 6.75e-02  7e-02  7e-02 2:34.4\n",
      "  287  14350 1.762801595032215e-02 1.6e+00 6.73e-02  7e-02  7e-02 2:35.0\n",
      "  288  14400 1.918635889887810e-02 1.6e+00 6.72e-02  7e-02  7e-02 2:35.5\n",
      "  289  14450 2.288071811199188e-02 1.6e+00 6.72e-02  7e-02  7e-02 2:36.0\n",
      "  290  14500 1.665234751999378e-02 1.6e+00 6.72e-02  7e-02  7e-02 2:36.6\n",
      "Iterat #Fevals   function value  axis ratio  sigma  min&max std  t[m:s]\n",
      "  291  14550 1.659774780273438e-02 1.6e+00 6.72e-02  7e-02  7e-02 2:37.2\n",
      "  292  14600 2.017784677445889e-02 1.6e+00 6.72e-02  7e-02  7e-02 2:37.7\n",
      "  293  14650 1.990346238017082e-02 1.6e+00 6.71e-02  7e-02  7e-02 2:38.2\n",
      "  294  14700 1.677340269088745e-02 1.6e+00 6.70e-02  7e-02  7e-02 2:38.8\n",
      "  295  14750 1.859879307448864e-02 1.6e+00 6.68e-02  7e-02  7e-02 2:39.3\n",
      "  296  14800 1.915768533945084e-02 1.6e+00 6.66e-02  7e-02  7e-02 2:39.9\n",
      "  297  14850 1.748744398355484e-02 1.6e+00 6.64e-02  7e-02  7e-02 2:40.4\n",
      "  298  14900 2.089801430702209e-02 1.6e+00 6.62e-02  6e-02  7e-02 2:40.9\n",
      "  299  14950 1.815825514495373e-02 1.6e+00 6.59e-02  6e-02  7e-02 2:41.5\n",
      "  300  15000 1.685338094830513e-02 1.6e+00 6.56e-02  6e-02  7e-02 2:42.0\n",
      "Iterat #Fevals   function value  axis ratio  sigma  min&max std  t[m:s]\n",
      "  301  15050 1.961134374141693e-02 1.6e+00 6.52e-02  6e-02  7e-02 2:42.6\n",
      "  302  15100 1.784172654151917e-02 1.6e+00 6.48e-02  6e-02  7e-02 2:43.1\n",
      "  303  15150 1.551855541765690e-02 1.6e+00 6.44e-02  6e-02  7e-02 2:43.7\n",
      "  304  15200 2.056685648858547e-02 1.6e+00 6.41e-02  6e-02  7e-02 2:44.2\n",
      "  305  15250 1.791384071111679e-02 1.6e+00 6.38e-02  6e-02  7e-02 2:44.8\n",
      "  306  15300 2.028723806142807e-02 1.6e+00 6.35e-02  6e-02  6e-02 2:45.3\n",
      "  307  15350 1.645397394895554e-02 1.6e+00 6.31e-02  6e-02  6e-02 2:45.9\n"
     ]
    },
    {
     "name": "stdout",
     "output_type": "stream",
     "text": [
      "  308  15400 1.820851676166058e-02 1.6e+00 6.27e-02  6e-02  6e-02 2:46.4\n",
      "  309  15450 1.856572180986404e-02 1.6e+00 6.25e-02  6e-02  6e-02 2:46.9\n",
      "  310  15500 1.876136474311352e-02 1.6e+00 6.23e-02  6e-02  6e-02 2:47.5\n",
      "Iterat #Fevals   function value  axis ratio  sigma  min&max std  t[m:s]\n",
      "  311  15550 1.964604482054710e-02 1.6e+00 6.23e-02  6e-02  6e-02 2:48.0\n",
      "  312  15600 2.041749656200409e-02 1.6e+00 6.22e-02  6e-02  6e-02 2:48.5\n",
      "  313  15650 1.886617019772530e-02 1.6e+00 6.21e-02  6e-02  6e-02 2:49.1\n",
      "  314  15700 1.700617000460625e-02 1.6e+00 6.20e-02  6e-02  6e-02 2:49.6\n",
      "  315  15750 1.592314243316650e-02 1.6e+00 6.18e-02  6e-02  6e-02 2:50.1\n",
      "  316  15800 1.875044405460358e-02 1.6e+00 6.16e-02  6e-02  6e-02 2:50.7\n",
      "  317  15850 1.737122423946857e-02 1.6e+00 6.14e-02  6e-02  6e-02 2:51.2\n",
      "  318  15900 1.517164893448353e-02 1.6e+00 6.13e-02  6e-02  6e-02 2:51.8\n",
      "  319  15950 1.747895032167435e-02 1.6e+00 6.11e-02  6e-02  6e-02 2:52.3\n",
      "  320  16000 1.718255877494812e-02 1.6e+00 6.10e-02  6e-02  6e-02 2:52.8\n",
      "Iterat #Fevals   function value  axis ratio  sigma  min&max std  t[m:s]\n",
      "  321  16050 1.610730588436127e-02 1.6e+00 6.09e-02  6e-02  6e-02 2:53.3\n",
      "  322  16100 1.786816306412220e-02 1.6e+00 6.08e-02  6e-02  6e-02 2:53.9\n",
      "  323  16150 1.643332093954086e-02 1.6e+00 6.07e-02  6e-02  6e-02 2:54.4\n",
      "  324  16200 1.752644591033459e-02 1.6e+00 6.07e-02  6e-02  6e-02 2:54.9\n",
      "  325  16250 1.683264225721359e-02 1.6e+00 6.06e-02  6e-02  6e-02 2:55.5\n",
      "  326  16300 1.625364273786545e-02 1.6e+00 6.06e-02  6e-02  6e-02 2:56.0\n",
      "  327  16350 1.637368835508823e-02 1.6e+00 6.05e-02  6e-02  6e-02 2:56.5\n",
      "  328  16400 1.432475820183754e-02 1.6e+00 6.04e-02  6e-02  6e-02 2:57.0\n",
      "  329  16450 1.672514341771603e-02 1.6e+00 6.04e-02  6e-02  6e-02 2:57.6\n",
      "  330  16500 1.571268774569035e-02 1.6e+00 6.03e-02  6e-02  6e-02 2:58.1\n",
      "Iterat #Fevals   function value  axis ratio  sigma  min&max std  t[m:s]\n",
      "  331  16550 1.456630043685436e-02 1.6e+00 6.02e-02  6e-02  6e-02 2:58.6\n",
      "  332  16600 1.742863841354847e-02 1.6e+00 6.02e-02  6e-02  6e-02 2:59.2\n",
      "  333  16650 1.628530025482178e-02 1.6e+00 6.02e-02  6e-02  6e-02 2:59.7\n",
      "  334  16700 1.724591478705406e-02 1.6e+00 6.01e-02  6e-02  6e-02 3:00.2\n",
      "  335  16750 1.736260578036308e-02 1.6e+00 5.99e-02  6e-02  6e-02 3:00.7\n",
      "  336  16800 1.566335186362267e-02 1.6e+00 5.96e-02  6e-02  6e-02 3:01.2\n",
      "  337  16850 1.641518250107765e-02 1.7e+00 5.94e-02  6e-02  6e-02 3:01.8\n",
      "  338  16900 1.566775515675545e-02 1.7e+00 5.94e-02  6e-02  6e-02 3:02.3\n",
      "  339  16950 1.828465983271599e-02 1.7e+00 5.93e-02  6e-02  6e-02 3:02.8\n",
      "  340  17000 1.802998967468739e-02 1.7e+00 5.92e-02  6e-02  6e-02 3:03.4\n",
      "Iterat #Fevals   function value  axis ratio  sigma  min&max std  t[m:s]\n",
      "  341  17050 1.655033603310585e-02 1.7e+00 5.92e-02  6e-02  6e-02 3:03.9\n",
      "  342  17100 1.523117348551750e-02 1.7e+00 5.91e-02  6e-02  6e-02 3:04.5\n",
      "  343  17150 1.512895710766315e-02 1.7e+00 5.90e-02  6e-02  6e-02 3:05.0\n",
      "  344  17200 1.434466615319252e-02 1.7e+00 5.90e-02  6e-02  6e-02 3:05.5\n",
      "  345  17250 1.512417942285538e-02 1.7e+00 5.89e-02  6e-02  6e-02 3:06.0\n",
      "  346  17300 1.322034373879433e-02 1.7e+00 5.89e-02  6e-02  6e-02 3:06.6\n",
      "  347  17350 1.800432428717613e-02 1.7e+00 5.89e-02  6e-02  6e-02 3:07.1\n",
      "  348  17400 1.505488902330399e-02 1.7e+00 5.89e-02  6e-02  6e-02 3:07.6\n",
      "  349  17450 1.482098735868931e-02 1.7e+00 5.88e-02  6e-02  6e-02 3:08.1\n",
      "  350  17500 1.604555360972881e-02 1.7e+00 5.87e-02  6e-02  6e-02 3:08.7\n",
      "termination on maxiter=350 (Tue Dec 13 17:13:35 2022)\n",
      "final/bestever f-value = 1.225522e-02 1.225522e-02\n",
      "incumbent solution: [ 0.25755698 -0.05520458  0.23496412  0.44526036 -0.52569519 -0.6936922\n",
      " -0.33260686  0.19657853 ...]\n",
      "std deviations: [0.05863659 0.05857004 0.05874096 0.05857385 0.05868744 0.05868875\n",
      " 0.05853311 0.05848105 ...]\n"
     ]
    }
   ],
   "source": [
    "x, es = cma.fmin2(nn_fitness, w0, 5e-2, options={'ftarget':1e-04 ,'popsize':50, 'maxiter':350, 'verb_disp':1})"
   ]
  },
  {
   "cell_type": "code",
   "execution_count": null,
   "metadata": {},
   "outputs": [],
   "source": []
  }
 ],
 "metadata": {
  "accelerator": "GPU",
  "colab": {
   "collapsed_sections": [],
   "name": "",
   "version": ""
  },
  "kernelspec": {
   "display_name": "Python 3 (ipykernel)",
   "language": "python",
   "name": "python3"
  },
  "language_info": {
   "codemirror_mode": {
    "name": "ipython",
    "version": 3
   },
   "file_extension": ".py",
   "mimetype": "text/x-python",
   "name": "python",
   "nbconvert_exporter": "python",
   "pygments_lexer": "ipython3",
   "version": "3.8.13"
  }
 },
 "nbformat": 4,
 "nbformat_minor": 1
}
